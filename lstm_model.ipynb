{
 "cells": [
  {
   "cell_type": "code",
   "execution_count": 1,
   "id": "54a6221d",
   "metadata": {},
   "outputs": [],
   "source": [
    "import yfinance as yf\n",
    "import pandas as pd\n",
    "import numpy as np\n",
    "from datetime import datetime, timedelta\n",
    "import requests\n",
    "from bs4 import BeautifulSoup"
   ]
  },
  {
   "cell_type": "code",
   "execution_count": 2,
   "id": "cbd9cb27",
   "metadata": {},
   "outputs": [],
   "source": [
    "sp500_df = pd.read_csv('sp500_companies.csv')\n",
    "STOCK_TICKERS = sp500_df['Symbol'].tolist()\n",
    "\n",
    "START_DATE = '2010-01-01'\n",
    "END_DATE = '2020-12-31'\n",
    "\n",
    "MARKET_INDEX_TICKER = '^GSPC'"
   ]
  },
  {
   "cell_type": "code",
   "execution_count": null,
   "id": "f7fd0629",
   "metadata": {},
   "outputs": [],
   "source": [
    "FMP_API_KEY = \"secret_api_key\"\n",
    "FMP_BASE_URL = \"https://financialmodelingprep.com/api/v3\""
   ]
  },
  {
   "cell_type": "code",
   "execution_count": 4,
   "id": "d444bd07",
   "metadata": {},
   "outputs": [],
   "source": [
    "def pe_pb_ratios(ticker, start_date, end_date):\n",
    "    endpoint = f\"{FMP_BASE_URL}/key-metrics-ttm/{ticker}?apikey={FMP_API_KEY}\"\n",
    "    params = {\"apikey\": FMP_API_KEY, \"limit\": 40}\n",
    "\n",
    "    try:\n",
    "        response = requests.get(endpoint, params=params)\n",
    "        response.raise_for_status() # Raise an HTTPError for bad responses (4xx or 5xx)\n",
    "        data = response.json()\n",
    "\n",
    "        if not data:\n",
    "            print(f\"No key metrics data found for {ticker} from FMP.\")\n",
    "            return pd.DataFrame()\n",
    "\n",
    "        # Extract relevant ratios and dates\n",
    "        ratios_list = []\n",
    "        for entry in data:\n",
    "            date_str = entry.get('date')\n",
    "            if date_str:\n",
    "                date = pd.to_datetime(date_str)\n",
    "                # FMP provides 'peRatioTTM' and 'pbRatioTTM'\n",
    "                pe_ratio = entry.get('peRatioTTM')\n",
    "                pb_ratio = entry.get('pbRatioTTM')\n",
    "                ratios_list.append({'date': date, 'PE_Ratio': pe_ratio, 'PB_Ratio': pb_ratio})\n",
    "\n",
    "        ratios_df = pd.DataFrame(ratios_list).set_index('date').sort_index()\n",
    "\n",
    "        # Create a full date range and reindex to forward-fill quarterly data to daily\n",
    "        full_date_range = pd.date_range(start=start_date, end=end_date, freq='D')\n",
    "        ratios_df = ratios_df.reindex(full_date_range, method='ffill')\n",
    "\n",
    "        # Drop any rows outside the desired date range if reindex went too far\n",
    "        ratios_df = ratios_df[(ratios_df.index >= start_date) & (ratios_df.index <= end_date)]\n",
    "\n",
    "        return ratios_df[['PE_Ratio', 'PB_Ratio']]\n",
    "\n",
    "    except requests.exceptions.HTTPError as errh:\n",
    "        print(f\"HTTP Error for {ticker}: {errh}\")\n",
    "    except requests.exceptions.ConnectionError as errc:\n",
    "        print(f\"Error Connecting for {ticker}: {errc}\")\n",
    "    except requests.exceptions.Timeout as errt:\n",
    "        print(f\"Timeout Error for {ticker}: {errt}\")\n",
    "    except requests.exceptions.RequestException as err:\n",
    "        print(f\"An unexpected error occurred for {ticker}: {err}\")\n",
    "    except Exception as e:\n",
    "        print(f\"An error processing FMP data for {ticker}: {e}\")\n",
    "    return pd.DataFrame()\n",
    "\n",
    "\n"
   ]
  },
  {
   "cell_type": "code",
   "execution_count": 5,
   "id": "1d0d2d50",
   "metadata": {},
   "outputs": [],
   "source": [
    "def ohlcv_fmp(industry_ticker, start_date, end_date):\n",
    "    \"\"\"\n",
    "    Fetches OHLCV data for an industry ETF from FMP.\n",
    "    \"\"\"\n",
    "    print(f\"Fetching industry index OHLCV for {industry_ticker} from FMP...\")\n",
    "    # FMP's historical-price-full endpoint provides OHLCV\n",
    "    endpoint = f\"{FMP_BASE_URL}/historical-price-full/{industry_ticker}?apikey={FMP_API_KEY}\"\n",
    "    params = {\"apikey\": FMP_API_KEY, \"from\": start_date, \"to\": end_date}\n",
    "\n",
    "    \n",
    "    try:\n",
    "        response = requests.get(endpoint, params=params)\n",
    "        response.raise_for_status()\n",
    "        data = response.json()\n",
    "\n",
    "        if not data or 'historical' not in data:\n",
    "            print(f\"No historical data found for industry index {industry_ticker} from FMP.\")\n",
    "            return pd.DataFrame()\n",
    "\n",
    "        df = pd.DataFrame(data['historical'])\n",
    "        df['date'] = pd.to_datetime(df['date'])\n",
    "        df = df.set_index('date').sort_index()\n",
    "        # Keep only relevant columns and rename if necessary for consistency\n",
    "        df = df[['open', 'high', 'low', 'close', 'volume']]\n",
    "        df.columns = ['Open', 'High', 'Low', 'Close', 'Volume']\n",
    "        return df\n",
    "\n",
    "    except requests.exceptions.HTTPError as errh:\n",
    "        print(f\"HTTP Error for industry index {industry_ticker}: {errh}\")\n",
    "        if response.status_code == 403:\n",
    "            print(\"Access denied. Check your FMP API key or plan for this endpoint.\")\n",
    "    except requests.exceptions.ConnectionError as errc:\n",
    "        print(f\"Error Connecting for industry index {industry_ticker}: {errc}\")\n",
    "    except requests.exceptions.Timeout as errt:\n",
    "        print(f\"Timeout Error for industry index {industry_ticker}: {errt}\")\n",
    "    except requests.exceptions.RequestException as err:\n",
    "        print(f\"An unexpected error occurred for industry index {industry_ticker}: {err}\")\n",
    "    except Exception as e:\n",
    "        print(f\"An error processing FMP industry index data for {industry_ticker}: {e}\")\n",
    "    return pd.DataFrame()"
   ]
  },
  {
   "cell_type": "code",
   "execution_count": 6,
   "id": "fbae9a00",
   "metadata": {},
   "outputs": [],
   "source": [
    "def collect_stock_data(tickers, start, end):\n",
    "    \"\"\"\n",
    "    Collects OHLCV, calculated returns, volume, and fundamental factors\n",
    "    for a list of stock tickers.\n",
    "    \"\"\"\n",
    "    all_stock_data = {}\n",
    "    for ticker in tickers:\n",
    "        print(f\"Collecting data for {ticker}...\")\n",
    "        try:\n",
    "            # 1. Fetch OHLCV data using yfinance (generally robust for common stocks)\n",
    "            stock_data = yf.download(ticker, start=start, end=end, progress=False)\n",
    "            if stock_data.empty:\n",
    "                print(f\"No OHLCV data found for {ticker} from yfinance. Skipping.\")\n",
    "                continue\n",
    "\n",
    "            # 2. Calculate Daily Rate of Return\n",
    "            stock_data['Return'] = np.log(stock_data['Close'] / stock_data['Close'].shift(1))\n",
    "            stock_data['Return'].replace([np.inf, -np.inf], np.nan, inplace=True)\n",
    "            stock_data.dropna(subset=['Return'], inplace=True)\n",
    "\n",
    "            # 3. Add Volume (already present in yfinance data)\n",
    "            stock_data['Volume'] = stock_data['Volume']\n",
    "\n",
    "            # 4. Fetch P/E and P/B Ratios using FMP API\n",
    "            fundamental_ratios = pe_pb_ratios(ticker, start, end)\n",
    "\n",
    "            # Align fundamental data with stock_data's index\n",
    "            # Reindex stock_data to a full date range first, then join and forward fill missing dates in ratios\n",
    "            # This ensures all dates are covered for ratios if they weren't exactly daily from FMP\n",
    "            full_date_range = pd.date_range(start=stock_data.index.min(), end=stock_data.index.max(), freq='D')\n",
    "            stock_data = stock_data.reindex(full_date_range)\n",
    "\n",
    "            if not fundamental_ratios.empty:\n",
    "                # Join on index (dates)\n",
    "                stock_data = stock_data.join(fundamental_ratios[['PE_Ratio', 'PB_Ratio']], how='left')\n",
    "                # Forward-fill any NaNs in PE/PB that result from daily vs quarterly/sparse FMP data\n",
    "                stock_data['PE_Ratio'] = stock_data['PE_Ratio'].ffill()\n",
    "                stock_data['PB_Ratio'] = stock_data['PB_Ratio'].ffill()\n",
    "            else:\n",
    "                stock_data['PE_Ratio'] = np.nan # Assign NaN if no data\n",
    "                stock_data['PB_Ratio'] = np.nan # Assign NaN if no data\n",
    "\n",
    "\n",
    "            all_stock_data[ticker] = stock_data\n",
    "\n",
    "        except Exception as e:\n",
    "            print(f\"Error collecting data for {ticker}: {e}\")\n",
    "            continue\n",
    "    return all_stock_data"
   ]
  },
  {
   "cell_type": "code",
   "execution_count": 7,
   "id": "054ea3b7",
   "metadata": {},
   "outputs": [],
   "source": [
    "def collect_market_index_data(market_index_ticker, start, end):\n",
    "    \"\"\"\n",
    "    Collects OHLCV and calculates rate of return for the market index using yfinance.\n",
    "    \"\"\"\n",
    "    print(f\"Collecting market index data for {market_index_ticker}...\")\n",
    "    try:\n",
    "        market_data = yf.download(market_index_ticker, start=start, end=end, progress=False)\n",
    "        if market_data.empty:\n",
    "            print(f\"No data found for market index {market_index_ticker}. Skipping.\")\n",
    "            return pd.DataFrame()\n",
    "\n",
    "        # Calculate Market Index Rate of Return\n",
    "        market_data['Market_Index_Return'] = np.log(market_data['Close'] / market_data['Close'].shift(1))\n",
    "        market_data['Market_Index_Return'].replace([np.inf, -np.inf], np.nan, inplace=True)\n",
    "        market_data.dropna(subset=['Market_Index_Return'], inplace=True)\n",
    "\n",
    "        return market_data['Market_Index_Return'].rename('Market_Index_Return')\n",
    "    except Exception as e:\n",
    "        print(f\"Error collecting market index data for {market_index_ticker}: {e}\")\n",
    "        return pd.DataFrame()"
   ]
  },
  {
   "cell_type": "code",
   "execution_count": 8,
   "id": "f783cfbf",
   "metadata": {},
   "outputs": [],
   "source": [
    "def collect_industry_index_data(industry_tickers_map, start, end):\n",
    "    \"\"\"\n",
    "    Collects OHLCV and calculates rate of return for specified industry indices using FMP API.\n",
    "    industry_tickers_map: A dictionary where keys are stock tickers and values are\n",
    "                          their corresponding industry index tickers (e.g., ETFs).\n",
    "    \"\"\"\n",
    "    all_industry_returns = {}\n",
    "    unique_industry_tickers = set(industry_tickers_map.values())\n",
    "\n",
    "    for industry_ticker in unique_industry_tickers:\n",
    "        print(f\"Collecting industry index data for {industry_ticker} using FMP...\")\n",
    "        industry_data = ohlcv_fmp(industry_ticker, start, end) # Using FMP API call\n",
    "        if not industry_data.empty:\n",
    "            industry_data['Industry_Index_Return'] = np.log(industry_data['Close'] / industry_data['Close'].shift(1))\n",
    "            industry_data['Industry_Index_Return'].replace([np.inf, -np.inf], np.nan, inplace=True)\n",
    "            industry_data.dropna(subset=['Industry_Index_Return'], inplace=True)\n",
    "            all_industry_returns[industry_ticker] = industry_data['Industry_Index_Return']\n",
    "        else:\n",
    "            print(f\"Could not get industry index data for {industry_ticker}.\")\n",
    "    return all_industry_returns"
   ]
  },
  {
   "cell_type": "code",
   "execution_count": 9,
   "id": "9bbe48bf",
   "metadata": {},
   "outputs": [
    {
     "name": "stdout",
     "output_type": "stream",
     "text": [
      "!!!!!!!!!!!!!!!!!!!!!!!!!!!!!!!!!!!!!!!!!!!!!!!!!!!!!!!!!!!!\n",
      "WARNING: Please replace 'YOUR_API_KEY_HERE' with your actual FMP API key.\n",
      "Get your API key from: https://financialmodelingprep.com/developer/docs/\n",
      "!!!!!!!!!!!!!!!!!!!!!!!!!!!!!!!!!!!!!!!!!!!!!!!!!!!!!!!!!!!!\n",
      "Attempting to collect data for 502 stocks from the S&P 500 list.\n",
      "Collecting data for AAPL...\n"
     ]
    },
    {
     "name": "stderr",
     "output_type": "stream",
     "text": [
      "C:\\Users\\PRAJWAL\\AppData\\Local\\Temp\\ipykernel_19000\\3832743817.py:11: FutureWarning: YF.download() has changed argument auto_adjust default to True\n",
      "  stock_data = yf.download(ticker, start=start, end=end, progress=False)\n",
      "C:\\Users\\PRAJWAL\\AppData\\Local\\Temp\\ipykernel_19000\\3832743817.py:18: SettingWithCopyWarning: \n",
      "A value is trying to be set on a copy of a slice from a DataFrame\n",
      "\n",
      "See the caveats in the documentation: https://pandas.pydata.org/pandas-docs/stable/user_guide/indexing.html#returning-a-view-versus-a-copy\n",
      "  stock_data['Return'].replace([np.inf, -np.inf], np.nan, inplace=True)\n",
      "C:\\Users\\PRAJWAL\\AppData\\Local\\Temp\\ipykernel_19000\\3832743817.py:11: FutureWarning: YF.download() has changed argument auto_adjust default to True\n",
      "  stock_data = yf.download(ticker, start=start, end=end, progress=False)\n"
     ]
    },
    {
     "name": "stdout",
     "output_type": "stream",
     "text": [
      "Error collecting data for AAPL: ['Return']\n",
      "Collecting data for NVDA...\n"
     ]
    },
    {
     "name": "stderr",
     "output_type": "stream",
     "text": [
      "C:\\Users\\PRAJWAL\\AppData\\Local\\Temp\\ipykernel_19000\\3832743817.py:18: SettingWithCopyWarning: \n",
      "A value is trying to be set on a copy of a slice from a DataFrame\n",
      "\n",
      "See the caveats in the documentation: https://pandas.pydata.org/pandas-docs/stable/user_guide/indexing.html#returning-a-view-versus-a-copy\n",
      "  stock_data['Return'].replace([np.inf, -np.inf], np.nan, inplace=True)\n",
      "C:\\Users\\PRAJWAL\\AppData\\Local\\Temp\\ipykernel_19000\\3832743817.py:11: FutureWarning: YF.download() has changed argument auto_adjust default to True\n",
      "  stock_data = yf.download(ticker, start=start, end=end, progress=False)\n"
     ]
    },
    {
     "name": "stdout",
     "output_type": "stream",
     "text": [
      "Error collecting data for NVDA: ['Return']\n",
      "Collecting data for MSFT...\n"
     ]
    },
    {
     "name": "stderr",
     "output_type": "stream",
     "text": [
      "C:\\Users\\PRAJWAL\\AppData\\Local\\Temp\\ipykernel_19000\\3832743817.py:18: SettingWithCopyWarning: \n",
      "A value is trying to be set on a copy of a slice from a DataFrame\n",
      "\n",
      "See the caveats in the documentation: https://pandas.pydata.org/pandas-docs/stable/user_guide/indexing.html#returning-a-view-versus-a-copy\n",
      "  stock_data['Return'].replace([np.inf, -np.inf], np.nan, inplace=True)\n",
      "C:\\Users\\PRAJWAL\\AppData\\Local\\Temp\\ipykernel_19000\\3832743817.py:11: FutureWarning: YF.download() has changed argument auto_adjust default to True\n",
      "  stock_data = yf.download(ticker, start=start, end=end, progress=False)\n"
     ]
    },
    {
     "name": "stdout",
     "output_type": "stream",
     "text": [
      "Error collecting data for MSFT: ['Return']\n",
      "Collecting data for AMZN...\n"
     ]
    },
    {
     "name": "stderr",
     "output_type": "stream",
     "text": [
      "C:\\Users\\PRAJWAL\\AppData\\Local\\Temp\\ipykernel_19000\\3832743817.py:18: SettingWithCopyWarning: \n",
      "A value is trying to be set on a copy of a slice from a DataFrame\n",
      "\n",
      "See the caveats in the documentation: https://pandas.pydata.org/pandas-docs/stable/user_guide/indexing.html#returning-a-view-versus-a-copy\n",
      "  stock_data['Return'].replace([np.inf, -np.inf], np.nan, inplace=True)\n",
      "C:\\Users\\PRAJWAL\\AppData\\Local\\Temp\\ipykernel_19000\\3832743817.py:11: FutureWarning: YF.download() has changed argument auto_adjust default to True\n",
      "  stock_data = yf.download(ticker, start=start, end=end, progress=False)\n"
     ]
    },
    {
     "name": "stdout",
     "output_type": "stream",
     "text": [
      "Error collecting data for AMZN: ['Return']\n",
      "Collecting data for GOOGL...\n"
     ]
    },
    {
     "name": "stderr",
     "output_type": "stream",
     "text": [
      "C:\\Users\\PRAJWAL\\AppData\\Local\\Temp\\ipykernel_19000\\3832743817.py:18: SettingWithCopyWarning: \n",
      "A value is trying to be set on a copy of a slice from a DataFrame\n",
      "\n",
      "See the caveats in the documentation: https://pandas.pydata.org/pandas-docs/stable/user_guide/indexing.html#returning-a-view-versus-a-copy\n",
      "  stock_data['Return'].replace([np.inf, -np.inf], np.nan, inplace=True)\n",
      "C:\\Users\\PRAJWAL\\AppData\\Local\\Temp\\ipykernel_19000\\3832743817.py:11: FutureWarning: YF.download() has changed argument auto_adjust default to True\n",
      "  stock_data = yf.download(ticker, start=start, end=end, progress=False)\n"
     ]
    },
    {
     "name": "stdout",
     "output_type": "stream",
     "text": [
      "Error collecting data for GOOGL: ['Return']\n",
      "Collecting data for GOOG...\n"
     ]
    },
    {
     "name": "stderr",
     "output_type": "stream",
     "text": [
      "C:\\Users\\PRAJWAL\\AppData\\Local\\Temp\\ipykernel_19000\\3832743817.py:18: SettingWithCopyWarning: \n",
      "A value is trying to be set on a copy of a slice from a DataFrame\n",
      "\n",
      "See the caveats in the documentation: https://pandas.pydata.org/pandas-docs/stable/user_guide/indexing.html#returning-a-view-versus-a-copy\n",
      "  stock_data['Return'].replace([np.inf, -np.inf], np.nan, inplace=True)\n",
      "C:\\Users\\PRAJWAL\\AppData\\Local\\Temp\\ipykernel_19000\\3832743817.py:11: FutureWarning: YF.download() has changed argument auto_adjust default to True\n",
      "  stock_data = yf.download(ticker, start=start, end=end, progress=False)\n"
     ]
    },
    {
     "name": "stdout",
     "output_type": "stream",
     "text": [
      "Error collecting data for GOOG: ['Return']\n",
      "Collecting data for META...\n"
     ]
    },
    {
     "name": "stderr",
     "output_type": "stream",
     "text": [
      "C:\\Users\\PRAJWAL\\AppData\\Local\\Temp\\ipykernel_19000\\3832743817.py:18: SettingWithCopyWarning: \n",
      "A value is trying to be set on a copy of a slice from a DataFrame\n",
      "\n",
      "See the caveats in the documentation: https://pandas.pydata.org/pandas-docs/stable/user_guide/indexing.html#returning-a-view-versus-a-copy\n",
      "  stock_data['Return'].replace([np.inf, -np.inf], np.nan, inplace=True)\n",
      "C:\\Users\\PRAJWAL\\AppData\\Local\\Temp\\ipykernel_19000\\3832743817.py:11: FutureWarning: YF.download() has changed argument auto_adjust default to True\n",
      "  stock_data = yf.download(ticker, start=start, end=end, progress=False)\n"
     ]
    },
    {
     "name": "stdout",
     "output_type": "stream",
     "text": [
      "Error collecting data for META: ['Return']\n",
      "Collecting data for TSLA...\n"
     ]
    },
    {
     "name": "stderr",
     "output_type": "stream",
     "text": [
      "C:\\Users\\PRAJWAL\\AppData\\Local\\Temp\\ipykernel_19000\\3832743817.py:18: SettingWithCopyWarning: \n",
      "A value is trying to be set on a copy of a slice from a DataFrame\n",
      "\n",
      "See the caveats in the documentation: https://pandas.pydata.org/pandas-docs/stable/user_guide/indexing.html#returning-a-view-versus-a-copy\n",
      "  stock_data['Return'].replace([np.inf, -np.inf], np.nan, inplace=True)\n",
      "C:\\Users\\PRAJWAL\\AppData\\Local\\Temp\\ipykernel_19000\\3832743817.py:11: FutureWarning: YF.download() has changed argument auto_adjust default to True\n",
      "  stock_data = yf.download(ticker, start=start, end=end, progress=False)\n"
     ]
    },
    {
     "name": "stdout",
     "output_type": "stream",
     "text": [
      "Error collecting data for TSLA: ['Return']\n",
      "Collecting data for AVGO...\n"
     ]
    },
    {
     "name": "stderr",
     "output_type": "stream",
     "text": [
      "C:\\Users\\PRAJWAL\\AppData\\Local\\Temp\\ipykernel_19000\\3832743817.py:18: SettingWithCopyWarning: \n",
      "A value is trying to be set on a copy of a slice from a DataFrame\n",
      "\n",
      "See the caveats in the documentation: https://pandas.pydata.org/pandas-docs/stable/user_guide/indexing.html#returning-a-view-versus-a-copy\n",
      "  stock_data['Return'].replace([np.inf, -np.inf], np.nan, inplace=True)\n",
      "C:\\Users\\PRAJWAL\\AppData\\Local\\Temp\\ipykernel_19000\\3832743817.py:11: FutureWarning: YF.download() has changed argument auto_adjust default to True\n",
      "  stock_data = yf.download(ticker, start=start, end=end, progress=False)\n"
     ]
    },
    {
     "name": "stdout",
     "output_type": "stream",
     "text": [
      "Error collecting data for AVGO: ['Return']\n",
      "Collecting data for BRK-B...\n"
     ]
    },
    {
     "name": "stderr",
     "output_type": "stream",
     "text": [
      "C:\\Users\\PRAJWAL\\AppData\\Local\\Temp\\ipykernel_19000\\3832743817.py:18: SettingWithCopyWarning: \n",
      "A value is trying to be set on a copy of a slice from a DataFrame\n",
      "\n",
      "See the caveats in the documentation: https://pandas.pydata.org/pandas-docs/stable/user_guide/indexing.html#returning-a-view-versus-a-copy\n",
      "  stock_data['Return'].replace([np.inf, -np.inf], np.nan, inplace=True)\n",
      "C:\\Users\\PRAJWAL\\AppData\\Local\\Temp\\ipykernel_19000\\3832743817.py:11: FutureWarning: YF.download() has changed argument auto_adjust default to True\n",
      "  stock_data = yf.download(ticker, start=start, end=end, progress=False)\n"
     ]
    },
    {
     "name": "stdout",
     "output_type": "stream",
     "text": [
      "Error collecting data for BRK-B: ['Return']\n",
      "Collecting data for WMT...\n"
     ]
    },
    {
     "name": "stderr",
     "output_type": "stream",
     "text": [
      "C:\\Users\\PRAJWAL\\AppData\\Local\\Temp\\ipykernel_19000\\3832743817.py:18: SettingWithCopyWarning: \n",
      "A value is trying to be set on a copy of a slice from a DataFrame\n",
      "\n",
      "See the caveats in the documentation: https://pandas.pydata.org/pandas-docs/stable/user_guide/indexing.html#returning-a-view-versus-a-copy\n",
      "  stock_data['Return'].replace([np.inf, -np.inf], np.nan, inplace=True)\n",
      "C:\\Users\\PRAJWAL\\AppData\\Local\\Temp\\ipykernel_19000\\3832743817.py:11: FutureWarning: YF.download() has changed argument auto_adjust default to True\n",
      "  stock_data = yf.download(ticker, start=start, end=end, progress=False)\n"
     ]
    },
    {
     "name": "stdout",
     "output_type": "stream",
     "text": [
      "Error collecting data for WMT: ['Return']\n",
      "Collecting data for LLY...\n"
     ]
    },
    {
     "name": "stderr",
     "output_type": "stream",
     "text": [
      "C:\\Users\\PRAJWAL\\AppData\\Local\\Temp\\ipykernel_19000\\3832743817.py:18: SettingWithCopyWarning: \n",
      "A value is trying to be set on a copy of a slice from a DataFrame\n",
      "\n",
      "See the caveats in the documentation: https://pandas.pydata.org/pandas-docs/stable/user_guide/indexing.html#returning-a-view-versus-a-copy\n",
      "  stock_data['Return'].replace([np.inf, -np.inf], np.nan, inplace=True)\n",
      "C:\\Users\\PRAJWAL\\AppData\\Local\\Temp\\ipykernel_19000\\3832743817.py:11: FutureWarning: YF.download() has changed argument auto_adjust default to True\n",
      "  stock_data = yf.download(ticker, start=start, end=end, progress=False)\n"
     ]
    },
    {
     "name": "stdout",
     "output_type": "stream",
     "text": [
      "Error collecting data for LLY: ['Return']\n",
      "Collecting data for JPM...\n"
     ]
    },
    {
     "name": "stderr",
     "output_type": "stream",
     "text": [
      "C:\\Users\\PRAJWAL\\AppData\\Local\\Temp\\ipykernel_19000\\3832743817.py:18: SettingWithCopyWarning: \n",
      "A value is trying to be set on a copy of a slice from a DataFrame\n",
      "\n",
      "See the caveats in the documentation: https://pandas.pydata.org/pandas-docs/stable/user_guide/indexing.html#returning-a-view-versus-a-copy\n",
      "  stock_data['Return'].replace([np.inf, -np.inf], np.nan, inplace=True)\n",
      "C:\\Users\\PRAJWAL\\AppData\\Local\\Temp\\ipykernel_19000\\3832743817.py:11: FutureWarning: YF.download() has changed argument auto_adjust default to True\n",
      "  stock_data = yf.download(ticker, start=start, end=end, progress=False)\n"
     ]
    },
    {
     "name": "stdout",
     "output_type": "stream",
     "text": [
      "Error collecting data for JPM: ['Return']\n",
      "Collecting data for V...\n"
     ]
    },
    {
     "name": "stderr",
     "output_type": "stream",
     "text": [
      "C:\\Users\\PRAJWAL\\AppData\\Local\\Temp\\ipykernel_19000\\3832743817.py:18: SettingWithCopyWarning: \n",
      "A value is trying to be set on a copy of a slice from a DataFrame\n",
      "\n",
      "See the caveats in the documentation: https://pandas.pydata.org/pandas-docs/stable/user_guide/indexing.html#returning-a-view-versus-a-copy\n",
      "  stock_data['Return'].replace([np.inf, -np.inf], np.nan, inplace=True)\n",
      "C:\\Users\\PRAJWAL\\AppData\\Local\\Temp\\ipykernel_19000\\3832743817.py:11: FutureWarning: YF.download() has changed argument auto_adjust default to True\n",
      "  stock_data = yf.download(ticker, start=start, end=end, progress=False)\n"
     ]
    },
    {
     "name": "stdout",
     "output_type": "stream",
     "text": [
      "Error collecting data for V: ['Return']\n",
      "Collecting data for MA...\n"
     ]
    },
    {
     "name": "stderr",
     "output_type": "stream",
     "text": [
      "C:\\Users\\PRAJWAL\\AppData\\Local\\Temp\\ipykernel_19000\\3832743817.py:18: SettingWithCopyWarning: \n",
      "A value is trying to be set on a copy of a slice from a DataFrame\n",
      "\n",
      "See the caveats in the documentation: https://pandas.pydata.org/pandas-docs/stable/user_guide/indexing.html#returning-a-view-versus-a-copy\n",
      "  stock_data['Return'].replace([np.inf, -np.inf], np.nan, inplace=True)\n",
      "C:\\Users\\PRAJWAL\\AppData\\Local\\Temp\\ipykernel_19000\\3832743817.py:11: FutureWarning: YF.download() has changed argument auto_adjust default to True\n",
      "  stock_data = yf.download(ticker, start=start, end=end, progress=False)\n"
     ]
    },
    {
     "name": "stdout",
     "output_type": "stream",
     "text": [
      "Error collecting data for MA: ['Return']\n",
      "Collecting data for ORCL...\n"
     ]
    },
    {
     "name": "stderr",
     "output_type": "stream",
     "text": [
      "C:\\Users\\PRAJWAL\\AppData\\Local\\Temp\\ipykernel_19000\\3832743817.py:18: SettingWithCopyWarning: \n",
      "A value is trying to be set on a copy of a slice from a DataFrame\n",
      "\n",
      "See the caveats in the documentation: https://pandas.pydata.org/pandas-docs/stable/user_guide/indexing.html#returning-a-view-versus-a-copy\n",
      "  stock_data['Return'].replace([np.inf, -np.inf], np.nan, inplace=True)\n",
      "C:\\Users\\PRAJWAL\\AppData\\Local\\Temp\\ipykernel_19000\\3832743817.py:11: FutureWarning: YF.download() has changed argument auto_adjust default to True\n",
      "  stock_data = yf.download(ticker, start=start, end=end, progress=False)\n"
     ]
    },
    {
     "name": "stdout",
     "output_type": "stream",
     "text": [
      "Error collecting data for ORCL: ['Return']\n",
      "Collecting data for XOM...\n"
     ]
    },
    {
     "name": "stderr",
     "output_type": "stream",
     "text": [
      "C:\\Users\\PRAJWAL\\AppData\\Local\\Temp\\ipykernel_19000\\3832743817.py:18: SettingWithCopyWarning: \n",
      "A value is trying to be set on a copy of a slice from a DataFrame\n",
      "\n",
      "See the caveats in the documentation: https://pandas.pydata.org/pandas-docs/stable/user_guide/indexing.html#returning-a-view-versus-a-copy\n",
      "  stock_data['Return'].replace([np.inf, -np.inf], np.nan, inplace=True)\n",
      "C:\\Users\\PRAJWAL\\AppData\\Local\\Temp\\ipykernel_19000\\3832743817.py:11: FutureWarning: YF.download() has changed argument auto_adjust default to True\n",
      "  stock_data = yf.download(ticker, start=start, end=end, progress=False)\n"
     ]
    },
    {
     "name": "stdout",
     "output_type": "stream",
     "text": [
      "Error collecting data for XOM: ['Return']\n",
      "Collecting data for UNH...\n"
     ]
    },
    {
     "name": "stderr",
     "output_type": "stream",
     "text": [
      "C:\\Users\\PRAJWAL\\AppData\\Local\\Temp\\ipykernel_19000\\3832743817.py:18: SettingWithCopyWarning: \n",
      "A value is trying to be set on a copy of a slice from a DataFrame\n",
      "\n",
      "See the caveats in the documentation: https://pandas.pydata.org/pandas-docs/stable/user_guide/indexing.html#returning-a-view-versus-a-copy\n",
      "  stock_data['Return'].replace([np.inf, -np.inf], np.nan, inplace=True)\n",
      "C:\\Users\\PRAJWAL\\AppData\\Local\\Temp\\ipykernel_19000\\3832743817.py:11: FutureWarning: YF.download() has changed argument auto_adjust default to True\n",
      "  stock_data = yf.download(ticker, start=start, end=end, progress=False)\n"
     ]
    },
    {
     "name": "stdout",
     "output_type": "stream",
     "text": [
      "Error collecting data for UNH: ['Return']\n",
      "Collecting data for COST...\n"
     ]
    },
    {
     "name": "stderr",
     "output_type": "stream",
     "text": [
      "C:\\Users\\PRAJWAL\\AppData\\Local\\Temp\\ipykernel_19000\\3832743817.py:18: SettingWithCopyWarning: \n",
      "A value is trying to be set on a copy of a slice from a DataFrame\n",
      "\n",
      "See the caveats in the documentation: https://pandas.pydata.org/pandas-docs/stable/user_guide/indexing.html#returning-a-view-versus-a-copy\n",
      "  stock_data['Return'].replace([np.inf, -np.inf], np.nan, inplace=True)\n",
      "C:\\Users\\PRAJWAL\\AppData\\Local\\Temp\\ipykernel_19000\\3832743817.py:11: FutureWarning: YF.download() has changed argument auto_adjust default to True\n",
      "  stock_data = yf.download(ticker, start=start, end=end, progress=False)\n"
     ]
    },
    {
     "name": "stdout",
     "output_type": "stream",
     "text": [
      "Error collecting data for COST: ['Return']\n",
      "Collecting data for PG...\n"
     ]
    },
    {
     "name": "stderr",
     "output_type": "stream",
     "text": [
      "C:\\Users\\PRAJWAL\\AppData\\Local\\Temp\\ipykernel_19000\\3832743817.py:18: SettingWithCopyWarning: \n",
      "A value is trying to be set on a copy of a slice from a DataFrame\n",
      "\n",
      "See the caveats in the documentation: https://pandas.pydata.org/pandas-docs/stable/user_guide/indexing.html#returning-a-view-versus-a-copy\n",
      "  stock_data['Return'].replace([np.inf, -np.inf], np.nan, inplace=True)\n",
      "C:\\Users\\PRAJWAL\\AppData\\Local\\Temp\\ipykernel_19000\\3832743817.py:11: FutureWarning: YF.download() has changed argument auto_adjust default to True\n",
      "  stock_data = yf.download(ticker, start=start, end=end, progress=False)\n"
     ]
    },
    {
     "name": "stdout",
     "output_type": "stream",
     "text": [
      "Error collecting data for PG: ['Return']\n",
      "Collecting data for HD...\n"
     ]
    },
    {
     "name": "stderr",
     "output_type": "stream",
     "text": [
      "C:\\Users\\PRAJWAL\\AppData\\Local\\Temp\\ipykernel_19000\\3832743817.py:18: SettingWithCopyWarning: \n",
      "A value is trying to be set on a copy of a slice from a DataFrame\n",
      "\n",
      "See the caveats in the documentation: https://pandas.pydata.org/pandas-docs/stable/user_guide/indexing.html#returning-a-view-versus-a-copy\n",
      "  stock_data['Return'].replace([np.inf, -np.inf], np.nan, inplace=True)\n",
      "C:\\Users\\PRAJWAL\\AppData\\Local\\Temp\\ipykernel_19000\\3832743817.py:11: FutureWarning: YF.download() has changed argument auto_adjust default to True\n",
      "  stock_data = yf.download(ticker, start=start, end=end, progress=False)\n"
     ]
    },
    {
     "name": "stdout",
     "output_type": "stream",
     "text": [
      "Error collecting data for HD: ['Return']\n",
      "Collecting data for NFLX...\n"
     ]
    },
    {
     "name": "stderr",
     "output_type": "stream",
     "text": [
      "C:\\Users\\PRAJWAL\\AppData\\Local\\Temp\\ipykernel_19000\\3832743817.py:18: SettingWithCopyWarning: \n",
      "A value is trying to be set on a copy of a slice from a DataFrame\n",
      "\n",
      "See the caveats in the documentation: https://pandas.pydata.org/pandas-docs/stable/user_guide/indexing.html#returning-a-view-versus-a-copy\n",
      "  stock_data['Return'].replace([np.inf, -np.inf], np.nan, inplace=True)\n",
      "C:\\Users\\PRAJWAL\\AppData\\Local\\Temp\\ipykernel_19000\\3832743817.py:11: FutureWarning: YF.download() has changed argument auto_adjust default to True\n",
      "  stock_data = yf.download(ticker, start=start, end=end, progress=False)\n"
     ]
    },
    {
     "name": "stdout",
     "output_type": "stream",
     "text": [
      "Error collecting data for NFLX: ['Return']\n",
      "Collecting data for JNJ...\n"
     ]
    },
    {
     "name": "stderr",
     "output_type": "stream",
     "text": [
      "C:\\Users\\PRAJWAL\\AppData\\Local\\Temp\\ipykernel_19000\\3832743817.py:18: SettingWithCopyWarning: \n",
      "A value is trying to be set on a copy of a slice from a DataFrame\n",
      "\n",
      "See the caveats in the documentation: https://pandas.pydata.org/pandas-docs/stable/user_guide/indexing.html#returning-a-view-versus-a-copy\n",
      "  stock_data['Return'].replace([np.inf, -np.inf], np.nan, inplace=True)\n",
      "C:\\Users\\PRAJWAL\\AppData\\Local\\Temp\\ipykernel_19000\\3832743817.py:11: FutureWarning: YF.download() has changed argument auto_adjust default to True\n",
      "  stock_data = yf.download(ticker, start=start, end=end, progress=False)\n"
     ]
    },
    {
     "name": "stdout",
     "output_type": "stream",
     "text": [
      "Error collecting data for JNJ: ['Return']\n",
      "Collecting data for BAC...\n"
     ]
    },
    {
     "name": "stderr",
     "output_type": "stream",
     "text": [
      "C:\\Users\\PRAJWAL\\AppData\\Local\\Temp\\ipykernel_19000\\3832743817.py:18: SettingWithCopyWarning: \n",
      "A value is trying to be set on a copy of a slice from a DataFrame\n",
      "\n",
      "See the caveats in the documentation: https://pandas.pydata.org/pandas-docs/stable/user_guide/indexing.html#returning-a-view-versus-a-copy\n",
      "  stock_data['Return'].replace([np.inf, -np.inf], np.nan, inplace=True)\n",
      "C:\\Users\\PRAJWAL\\AppData\\Local\\Temp\\ipykernel_19000\\3832743817.py:11: FutureWarning: YF.download() has changed argument auto_adjust default to True\n",
      "  stock_data = yf.download(ticker, start=start, end=end, progress=False)\n"
     ]
    },
    {
     "name": "stdout",
     "output_type": "stream",
     "text": [
      "Error collecting data for BAC: ['Return']\n",
      "Collecting data for CRM...\n"
     ]
    },
    {
     "name": "stderr",
     "output_type": "stream",
     "text": [
      "C:\\Users\\PRAJWAL\\AppData\\Local\\Temp\\ipykernel_19000\\3832743817.py:18: SettingWithCopyWarning: \n",
      "A value is trying to be set on a copy of a slice from a DataFrame\n",
      "\n",
      "See the caveats in the documentation: https://pandas.pydata.org/pandas-docs/stable/user_guide/indexing.html#returning-a-view-versus-a-copy\n",
      "  stock_data['Return'].replace([np.inf, -np.inf], np.nan, inplace=True)\n",
      "C:\\Users\\PRAJWAL\\AppData\\Local\\Temp\\ipykernel_19000\\3832743817.py:11: FutureWarning: YF.download() has changed argument auto_adjust default to True\n",
      "  stock_data = yf.download(ticker, start=start, end=end, progress=False)\n"
     ]
    },
    {
     "name": "stdout",
     "output_type": "stream",
     "text": [
      "Error collecting data for CRM: ['Return']\n",
      "Collecting data for ABBV...\n"
     ]
    },
    {
     "name": "stderr",
     "output_type": "stream",
     "text": [
      "C:\\Users\\PRAJWAL\\AppData\\Local\\Temp\\ipykernel_19000\\3832743817.py:18: SettingWithCopyWarning: \n",
      "A value is trying to be set on a copy of a slice from a DataFrame\n",
      "\n",
      "See the caveats in the documentation: https://pandas.pydata.org/pandas-docs/stable/user_guide/indexing.html#returning-a-view-versus-a-copy\n",
      "  stock_data['Return'].replace([np.inf, -np.inf], np.nan, inplace=True)\n",
      "C:\\Users\\PRAJWAL\\AppData\\Local\\Temp\\ipykernel_19000\\3832743817.py:11: FutureWarning: YF.download() has changed argument auto_adjust default to True\n",
      "  stock_data = yf.download(ticker, start=start, end=end, progress=False)\n"
     ]
    },
    {
     "name": "stdout",
     "output_type": "stream",
     "text": [
      "Error collecting data for ABBV: ['Return']\n",
      "Collecting data for KO...\n"
     ]
    },
    {
     "name": "stderr",
     "output_type": "stream",
     "text": [
      "C:\\Users\\PRAJWAL\\AppData\\Local\\Temp\\ipykernel_19000\\3832743817.py:18: SettingWithCopyWarning: \n",
      "A value is trying to be set on a copy of a slice from a DataFrame\n",
      "\n",
      "See the caveats in the documentation: https://pandas.pydata.org/pandas-docs/stable/user_guide/indexing.html#returning-a-view-versus-a-copy\n",
      "  stock_data['Return'].replace([np.inf, -np.inf], np.nan, inplace=True)\n",
      "C:\\Users\\PRAJWAL\\AppData\\Local\\Temp\\ipykernel_19000\\3832743817.py:11: FutureWarning: YF.download() has changed argument auto_adjust default to True\n",
      "  stock_data = yf.download(ticker, start=start, end=end, progress=False)\n"
     ]
    },
    {
     "name": "stdout",
     "output_type": "stream",
     "text": [
      "Error collecting data for KO: ['Return']\n",
      "Collecting data for TMUS...\n"
     ]
    },
    {
     "name": "stderr",
     "output_type": "stream",
     "text": [
      "C:\\Users\\PRAJWAL\\AppData\\Local\\Temp\\ipykernel_19000\\3832743817.py:18: SettingWithCopyWarning: \n",
      "A value is trying to be set on a copy of a slice from a DataFrame\n",
      "\n",
      "See the caveats in the documentation: https://pandas.pydata.org/pandas-docs/stable/user_guide/indexing.html#returning-a-view-versus-a-copy\n",
      "  stock_data['Return'].replace([np.inf, -np.inf], np.nan, inplace=True)\n",
      "C:\\Users\\PRAJWAL\\AppData\\Local\\Temp\\ipykernel_19000\\3832743817.py:11: FutureWarning: YF.download() has changed argument auto_adjust default to True\n",
      "  stock_data = yf.download(ticker, start=start, end=end, progress=False)\n"
     ]
    },
    {
     "name": "stdout",
     "output_type": "stream",
     "text": [
      "Error collecting data for TMUS: ['Return']\n",
      "Collecting data for CVX...\n"
     ]
    },
    {
     "name": "stderr",
     "output_type": "stream",
     "text": [
      "C:\\Users\\PRAJWAL\\AppData\\Local\\Temp\\ipykernel_19000\\3832743817.py:18: SettingWithCopyWarning: \n",
      "A value is trying to be set on a copy of a slice from a DataFrame\n",
      "\n",
      "See the caveats in the documentation: https://pandas.pydata.org/pandas-docs/stable/user_guide/indexing.html#returning-a-view-versus-a-copy\n",
      "  stock_data['Return'].replace([np.inf, -np.inf], np.nan, inplace=True)\n",
      "C:\\Users\\PRAJWAL\\AppData\\Local\\Temp\\ipykernel_19000\\3832743817.py:11: FutureWarning: YF.download() has changed argument auto_adjust default to True\n",
      "  stock_data = yf.download(ticker, start=start, end=end, progress=False)\n"
     ]
    },
    {
     "name": "stdout",
     "output_type": "stream",
     "text": [
      "Error collecting data for CVX: ['Return']\n",
      "Collecting data for MRK...\n"
     ]
    },
    {
     "name": "stderr",
     "output_type": "stream",
     "text": [
      "C:\\Users\\PRAJWAL\\AppData\\Local\\Temp\\ipykernel_19000\\3832743817.py:18: SettingWithCopyWarning: \n",
      "A value is trying to be set on a copy of a slice from a DataFrame\n",
      "\n",
      "See the caveats in the documentation: https://pandas.pydata.org/pandas-docs/stable/user_guide/indexing.html#returning-a-view-versus-a-copy\n",
      "  stock_data['Return'].replace([np.inf, -np.inf], np.nan, inplace=True)\n",
      "C:\\Users\\PRAJWAL\\AppData\\Local\\Temp\\ipykernel_19000\\3832743817.py:11: FutureWarning: YF.download() has changed argument auto_adjust default to True\n",
      "  stock_data = yf.download(ticker, start=start, end=end, progress=False)\n"
     ]
    },
    {
     "name": "stdout",
     "output_type": "stream",
     "text": [
      "Error collecting data for MRK: ['Return']\n",
      "Collecting data for WFC...\n"
     ]
    },
    {
     "name": "stderr",
     "output_type": "stream",
     "text": [
      "C:\\Users\\PRAJWAL\\AppData\\Local\\Temp\\ipykernel_19000\\3832743817.py:18: SettingWithCopyWarning: \n",
      "A value is trying to be set on a copy of a slice from a DataFrame\n",
      "\n",
      "See the caveats in the documentation: https://pandas.pydata.org/pandas-docs/stable/user_guide/indexing.html#returning-a-view-versus-a-copy\n",
      "  stock_data['Return'].replace([np.inf, -np.inf], np.nan, inplace=True)\n",
      "C:\\Users\\PRAJWAL\\AppData\\Local\\Temp\\ipykernel_19000\\3832743817.py:11: FutureWarning: YF.download() has changed argument auto_adjust default to True\n",
      "  stock_data = yf.download(ticker, start=start, end=end, progress=False)\n"
     ]
    },
    {
     "name": "stdout",
     "output_type": "stream",
     "text": [
      "Error collecting data for WFC: ['Return']\n",
      "Collecting data for CSCO...\n"
     ]
    },
    {
     "name": "stderr",
     "output_type": "stream",
     "text": [
      "C:\\Users\\PRAJWAL\\AppData\\Local\\Temp\\ipykernel_19000\\3832743817.py:18: SettingWithCopyWarning: \n",
      "A value is trying to be set on a copy of a slice from a DataFrame\n",
      "\n",
      "See the caveats in the documentation: https://pandas.pydata.org/pandas-docs/stable/user_guide/indexing.html#returning-a-view-versus-a-copy\n",
      "  stock_data['Return'].replace([np.inf, -np.inf], np.nan, inplace=True)\n",
      "C:\\Users\\PRAJWAL\\AppData\\Local\\Temp\\ipykernel_19000\\3832743817.py:11: FutureWarning: YF.download() has changed argument auto_adjust default to True\n",
      "  stock_data = yf.download(ticker, start=start, end=end, progress=False)\n"
     ]
    },
    {
     "name": "stdout",
     "output_type": "stream",
     "text": [
      "Error collecting data for CSCO: ['Return']\n",
      "Collecting data for ACN...\n"
     ]
    },
    {
     "name": "stderr",
     "output_type": "stream",
     "text": [
      "C:\\Users\\PRAJWAL\\AppData\\Local\\Temp\\ipykernel_19000\\3832743817.py:18: SettingWithCopyWarning: \n",
      "A value is trying to be set on a copy of a slice from a DataFrame\n",
      "\n",
      "See the caveats in the documentation: https://pandas.pydata.org/pandas-docs/stable/user_guide/indexing.html#returning-a-view-versus-a-copy\n",
      "  stock_data['Return'].replace([np.inf, -np.inf], np.nan, inplace=True)\n",
      "C:\\Users\\PRAJWAL\\AppData\\Local\\Temp\\ipykernel_19000\\3832743817.py:11: FutureWarning: YF.download() has changed argument auto_adjust default to True\n",
      "  stock_data = yf.download(ticker, start=start, end=end, progress=False)\n"
     ]
    },
    {
     "name": "stdout",
     "output_type": "stream",
     "text": [
      "Error collecting data for ACN: ['Return']\n",
      "Collecting data for NOW...\n"
     ]
    },
    {
     "name": "stderr",
     "output_type": "stream",
     "text": [
      "C:\\Users\\PRAJWAL\\AppData\\Local\\Temp\\ipykernel_19000\\3832743817.py:18: SettingWithCopyWarning: \n",
      "A value is trying to be set on a copy of a slice from a DataFrame\n",
      "\n",
      "See the caveats in the documentation: https://pandas.pydata.org/pandas-docs/stable/user_guide/indexing.html#returning-a-view-versus-a-copy\n",
      "  stock_data['Return'].replace([np.inf, -np.inf], np.nan, inplace=True)\n",
      "C:\\Users\\PRAJWAL\\AppData\\Local\\Temp\\ipykernel_19000\\3832743817.py:11: FutureWarning: YF.download() has changed argument auto_adjust default to True\n",
      "  stock_data = yf.download(ticker, start=start, end=end, progress=False)\n"
     ]
    },
    {
     "name": "stdout",
     "output_type": "stream",
     "text": [
      "Error collecting data for NOW: ['Return']\n",
      "Collecting data for AXP...\n"
     ]
    },
    {
     "name": "stderr",
     "output_type": "stream",
     "text": [
      "C:\\Users\\PRAJWAL\\AppData\\Local\\Temp\\ipykernel_19000\\3832743817.py:18: SettingWithCopyWarning: \n",
      "A value is trying to be set on a copy of a slice from a DataFrame\n",
      "\n",
      "See the caveats in the documentation: https://pandas.pydata.org/pandas-docs/stable/user_guide/indexing.html#returning-a-view-versus-a-copy\n",
      "  stock_data['Return'].replace([np.inf, -np.inf], np.nan, inplace=True)\n",
      "C:\\Users\\PRAJWAL\\AppData\\Local\\Temp\\ipykernel_19000\\3832743817.py:11: FutureWarning: YF.download() has changed argument auto_adjust default to True\n",
      "  stock_data = yf.download(ticker, start=start, end=end, progress=False)\n"
     ]
    },
    {
     "name": "stdout",
     "output_type": "stream",
     "text": [
      "Error collecting data for AXP: ['Return']\n",
      "Collecting data for MCD...\n"
     ]
    },
    {
     "name": "stderr",
     "output_type": "stream",
     "text": [
      "C:\\Users\\PRAJWAL\\AppData\\Local\\Temp\\ipykernel_19000\\3832743817.py:18: SettingWithCopyWarning: \n",
      "A value is trying to be set on a copy of a slice from a DataFrame\n",
      "\n",
      "See the caveats in the documentation: https://pandas.pydata.org/pandas-docs/stable/user_guide/indexing.html#returning-a-view-versus-a-copy\n",
      "  stock_data['Return'].replace([np.inf, -np.inf], np.nan, inplace=True)\n",
      "C:\\Users\\PRAJWAL\\AppData\\Local\\Temp\\ipykernel_19000\\3832743817.py:11: FutureWarning: YF.download() has changed argument auto_adjust default to True\n",
      "  stock_data = yf.download(ticker, start=start, end=end, progress=False)\n"
     ]
    },
    {
     "name": "stdout",
     "output_type": "stream",
     "text": [
      "Error collecting data for MCD: ['Return']\n",
      "Collecting data for PEP...\n"
     ]
    },
    {
     "name": "stderr",
     "output_type": "stream",
     "text": [
      "C:\\Users\\PRAJWAL\\AppData\\Local\\Temp\\ipykernel_19000\\3832743817.py:18: SettingWithCopyWarning: \n",
      "A value is trying to be set on a copy of a slice from a DataFrame\n",
      "\n",
      "See the caveats in the documentation: https://pandas.pydata.org/pandas-docs/stable/user_guide/indexing.html#returning-a-view-versus-a-copy\n",
      "  stock_data['Return'].replace([np.inf, -np.inf], np.nan, inplace=True)\n",
      "C:\\Users\\PRAJWAL\\AppData\\Local\\Temp\\ipykernel_19000\\3832743817.py:11: FutureWarning: YF.download() has changed argument auto_adjust default to True\n",
      "  stock_data = yf.download(ticker, start=start, end=end, progress=False)\n"
     ]
    },
    {
     "name": "stdout",
     "output_type": "stream",
     "text": [
      "Error collecting data for PEP: ['Return']\n",
      "Collecting data for BX...\n"
     ]
    },
    {
     "name": "stderr",
     "output_type": "stream",
     "text": [
      "C:\\Users\\PRAJWAL\\AppData\\Local\\Temp\\ipykernel_19000\\3832743817.py:18: SettingWithCopyWarning: \n",
      "A value is trying to be set on a copy of a slice from a DataFrame\n",
      "\n",
      "See the caveats in the documentation: https://pandas.pydata.org/pandas-docs/stable/user_guide/indexing.html#returning-a-view-versus-a-copy\n",
      "  stock_data['Return'].replace([np.inf, -np.inf], np.nan, inplace=True)\n",
      "C:\\Users\\PRAJWAL\\AppData\\Local\\Temp\\ipykernel_19000\\3832743817.py:11: FutureWarning: YF.download() has changed argument auto_adjust default to True\n",
      "  stock_data = yf.download(ticker, start=start, end=end, progress=False)\n"
     ]
    },
    {
     "name": "stdout",
     "output_type": "stream",
     "text": [
      "Error collecting data for BX: ['Return']\n",
      "Collecting data for IBM...\n"
     ]
    },
    {
     "name": "stderr",
     "output_type": "stream",
     "text": [
      "C:\\Users\\PRAJWAL\\AppData\\Local\\Temp\\ipykernel_19000\\3832743817.py:18: SettingWithCopyWarning: \n",
      "A value is trying to be set on a copy of a slice from a DataFrame\n",
      "\n",
      "See the caveats in the documentation: https://pandas.pydata.org/pandas-docs/stable/user_guide/indexing.html#returning-a-view-versus-a-copy\n",
      "  stock_data['Return'].replace([np.inf, -np.inf], np.nan, inplace=True)\n",
      "C:\\Users\\PRAJWAL\\AppData\\Local\\Temp\\ipykernel_19000\\3832743817.py:11: FutureWarning: YF.download() has changed argument auto_adjust default to True\n",
      "  stock_data = yf.download(ticker, start=start, end=end, progress=False)\n"
     ]
    },
    {
     "name": "stdout",
     "output_type": "stream",
     "text": [
      "Error collecting data for IBM: ['Return']\n",
      "Collecting data for DIS...\n"
     ]
    },
    {
     "name": "stderr",
     "output_type": "stream",
     "text": [
      "C:\\Users\\PRAJWAL\\AppData\\Local\\Temp\\ipykernel_19000\\3832743817.py:18: SettingWithCopyWarning: \n",
      "A value is trying to be set on a copy of a slice from a DataFrame\n",
      "\n",
      "See the caveats in the documentation: https://pandas.pydata.org/pandas-docs/stable/user_guide/indexing.html#returning-a-view-versus-a-copy\n",
      "  stock_data['Return'].replace([np.inf, -np.inf], np.nan, inplace=True)\n",
      "C:\\Users\\PRAJWAL\\AppData\\Local\\Temp\\ipykernel_19000\\3832743817.py:11: FutureWarning: YF.download() has changed argument auto_adjust default to True\n",
      "  stock_data = yf.download(ticker, start=start, end=end, progress=False)\n"
     ]
    },
    {
     "name": "stdout",
     "output_type": "stream",
     "text": [
      "Error collecting data for DIS: ['Return']\n",
      "Collecting data for LIN...\n"
     ]
    },
    {
     "name": "stderr",
     "output_type": "stream",
     "text": [
      "C:\\Users\\PRAJWAL\\AppData\\Local\\Temp\\ipykernel_19000\\3832743817.py:18: SettingWithCopyWarning: \n",
      "A value is trying to be set on a copy of a slice from a DataFrame\n",
      "\n",
      "See the caveats in the documentation: https://pandas.pydata.org/pandas-docs/stable/user_guide/indexing.html#returning-a-view-versus-a-copy\n",
      "  stock_data['Return'].replace([np.inf, -np.inf], np.nan, inplace=True)\n",
      "C:\\Users\\PRAJWAL\\AppData\\Local\\Temp\\ipykernel_19000\\3832743817.py:11: FutureWarning: YF.download() has changed argument auto_adjust default to True\n",
      "  stock_data = yf.download(ticker, start=start, end=end, progress=False)\n"
     ]
    },
    {
     "name": "stdout",
     "output_type": "stream",
     "text": [
      "Error collecting data for LIN: ['Return']\n",
      "Collecting data for TMO...\n"
     ]
    },
    {
     "name": "stderr",
     "output_type": "stream",
     "text": [
      "C:\\Users\\PRAJWAL\\AppData\\Local\\Temp\\ipykernel_19000\\3832743817.py:18: SettingWithCopyWarning: \n",
      "A value is trying to be set on a copy of a slice from a DataFrame\n",
      "\n",
      "See the caveats in the documentation: https://pandas.pydata.org/pandas-docs/stable/user_guide/indexing.html#returning-a-view-versus-a-copy\n",
      "  stock_data['Return'].replace([np.inf, -np.inf], np.nan, inplace=True)\n",
      "C:\\Users\\PRAJWAL\\AppData\\Local\\Temp\\ipykernel_19000\\3832743817.py:11: FutureWarning: YF.download() has changed argument auto_adjust default to True\n",
      "  stock_data = yf.download(ticker, start=start, end=end, progress=False)\n"
     ]
    },
    {
     "name": "stdout",
     "output_type": "stream",
     "text": [
      "Error collecting data for TMO: ['Return']\n",
      "Collecting data for MS...\n"
     ]
    },
    {
     "name": "stderr",
     "output_type": "stream",
     "text": [
      "C:\\Users\\PRAJWAL\\AppData\\Local\\Temp\\ipykernel_19000\\3832743817.py:18: SettingWithCopyWarning: \n",
      "A value is trying to be set on a copy of a slice from a DataFrame\n",
      "\n",
      "See the caveats in the documentation: https://pandas.pydata.org/pandas-docs/stable/user_guide/indexing.html#returning-a-view-versus-a-copy\n",
      "  stock_data['Return'].replace([np.inf, -np.inf], np.nan, inplace=True)\n",
      "C:\\Users\\PRAJWAL\\AppData\\Local\\Temp\\ipykernel_19000\\3832743817.py:11: FutureWarning: YF.download() has changed argument auto_adjust default to True\n",
      "  stock_data = yf.download(ticker, start=start, end=end, progress=False)\n"
     ]
    },
    {
     "name": "stdout",
     "output_type": "stream",
     "text": [
      "Error collecting data for MS: ['Return']\n",
      "Collecting data for ABT...\n"
     ]
    },
    {
     "name": "stderr",
     "output_type": "stream",
     "text": [
      "C:\\Users\\PRAJWAL\\AppData\\Local\\Temp\\ipykernel_19000\\3832743817.py:18: SettingWithCopyWarning: \n",
      "A value is trying to be set on a copy of a slice from a DataFrame\n",
      "\n",
      "See the caveats in the documentation: https://pandas.pydata.org/pandas-docs/stable/user_guide/indexing.html#returning-a-view-versus-a-copy\n",
      "  stock_data['Return'].replace([np.inf, -np.inf], np.nan, inplace=True)\n",
      "C:\\Users\\PRAJWAL\\AppData\\Local\\Temp\\ipykernel_19000\\3832743817.py:11: FutureWarning: YF.download() has changed argument auto_adjust default to True\n",
      "  stock_data = yf.download(ticker, start=start, end=end, progress=False)\n"
     ]
    },
    {
     "name": "stdout",
     "output_type": "stream",
     "text": [
      "Error collecting data for ABT: ['Return']\n",
      "Collecting data for ADBE...\n"
     ]
    },
    {
     "name": "stderr",
     "output_type": "stream",
     "text": [
      "C:\\Users\\PRAJWAL\\AppData\\Local\\Temp\\ipykernel_19000\\3832743817.py:18: SettingWithCopyWarning: \n",
      "A value is trying to be set on a copy of a slice from a DataFrame\n",
      "\n",
      "See the caveats in the documentation: https://pandas.pydata.org/pandas-docs/stable/user_guide/indexing.html#returning-a-view-versus-a-copy\n",
      "  stock_data['Return'].replace([np.inf, -np.inf], np.nan, inplace=True)\n",
      "C:\\Users\\PRAJWAL\\AppData\\Local\\Temp\\ipykernel_19000\\3832743817.py:11: FutureWarning: YF.download() has changed argument auto_adjust default to True\n",
      "  stock_data = yf.download(ticker, start=start, end=end, progress=False)\n"
     ]
    },
    {
     "name": "stdout",
     "output_type": "stream",
     "text": [
      "Error collecting data for ADBE: ['Return']\n",
      "Collecting data for AMD...\n"
     ]
    },
    {
     "name": "stderr",
     "output_type": "stream",
     "text": [
      "C:\\Users\\PRAJWAL\\AppData\\Local\\Temp\\ipykernel_19000\\3832743817.py:18: SettingWithCopyWarning: \n",
      "A value is trying to be set on a copy of a slice from a DataFrame\n",
      "\n",
      "See the caveats in the documentation: https://pandas.pydata.org/pandas-docs/stable/user_guide/indexing.html#returning-a-view-versus-a-copy\n",
      "  stock_data['Return'].replace([np.inf, -np.inf], np.nan, inplace=True)\n",
      "C:\\Users\\PRAJWAL\\AppData\\Local\\Temp\\ipykernel_19000\\3832743817.py:11: FutureWarning: YF.download() has changed argument auto_adjust default to True\n",
      "  stock_data = yf.download(ticker, start=start, end=end, progress=False)\n"
     ]
    },
    {
     "name": "stdout",
     "output_type": "stream",
     "text": [
      "Error collecting data for AMD: ['Return']\n",
      "Collecting data for PM...\n"
     ]
    },
    {
     "name": "stderr",
     "output_type": "stream",
     "text": [
      "C:\\Users\\PRAJWAL\\AppData\\Local\\Temp\\ipykernel_19000\\3832743817.py:18: SettingWithCopyWarning: \n",
      "A value is trying to be set on a copy of a slice from a DataFrame\n",
      "\n",
      "See the caveats in the documentation: https://pandas.pydata.org/pandas-docs/stable/user_guide/indexing.html#returning-a-view-versus-a-copy\n",
      "  stock_data['Return'].replace([np.inf, -np.inf], np.nan, inplace=True)\n",
      "C:\\Users\\PRAJWAL\\AppData\\Local\\Temp\\ipykernel_19000\\3832743817.py:11: FutureWarning: YF.download() has changed argument auto_adjust default to True\n",
      "  stock_data = yf.download(ticker, start=start, end=end, progress=False)\n"
     ]
    },
    {
     "name": "stdout",
     "output_type": "stream",
     "text": [
      "Error collecting data for PM: ['Return']\n",
      "Collecting data for ISRG...\n"
     ]
    },
    {
     "name": "stderr",
     "output_type": "stream",
     "text": [
      "C:\\Users\\PRAJWAL\\AppData\\Local\\Temp\\ipykernel_19000\\3832743817.py:18: SettingWithCopyWarning: \n",
      "A value is trying to be set on a copy of a slice from a DataFrame\n",
      "\n",
      "See the caveats in the documentation: https://pandas.pydata.org/pandas-docs/stable/user_guide/indexing.html#returning-a-view-versus-a-copy\n",
      "  stock_data['Return'].replace([np.inf, -np.inf], np.nan, inplace=True)\n",
      "C:\\Users\\PRAJWAL\\AppData\\Local\\Temp\\ipykernel_19000\\3832743817.py:11: FutureWarning: YF.download() has changed argument auto_adjust default to True\n",
      "  stock_data = yf.download(ticker, start=start, end=end, progress=False)\n"
     ]
    },
    {
     "name": "stdout",
     "output_type": "stream",
     "text": [
      "Error collecting data for ISRG: ['Return']\n",
      "Collecting data for PLTR...\n"
     ]
    },
    {
     "name": "stderr",
     "output_type": "stream",
     "text": [
      "C:\\Users\\PRAJWAL\\AppData\\Local\\Temp\\ipykernel_19000\\3832743817.py:18: SettingWithCopyWarning: \n",
      "A value is trying to be set on a copy of a slice from a DataFrame\n",
      "\n",
      "See the caveats in the documentation: https://pandas.pydata.org/pandas-docs/stable/user_guide/indexing.html#returning-a-view-versus-a-copy\n",
      "  stock_data['Return'].replace([np.inf, -np.inf], np.nan, inplace=True)\n",
      "C:\\Users\\PRAJWAL\\AppData\\Local\\Temp\\ipykernel_19000\\3832743817.py:11: FutureWarning: YF.download() has changed argument auto_adjust default to True\n",
      "  stock_data = yf.download(ticker, start=start, end=end, progress=False)\n"
     ]
    },
    {
     "name": "stdout",
     "output_type": "stream",
     "text": [
      "Error collecting data for PLTR: ['Return']\n",
      "Collecting data for GE...\n"
     ]
    },
    {
     "name": "stderr",
     "output_type": "stream",
     "text": [
      "C:\\Users\\PRAJWAL\\AppData\\Local\\Temp\\ipykernel_19000\\3832743817.py:18: SettingWithCopyWarning: \n",
      "A value is trying to be set on a copy of a slice from a DataFrame\n",
      "\n",
      "See the caveats in the documentation: https://pandas.pydata.org/pandas-docs/stable/user_guide/indexing.html#returning-a-view-versus-a-copy\n",
      "  stock_data['Return'].replace([np.inf, -np.inf], np.nan, inplace=True)\n",
      "C:\\Users\\PRAJWAL\\AppData\\Local\\Temp\\ipykernel_19000\\3832743817.py:11: FutureWarning: YF.download() has changed argument auto_adjust default to True\n",
      "  stock_data = yf.download(ticker, start=start, end=end, progress=False)\n"
     ]
    },
    {
     "name": "stdout",
     "output_type": "stream",
     "text": [
      "Error collecting data for GE: ['Return']\n",
      "Collecting data for INTU...\n"
     ]
    },
    {
     "name": "stderr",
     "output_type": "stream",
     "text": [
      "C:\\Users\\PRAJWAL\\AppData\\Local\\Temp\\ipykernel_19000\\3832743817.py:18: SettingWithCopyWarning: \n",
      "A value is trying to be set on a copy of a slice from a DataFrame\n",
      "\n",
      "See the caveats in the documentation: https://pandas.pydata.org/pandas-docs/stable/user_guide/indexing.html#returning-a-view-versus-a-copy\n",
      "  stock_data['Return'].replace([np.inf, -np.inf], np.nan, inplace=True)\n",
      "C:\\Users\\PRAJWAL\\AppData\\Local\\Temp\\ipykernel_19000\\3832743817.py:11: FutureWarning: YF.download() has changed argument auto_adjust default to True\n",
      "  stock_data = yf.download(ticker, start=start, end=end, progress=False)\n"
     ]
    },
    {
     "name": "stdout",
     "output_type": "stream",
     "text": [
      "Error collecting data for INTU: ['Return']\n",
      "Collecting data for GS...\n"
     ]
    },
    {
     "name": "stderr",
     "output_type": "stream",
     "text": [
      "C:\\Users\\PRAJWAL\\AppData\\Local\\Temp\\ipykernel_19000\\3832743817.py:18: SettingWithCopyWarning: \n",
      "A value is trying to be set on a copy of a slice from a DataFrame\n",
      "\n",
      "See the caveats in the documentation: https://pandas.pydata.org/pandas-docs/stable/user_guide/indexing.html#returning-a-view-versus-a-copy\n",
      "  stock_data['Return'].replace([np.inf, -np.inf], np.nan, inplace=True)\n",
      "C:\\Users\\PRAJWAL\\AppData\\Local\\Temp\\ipykernel_19000\\3832743817.py:11: FutureWarning: YF.download() has changed argument auto_adjust default to True\n",
      "  stock_data = yf.download(ticker, start=start, end=end, progress=False)\n"
     ]
    },
    {
     "name": "stdout",
     "output_type": "stream",
     "text": [
      "Error collecting data for GS: ['Return']\n",
      "Collecting data for CAT...\n"
     ]
    },
    {
     "name": "stderr",
     "output_type": "stream",
     "text": [
      "C:\\Users\\PRAJWAL\\AppData\\Local\\Temp\\ipykernel_19000\\3832743817.py:18: SettingWithCopyWarning: \n",
      "A value is trying to be set on a copy of a slice from a DataFrame\n",
      "\n",
      "See the caveats in the documentation: https://pandas.pydata.org/pandas-docs/stable/user_guide/indexing.html#returning-a-view-versus-a-copy\n",
      "  stock_data['Return'].replace([np.inf, -np.inf], np.nan, inplace=True)\n",
      "C:\\Users\\PRAJWAL\\AppData\\Local\\Temp\\ipykernel_19000\\3832743817.py:11: FutureWarning: YF.download() has changed argument auto_adjust default to True\n",
      "  stock_data = yf.download(ticker, start=start, end=end, progress=False)\n"
     ]
    },
    {
     "name": "stdout",
     "output_type": "stream",
     "text": [
      "Error collecting data for CAT: ['Return']\n",
      "Collecting data for TXN...\n"
     ]
    },
    {
     "name": "stderr",
     "output_type": "stream",
     "text": [
      "C:\\Users\\PRAJWAL\\AppData\\Local\\Temp\\ipykernel_19000\\3832743817.py:18: SettingWithCopyWarning: \n",
      "A value is trying to be set on a copy of a slice from a DataFrame\n",
      "\n",
      "See the caveats in the documentation: https://pandas.pydata.org/pandas-docs/stable/user_guide/indexing.html#returning-a-view-versus-a-copy\n",
      "  stock_data['Return'].replace([np.inf, -np.inf], np.nan, inplace=True)\n",
      "C:\\Users\\PRAJWAL\\AppData\\Local\\Temp\\ipykernel_19000\\3832743817.py:11: FutureWarning: YF.download() has changed argument auto_adjust default to True\n",
      "  stock_data = yf.download(ticker, start=start, end=end, progress=False)\n"
     ]
    },
    {
     "name": "stdout",
     "output_type": "stream",
     "text": [
      "Error collecting data for TXN: ['Return']\n",
      "Collecting data for QCOM...\n"
     ]
    },
    {
     "name": "stderr",
     "output_type": "stream",
     "text": [
      "C:\\Users\\PRAJWAL\\AppData\\Local\\Temp\\ipykernel_19000\\3832743817.py:18: SettingWithCopyWarning: \n",
      "A value is trying to be set on a copy of a slice from a DataFrame\n",
      "\n",
      "See the caveats in the documentation: https://pandas.pydata.org/pandas-docs/stable/user_guide/indexing.html#returning-a-view-versus-a-copy\n",
      "  stock_data['Return'].replace([np.inf, -np.inf], np.nan, inplace=True)\n",
      "C:\\Users\\PRAJWAL\\AppData\\Local\\Temp\\ipykernel_19000\\3832743817.py:11: FutureWarning: YF.download() has changed argument auto_adjust default to True\n",
      "  stock_data = yf.download(ticker, start=start, end=end, progress=False)\n"
     ]
    },
    {
     "name": "stdout",
     "output_type": "stream",
     "text": [
      "Error collecting data for QCOM: ['Return']\n",
      "Collecting data for VZ...\n"
     ]
    },
    {
     "name": "stderr",
     "output_type": "stream",
     "text": [
      "C:\\Users\\PRAJWAL\\AppData\\Local\\Temp\\ipykernel_19000\\3832743817.py:18: SettingWithCopyWarning: \n",
      "A value is trying to be set on a copy of a slice from a DataFrame\n",
      "\n",
      "See the caveats in the documentation: https://pandas.pydata.org/pandas-docs/stable/user_guide/indexing.html#returning-a-view-versus-a-copy\n",
      "  stock_data['Return'].replace([np.inf, -np.inf], np.nan, inplace=True)\n",
      "C:\\Users\\PRAJWAL\\AppData\\Local\\Temp\\ipykernel_19000\\3832743817.py:11: FutureWarning: YF.download() has changed argument auto_adjust default to True\n",
      "  stock_data = yf.download(ticker, start=start, end=end, progress=False)\n"
     ]
    },
    {
     "name": "stdout",
     "output_type": "stream",
     "text": [
      "Error collecting data for VZ: ['Return']\n",
      "Collecting data for BKNG...\n"
     ]
    },
    {
     "name": "stderr",
     "output_type": "stream",
     "text": [
      "C:\\Users\\PRAJWAL\\AppData\\Local\\Temp\\ipykernel_19000\\3832743817.py:18: SettingWithCopyWarning: \n",
      "A value is trying to be set on a copy of a slice from a DataFrame\n",
      "\n",
      "See the caveats in the documentation: https://pandas.pydata.org/pandas-docs/stable/user_guide/indexing.html#returning-a-view-versus-a-copy\n",
      "  stock_data['Return'].replace([np.inf, -np.inf], np.nan, inplace=True)\n",
      "C:\\Users\\PRAJWAL\\AppData\\Local\\Temp\\ipykernel_19000\\3832743817.py:11: FutureWarning: YF.download() has changed argument auto_adjust default to True\n",
      "  stock_data = yf.download(ticker, start=start, end=end, progress=False)\n"
     ]
    },
    {
     "name": "stdout",
     "output_type": "stream",
     "text": [
      "Error collecting data for BKNG: ['Return']\n",
      "Collecting data for DHR...\n"
     ]
    },
    {
     "name": "stderr",
     "output_type": "stream",
     "text": [
      "C:\\Users\\PRAJWAL\\AppData\\Local\\Temp\\ipykernel_19000\\3832743817.py:18: SettingWithCopyWarning: \n",
      "A value is trying to be set on a copy of a slice from a DataFrame\n",
      "\n",
      "See the caveats in the documentation: https://pandas.pydata.org/pandas-docs/stable/user_guide/indexing.html#returning-a-view-versus-a-copy\n",
      "  stock_data['Return'].replace([np.inf, -np.inf], np.nan, inplace=True)\n",
      "C:\\Users\\PRAJWAL\\AppData\\Local\\Temp\\ipykernel_19000\\3832743817.py:11: FutureWarning: YF.download() has changed argument auto_adjust default to True\n",
      "  stock_data = yf.download(ticker, start=start, end=end, progress=False)\n"
     ]
    },
    {
     "name": "stdout",
     "output_type": "stream",
     "text": [
      "Error collecting data for DHR: ['Return']\n",
      "Collecting data for T...\n"
     ]
    },
    {
     "name": "stderr",
     "output_type": "stream",
     "text": [
      "C:\\Users\\PRAJWAL\\AppData\\Local\\Temp\\ipykernel_19000\\3832743817.py:18: SettingWithCopyWarning: \n",
      "A value is trying to be set on a copy of a slice from a DataFrame\n",
      "\n",
      "See the caveats in the documentation: https://pandas.pydata.org/pandas-docs/stable/user_guide/indexing.html#returning-a-view-versus-a-copy\n",
      "  stock_data['Return'].replace([np.inf, -np.inf], np.nan, inplace=True)\n",
      "C:\\Users\\PRAJWAL\\AppData\\Local\\Temp\\ipykernel_19000\\3832743817.py:11: FutureWarning: YF.download() has changed argument auto_adjust default to True\n",
      "  stock_data = yf.download(ticker, start=start, end=end, progress=False)\n"
     ]
    },
    {
     "name": "stdout",
     "output_type": "stream",
     "text": [
      "Error collecting data for T: ['Return']\n",
      "Collecting data for BLK...\n"
     ]
    },
    {
     "name": "stderr",
     "output_type": "stream",
     "text": [
      "C:\\Users\\PRAJWAL\\AppData\\Local\\Temp\\ipykernel_19000\\3832743817.py:18: SettingWithCopyWarning: \n",
      "A value is trying to be set on a copy of a slice from a DataFrame\n",
      "\n",
      "See the caveats in the documentation: https://pandas.pydata.org/pandas-docs/stable/user_guide/indexing.html#returning-a-view-versus-a-copy\n",
      "  stock_data['Return'].replace([np.inf, -np.inf], np.nan, inplace=True)\n",
      "C:\\Users\\PRAJWAL\\AppData\\Local\\Temp\\ipykernel_19000\\3832743817.py:11: FutureWarning: YF.download() has changed argument auto_adjust default to True\n",
      "  stock_data = yf.download(ticker, start=start, end=end, progress=False)\n"
     ]
    },
    {
     "name": "stdout",
     "output_type": "stream",
     "text": [
      "Error collecting data for BLK: ['Return']\n",
      "Collecting data for RTX...\n"
     ]
    },
    {
     "name": "stderr",
     "output_type": "stream",
     "text": [
      "C:\\Users\\PRAJWAL\\AppData\\Local\\Temp\\ipykernel_19000\\3832743817.py:18: SettingWithCopyWarning: \n",
      "A value is trying to be set on a copy of a slice from a DataFrame\n",
      "\n",
      "See the caveats in the documentation: https://pandas.pydata.org/pandas-docs/stable/user_guide/indexing.html#returning-a-view-versus-a-copy\n",
      "  stock_data['Return'].replace([np.inf, -np.inf], np.nan, inplace=True)\n",
      "C:\\Users\\PRAJWAL\\AppData\\Local\\Temp\\ipykernel_19000\\3832743817.py:11: FutureWarning: YF.download() has changed argument auto_adjust default to True\n",
      "  stock_data = yf.download(ticker, start=start, end=end, progress=False)\n"
     ]
    },
    {
     "name": "stdout",
     "output_type": "stream",
     "text": [
      "Error collecting data for RTX: ['Return']\n",
      "Collecting data for SPGI...\n"
     ]
    },
    {
     "name": "stderr",
     "output_type": "stream",
     "text": [
      "C:\\Users\\PRAJWAL\\AppData\\Local\\Temp\\ipykernel_19000\\3832743817.py:18: SettingWithCopyWarning: \n",
      "A value is trying to be set on a copy of a slice from a DataFrame\n",
      "\n",
      "See the caveats in the documentation: https://pandas.pydata.org/pandas-docs/stable/user_guide/indexing.html#returning-a-view-versus-a-copy\n",
      "  stock_data['Return'].replace([np.inf, -np.inf], np.nan, inplace=True)\n",
      "C:\\Users\\PRAJWAL\\AppData\\Local\\Temp\\ipykernel_19000\\3832743817.py:11: FutureWarning: YF.download() has changed argument auto_adjust default to True\n",
      "  stock_data = yf.download(ticker, start=start, end=end, progress=False)\n"
     ]
    },
    {
     "name": "stdout",
     "output_type": "stream",
     "text": [
      "Error collecting data for SPGI: ['Return']\n",
      "Collecting data for PFE...\n"
     ]
    },
    {
     "name": "stderr",
     "output_type": "stream",
     "text": [
      "C:\\Users\\PRAJWAL\\AppData\\Local\\Temp\\ipykernel_19000\\3832743817.py:18: SettingWithCopyWarning: \n",
      "A value is trying to be set on a copy of a slice from a DataFrame\n",
      "\n",
      "See the caveats in the documentation: https://pandas.pydata.org/pandas-docs/stable/user_guide/indexing.html#returning-a-view-versus-a-copy\n",
      "  stock_data['Return'].replace([np.inf, -np.inf], np.nan, inplace=True)\n",
      "C:\\Users\\PRAJWAL\\AppData\\Local\\Temp\\ipykernel_19000\\3832743817.py:11: FutureWarning: YF.download() has changed argument auto_adjust default to True\n",
      "  stock_data = yf.download(ticker, start=start, end=end, progress=False)\n"
     ]
    },
    {
     "name": "stdout",
     "output_type": "stream",
     "text": [
      "Error collecting data for PFE: ['Return']\n",
      "Collecting data for HON...\n"
     ]
    },
    {
     "name": "stderr",
     "output_type": "stream",
     "text": [
      "C:\\Users\\PRAJWAL\\AppData\\Local\\Temp\\ipykernel_19000\\3832743817.py:18: SettingWithCopyWarning: \n",
      "A value is trying to be set on a copy of a slice from a DataFrame\n",
      "\n",
      "See the caveats in the documentation: https://pandas.pydata.org/pandas-docs/stable/user_guide/indexing.html#returning-a-view-versus-a-copy\n",
      "  stock_data['Return'].replace([np.inf, -np.inf], np.nan, inplace=True)\n",
      "C:\\Users\\PRAJWAL\\AppData\\Local\\Temp\\ipykernel_19000\\3832743817.py:11: FutureWarning: YF.download() has changed argument auto_adjust default to True\n",
      "  stock_data = yf.download(ticker, start=start, end=end, progress=False)\n"
     ]
    },
    {
     "name": "stdout",
     "output_type": "stream",
     "text": [
      "Error collecting data for HON: ['Return']\n",
      "Collecting data for NEE...\n"
     ]
    },
    {
     "name": "stderr",
     "output_type": "stream",
     "text": [
      "C:\\Users\\PRAJWAL\\AppData\\Local\\Temp\\ipykernel_19000\\3832743817.py:18: SettingWithCopyWarning: \n",
      "A value is trying to be set on a copy of a slice from a DataFrame\n",
      "\n",
      "See the caveats in the documentation: https://pandas.pydata.org/pandas-docs/stable/user_guide/indexing.html#returning-a-view-versus-a-copy\n",
      "  stock_data['Return'].replace([np.inf, -np.inf], np.nan, inplace=True)\n",
      "C:\\Users\\PRAJWAL\\AppData\\Local\\Temp\\ipykernel_19000\\3832743817.py:11: FutureWarning: YF.download() has changed argument auto_adjust default to True\n",
      "  stock_data = yf.download(ticker, start=start, end=end, progress=False)\n"
     ]
    },
    {
     "name": "stdout",
     "output_type": "stream",
     "text": [
      "Error collecting data for NEE: ['Return']\n",
      "Collecting data for CMCSA...\n"
     ]
    },
    {
     "name": "stderr",
     "output_type": "stream",
     "text": [
      "C:\\Users\\PRAJWAL\\AppData\\Local\\Temp\\ipykernel_19000\\3832743817.py:18: SettingWithCopyWarning: \n",
      "A value is trying to be set on a copy of a slice from a DataFrame\n",
      "\n",
      "See the caveats in the documentation: https://pandas.pydata.org/pandas-docs/stable/user_guide/indexing.html#returning-a-view-versus-a-copy\n",
      "  stock_data['Return'].replace([np.inf, -np.inf], np.nan, inplace=True)\n",
      "C:\\Users\\PRAJWAL\\AppData\\Local\\Temp\\ipykernel_19000\\3832743817.py:11: FutureWarning: YF.download() has changed argument auto_adjust default to True\n",
      "  stock_data = yf.download(ticker, start=start, end=end, progress=False)\n"
     ]
    },
    {
     "name": "stdout",
     "output_type": "stream",
     "text": [
      "Error collecting data for CMCSA: ['Return']\n",
      "Collecting data for ANET...\n"
     ]
    },
    {
     "name": "stderr",
     "output_type": "stream",
     "text": [
      "C:\\Users\\PRAJWAL\\AppData\\Local\\Temp\\ipykernel_19000\\3832743817.py:18: SettingWithCopyWarning: \n",
      "A value is trying to be set on a copy of a slice from a DataFrame\n",
      "\n",
      "See the caveats in the documentation: https://pandas.pydata.org/pandas-docs/stable/user_guide/indexing.html#returning-a-view-versus-a-copy\n",
      "  stock_data['Return'].replace([np.inf, -np.inf], np.nan, inplace=True)\n",
      "C:\\Users\\PRAJWAL\\AppData\\Local\\Temp\\ipykernel_19000\\3832743817.py:11: FutureWarning: YF.download() has changed argument auto_adjust default to True\n",
      "  stock_data = yf.download(ticker, start=start, end=end, progress=False)\n"
     ]
    },
    {
     "name": "stdout",
     "output_type": "stream",
     "text": [
      "Error collecting data for ANET: ['Return']\n",
      "Collecting data for AMGN...\n"
     ]
    },
    {
     "name": "stderr",
     "output_type": "stream",
     "text": [
      "C:\\Users\\PRAJWAL\\AppData\\Local\\Temp\\ipykernel_19000\\3832743817.py:18: SettingWithCopyWarning: \n",
      "A value is trying to be set on a copy of a slice from a DataFrame\n",
      "\n",
      "See the caveats in the documentation: https://pandas.pydata.org/pandas-docs/stable/user_guide/indexing.html#returning-a-view-versus-a-copy\n",
      "  stock_data['Return'].replace([np.inf, -np.inf], np.nan, inplace=True)\n",
      "C:\\Users\\PRAJWAL\\AppData\\Local\\Temp\\ipykernel_19000\\3832743817.py:11: FutureWarning: YF.download() has changed argument auto_adjust default to True\n",
      "  stock_data = yf.download(ticker, start=start, end=end, progress=False)\n"
     ]
    },
    {
     "name": "stdout",
     "output_type": "stream",
     "text": [
      "Error collecting data for AMGN: ['Return']\n",
      "Collecting data for PGR...\n"
     ]
    },
    {
     "name": "stderr",
     "output_type": "stream",
     "text": [
      "C:\\Users\\PRAJWAL\\AppData\\Local\\Temp\\ipykernel_19000\\3832743817.py:18: SettingWithCopyWarning: \n",
      "A value is trying to be set on a copy of a slice from a DataFrame\n",
      "\n",
      "See the caveats in the documentation: https://pandas.pydata.org/pandas-docs/stable/user_guide/indexing.html#returning-a-view-versus-a-copy\n",
      "  stock_data['Return'].replace([np.inf, -np.inf], np.nan, inplace=True)\n",
      "C:\\Users\\PRAJWAL\\AppData\\Local\\Temp\\ipykernel_19000\\3832743817.py:11: FutureWarning: YF.download() has changed argument auto_adjust default to True\n",
      "  stock_data = yf.download(ticker, start=start, end=end, progress=False)\n"
     ]
    },
    {
     "name": "stdout",
     "output_type": "stream",
     "text": [
      "Error collecting data for PGR: ['Return']\n",
      "Collecting data for LOW...\n"
     ]
    },
    {
     "name": "stderr",
     "output_type": "stream",
     "text": [
      "C:\\Users\\PRAJWAL\\AppData\\Local\\Temp\\ipykernel_19000\\3832743817.py:18: SettingWithCopyWarning: \n",
      "A value is trying to be set on a copy of a slice from a DataFrame\n",
      "\n",
      "See the caveats in the documentation: https://pandas.pydata.org/pandas-docs/stable/user_guide/indexing.html#returning-a-view-versus-a-copy\n",
      "  stock_data['Return'].replace([np.inf, -np.inf], np.nan, inplace=True)\n",
      "C:\\Users\\PRAJWAL\\AppData\\Local\\Temp\\ipykernel_19000\\3832743817.py:11: FutureWarning: YF.download() has changed argument auto_adjust default to True\n",
      "  stock_data = yf.download(ticker, start=start, end=end, progress=False)\n"
     ]
    },
    {
     "name": "stdout",
     "output_type": "stream",
     "text": [
      "Error collecting data for LOW: ['Return']\n",
      "Collecting data for SYK...\n"
     ]
    },
    {
     "name": "stderr",
     "output_type": "stream",
     "text": [
      "C:\\Users\\PRAJWAL\\AppData\\Local\\Temp\\ipykernel_19000\\3832743817.py:18: SettingWithCopyWarning: \n",
      "A value is trying to be set on a copy of a slice from a DataFrame\n",
      "\n",
      "See the caveats in the documentation: https://pandas.pydata.org/pandas-docs/stable/user_guide/indexing.html#returning-a-view-versus-a-copy\n",
      "  stock_data['Return'].replace([np.inf, -np.inf], np.nan, inplace=True)\n",
      "C:\\Users\\PRAJWAL\\AppData\\Local\\Temp\\ipykernel_19000\\3832743817.py:11: FutureWarning: YF.download() has changed argument auto_adjust default to True\n",
      "  stock_data = yf.download(ticker, start=start, end=end, progress=False)\n"
     ]
    },
    {
     "name": "stdout",
     "output_type": "stream",
     "text": [
      "Error collecting data for SYK: ['Return']\n",
      "Collecting data for UNP...\n"
     ]
    },
    {
     "name": "stderr",
     "output_type": "stream",
     "text": [
      "C:\\Users\\PRAJWAL\\AppData\\Local\\Temp\\ipykernel_19000\\3832743817.py:18: SettingWithCopyWarning: \n",
      "A value is trying to be set on a copy of a slice from a DataFrame\n",
      "\n",
      "See the caveats in the documentation: https://pandas.pydata.org/pandas-docs/stable/user_guide/indexing.html#returning-a-view-versus-a-copy\n",
      "  stock_data['Return'].replace([np.inf, -np.inf], np.nan, inplace=True)\n",
      "C:\\Users\\PRAJWAL\\AppData\\Local\\Temp\\ipykernel_19000\\3832743817.py:11: FutureWarning: YF.download() has changed argument auto_adjust default to True\n",
      "  stock_data = yf.download(ticker, start=start, end=end, progress=False)\n"
     ]
    },
    {
     "name": "stdout",
     "output_type": "stream",
     "text": [
      "Error collecting data for UNP: ['Return']\n",
      "Collecting data for TJX...\n"
     ]
    },
    {
     "name": "stderr",
     "output_type": "stream",
     "text": [
      "C:\\Users\\PRAJWAL\\AppData\\Local\\Temp\\ipykernel_19000\\3832743817.py:18: SettingWithCopyWarning: \n",
      "A value is trying to be set on a copy of a slice from a DataFrame\n",
      "\n",
      "See the caveats in the documentation: https://pandas.pydata.org/pandas-docs/stable/user_guide/indexing.html#returning-a-view-versus-a-copy\n",
      "  stock_data['Return'].replace([np.inf, -np.inf], np.nan, inplace=True)\n",
      "C:\\Users\\PRAJWAL\\AppData\\Local\\Temp\\ipykernel_19000\\3832743817.py:11: FutureWarning: YF.download() has changed argument auto_adjust default to True\n",
      "  stock_data = yf.download(ticker, start=start, end=end, progress=False)\n"
     ]
    },
    {
     "name": "stdout",
     "output_type": "stream",
     "text": [
      "Error collecting data for TJX: ['Return']\n",
      "Collecting data for KKR...\n"
     ]
    },
    {
     "name": "stderr",
     "output_type": "stream",
     "text": [
      "C:\\Users\\PRAJWAL\\AppData\\Local\\Temp\\ipykernel_19000\\3832743817.py:18: SettingWithCopyWarning: \n",
      "A value is trying to be set on a copy of a slice from a DataFrame\n",
      "\n",
      "See the caveats in the documentation: https://pandas.pydata.org/pandas-docs/stable/user_guide/indexing.html#returning-a-view-versus-a-copy\n",
      "  stock_data['Return'].replace([np.inf, -np.inf], np.nan, inplace=True)\n",
      "C:\\Users\\PRAJWAL\\AppData\\Local\\Temp\\ipykernel_19000\\3832743817.py:11: FutureWarning: YF.download() has changed argument auto_adjust default to True\n",
      "  stock_data = yf.download(ticker, start=start, end=end, progress=False)\n"
     ]
    },
    {
     "name": "stdout",
     "output_type": "stream",
     "text": [
      "Error collecting data for KKR: ['Return']\n",
      "Collecting data for SCHW...\n"
     ]
    },
    {
     "name": "stderr",
     "output_type": "stream",
     "text": [
      "C:\\Users\\PRAJWAL\\AppData\\Local\\Temp\\ipykernel_19000\\3832743817.py:18: SettingWithCopyWarning: \n",
      "A value is trying to be set on a copy of a slice from a DataFrame\n",
      "\n",
      "See the caveats in the documentation: https://pandas.pydata.org/pandas-docs/stable/user_guide/indexing.html#returning-a-view-versus-a-copy\n",
      "  stock_data['Return'].replace([np.inf, -np.inf], np.nan, inplace=True)\n",
      "C:\\Users\\PRAJWAL\\AppData\\Local\\Temp\\ipykernel_19000\\3832743817.py:11: FutureWarning: YF.download() has changed argument auto_adjust default to True\n",
      "  stock_data = yf.download(ticker, start=start, end=end, progress=False)\n"
     ]
    },
    {
     "name": "stdout",
     "output_type": "stream",
     "text": [
      "Error collecting data for SCHW: ['Return']\n",
      "Collecting data for ETN...\n"
     ]
    },
    {
     "name": "stderr",
     "output_type": "stream",
     "text": [
      "C:\\Users\\PRAJWAL\\AppData\\Local\\Temp\\ipykernel_19000\\3832743817.py:18: SettingWithCopyWarning: \n",
      "A value is trying to be set on a copy of a slice from a DataFrame\n",
      "\n",
      "See the caveats in the documentation: https://pandas.pydata.org/pandas-docs/stable/user_guide/indexing.html#returning-a-view-versus-a-copy\n",
      "  stock_data['Return'].replace([np.inf, -np.inf], np.nan, inplace=True)\n",
      "C:\\Users\\PRAJWAL\\AppData\\Local\\Temp\\ipykernel_19000\\3832743817.py:11: FutureWarning: YF.download() has changed argument auto_adjust default to True\n",
      "  stock_data = yf.download(ticker, start=start, end=end, progress=False)\n"
     ]
    },
    {
     "name": "stdout",
     "output_type": "stream",
     "text": [
      "Error collecting data for ETN: ['Return']\n",
      "Collecting data for AMAT...\n"
     ]
    },
    {
     "name": "stderr",
     "output_type": "stream",
     "text": [
      "C:\\Users\\PRAJWAL\\AppData\\Local\\Temp\\ipykernel_19000\\3832743817.py:18: SettingWithCopyWarning: \n",
      "A value is trying to be set on a copy of a slice from a DataFrame\n",
      "\n",
      "See the caveats in the documentation: https://pandas.pydata.org/pandas-docs/stable/user_guide/indexing.html#returning-a-view-versus-a-copy\n",
      "  stock_data['Return'].replace([np.inf, -np.inf], np.nan, inplace=True)\n",
      "C:\\Users\\PRAJWAL\\AppData\\Local\\Temp\\ipykernel_19000\\3832743817.py:11: FutureWarning: YF.download() has changed argument auto_adjust default to True\n",
      "  stock_data = yf.download(ticker, start=start, end=end, progress=False)\n"
     ]
    },
    {
     "name": "stdout",
     "output_type": "stream",
     "text": [
      "Error collecting data for AMAT: ['Return']\n",
      "Collecting data for BA...\n"
     ]
    },
    {
     "name": "stderr",
     "output_type": "stream",
     "text": [
      "C:\\Users\\PRAJWAL\\AppData\\Local\\Temp\\ipykernel_19000\\3832743817.py:18: SettingWithCopyWarning: \n",
      "A value is trying to be set on a copy of a slice from a DataFrame\n",
      "\n",
      "See the caveats in the documentation: https://pandas.pydata.org/pandas-docs/stable/user_guide/indexing.html#returning-a-view-versus-a-copy\n",
      "  stock_data['Return'].replace([np.inf, -np.inf], np.nan, inplace=True)\n",
      "C:\\Users\\PRAJWAL\\AppData\\Local\\Temp\\ipykernel_19000\\3832743817.py:11: FutureWarning: YF.download() has changed argument auto_adjust default to True\n",
      "  stock_data = yf.download(ticker, start=start, end=end, progress=False)\n"
     ]
    },
    {
     "name": "stdout",
     "output_type": "stream",
     "text": [
      "Error collecting data for BA: ['Return']\n",
      "Collecting data for BSX...\n"
     ]
    },
    {
     "name": "stderr",
     "output_type": "stream",
     "text": [
      "C:\\Users\\PRAJWAL\\AppData\\Local\\Temp\\ipykernel_19000\\3832743817.py:18: SettingWithCopyWarning: \n",
      "A value is trying to be set on a copy of a slice from a DataFrame\n",
      "\n",
      "See the caveats in the documentation: https://pandas.pydata.org/pandas-docs/stable/user_guide/indexing.html#returning-a-view-versus-a-copy\n",
      "  stock_data['Return'].replace([np.inf, -np.inf], np.nan, inplace=True)\n",
      "C:\\Users\\PRAJWAL\\AppData\\Local\\Temp\\ipykernel_19000\\3832743817.py:11: FutureWarning: YF.download() has changed argument auto_adjust default to True\n",
      "  stock_data = yf.download(ticker, start=start, end=end, progress=False)\n"
     ]
    },
    {
     "name": "stdout",
     "output_type": "stream",
     "text": [
      "Error collecting data for BSX: ['Return']\n",
      "Collecting data for C...\n"
     ]
    },
    {
     "name": "stderr",
     "output_type": "stream",
     "text": [
      "C:\\Users\\PRAJWAL\\AppData\\Local\\Temp\\ipykernel_19000\\3832743817.py:18: SettingWithCopyWarning: \n",
      "A value is trying to be set on a copy of a slice from a DataFrame\n",
      "\n",
      "See the caveats in the documentation: https://pandas.pydata.org/pandas-docs/stable/user_guide/indexing.html#returning-a-view-versus-a-copy\n",
      "  stock_data['Return'].replace([np.inf, -np.inf], np.nan, inplace=True)\n",
      "C:\\Users\\PRAJWAL\\AppData\\Local\\Temp\\ipykernel_19000\\3832743817.py:11: FutureWarning: YF.download() has changed argument auto_adjust default to True\n",
      "  stock_data = yf.download(ticker, start=start, end=end, progress=False)\n"
     ]
    },
    {
     "name": "stdout",
     "output_type": "stream",
     "text": [
      "Error collecting data for C: ['Return']\n",
      "Collecting data for UBER...\n"
     ]
    },
    {
     "name": "stderr",
     "output_type": "stream",
     "text": [
      "C:\\Users\\PRAJWAL\\AppData\\Local\\Temp\\ipykernel_19000\\3832743817.py:18: SettingWithCopyWarning: \n",
      "A value is trying to be set on a copy of a slice from a DataFrame\n",
      "\n",
      "See the caveats in the documentation: https://pandas.pydata.org/pandas-docs/stable/user_guide/indexing.html#returning-a-view-versus-a-copy\n",
      "  stock_data['Return'].replace([np.inf, -np.inf], np.nan, inplace=True)\n",
      "C:\\Users\\PRAJWAL\\AppData\\Local\\Temp\\ipykernel_19000\\3832743817.py:11: FutureWarning: YF.download() has changed argument auto_adjust default to True\n",
      "  stock_data = yf.download(ticker, start=start, end=end, progress=False)\n"
     ]
    },
    {
     "name": "stdout",
     "output_type": "stream",
     "text": [
      "Error collecting data for UBER: ['Return']\n",
      "Collecting data for COP...\n"
     ]
    },
    {
     "name": "stderr",
     "output_type": "stream",
     "text": [
      "C:\\Users\\PRAJWAL\\AppData\\Local\\Temp\\ipykernel_19000\\3832743817.py:18: SettingWithCopyWarning: \n",
      "A value is trying to be set on a copy of a slice from a DataFrame\n",
      "\n",
      "See the caveats in the documentation: https://pandas.pydata.org/pandas-docs/stable/user_guide/indexing.html#returning-a-view-versus-a-copy\n",
      "  stock_data['Return'].replace([np.inf, -np.inf], np.nan, inplace=True)\n",
      "C:\\Users\\PRAJWAL\\AppData\\Local\\Temp\\ipykernel_19000\\3832743817.py:11: FutureWarning: YF.download() has changed argument auto_adjust default to True\n",
      "  stock_data = yf.download(ticker, start=start, end=end, progress=False)\n"
     ]
    },
    {
     "name": "stdout",
     "output_type": "stream",
     "text": [
      "Error collecting data for COP: ['Return']\n",
      "Collecting data for PANW...\n"
     ]
    },
    {
     "name": "stderr",
     "output_type": "stream",
     "text": [
      "C:\\Users\\PRAJWAL\\AppData\\Local\\Temp\\ipykernel_19000\\3832743817.py:18: SettingWithCopyWarning: \n",
      "A value is trying to be set on a copy of a slice from a DataFrame\n",
      "\n",
      "See the caveats in the documentation: https://pandas.pydata.org/pandas-docs/stable/user_guide/indexing.html#returning-a-view-versus-a-copy\n",
      "  stock_data['Return'].replace([np.inf, -np.inf], np.nan, inplace=True)\n",
      "C:\\Users\\PRAJWAL\\AppData\\Local\\Temp\\ipykernel_19000\\3832743817.py:11: FutureWarning: YF.download() has changed argument auto_adjust default to True\n",
      "  stock_data = yf.download(ticker, start=start, end=end, progress=False)\n"
     ]
    },
    {
     "name": "stdout",
     "output_type": "stream",
     "text": [
      "Error collecting data for PANW: ['Return']\n",
      "Collecting data for ADP...\n"
     ]
    },
    {
     "name": "stderr",
     "output_type": "stream",
     "text": [
      "C:\\Users\\PRAJWAL\\AppData\\Local\\Temp\\ipykernel_19000\\3832743817.py:18: SettingWithCopyWarning: \n",
      "A value is trying to be set on a copy of a slice from a DataFrame\n",
      "\n",
      "See the caveats in the documentation: https://pandas.pydata.org/pandas-docs/stable/user_guide/indexing.html#returning-a-view-versus-a-copy\n",
      "  stock_data['Return'].replace([np.inf, -np.inf], np.nan, inplace=True)\n",
      "C:\\Users\\PRAJWAL\\AppData\\Local\\Temp\\ipykernel_19000\\3832743817.py:11: FutureWarning: YF.download() has changed argument auto_adjust default to True\n",
      "  stock_data = yf.download(ticker, start=start, end=end, progress=False)\n"
     ]
    },
    {
     "name": "stdout",
     "output_type": "stream",
     "text": [
      "Error collecting data for ADP: ['Return']\n",
      "Collecting data for DE...\n"
     ]
    },
    {
     "name": "stderr",
     "output_type": "stream",
     "text": [
      "C:\\Users\\PRAJWAL\\AppData\\Local\\Temp\\ipykernel_19000\\3832743817.py:18: SettingWithCopyWarning: \n",
      "A value is trying to be set on a copy of a slice from a DataFrame\n",
      "\n",
      "See the caveats in the documentation: https://pandas.pydata.org/pandas-docs/stable/user_guide/indexing.html#returning-a-view-versus-a-copy\n",
      "  stock_data['Return'].replace([np.inf, -np.inf], np.nan, inplace=True)\n",
      "C:\\Users\\PRAJWAL\\AppData\\Local\\Temp\\ipykernel_19000\\3832743817.py:11: FutureWarning: YF.download() has changed argument auto_adjust default to True\n",
      "  stock_data = yf.download(ticker, start=start, end=end, progress=False)\n"
     ]
    },
    {
     "name": "stdout",
     "output_type": "stream",
     "text": [
      "Error collecting data for DE: ['Return']\n",
      "Collecting data for FI...\n"
     ]
    },
    {
     "name": "stderr",
     "output_type": "stream",
     "text": [
      "C:\\Users\\PRAJWAL\\AppData\\Local\\Temp\\ipykernel_19000\\3832743817.py:18: SettingWithCopyWarning: \n",
      "A value is trying to be set on a copy of a slice from a DataFrame\n",
      "\n",
      "See the caveats in the documentation: https://pandas.pydata.org/pandas-docs/stable/user_guide/indexing.html#returning-a-view-versus-a-copy\n",
      "  stock_data['Return'].replace([np.inf, -np.inf], np.nan, inplace=True)\n",
      "C:\\Users\\PRAJWAL\\AppData\\Local\\Temp\\ipykernel_19000\\3832743817.py:11: FutureWarning: YF.download() has changed argument auto_adjust default to True\n",
      "  stock_data = yf.download(ticker, start=start, end=end, progress=False)\n"
     ]
    },
    {
     "name": "stdout",
     "output_type": "stream",
     "text": [
      "Error collecting data for FI: ['Return']\n",
      "Collecting data for BMY...\n"
     ]
    },
    {
     "name": "stderr",
     "output_type": "stream",
     "text": [
      "C:\\Users\\PRAJWAL\\AppData\\Local\\Temp\\ipykernel_19000\\3832743817.py:18: SettingWithCopyWarning: \n",
      "A value is trying to be set on a copy of a slice from a DataFrame\n",
      "\n",
      "See the caveats in the documentation: https://pandas.pydata.org/pandas-docs/stable/user_guide/indexing.html#returning-a-view-versus-a-copy\n",
      "  stock_data['Return'].replace([np.inf, -np.inf], np.nan, inplace=True)\n",
      "C:\\Users\\PRAJWAL\\AppData\\Local\\Temp\\ipykernel_19000\\3832743817.py:11: FutureWarning: YF.download() has changed argument auto_adjust default to True\n",
      "  stock_data = yf.download(ticker, start=start, end=end, progress=False)\n"
     ]
    },
    {
     "name": "stdout",
     "output_type": "stream",
     "text": [
      "Error collecting data for BMY: ['Return']\n",
      "Collecting data for LMT...\n"
     ]
    },
    {
     "name": "stderr",
     "output_type": "stream",
     "text": [
      "C:\\Users\\PRAJWAL\\AppData\\Local\\Temp\\ipykernel_19000\\3832743817.py:18: SettingWithCopyWarning: \n",
      "A value is trying to be set on a copy of a slice from a DataFrame\n",
      "\n",
      "See the caveats in the documentation: https://pandas.pydata.org/pandas-docs/stable/user_guide/indexing.html#returning-a-view-versus-a-copy\n",
      "  stock_data['Return'].replace([np.inf, -np.inf], np.nan, inplace=True)\n",
      "C:\\Users\\PRAJWAL\\AppData\\Local\\Temp\\ipykernel_19000\\3832743817.py:11: FutureWarning: YF.download() has changed argument auto_adjust default to True\n",
      "  stock_data = yf.download(ticker, start=start, end=end, progress=False)\n"
     ]
    },
    {
     "name": "stdout",
     "output_type": "stream",
     "text": [
      "Error collecting data for LMT: ['Return']\n",
      "Collecting data for GILD...\n"
     ]
    },
    {
     "name": "stderr",
     "output_type": "stream",
     "text": [
      "C:\\Users\\PRAJWAL\\AppData\\Local\\Temp\\ipykernel_19000\\3832743817.py:18: SettingWithCopyWarning: \n",
      "A value is trying to be set on a copy of a slice from a DataFrame\n",
      "\n",
      "See the caveats in the documentation: https://pandas.pydata.org/pandas-docs/stable/user_guide/indexing.html#returning-a-view-versus-a-copy\n",
      "  stock_data['Return'].replace([np.inf, -np.inf], np.nan, inplace=True)\n",
      "C:\\Users\\PRAJWAL\\AppData\\Local\\Temp\\ipykernel_19000\\3832743817.py:11: FutureWarning: YF.download() has changed argument auto_adjust default to True\n",
      "  stock_data = yf.download(ticker, start=start, end=end, progress=False)\n"
     ]
    },
    {
     "name": "stdout",
     "output_type": "stream",
     "text": [
      "Error collecting data for GILD: ['Return']\n",
      "Collecting data for NKE...\n"
     ]
    },
    {
     "name": "stderr",
     "output_type": "stream",
     "text": [
      "C:\\Users\\PRAJWAL\\AppData\\Local\\Temp\\ipykernel_19000\\3832743817.py:18: SettingWithCopyWarning: \n",
      "A value is trying to be set on a copy of a slice from a DataFrame\n",
      "\n",
      "See the caveats in the documentation: https://pandas.pydata.org/pandas-docs/stable/user_guide/indexing.html#returning-a-view-versus-a-copy\n",
      "  stock_data['Return'].replace([np.inf, -np.inf], np.nan, inplace=True)\n",
      "C:\\Users\\PRAJWAL\\AppData\\Local\\Temp\\ipykernel_19000\\3832743817.py:11: FutureWarning: YF.download() has changed argument auto_adjust default to True\n",
      "  stock_data = yf.download(ticker, start=start, end=end, progress=False)\n"
     ]
    },
    {
     "name": "stdout",
     "output_type": "stream",
     "text": [
      "Error collecting data for NKE: ['Return']\n",
      "Collecting data for CB...\n"
     ]
    },
    {
     "name": "stderr",
     "output_type": "stream",
     "text": [
      "C:\\Users\\PRAJWAL\\AppData\\Local\\Temp\\ipykernel_19000\\3832743817.py:18: SettingWithCopyWarning: \n",
      "A value is trying to be set on a copy of a slice from a DataFrame\n",
      "\n",
      "See the caveats in the documentation: https://pandas.pydata.org/pandas-docs/stable/user_guide/indexing.html#returning-a-view-versus-a-copy\n",
      "  stock_data['Return'].replace([np.inf, -np.inf], np.nan, inplace=True)\n",
      "C:\\Users\\PRAJWAL\\AppData\\Local\\Temp\\ipykernel_19000\\3832743817.py:11: FutureWarning: YF.download() has changed argument auto_adjust default to True\n",
      "  stock_data = yf.download(ticker, start=start, end=end, progress=False)\n"
     ]
    },
    {
     "name": "stdout",
     "output_type": "stream",
     "text": [
      "Error collecting data for CB: ['Return']\n",
      "Collecting data for UPS...\n"
     ]
    },
    {
     "name": "stderr",
     "output_type": "stream",
     "text": [
      "C:\\Users\\PRAJWAL\\AppData\\Local\\Temp\\ipykernel_19000\\3832743817.py:18: SettingWithCopyWarning: \n",
      "A value is trying to be set on a copy of a slice from a DataFrame\n",
      "\n",
      "See the caveats in the documentation: https://pandas.pydata.org/pandas-docs/stable/user_guide/indexing.html#returning-a-view-versus-a-copy\n",
      "  stock_data['Return'].replace([np.inf, -np.inf], np.nan, inplace=True)\n",
      "C:\\Users\\PRAJWAL\\AppData\\Local\\Temp\\ipykernel_19000\\3832743817.py:11: FutureWarning: YF.download() has changed argument auto_adjust default to True\n",
      "  stock_data = yf.download(ticker, start=start, end=end, progress=False)\n"
     ]
    },
    {
     "name": "stdout",
     "output_type": "stream",
     "text": [
      "Error collecting data for UPS: ['Return']\n",
      "Collecting data for ADI...\n"
     ]
    },
    {
     "name": "stderr",
     "output_type": "stream",
     "text": [
      "C:\\Users\\PRAJWAL\\AppData\\Local\\Temp\\ipykernel_19000\\3832743817.py:18: SettingWithCopyWarning: \n",
      "A value is trying to be set on a copy of a slice from a DataFrame\n",
      "\n",
      "See the caveats in the documentation: https://pandas.pydata.org/pandas-docs/stable/user_guide/indexing.html#returning-a-view-versus-a-copy\n",
      "  stock_data['Return'].replace([np.inf, -np.inf], np.nan, inplace=True)\n",
      "C:\\Users\\PRAJWAL\\AppData\\Local\\Temp\\ipykernel_19000\\3832743817.py:11: FutureWarning: YF.download() has changed argument auto_adjust default to True\n",
      "  stock_data = yf.download(ticker, start=start, end=end, progress=False)\n"
     ]
    },
    {
     "name": "stdout",
     "output_type": "stream",
     "text": [
      "Error collecting data for ADI: ['Return']\n",
      "Collecting data for MMC...\n"
     ]
    },
    {
     "name": "stderr",
     "output_type": "stream",
     "text": [
      "C:\\Users\\PRAJWAL\\AppData\\Local\\Temp\\ipykernel_19000\\3832743817.py:18: SettingWithCopyWarning: \n",
      "A value is trying to be set on a copy of a slice from a DataFrame\n",
      "\n",
      "See the caveats in the documentation: https://pandas.pydata.org/pandas-docs/stable/user_guide/indexing.html#returning-a-view-versus-a-copy\n",
      "  stock_data['Return'].replace([np.inf, -np.inf], np.nan, inplace=True)\n",
      "C:\\Users\\PRAJWAL\\AppData\\Local\\Temp\\ipykernel_19000\\3832743817.py:11: FutureWarning: YF.download() has changed argument auto_adjust default to True\n",
      "  stock_data = yf.download(ticker, start=start, end=end, progress=False)\n"
     ]
    },
    {
     "name": "stdout",
     "output_type": "stream",
     "text": [
      "Error collecting data for MMC: ['Return']\n",
      "Collecting data for MDT...\n"
     ]
    },
    {
     "name": "stderr",
     "output_type": "stream",
     "text": [
      "C:\\Users\\PRAJWAL\\AppData\\Local\\Temp\\ipykernel_19000\\3832743817.py:18: SettingWithCopyWarning: \n",
      "A value is trying to be set on a copy of a slice from a DataFrame\n",
      "\n",
      "See the caveats in the documentation: https://pandas.pydata.org/pandas-docs/stable/user_guide/indexing.html#returning-a-view-versus-a-copy\n",
      "  stock_data['Return'].replace([np.inf, -np.inf], np.nan, inplace=True)\n",
      "C:\\Users\\PRAJWAL\\AppData\\Local\\Temp\\ipykernel_19000\\3832743817.py:11: FutureWarning: YF.download() has changed argument auto_adjust default to True\n",
      "  stock_data = yf.download(ticker, start=start, end=end, progress=False)\n"
     ]
    },
    {
     "name": "stdout",
     "output_type": "stream",
     "text": [
      "Error collecting data for MDT: ['Return']\n",
      "Collecting data for VRTX...\n"
     ]
    },
    {
     "name": "stderr",
     "output_type": "stream",
     "text": [
      "C:\\Users\\PRAJWAL\\AppData\\Local\\Temp\\ipykernel_19000\\3832743817.py:18: SettingWithCopyWarning: \n",
      "A value is trying to be set on a copy of a slice from a DataFrame\n",
      "\n",
      "See the caveats in the documentation: https://pandas.pydata.org/pandas-docs/stable/user_guide/indexing.html#returning-a-view-versus-a-copy\n",
      "  stock_data['Return'].replace([np.inf, -np.inf], np.nan, inplace=True)\n",
      "C:\\Users\\PRAJWAL\\AppData\\Local\\Temp\\ipykernel_19000\\3832743817.py:11: FutureWarning: YF.download() has changed argument auto_adjust default to True\n",
      "  stock_data = yf.download(ticker, start=start, end=end, progress=False)\n"
     ]
    },
    {
     "name": "stdout",
     "output_type": "stream",
     "text": [
      "Error collecting data for VRTX: ['Return']\n",
      "Collecting data for MU...\n"
     ]
    },
    {
     "name": "stderr",
     "output_type": "stream",
     "text": [
      "C:\\Users\\PRAJWAL\\AppData\\Local\\Temp\\ipykernel_19000\\3832743817.py:18: SettingWithCopyWarning: \n",
      "A value is trying to be set on a copy of a slice from a DataFrame\n",
      "\n",
      "See the caveats in the documentation: https://pandas.pydata.org/pandas-docs/stable/user_guide/indexing.html#returning-a-view-versus-a-copy\n",
      "  stock_data['Return'].replace([np.inf, -np.inf], np.nan, inplace=True)\n",
      "C:\\Users\\PRAJWAL\\AppData\\Local\\Temp\\ipykernel_19000\\3832743817.py:11: FutureWarning: YF.download() has changed argument auto_adjust default to True\n",
      "  stock_data = yf.download(ticker, start=start, end=end, progress=False)\n"
     ]
    },
    {
     "name": "stdout",
     "output_type": "stream",
     "text": [
      "Error collecting data for MU: ['Return']\n",
      "Collecting data for SBUX...\n"
     ]
    },
    {
     "name": "stderr",
     "output_type": "stream",
     "text": [
      "C:\\Users\\PRAJWAL\\AppData\\Local\\Temp\\ipykernel_19000\\3832743817.py:18: SettingWithCopyWarning: \n",
      "A value is trying to be set on a copy of a slice from a DataFrame\n",
      "\n",
      "See the caveats in the documentation: https://pandas.pydata.org/pandas-docs/stable/user_guide/indexing.html#returning-a-view-versus-a-copy\n",
      "  stock_data['Return'].replace([np.inf, -np.inf], np.nan, inplace=True)\n",
      "C:\\Users\\PRAJWAL\\AppData\\Local\\Temp\\ipykernel_19000\\3832743817.py:11: FutureWarning: YF.download() has changed argument auto_adjust default to True\n",
      "  stock_data = yf.download(ticker, start=start, end=end, progress=False)\n"
     ]
    },
    {
     "name": "stdout",
     "output_type": "stream",
     "text": [
      "Error collecting data for SBUX: ['Return']\n",
      "Collecting data for PLD...\n"
     ]
    },
    {
     "name": "stderr",
     "output_type": "stream",
     "text": [
      "C:\\Users\\PRAJWAL\\AppData\\Local\\Temp\\ipykernel_19000\\3832743817.py:18: SettingWithCopyWarning: \n",
      "A value is trying to be set on a copy of a slice from a DataFrame\n",
      "\n",
      "See the caveats in the documentation: https://pandas.pydata.org/pandas-docs/stable/user_guide/indexing.html#returning-a-view-versus-a-copy\n",
      "  stock_data['Return'].replace([np.inf, -np.inf], np.nan, inplace=True)\n",
      "C:\\Users\\PRAJWAL\\AppData\\Local\\Temp\\ipykernel_19000\\3832743817.py:11: FutureWarning: YF.download() has changed argument auto_adjust default to True\n",
      "  stock_data = yf.download(ticker, start=start, end=end, progress=False)\n"
     ]
    },
    {
     "name": "stdout",
     "output_type": "stream",
     "text": [
      "Error collecting data for PLD: ['Return']\n",
      "Collecting data for GEV...\n"
     ]
    },
    {
     "name": "stderr",
     "output_type": "stream",
     "text": [
      "\n",
      "1 Failed download:\n",
      "['GEV']: YFPricesMissingError('possibly delisted; no price data found  (1d 2010-01-01 -> 2020-12-31) (Yahoo error = \"Data doesn\\'t exist for startDate = 1262322000, endDate = 1609390800\")')\n",
      "C:\\Users\\PRAJWAL\\AppData\\Local\\Temp\\ipykernel_19000\\3832743817.py:11: FutureWarning: YF.download() has changed argument auto_adjust default to True\n",
      "  stock_data = yf.download(ticker, start=start, end=end, progress=False)\n"
     ]
    },
    {
     "name": "stdout",
     "output_type": "stream",
     "text": [
      "No OHLCV data found for GEV from yfinance. Skipping.\n",
      "Collecting data for LRCX...\n"
     ]
    },
    {
     "name": "stderr",
     "output_type": "stream",
     "text": [
      "C:\\Users\\PRAJWAL\\AppData\\Local\\Temp\\ipykernel_19000\\3832743817.py:18: SettingWithCopyWarning: \n",
      "A value is trying to be set on a copy of a slice from a DataFrame\n",
      "\n",
      "See the caveats in the documentation: https://pandas.pydata.org/pandas-docs/stable/user_guide/indexing.html#returning-a-view-versus-a-copy\n",
      "  stock_data['Return'].replace([np.inf, -np.inf], np.nan, inplace=True)\n",
      "C:\\Users\\PRAJWAL\\AppData\\Local\\Temp\\ipykernel_19000\\3832743817.py:11: FutureWarning: YF.download() has changed argument auto_adjust default to True\n",
      "  stock_data = yf.download(ticker, start=start, end=end, progress=False)\n"
     ]
    },
    {
     "name": "stdout",
     "output_type": "stream",
     "text": [
      "Error collecting data for LRCX: ['Return']\n",
      "Collecting data for MO...\n"
     ]
    },
    {
     "name": "stderr",
     "output_type": "stream",
     "text": [
      "C:\\Users\\PRAJWAL\\AppData\\Local\\Temp\\ipykernel_19000\\3832743817.py:18: SettingWithCopyWarning: \n",
      "A value is trying to be set on a copy of a slice from a DataFrame\n",
      "\n",
      "See the caveats in the documentation: https://pandas.pydata.org/pandas-docs/stable/user_guide/indexing.html#returning-a-view-versus-a-copy\n",
      "  stock_data['Return'].replace([np.inf, -np.inf], np.nan, inplace=True)\n",
      "C:\\Users\\PRAJWAL\\AppData\\Local\\Temp\\ipykernel_19000\\3832743817.py:11: FutureWarning: YF.download() has changed argument auto_adjust default to True\n",
      "  stock_data = yf.download(ticker, start=start, end=end, progress=False)\n"
     ]
    },
    {
     "name": "stdout",
     "output_type": "stream",
     "text": [
      "Error collecting data for MO: ['Return']\n",
      "Collecting data for SO...\n"
     ]
    },
    {
     "name": "stderr",
     "output_type": "stream",
     "text": [
      "C:\\Users\\PRAJWAL\\AppData\\Local\\Temp\\ipykernel_19000\\3832743817.py:18: SettingWithCopyWarning: \n",
      "A value is trying to be set on a copy of a slice from a DataFrame\n",
      "\n",
      "See the caveats in the documentation: https://pandas.pydata.org/pandas-docs/stable/user_guide/indexing.html#returning-a-view-versus-a-copy\n",
      "  stock_data['Return'].replace([np.inf, -np.inf], np.nan, inplace=True)\n",
      "C:\\Users\\PRAJWAL\\AppData\\Local\\Temp\\ipykernel_19000\\3832743817.py:11: FutureWarning: YF.download() has changed argument auto_adjust default to True\n",
      "  stock_data = yf.download(ticker, start=start, end=end, progress=False)\n"
     ]
    },
    {
     "name": "stdout",
     "output_type": "stream",
     "text": [
      "Error collecting data for SO: ['Return']\n",
      "Collecting data for EQIX...\n"
     ]
    },
    {
     "name": "stderr",
     "output_type": "stream",
     "text": [
      "C:\\Users\\PRAJWAL\\AppData\\Local\\Temp\\ipykernel_19000\\3832743817.py:18: SettingWithCopyWarning: \n",
      "A value is trying to be set on a copy of a slice from a DataFrame\n",
      "\n",
      "See the caveats in the documentation: https://pandas.pydata.org/pandas-docs/stable/user_guide/indexing.html#returning-a-view-versus-a-copy\n",
      "  stock_data['Return'].replace([np.inf, -np.inf], np.nan, inplace=True)\n",
      "C:\\Users\\PRAJWAL\\AppData\\Local\\Temp\\ipykernel_19000\\3832743817.py:11: FutureWarning: YF.download() has changed argument auto_adjust default to True\n",
      "  stock_data = yf.download(ticker, start=start, end=end, progress=False)\n"
     ]
    },
    {
     "name": "stdout",
     "output_type": "stream",
     "text": [
      "Error collecting data for EQIX: ['Return']\n",
      "Collecting data for CRWD...\n"
     ]
    },
    {
     "name": "stderr",
     "output_type": "stream",
     "text": [
      "C:\\Users\\PRAJWAL\\AppData\\Local\\Temp\\ipykernel_19000\\3832743817.py:18: SettingWithCopyWarning: \n",
      "A value is trying to be set on a copy of a slice from a DataFrame\n",
      "\n",
      "See the caveats in the documentation: https://pandas.pydata.org/pandas-docs/stable/user_guide/indexing.html#returning-a-view-versus-a-copy\n",
      "  stock_data['Return'].replace([np.inf, -np.inf], np.nan, inplace=True)\n",
      "C:\\Users\\PRAJWAL\\AppData\\Local\\Temp\\ipykernel_19000\\3832743817.py:11: FutureWarning: YF.download() has changed argument auto_adjust default to True\n",
      "  stock_data = yf.download(ticker, start=start, end=end, progress=False)\n"
     ]
    },
    {
     "name": "stdout",
     "output_type": "stream",
     "text": [
      "Error collecting data for CRWD: ['Return']\n",
      "Collecting data for PYPL...\n"
     ]
    },
    {
     "name": "stderr",
     "output_type": "stream",
     "text": [
      "C:\\Users\\PRAJWAL\\AppData\\Local\\Temp\\ipykernel_19000\\3832743817.py:18: SettingWithCopyWarning: \n",
      "A value is trying to be set on a copy of a slice from a DataFrame\n",
      "\n",
      "See the caveats in the documentation: https://pandas.pydata.org/pandas-docs/stable/user_guide/indexing.html#returning-a-view-versus-a-copy\n",
      "  stock_data['Return'].replace([np.inf, -np.inf], np.nan, inplace=True)\n",
      "C:\\Users\\PRAJWAL\\AppData\\Local\\Temp\\ipykernel_19000\\3832743817.py:11: FutureWarning: YF.download() has changed argument auto_adjust default to True\n",
      "  stock_data = yf.download(ticker, start=start, end=end, progress=False)\n"
     ]
    },
    {
     "name": "stdout",
     "output_type": "stream",
     "text": [
      "Error collecting data for PYPL: ['Return']\n",
      "Collecting data for SHW...\n"
     ]
    },
    {
     "name": "stderr",
     "output_type": "stream",
     "text": [
      "C:\\Users\\PRAJWAL\\AppData\\Local\\Temp\\ipykernel_19000\\3832743817.py:18: SettingWithCopyWarning: \n",
      "A value is trying to be set on a copy of a slice from a DataFrame\n",
      "\n",
      "See the caveats in the documentation: https://pandas.pydata.org/pandas-docs/stable/user_guide/indexing.html#returning-a-view-versus-a-copy\n",
      "  stock_data['Return'].replace([np.inf, -np.inf], np.nan, inplace=True)\n",
      "C:\\Users\\PRAJWAL\\AppData\\Local\\Temp\\ipykernel_19000\\3832743817.py:11: FutureWarning: YF.download() has changed argument auto_adjust default to True\n",
      "  stock_data = yf.download(ticker, start=start, end=end, progress=False)\n"
     ]
    },
    {
     "name": "stdout",
     "output_type": "stream",
     "text": [
      "Error collecting data for SHW: ['Return']\n",
      "Collecting data for ICE...\n"
     ]
    },
    {
     "name": "stderr",
     "output_type": "stream",
     "text": [
      "C:\\Users\\PRAJWAL\\AppData\\Local\\Temp\\ipykernel_19000\\3832743817.py:18: SettingWithCopyWarning: \n",
      "A value is trying to be set on a copy of a slice from a DataFrame\n",
      "\n",
      "See the caveats in the documentation: https://pandas.pydata.org/pandas-docs/stable/user_guide/indexing.html#returning-a-view-versus-a-copy\n",
      "  stock_data['Return'].replace([np.inf, -np.inf], np.nan, inplace=True)\n",
      "C:\\Users\\PRAJWAL\\AppData\\Local\\Temp\\ipykernel_19000\\3832743817.py:11: FutureWarning: YF.download() has changed argument auto_adjust default to True\n",
      "  stock_data = yf.download(ticker, start=start, end=end, progress=False)\n"
     ]
    },
    {
     "name": "stdout",
     "output_type": "stream",
     "text": [
      "Error collecting data for ICE: ['Return']\n",
      "Collecting data for CME...\n"
     ]
    },
    {
     "name": "stderr",
     "output_type": "stream",
     "text": [
      "C:\\Users\\PRAJWAL\\AppData\\Local\\Temp\\ipykernel_19000\\3832743817.py:18: SettingWithCopyWarning: \n",
      "A value is trying to be set on a copy of a slice from a DataFrame\n",
      "\n",
      "See the caveats in the documentation: https://pandas.pydata.org/pandas-docs/stable/user_guide/indexing.html#returning-a-view-versus-a-copy\n",
      "  stock_data['Return'].replace([np.inf, -np.inf], np.nan, inplace=True)\n",
      "C:\\Users\\PRAJWAL\\AppData\\Local\\Temp\\ipykernel_19000\\3832743817.py:11: FutureWarning: YF.download() has changed argument auto_adjust default to True\n",
      "  stock_data = yf.download(ticker, start=start, end=end, progress=False)\n"
     ]
    },
    {
     "name": "stdout",
     "output_type": "stream",
     "text": [
      "Error collecting data for CME: ['Return']\n",
      "Collecting data for AMT...\n"
     ]
    },
    {
     "name": "stderr",
     "output_type": "stream",
     "text": [
      "C:\\Users\\PRAJWAL\\AppData\\Local\\Temp\\ipykernel_19000\\3832743817.py:18: SettingWithCopyWarning: \n",
      "A value is trying to be set on a copy of a slice from a DataFrame\n",
      "\n",
      "See the caveats in the documentation: https://pandas.pydata.org/pandas-docs/stable/user_guide/indexing.html#returning-a-view-versus-a-copy\n",
      "  stock_data['Return'].replace([np.inf, -np.inf], np.nan, inplace=True)\n",
      "C:\\Users\\PRAJWAL\\AppData\\Local\\Temp\\ipykernel_19000\\3832743817.py:11: FutureWarning: YF.download() has changed argument auto_adjust default to True\n",
      "  stock_data = yf.download(ticker, start=start, end=end, progress=False)\n"
     ]
    },
    {
     "name": "stdout",
     "output_type": "stream",
     "text": [
      "Error collecting data for AMT: ['Return']\n",
      "Collecting data for APH...\n"
     ]
    },
    {
     "name": "stderr",
     "output_type": "stream",
     "text": [
      "C:\\Users\\PRAJWAL\\AppData\\Local\\Temp\\ipykernel_19000\\3832743817.py:18: SettingWithCopyWarning: \n",
      "A value is trying to be set on a copy of a slice from a DataFrame\n",
      "\n",
      "See the caveats in the documentation: https://pandas.pydata.org/pandas-docs/stable/user_guide/indexing.html#returning-a-view-versus-a-copy\n",
      "  stock_data['Return'].replace([np.inf, -np.inf], np.nan, inplace=True)\n",
      "C:\\Users\\PRAJWAL\\AppData\\Local\\Temp\\ipykernel_19000\\3832743817.py:11: FutureWarning: YF.download() has changed argument auto_adjust default to True\n",
      "  stock_data = yf.download(ticker, start=start, end=end, progress=False)\n"
     ]
    },
    {
     "name": "stdout",
     "output_type": "stream",
     "text": [
      "Error collecting data for APH: ['Return']\n",
      "Collecting data for ELV...\n"
     ]
    },
    {
     "name": "stderr",
     "output_type": "stream",
     "text": [
      "C:\\Users\\PRAJWAL\\AppData\\Local\\Temp\\ipykernel_19000\\3832743817.py:18: SettingWithCopyWarning: \n",
      "A value is trying to be set on a copy of a slice from a DataFrame\n",
      "\n",
      "See the caveats in the documentation: https://pandas.pydata.org/pandas-docs/stable/user_guide/indexing.html#returning-a-view-versus-a-copy\n",
      "  stock_data['Return'].replace([np.inf, -np.inf], np.nan, inplace=True)\n",
      "C:\\Users\\PRAJWAL\\AppData\\Local\\Temp\\ipykernel_19000\\3832743817.py:11: FutureWarning: YF.download() has changed argument auto_adjust default to True\n",
      "  stock_data = yf.download(ticker, start=start, end=end, progress=False)\n"
     ]
    },
    {
     "name": "stdout",
     "output_type": "stream",
     "text": [
      "Error collecting data for ELV: ['Return']\n",
      "Collecting data for TT...\n"
     ]
    },
    {
     "name": "stderr",
     "output_type": "stream",
     "text": [
      "C:\\Users\\PRAJWAL\\AppData\\Local\\Temp\\ipykernel_19000\\3832743817.py:18: SettingWithCopyWarning: \n",
      "A value is trying to be set on a copy of a slice from a DataFrame\n",
      "\n",
      "See the caveats in the documentation: https://pandas.pydata.org/pandas-docs/stable/user_guide/indexing.html#returning-a-view-versus-a-copy\n",
      "  stock_data['Return'].replace([np.inf, -np.inf], np.nan, inplace=True)\n",
      "C:\\Users\\PRAJWAL\\AppData\\Local\\Temp\\ipykernel_19000\\3832743817.py:11: FutureWarning: YF.download() has changed argument auto_adjust default to True\n",
      "  stock_data = yf.download(ticker, start=start, end=end, progress=False)\n"
     ]
    },
    {
     "name": "stdout",
     "output_type": "stream",
     "text": [
      "Error collecting data for TT: ['Return']\n",
      "Collecting data for MCO...\n"
     ]
    },
    {
     "name": "stderr",
     "output_type": "stream",
     "text": [
      "C:\\Users\\PRAJWAL\\AppData\\Local\\Temp\\ipykernel_19000\\3832743817.py:18: SettingWithCopyWarning: \n",
      "A value is trying to be set on a copy of a slice from a DataFrame\n",
      "\n",
      "See the caveats in the documentation: https://pandas.pydata.org/pandas-docs/stable/user_guide/indexing.html#returning-a-view-versus-a-copy\n",
      "  stock_data['Return'].replace([np.inf, -np.inf], np.nan, inplace=True)\n",
      "C:\\Users\\PRAJWAL\\AppData\\Local\\Temp\\ipykernel_19000\\3832743817.py:11: FutureWarning: YF.download() has changed argument auto_adjust default to True\n",
      "  stock_data = yf.download(ticker, start=start, end=end, progress=False)\n"
     ]
    },
    {
     "name": "stdout",
     "output_type": "stream",
     "text": [
      "Error collecting data for MCO: ['Return']\n",
      "Collecting data for CMG...\n"
     ]
    },
    {
     "name": "stderr",
     "output_type": "stream",
     "text": [
      "C:\\Users\\PRAJWAL\\AppData\\Local\\Temp\\ipykernel_19000\\3832743817.py:18: SettingWithCopyWarning: \n",
      "A value is trying to be set on a copy of a slice from a DataFrame\n",
      "\n",
      "See the caveats in the documentation: https://pandas.pydata.org/pandas-docs/stable/user_guide/indexing.html#returning-a-view-versus-a-copy\n",
      "  stock_data['Return'].replace([np.inf, -np.inf], np.nan, inplace=True)\n",
      "C:\\Users\\PRAJWAL\\AppData\\Local\\Temp\\ipykernel_19000\\3832743817.py:11: FutureWarning: YF.download() has changed argument auto_adjust default to True\n",
      "  stock_data = yf.download(ticker, start=start, end=end, progress=False)\n"
     ]
    },
    {
     "name": "stdout",
     "output_type": "stream",
     "text": [
      "Error collecting data for CMG: ['Return']\n",
      "Collecting data for INTC...\n"
     ]
    },
    {
     "name": "stderr",
     "output_type": "stream",
     "text": [
      "C:\\Users\\PRAJWAL\\AppData\\Local\\Temp\\ipykernel_19000\\3832743817.py:18: SettingWithCopyWarning: \n",
      "A value is trying to be set on a copy of a slice from a DataFrame\n",
      "\n",
      "See the caveats in the documentation: https://pandas.pydata.org/pandas-docs/stable/user_guide/indexing.html#returning-a-view-versus-a-copy\n",
      "  stock_data['Return'].replace([np.inf, -np.inf], np.nan, inplace=True)\n",
      "C:\\Users\\PRAJWAL\\AppData\\Local\\Temp\\ipykernel_19000\\3832743817.py:11: FutureWarning: YF.download() has changed argument auto_adjust default to True\n",
      "  stock_data = yf.download(ticker, start=start, end=end, progress=False)\n"
     ]
    },
    {
     "name": "stdout",
     "output_type": "stream",
     "text": [
      "Error collecting data for INTC: ['Return']\n",
      "Collecting data for KLAC...\n"
     ]
    },
    {
     "name": "stderr",
     "output_type": "stream",
     "text": [
      "C:\\Users\\PRAJWAL\\AppData\\Local\\Temp\\ipykernel_19000\\3832743817.py:18: SettingWithCopyWarning: \n",
      "A value is trying to be set on a copy of a slice from a DataFrame\n",
      "\n",
      "See the caveats in the documentation: https://pandas.pydata.org/pandas-docs/stable/user_guide/indexing.html#returning-a-view-versus-a-copy\n",
      "  stock_data['Return'].replace([np.inf, -np.inf], np.nan, inplace=True)\n",
      "C:\\Users\\PRAJWAL\\AppData\\Local\\Temp\\ipykernel_19000\\3832743817.py:11: FutureWarning: YF.download() has changed argument auto_adjust default to True\n",
      "  stock_data = yf.download(ticker, start=start, end=end, progress=False)\n"
     ]
    },
    {
     "name": "stdout",
     "output_type": "stream",
     "text": [
      "Error collecting data for KLAC: ['Return']\n",
      "Collecting data for ABNB...\n"
     ]
    },
    {
     "name": "stderr",
     "output_type": "stream",
     "text": [
      "C:\\Users\\PRAJWAL\\AppData\\Local\\Temp\\ipykernel_19000\\3832743817.py:18: SettingWithCopyWarning: \n",
      "A value is trying to be set on a copy of a slice from a DataFrame\n",
      "\n",
      "See the caveats in the documentation: https://pandas.pydata.org/pandas-docs/stable/user_guide/indexing.html#returning-a-view-versus-a-copy\n",
      "  stock_data['Return'].replace([np.inf, -np.inf], np.nan, inplace=True)\n",
      "C:\\Users\\PRAJWAL\\AppData\\Local\\Temp\\ipykernel_19000\\3832743817.py:11: FutureWarning: YF.download() has changed argument auto_adjust default to True\n",
      "  stock_data = yf.download(ticker, start=start, end=end, progress=False)\n"
     ]
    },
    {
     "name": "stdout",
     "output_type": "stream",
     "text": [
      "Error collecting data for ABNB: ['Return']\n",
      "Collecting data for DUK...\n"
     ]
    },
    {
     "name": "stderr",
     "output_type": "stream",
     "text": [
      "C:\\Users\\PRAJWAL\\AppData\\Local\\Temp\\ipykernel_19000\\3832743817.py:18: SettingWithCopyWarning: \n",
      "A value is trying to be set on a copy of a slice from a DataFrame\n",
      "\n",
      "See the caveats in the documentation: https://pandas.pydata.org/pandas-docs/stable/user_guide/indexing.html#returning-a-view-versus-a-copy\n",
      "  stock_data['Return'].replace([np.inf, -np.inf], np.nan, inplace=True)\n",
      "C:\\Users\\PRAJWAL\\AppData\\Local\\Temp\\ipykernel_19000\\3832743817.py:11: FutureWarning: YF.download() has changed argument auto_adjust default to True\n",
      "  stock_data = yf.download(ticker, start=start, end=end, progress=False)\n"
     ]
    },
    {
     "name": "stdout",
     "output_type": "stream",
     "text": [
      "Error collecting data for DUK: ['Return']\n",
      "Collecting data for PH...\n"
     ]
    },
    {
     "name": "stderr",
     "output_type": "stream",
     "text": [
      "C:\\Users\\PRAJWAL\\AppData\\Local\\Temp\\ipykernel_19000\\3832743817.py:18: SettingWithCopyWarning: \n",
      "A value is trying to be set on a copy of a slice from a DataFrame\n",
      "\n",
      "See the caveats in the documentation: https://pandas.pydata.org/pandas-docs/stable/user_guide/indexing.html#returning-a-view-versus-a-copy\n",
      "  stock_data['Return'].replace([np.inf, -np.inf], np.nan, inplace=True)\n",
      "C:\\Users\\PRAJWAL\\AppData\\Local\\Temp\\ipykernel_19000\\3832743817.py:11: FutureWarning: YF.download() has changed argument auto_adjust default to True\n",
      "  stock_data = yf.download(ticker, start=start, end=end, progress=False)\n"
     ]
    },
    {
     "name": "stdout",
     "output_type": "stream",
     "text": [
      "Error collecting data for PH: ['Return']\n",
      "Collecting data for CDNS...\n"
     ]
    },
    {
     "name": "stderr",
     "output_type": "stream",
     "text": [
      "C:\\Users\\PRAJWAL\\AppData\\Local\\Temp\\ipykernel_19000\\3832743817.py:18: SettingWithCopyWarning: \n",
      "A value is trying to be set on a copy of a slice from a DataFrame\n",
      "\n",
      "See the caveats in the documentation: https://pandas.pydata.org/pandas-docs/stable/user_guide/indexing.html#returning-a-view-versus-a-copy\n",
      "  stock_data['Return'].replace([np.inf, -np.inf], np.nan, inplace=True)\n",
      "C:\\Users\\PRAJWAL\\AppData\\Local\\Temp\\ipykernel_19000\\3832743817.py:11: FutureWarning: YF.download() has changed argument auto_adjust default to True\n",
      "  stock_data = yf.download(ticker, start=start, end=end, progress=False)\n"
     ]
    },
    {
     "name": "stdout",
     "output_type": "stream",
     "text": [
      "Error collecting data for CDNS: ['Return']\n",
      "Collecting data for WM...\n"
     ]
    },
    {
     "name": "stderr",
     "output_type": "stream",
     "text": [
      "C:\\Users\\PRAJWAL\\AppData\\Local\\Temp\\ipykernel_19000\\3832743817.py:18: SettingWithCopyWarning: \n",
      "A value is trying to be set on a copy of a slice from a DataFrame\n",
      "\n",
      "See the caveats in the documentation: https://pandas.pydata.org/pandas-docs/stable/user_guide/indexing.html#returning-a-view-versus-a-copy\n",
      "  stock_data['Return'].replace([np.inf, -np.inf], np.nan, inplace=True)\n",
      "C:\\Users\\PRAJWAL\\AppData\\Local\\Temp\\ipykernel_19000\\3832743817.py:11: FutureWarning: YF.download() has changed argument auto_adjust default to True\n",
      "  stock_data = yf.download(ticker, start=start, end=end, progress=False)\n"
     ]
    },
    {
     "name": "stdout",
     "output_type": "stream",
     "text": [
      "Error collecting data for WM: ['Return']\n",
      "Collecting data for DELL...\n"
     ]
    },
    {
     "name": "stderr",
     "output_type": "stream",
     "text": [
      "C:\\Users\\PRAJWAL\\AppData\\Local\\Temp\\ipykernel_19000\\3832743817.py:18: SettingWithCopyWarning: \n",
      "A value is trying to be set on a copy of a slice from a DataFrame\n",
      "\n",
      "See the caveats in the documentation: https://pandas.pydata.org/pandas-docs/stable/user_guide/indexing.html#returning-a-view-versus-a-copy\n",
      "  stock_data['Return'].replace([np.inf, -np.inf], np.nan, inplace=True)\n",
      "C:\\Users\\PRAJWAL\\AppData\\Local\\Temp\\ipykernel_19000\\3832743817.py:11: FutureWarning: YF.download() has changed argument auto_adjust default to True\n",
      "  stock_data = yf.download(ticker, start=start, end=end, progress=False)\n"
     ]
    },
    {
     "name": "stdout",
     "output_type": "stream",
     "text": [
      "Error collecting data for DELL: ['Return']\n",
      "Collecting data for MDLZ...\n"
     ]
    },
    {
     "name": "stderr",
     "output_type": "stream",
     "text": [
      "C:\\Users\\PRAJWAL\\AppData\\Local\\Temp\\ipykernel_19000\\3832743817.py:18: SettingWithCopyWarning: \n",
      "A value is trying to be set on a copy of a slice from a DataFrame\n",
      "\n",
      "See the caveats in the documentation: https://pandas.pydata.org/pandas-docs/stable/user_guide/indexing.html#returning-a-view-versus-a-copy\n",
      "  stock_data['Return'].replace([np.inf, -np.inf], np.nan, inplace=True)\n",
      "C:\\Users\\PRAJWAL\\AppData\\Local\\Temp\\ipykernel_19000\\3832743817.py:11: FutureWarning: YF.download() has changed argument auto_adjust default to True\n",
      "  stock_data = yf.download(ticker, start=start, end=end, progress=False)\n"
     ]
    },
    {
     "name": "stdout",
     "output_type": "stream",
     "text": [
      "Error collecting data for MDLZ: ['Return']\n",
      "Collecting data for MAR...\n"
     ]
    },
    {
     "name": "stderr",
     "output_type": "stream",
     "text": [
      "C:\\Users\\PRAJWAL\\AppData\\Local\\Temp\\ipykernel_19000\\3832743817.py:18: SettingWithCopyWarning: \n",
      "A value is trying to be set on a copy of a slice from a DataFrame\n",
      "\n",
      "See the caveats in the documentation: https://pandas.pydata.org/pandas-docs/stable/user_guide/indexing.html#returning-a-view-versus-a-copy\n",
      "  stock_data['Return'].replace([np.inf, -np.inf], np.nan, inplace=True)\n",
      "C:\\Users\\PRAJWAL\\AppData\\Local\\Temp\\ipykernel_19000\\3832743817.py:11: FutureWarning: YF.download() has changed argument auto_adjust default to True\n",
      "  stock_data = yf.download(ticker, start=start, end=end, progress=False)\n"
     ]
    },
    {
     "name": "stdout",
     "output_type": "stream",
     "text": [
      "Error collecting data for MAR: ['Return']\n",
      "Collecting data for MSI...\n"
     ]
    },
    {
     "name": "stderr",
     "output_type": "stream",
     "text": [
      "C:\\Users\\PRAJWAL\\AppData\\Local\\Temp\\ipykernel_19000\\3832743817.py:18: SettingWithCopyWarning: \n",
      "A value is trying to be set on a copy of a slice from a DataFrame\n",
      "\n",
      "See the caveats in the documentation: https://pandas.pydata.org/pandas-docs/stable/user_guide/indexing.html#returning-a-view-versus-a-copy\n",
      "  stock_data['Return'].replace([np.inf, -np.inf], np.nan, inplace=True)\n",
      "C:\\Users\\PRAJWAL\\AppData\\Local\\Temp\\ipykernel_19000\\3832743817.py:11: FutureWarning: YF.download() has changed argument auto_adjust default to True\n",
      "  stock_data = yf.download(ticker, start=start, end=end, progress=False)\n"
     ]
    },
    {
     "name": "stdout",
     "output_type": "stream",
     "text": [
      "Error collecting data for MSI: ['Return']\n",
      "Collecting data for WELL...\n"
     ]
    },
    {
     "name": "stderr",
     "output_type": "stream",
     "text": [
      "C:\\Users\\PRAJWAL\\AppData\\Local\\Temp\\ipykernel_19000\\3832743817.py:18: SettingWithCopyWarning: \n",
      "A value is trying to be set on a copy of a slice from a DataFrame\n",
      "\n",
      "See the caveats in the documentation: https://pandas.pydata.org/pandas-docs/stable/user_guide/indexing.html#returning-a-view-versus-a-copy\n",
      "  stock_data['Return'].replace([np.inf, -np.inf], np.nan, inplace=True)\n",
      "C:\\Users\\PRAJWAL\\AppData\\Local\\Temp\\ipykernel_19000\\3832743817.py:11: FutureWarning: YF.download() has changed argument auto_adjust default to True\n",
      "  stock_data = yf.download(ticker, start=start, end=end, progress=False)\n"
     ]
    },
    {
     "name": "stdout",
     "output_type": "stream",
     "text": [
      "Error collecting data for WELL: ['Return']\n",
      "Collecting data for AON...\n"
     ]
    },
    {
     "name": "stderr",
     "output_type": "stream",
     "text": [
      "C:\\Users\\PRAJWAL\\AppData\\Local\\Temp\\ipykernel_19000\\3832743817.py:18: SettingWithCopyWarning: \n",
      "A value is trying to be set on a copy of a slice from a DataFrame\n",
      "\n",
      "See the caveats in the documentation: https://pandas.pydata.org/pandas-docs/stable/user_guide/indexing.html#returning-a-view-versus-a-copy\n",
      "  stock_data['Return'].replace([np.inf, -np.inf], np.nan, inplace=True)\n",
      "C:\\Users\\PRAJWAL\\AppData\\Local\\Temp\\ipykernel_19000\\3832743817.py:11: FutureWarning: YF.download() has changed argument auto_adjust default to True\n",
      "  stock_data = yf.download(ticker, start=start, end=end, progress=False)\n"
     ]
    },
    {
     "name": "stdout",
     "output_type": "stream",
     "text": [
      "Error collecting data for AON: ['Return']\n",
      "Collecting data for REGN...\n"
     ]
    },
    {
     "name": "stderr",
     "output_type": "stream",
     "text": [
      "C:\\Users\\PRAJWAL\\AppData\\Local\\Temp\\ipykernel_19000\\3832743817.py:18: SettingWithCopyWarning: \n",
      "A value is trying to be set on a copy of a slice from a DataFrame\n",
      "\n",
      "See the caveats in the documentation: https://pandas.pydata.org/pandas-docs/stable/user_guide/indexing.html#returning-a-view-versus-a-copy\n",
      "  stock_data['Return'].replace([np.inf, -np.inf], np.nan, inplace=True)\n",
      "C:\\Users\\PRAJWAL\\AppData\\Local\\Temp\\ipykernel_19000\\3832743817.py:11: FutureWarning: YF.download() has changed argument auto_adjust default to True\n",
      "  stock_data = yf.download(ticker, start=start, end=end, progress=False)\n"
     ]
    },
    {
     "name": "stdout",
     "output_type": "stream",
     "text": [
      "Error collecting data for REGN: ['Return']\n",
      "Collecting data for CI...\n"
     ]
    },
    {
     "name": "stderr",
     "output_type": "stream",
     "text": [
      "C:\\Users\\PRAJWAL\\AppData\\Local\\Temp\\ipykernel_19000\\3832743817.py:18: SettingWithCopyWarning: \n",
      "A value is trying to be set on a copy of a slice from a DataFrame\n",
      "\n",
      "See the caveats in the documentation: https://pandas.pydata.org/pandas-docs/stable/user_guide/indexing.html#returning-a-view-versus-a-copy\n",
      "  stock_data['Return'].replace([np.inf, -np.inf], np.nan, inplace=True)\n",
      "C:\\Users\\PRAJWAL\\AppData\\Local\\Temp\\ipykernel_19000\\3832743817.py:11: FutureWarning: YF.download() has changed argument auto_adjust default to True\n",
      "  stock_data = yf.download(ticker, start=start, end=end, progress=False)\n"
     ]
    },
    {
     "name": "stdout",
     "output_type": "stream",
     "text": [
      "Error collecting data for CI: ['Return']\n",
      "Collecting data for HCA...\n"
     ]
    },
    {
     "name": "stderr",
     "output_type": "stream",
     "text": [
      "C:\\Users\\PRAJWAL\\AppData\\Local\\Temp\\ipykernel_19000\\3832743817.py:18: SettingWithCopyWarning: \n",
      "A value is trying to be set on a copy of a slice from a DataFrame\n",
      "\n",
      "See the caveats in the documentation: https://pandas.pydata.org/pandas-docs/stable/user_guide/indexing.html#returning-a-view-versus-a-copy\n",
      "  stock_data['Return'].replace([np.inf, -np.inf], np.nan, inplace=True)\n",
      "C:\\Users\\PRAJWAL\\AppData\\Local\\Temp\\ipykernel_19000\\3832743817.py:11: FutureWarning: YF.download() has changed argument auto_adjust default to True\n",
      "  stock_data = yf.download(ticker, start=start, end=end, progress=False)\n"
     ]
    },
    {
     "name": "stdout",
     "output_type": "stream",
     "text": [
      "Error collecting data for HCA: ['Return']\n",
      "Collecting data for PNC...\n"
     ]
    },
    {
     "name": "stderr",
     "output_type": "stream",
     "text": [
      "C:\\Users\\PRAJWAL\\AppData\\Local\\Temp\\ipykernel_19000\\3832743817.py:18: SettingWithCopyWarning: \n",
      "A value is trying to be set on a copy of a slice from a DataFrame\n",
      "\n",
      "See the caveats in the documentation: https://pandas.pydata.org/pandas-docs/stable/user_guide/indexing.html#returning-a-view-versus-a-copy\n",
      "  stock_data['Return'].replace([np.inf, -np.inf], np.nan, inplace=True)\n",
      "C:\\Users\\PRAJWAL\\AppData\\Local\\Temp\\ipykernel_19000\\3832743817.py:11: FutureWarning: YF.download() has changed argument auto_adjust default to True\n",
      "  stock_data = yf.download(ticker, start=start, end=end, progress=False)\n"
     ]
    },
    {
     "name": "stdout",
     "output_type": "stream",
     "text": [
      "Error collecting data for PNC: ['Return']\n",
      "Collecting data for ITW...\n"
     ]
    },
    {
     "name": "stderr",
     "output_type": "stream",
     "text": [
      "C:\\Users\\PRAJWAL\\AppData\\Local\\Temp\\ipykernel_19000\\3832743817.py:18: SettingWithCopyWarning: \n",
      "A value is trying to be set on a copy of a slice from a DataFrame\n",
      "\n",
      "See the caveats in the documentation: https://pandas.pydata.org/pandas-docs/stable/user_guide/indexing.html#returning-a-view-versus-a-copy\n",
      "  stock_data['Return'].replace([np.inf, -np.inf], np.nan, inplace=True)\n",
      "C:\\Users\\PRAJWAL\\AppData\\Local\\Temp\\ipykernel_19000\\3832743817.py:11: FutureWarning: YF.download() has changed argument auto_adjust default to True\n",
      "  stock_data = yf.download(ticker, start=start, end=end, progress=False)\n"
     ]
    },
    {
     "name": "stdout",
     "output_type": "stream",
     "text": [
      "Error collecting data for ITW: ['Return']\n",
      "Collecting data for SNPS...\n"
     ]
    },
    {
     "name": "stderr",
     "output_type": "stream",
     "text": [
      "C:\\Users\\PRAJWAL\\AppData\\Local\\Temp\\ipykernel_19000\\3832743817.py:18: SettingWithCopyWarning: \n",
      "A value is trying to be set on a copy of a slice from a DataFrame\n",
      "\n",
      "See the caveats in the documentation: https://pandas.pydata.org/pandas-docs/stable/user_guide/indexing.html#returning-a-view-versus-a-copy\n",
      "  stock_data['Return'].replace([np.inf, -np.inf], np.nan, inplace=True)\n",
      "C:\\Users\\PRAJWAL\\AppData\\Local\\Temp\\ipykernel_19000\\3832743817.py:11: FutureWarning: YF.download() has changed argument auto_adjust default to True\n",
      "  stock_data = yf.download(ticker, start=start, end=end, progress=False)\n"
     ]
    },
    {
     "name": "stdout",
     "output_type": "stream",
     "text": [
      "Error collecting data for SNPS: ['Return']\n",
      "Collecting data for CTAS...\n"
     ]
    },
    {
     "name": "stderr",
     "output_type": "stream",
     "text": [
      "C:\\Users\\PRAJWAL\\AppData\\Local\\Temp\\ipykernel_19000\\3832743817.py:18: SettingWithCopyWarning: \n",
      "A value is trying to be set on a copy of a slice from a DataFrame\n",
      "\n",
      "See the caveats in the documentation: https://pandas.pydata.org/pandas-docs/stable/user_guide/indexing.html#returning-a-view-versus-a-copy\n",
      "  stock_data['Return'].replace([np.inf, -np.inf], np.nan, inplace=True)\n",
      "C:\\Users\\PRAJWAL\\AppData\\Local\\Temp\\ipykernel_19000\\3832743817.py:11: FutureWarning: YF.download() has changed argument auto_adjust default to True\n",
      "  stock_data = yf.download(ticker, start=start, end=end, progress=False)\n"
     ]
    },
    {
     "name": "stdout",
     "output_type": "stream",
     "text": [
      "Error collecting data for CTAS: ['Return']\n",
      "Collecting data for CL...\n"
     ]
    },
    {
     "name": "stderr",
     "output_type": "stream",
     "text": [
      "C:\\Users\\PRAJWAL\\AppData\\Local\\Temp\\ipykernel_19000\\3832743817.py:18: SettingWithCopyWarning: \n",
      "A value is trying to be set on a copy of a slice from a DataFrame\n",
      "\n",
      "See the caveats in the documentation: https://pandas.pydata.org/pandas-docs/stable/user_guide/indexing.html#returning-a-view-versus-a-copy\n",
      "  stock_data['Return'].replace([np.inf, -np.inf], np.nan, inplace=True)\n",
      "C:\\Users\\PRAJWAL\\AppData\\Local\\Temp\\ipykernel_19000\\3832743817.py:11: FutureWarning: YF.download() has changed argument auto_adjust default to True\n",
      "  stock_data = yf.download(ticker, start=start, end=end, progress=False)\n"
     ]
    },
    {
     "name": "stdout",
     "output_type": "stream",
     "text": [
      "Error collecting data for CL: ['Return']\n",
      "Collecting data for USB...\n"
     ]
    },
    {
     "name": "stderr",
     "output_type": "stream",
     "text": [
      "C:\\Users\\PRAJWAL\\AppData\\Local\\Temp\\ipykernel_19000\\3832743817.py:18: SettingWithCopyWarning: \n",
      "A value is trying to be set on a copy of a slice from a DataFrame\n",
      "\n",
      "See the caveats in the documentation: https://pandas.pydata.org/pandas-docs/stable/user_guide/indexing.html#returning-a-view-versus-a-copy\n",
      "  stock_data['Return'].replace([np.inf, -np.inf], np.nan, inplace=True)\n",
      "C:\\Users\\PRAJWAL\\AppData\\Local\\Temp\\ipykernel_19000\\3832743817.py:11: FutureWarning: YF.download() has changed argument auto_adjust default to True\n",
      "  stock_data = yf.download(ticker, start=start, end=end, progress=False)\n"
     ]
    },
    {
     "name": "stdout",
     "output_type": "stream",
     "text": [
      "Error collecting data for USB: ['Return']\n",
      "Collecting data for FTNT...\n"
     ]
    },
    {
     "name": "stderr",
     "output_type": "stream",
     "text": [
      "C:\\Users\\PRAJWAL\\AppData\\Local\\Temp\\ipykernel_19000\\3832743817.py:18: SettingWithCopyWarning: \n",
      "A value is trying to be set on a copy of a slice from a DataFrame\n",
      "\n",
      "See the caveats in the documentation: https://pandas.pydata.org/pandas-docs/stable/user_guide/indexing.html#returning-a-view-versus-a-copy\n",
      "  stock_data['Return'].replace([np.inf, -np.inf], np.nan, inplace=True)\n",
      "C:\\Users\\PRAJWAL\\AppData\\Local\\Temp\\ipykernel_19000\\3832743817.py:11: FutureWarning: YF.download() has changed argument auto_adjust default to True\n",
      "  stock_data = yf.download(ticker, start=start, end=end, progress=False)\n"
     ]
    },
    {
     "name": "stdout",
     "output_type": "stream",
     "text": [
      "Error collecting data for FTNT: ['Return']\n",
      "Collecting data for ZTS...\n"
     ]
    },
    {
     "name": "stderr",
     "output_type": "stream",
     "text": [
      "C:\\Users\\PRAJWAL\\AppData\\Local\\Temp\\ipykernel_19000\\3832743817.py:18: SettingWithCopyWarning: \n",
      "A value is trying to be set on a copy of a slice from a DataFrame\n",
      "\n",
      "See the caveats in the documentation: https://pandas.pydata.org/pandas-docs/stable/user_guide/indexing.html#returning-a-view-versus-a-copy\n",
      "  stock_data['Return'].replace([np.inf, -np.inf], np.nan, inplace=True)\n",
      "C:\\Users\\PRAJWAL\\AppData\\Local\\Temp\\ipykernel_19000\\3832743817.py:11: FutureWarning: YF.download() has changed argument auto_adjust default to True\n",
      "  stock_data = yf.download(ticker, start=start, end=end, progress=False)\n"
     ]
    },
    {
     "name": "stdout",
     "output_type": "stream",
     "text": [
      "Error collecting data for ZTS: ['Return']\n",
      "Collecting data for MCK...\n"
     ]
    },
    {
     "name": "stderr",
     "output_type": "stream",
     "text": [
      "C:\\Users\\PRAJWAL\\AppData\\Local\\Temp\\ipykernel_19000\\3832743817.py:18: SettingWithCopyWarning: \n",
      "A value is trying to be set on a copy of a slice from a DataFrame\n",
      "\n",
      "See the caveats in the documentation: https://pandas.pydata.org/pandas-docs/stable/user_guide/indexing.html#returning-a-view-versus-a-copy\n",
      "  stock_data['Return'].replace([np.inf, -np.inf], np.nan, inplace=True)\n",
      "C:\\Users\\PRAJWAL\\AppData\\Local\\Temp\\ipykernel_19000\\3832743817.py:11: FutureWarning: YF.download() has changed argument auto_adjust default to True\n",
      "  stock_data = yf.download(ticker, start=start, end=end, progress=False)\n"
     ]
    },
    {
     "name": "stdout",
     "output_type": "stream",
     "text": [
      "Error collecting data for MCK: ['Return']\n",
      "Collecting data for GD...\n"
     ]
    },
    {
     "name": "stderr",
     "output_type": "stream",
     "text": [
      "C:\\Users\\PRAJWAL\\AppData\\Local\\Temp\\ipykernel_19000\\3832743817.py:18: SettingWithCopyWarning: \n",
      "A value is trying to be set on a copy of a slice from a DataFrame\n",
      "\n",
      "See the caveats in the documentation: https://pandas.pydata.org/pandas-docs/stable/user_guide/indexing.html#returning-a-view-versus-a-copy\n",
      "  stock_data['Return'].replace([np.inf, -np.inf], np.nan, inplace=True)\n",
      "C:\\Users\\PRAJWAL\\AppData\\Local\\Temp\\ipykernel_19000\\3832743817.py:11: FutureWarning: YF.download() has changed argument auto_adjust default to True\n",
      "  stock_data = yf.download(ticker, start=start, end=end, progress=False)\n"
     ]
    },
    {
     "name": "stdout",
     "output_type": "stream",
     "text": [
      "Error collecting data for GD: ['Return']\n",
      "Collecting data for TDG...\n"
     ]
    },
    {
     "name": "stderr",
     "output_type": "stream",
     "text": [
      "C:\\Users\\PRAJWAL\\AppData\\Local\\Temp\\ipykernel_19000\\3832743817.py:18: SettingWithCopyWarning: \n",
      "A value is trying to be set on a copy of a slice from a DataFrame\n",
      "\n",
      "See the caveats in the documentation: https://pandas.pydata.org/pandas-docs/stable/user_guide/indexing.html#returning-a-view-versus-a-copy\n",
      "  stock_data['Return'].replace([np.inf, -np.inf], np.nan, inplace=True)\n",
      "C:\\Users\\PRAJWAL\\AppData\\Local\\Temp\\ipykernel_19000\\3832743817.py:11: FutureWarning: YF.download() has changed argument auto_adjust default to True\n",
      "  stock_data = yf.download(ticker, start=start, end=end, progress=False)\n"
     ]
    },
    {
     "name": "stdout",
     "output_type": "stream",
     "text": [
      "Error collecting data for TDG: ['Return']\n",
      "Collecting data for CEG...\n"
     ]
    },
    {
     "name": "stderr",
     "output_type": "stream",
     "text": [
      "\n",
      "1 Failed download:\n",
      "['CEG']: YFPricesMissingError('possibly delisted; no price data found  (1d 2010-01-01 -> 2020-12-31) (Yahoo error = \"Data doesn\\'t exist for startDate = 1262322000, endDate = 1609390800\")')\n",
      "C:\\Users\\PRAJWAL\\AppData\\Local\\Temp\\ipykernel_19000\\3832743817.py:11: FutureWarning: YF.download() has changed argument auto_adjust default to True\n",
      "  stock_data = yf.download(ticker, start=start, end=end, progress=False)\n"
     ]
    },
    {
     "name": "stdout",
     "output_type": "stream",
     "text": [
      "No OHLCV data found for CEG from yfinance. Skipping.\n",
      "Collecting data for AJG...\n"
     ]
    },
    {
     "name": "stderr",
     "output_type": "stream",
     "text": [
      "C:\\Users\\PRAJWAL\\AppData\\Local\\Temp\\ipykernel_19000\\3832743817.py:18: SettingWithCopyWarning: \n",
      "A value is trying to be set on a copy of a slice from a DataFrame\n",
      "\n",
      "See the caveats in the documentation: https://pandas.pydata.org/pandas-docs/stable/user_guide/indexing.html#returning-a-view-versus-a-copy\n",
      "  stock_data['Return'].replace([np.inf, -np.inf], np.nan, inplace=True)\n",
      "C:\\Users\\PRAJWAL\\AppData\\Local\\Temp\\ipykernel_19000\\3832743817.py:11: FutureWarning: YF.download() has changed argument auto_adjust default to True\n",
      "  stock_data = yf.download(ticker, start=start, end=end, progress=False)\n"
     ]
    },
    {
     "name": "stdout",
     "output_type": "stream",
     "text": [
      "Error collecting data for AJG: ['Return']\n",
      "Collecting data for EMR...\n"
     ]
    },
    {
     "name": "stderr",
     "output_type": "stream",
     "text": [
      "C:\\Users\\PRAJWAL\\AppData\\Local\\Temp\\ipykernel_19000\\3832743817.py:18: SettingWithCopyWarning: \n",
      "A value is trying to be set on a copy of a slice from a DataFrame\n",
      "\n",
      "See the caveats in the documentation: https://pandas.pydata.org/pandas-docs/stable/user_guide/indexing.html#returning-a-view-versus-a-copy\n",
      "  stock_data['Return'].replace([np.inf, -np.inf], np.nan, inplace=True)\n",
      "C:\\Users\\PRAJWAL\\AppData\\Local\\Temp\\ipykernel_19000\\3832743817.py:11: FutureWarning: YF.download() has changed argument auto_adjust default to True\n",
      "  stock_data = yf.download(ticker, start=start, end=end, progress=False)\n"
     ]
    },
    {
     "name": "stdout",
     "output_type": "stream",
     "text": [
      "Error collecting data for EMR: ['Return']\n",
      "Collecting data for MMM...\n"
     ]
    },
    {
     "name": "stderr",
     "output_type": "stream",
     "text": [
      "C:\\Users\\PRAJWAL\\AppData\\Local\\Temp\\ipykernel_19000\\3832743817.py:18: SettingWithCopyWarning: \n",
      "A value is trying to be set on a copy of a slice from a DataFrame\n",
      "\n",
      "See the caveats in the documentation: https://pandas.pydata.org/pandas-docs/stable/user_guide/indexing.html#returning-a-view-versus-a-copy\n",
      "  stock_data['Return'].replace([np.inf, -np.inf], np.nan, inplace=True)\n",
      "C:\\Users\\PRAJWAL\\AppData\\Local\\Temp\\ipykernel_19000\\3832743817.py:11: FutureWarning: YF.download() has changed argument auto_adjust default to True\n",
      "  stock_data = yf.download(ticker, start=start, end=end, progress=False)\n"
     ]
    },
    {
     "name": "stdout",
     "output_type": "stream",
     "text": [
      "Error collecting data for MMM: ['Return']\n",
      "Collecting data for ORLY...\n"
     ]
    },
    {
     "name": "stderr",
     "output_type": "stream",
     "text": [
      "C:\\Users\\PRAJWAL\\AppData\\Local\\Temp\\ipykernel_19000\\3832743817.py:18: SettingWithCopyWarning: \n",
      "A value is trying to be set on a copy of a slice from a DataFrame\n",
      "\n",
      "See the caveats in the documentation: https://pandas.pydata.org/pandas-docs/stable/user_guide/indexing.html#returning-a-view-versus-a-copy\n",
      "  stock_data['Return'].replace([np.inf, -np.inf], np.nan, inplace=True)\n",
      "C:\\Users\\PRAJWAL\\AppData\\Local\\Temp\\ipykernel_19000\\3832743817.py:11: FutureWarning: YF.download() has changed argument auto_adjust default to True\n",
      "  stock_data = yf.download(ticker, start=start, end=end, progress=False)\n"
     ]
    },
    {
     "name": "stdout",
     "output_type": "stream",
     "text": [
      "Error collecting data for ORLY: ['Return']\n",
      "Collecting data for NOC...\n"
     ]
    },
    {
     "name": "stderr",
     "output_type": "stream",
     "text": [
      "C:\\Users\\PRAJWAL\\AppData\\Local\\Temp\\ipykernel_19000\\3832743817.py:18: SettingWithCopyWarning: \n",
      "A value is trying to be set on a copy of a slice from a DataFrame\n",
      "\n",
      "See the caveats in the documentation: https://pandas.pydata.org/pandas-docs/stable/user_guide/indexing.html#returning-a-view-versus-a-copy\n",
      "  stock_data['Return'].replace([np.inf, -np.inf], np.nan, inplace=True)\n",
      "C:\\Users\\PRAJWAL\\AppData\\Local\\Temp\\ipykernel_19000\\3832743817.py:11: FutureWarning: YF.download() has changed argument auto_adjust default to True\n",
      "  stock_data = yf.download(ticker, start=start, end=end, progress=False)\n"
     ]
    },
    {
     "name": "stdout",
     "output_type": "stream",
     "text": [
      "Error collecting data for NOC: ['Return']\n",
      "Collecting data for COF...\n"
     ]
    },
    {
     "name": "stderr",
     "output_type": "stream",
     "text": [
      "C:\\Users\\PRAJWAL\\AppData\\Local\\Temp\\ipykernel_19000\\3832743817.py:18: SettingWithCopyWarning: \n",
      "A value is trying to be set on a copy of a slice from a DataFrame\n",
      "\n",
      "See the caveats in the documentation: https://pandas.pydata.org/pandas-docs/stable/user_guide/indexing.html#returning-a-view-versus-a-copy\n",
      "  stock_data['Return'].replace([np.inf, -np.inf], np.nan, inplace=True)\n",
      "C:\\Users\\PRAJWAL\\AppData\\Local\\Temp\\ipykernel_19000\\3832743817.py:11: FutureWarning: YF.download() has changed argument auto_adjust default to True\n",
      "  stock_data = yf.download(ticker, start=start, end=end, progress=False)\n"
     ]
    },
    {
     "name": "stdout",
     "output_type": "stream",
     "text": [
      "Error collecting data for COF: ['Return']\n",
      "Collecting data for ECL...\n"
     ]
    },
    {
     "name": "stderr",
     "output_type": "stream",
     "text": [
      "C:\\Users\\PRAJWAL\\AppData\\Local\\Temp\\ipykernel_19000\\3832743817.py:18: SettingWithCopyWarning: \n",
      "A value is trying to be set on a copy of a slice from a DataFrame\n",
      "\n",
      "See the caveats in the documentation: https://pandas.pydata.org/pandas-docs/stable/user_guide/indexing.html#returning-a-view-versus-a-copy\n",
      "  stock_data['Return'].replace([np.inf, -np.inf], np.nan, inplace=True)\n",
      "C:\\Users\\PRAJWAL\\AppData\\Local\\Temp\\ipykernel_19000\\3832743817.py:11: FutureWarning: YF.download() has changed argument auto_adjust default to True\n",
      "  stock_data = yf.download(ticker, start=start, end=end, progress=False)\n"
     ]
    },
    {
     "name": "stdout",
     "output_type": "stream",
     "text": [
      "Error collecting data for ECL: ['Return']\n",
      "Collecting data for EOG...\n"
     ]
    },
    {
     "name": "stderr",
     "output_type": "stream",
     "text": [
      "C:\\Users\\PRAJWAL\\AppData\\Local\\Temp\\ipykernel_19000\\3832743817.py:18: SettingWithCopyWarning: \n",
      "A value is trying to be set on a copy of a slice from a DataFrame\n",
      "\n",
      "See the caveats in the documentation: https://pandas.pydata.org/pandas-docs/stable/user_guide/indexing.html#returning-a-view-versus-a-copy\n",
      "  stock_data['Return'].replace([np.inf, -np.inf], np.nan, inplace=True)\n",
      "C:\\Users\\PRAJWAL\\AppData\\Local\\Temp\\ipykernel_19000\\3832743817.py:11: FutureWarning: YF.download() has changed argument auto_adjust default to True\n",
      "  stock_data = yf.download(ticker, start=start, end=end, progress=False)\n"
     ]
    },
    {
     "name": "stdout",
     "output_type": "stream",
     "text": [
      "Error collecting data for EOG: ['Return']\n",
      "Collecting data for FDX...\n"
     ]
    },
    {
     "name": "stderr",
     "output_type": "stream",
     "text": [
      "C:\\Users\\PRAJWAL\\AppData\\Local\\Temp\\ipykernel_19000\\3832743817.py:18: SettingWithCopyWarning: \n",
      "A value is trying to be set on a copy of a slice from a DataFrame\n",
      "\n",
      "See the caveats in the documentation: https://pandas.pydata.org/pandas-docs/stable/user_guide/indexing.html#returning-a-view-versus-a-copy\n",
      "  stock_data['Return'].replace([np.inf, -np.inf], np.nan, inplace=True)\n",
      "C:\\Users\\PRAJWAL\\AppData\\Local\\Temp\\ipykernel_19000\\3832743817.py:11: FutureWarning: YF.download() has changed argument auto_adjust default to True\n",
      "  stock_data = yf.download(ticker, start=start, end=end, progress=False)\n"
     ]
    },
    {
     "name": "stdout",
     "output_type": "stream",
     "text": [
      "Error collecting data for FDX: ['Return']\n",
      "Collecting data for BDX...\n"
     ]
    },
    {
     "name": "stderr",
     "output_type": "stream",
     "text": [
      "C:\\Users\\PRAJWAL\\AppData\\Local\\Temp\\ipykernel_19000\\3832743817.py:18: SettingWithCopyWarning: \n",
      "A value is trying to be set on a copy of a slice from a DataFrame\n",
      "\n",
      "See the caveats in the documentation: https://pandas.pydata.org/pandas-docs/stable/user_guide/indexing.html#returning-a-view-versus-a-copy\n",
      "  stock_data['Return'].replace([np.inf, -np.inf], np.nan, inplace=True)\n",
      "C:\\Users\\PRAJWAL\\AppData\\Local\\Temp\\ipykernel_19000\\3832743817.py:11: FutureWarning: YF.download() has changed argument auto_adjust default to True\n",
      "  stock_data = yf.download(ticker, start=start, end=end, progress=False)\n"
     ]
    },
    {
     "name": "stdout",
     "output_type": "stream",
     "text": [
      "Error collecting data for BDX: ['Return']\n",
      "Collecting data for APD...\n"
     ]
    },
    {
     "name": "stderr",
     "output_type": "stream",
     "text": [
      "C:\\Users\\PRAJWAL\\AppData\\Local\\Temp\\ipykernel_19000\\3832743817.py:18: SettingWithCopyWarning: \n",
      "A value is trying to be set on a copy of a slice from a DataFrame\n",
      "\n",
      "See the caveats in the documentation: https://pandas.pydata.org/pandas-docs/stable/user_guide/indexing.html#returning-a-view-versus-a-copy\n",
      "  stock_data['Return'].replace([np.inf, -np.inf], np.nan, inplace=True)\n",
      "C:\\Users\\PRAJWAL\\AppData\\Local\\Temp\\ipykernel_19000\\3832743817.py:11: FutureWarning: YF.download() has changed argument auto_adjust default to True\n",
      "  stock_data = yf.download(ticker, start=start, end=end, progress=False)\n"
     ]
    },
    {
     "name": "stdout",
     "output_type": "stream",
     "text": [
      "Error collecting data for APD: ['Return']\n",
      "Collecting data for WMB...\n"
     ]
    },
    {
     "name": "stderr",
     "output_type": "stream",
     "text": [
      "C:\\Users\\PRAJWAL\\AppData\\Local\\Temp\\ipykernel_19000\\3832743817.py:18: SettingWithCopyWarning: \n",
      "A value is trying to be set on a copy of a slice from a DataFrame\n",
      "\n",
      "See the caveats in the documentation: https://pandas.pydata.org/pandas-docs/stable/user_guide/indexing.html#returning-a-view-versus-a-copy\n",
      "  stock_data['Return'].replace([np.inf, -np.inf], np.nan, inplace=True)\n",
      "C:\\Users\\PRAJWAL\\AppData\\Local\\Temp\\ipykernel_19000\\3832743817.py:11: FutureWarning: YF.download() has changed argument auto_adjust default to True\n",
      "  stock_data = yf.download(ticker, start=start, end=end, progress=False)\n"
     ]
    },
    {
     "name": "stdout",
     "output_type": "stream",
     "text": [
      "Error collecting data for WMB: ['Return']\n",
      "Collecting data for SPG...\n"
     ]
    },
    {
     "name": "stderr",
     "output_type": "stream",
     "text": [
      "C:\\Users\\PRAJWAL\\AppData\\Local\\Temp\\ipykernel_19000\\3832743817.py:18: SettingWithCopyWarning: \n",
      "A value is trying to be set on a copy of a slice from a DataFrame\n",
      "\n",
      "See the caveats in the documentation: https://pandas.pydata.org/pandas-docs/stable/user_guide/indexing.html#returning-a-view-versus-a-copy\n",
      "  stock_data['Return'].replace([np.inf, -np.inf], np.nan, inplace=True)\n",
      "C:\\Users\\PRAJWAL\\AppData\\Local\\Temp\\ipykernel_19000\\3832743817.py:11: FutureWarning: YF.download() has changed argument auto_adjust default to True\n",
      "  stock_data = yf.download(ticker, start=start, end=end, progress=False)\n"
     ]
    },
    {
     "name": "stdout",
     "output_type": "stream",
     "text": [
      "Error collecting data for SPG: ['Return']\n",
      "Collecting data for ADSK...\n"
     ]
    },
    {
     "name": "stderr",
     "output_type": "stream",
     "text": [
      "C:\\Users\\PRAJWAL\\AppData\\Local\\Temp\\ipykernel_19000\\3832743817.py:18: SettingWithCopyWarning: \n",
      "A value is trying to be set on a copy of a slice from a DataFrame\n",
      "\n",
      "See the caveats in the documentation: https://pandas.pydata.org/pandas-docs/stable/user_guide/indexing.html#returning-a-view-versus-a-copy\n",
      "  stock_data['Return'].replace([np.inf, -np.inf], np.nan, inplace=True)\n",
      "C:\\Users\\PRAJWAL\\AppData\\Local\\Temp\\ipykernel_19000\\3832743817.py:11: FutureWarning: YF.download() has changed argument auto_adjust default to True\n",
      "  stock_data = yf.download(ticker, start=start, end=end, progress=False)\n"
     ]
    },
    {
     "name": "stdout",
     "output_type": "stream",
     "text": [
      "Error collecting data for ADSK: ['Return']\n",
      "Collecting data for RCL...\n"
     ]
    },
    {
     "name": "stderr",
     "output_type": "stream",
     "text": [
      "C:\\Users\\PRAJWAL\\AppData\\Local\\Temp\\ipykernel_19000\\3832743817.py:18: SettingWithCopyWarning: \n",
      "A value is trying to be set on a copy of a slice from a DataFrame\n",
      "\n",
      "See the caveats in the documentation: https://pandas.pydata.org/pandas-docs/stable/user_guide/indexing.html#returning-a-view-versus-a-copy\n",
      "  stock_data['Return'].replace([np.inf, -np.inf], np.nan, inplace=True)\n",
      "C:\\Users\\PRAJWAL\\AppData\\Local\\Temp\\ipykernel_19000\\3832743817.py:11: FutureWarning: YF.download() has changed argument auto_adjust default to True\n",
      "  stock_data = yf.download(ticker, start=start, end=end, progress=False)\n"
     ]
    },
    {
     "name": "stdout",
     "output_type": "stream",
     "text": [
      "Error collecting data for RCL: ['Return']\n",
      "Collecting data for RSG...\n"
     ]
    },
    {
     "name": "stderr",
     "output_type": "stream",
     "text": [
      "C:\\Users\\PRAJWAL\\AppData\\Local\\Temp\\ipykernel_19000\\3832743817.py:18: SettingWithCopyWarning: \n",
      "A value is trying to be set on a copy of a slice from a DataFrame\n",
      "\n",
      "See the caveats in the documentation: https://pandas.pydata.org/pandas-docs/stable/user_guide/indexing.html#returning-a-view-versus-a-copy\n",
      "  stock_data['Return'].replace([np.inf, -np.inf], np.nan, inplace=True)\n",
      "C:\\Users\\PRAJWAL\\AppData\\Local\\Temp\\ipykernel_19000\\3832743817.py:11: FutureWarning: YF.download() has changed argument auto_adjust default to True\n",
      "  stock_data = yf.download(ticker, start=start, end=end, progress=False)\n"
     ]
    },
    {
     "name": "stdout",
     "output_type": "stream",
     "text": [
      "Error collecting data for RSG: ['Return']\n",
      "Collecting data for CARR...\n"
     ]
    },
    {
     "name": "stderr",
     "output_type": "stream",
     "text": [
      "C:\\Users\\PRAJWAL\\AppData\\Local\\Temp\\ipykernel_19000\\3832743817.py:18: SettingWithCopyWarning: \n",
      "A value is trying to be set on a copy of a slice from a DataFrame\n",
      "\n",
      "See the caveats in the documentation: https://pandas.pydata.org/pandas-docs/stable/user_guide/indexing.html#returning-a-view-versus-a-copy\n",
      "  stock_data['Return'].replace([np.inf, -np.inf], np.nan, inplace=True)\n",
      "C:\\Users\\PRAJWAL\\AppData\\Local\\Temp\\ipykernel_19000\\3832743817.py:11: FutureWarning: YF.download() has changed argument auto_adjust default to True\n",
      "  stock_data = yf.download(ticker, start=start, end=end, progress=False)\n"
     ]
    },
    {
     "name": "stdout",
     "output_type": "stream",
     "text": [
      "Error collecting data for CARR: ['Return']\n",
      "Collecting data for CSX...\n"
     ]
    },
    {
     "name": "stderr",
     "output_type": "stream",
     "text": [
      "C:\\Users\\PRAJWAL\\AppData\\Local\\Temp\\ipykernel_19000\\3832743817.py:18: SettingWithCopyWarning: \n",
      "A value is trying to be set on a copy of a slice from a DataFrame\n",
      "\n",
      "See the caveats in the documentation: https://pandas.pydata.org/pandas-docs/stable/user_guide/indexing.html#returning-a-view-versus-a-copy\n",
      "  stock_data['Return'].replace([np.inf, -np.inf], np.nan, inplace=True)\n",
      "C:\\Users\\PRAJWAL\\AppData\\Local\\Temp\\ipykernel_19000\\3832743817.py:11: FutureWarning: YF.download() has changed argument auto_adjust default to True\n",
      "  stock_data = yf.download(ticker, start=start, end=end, progress=False)\n"
     ]
    },
    {
     "name": "stdout",
     "output_type": "stream",
     "text": [
      "Error collecting data for CSX: ['Return']\n",
      "Collecting data for HLT...\n"
     ]
    },
    {
     "name": "stderr",
     "output_type": "stream",
     "text": [
      "C:\\Users\\PRAJWAL\\AppData\\Local\\Temp\\ipykernel_19000\\3832743817.py:18: SettingWithCopyWarning: \n",
      "A value is trying to be set on a copy of a slice from a DataFrame\n",
      "\n",
      "See the caveats in the documentation: https://pandas.pydata.org/pandas-docs/stable/user_guide/indexing.html#returning-a-view-versus-a-copy\n",
      "  stock_data['Return'].replace([np.inf, -np.inf], np.nan, inplace=True)\n",
      "C:\\Users\\PRAJWAL\\AppData\\Local\\Temp\\ipykernel_19000\\3832743817.py:11: FutureWarning: YF.download() has changed argument auto_adjust default to True\n",
      "  stock_data = yf.download(ticker, start=start, end=end, progress=False)\n"
     ]
    },
    {
     "name": "stdout",
     "output_type": "stream",
     "text": [
      "Error collecting data for HLT: ['Return']\n",
      "Collecting data for DLR...\n"
     ]
    },
    {
     "name": "stderr",
     "output_type": "stream",
     "text": [
      "C:\\Users\\PRAJWAL\\AppData\\Local\\Temp\\ipykernel_19000\\3832743817.py:18: SettingWithCopyWarning: \n",
      "A value is trying to be set on a copy of a slice from a DataFrame\n",
      "\n",
      "See the caveats in the documentation: https://pandas.pydata.org/pandas-docs/stable/user_guide/indexing.html#returning-a-view-versus-a-copy\n",
      "  stock_data['Return'].replace([np.inf, -np.inf], np.nan, inplace=True)\n",
      "C:\\Users\\PRAJWAL\\AppData\\Local\\Temp\\ipykernel_19000\\3832743817.py:11: FutureWarning: YF.download() has changed argument auto_adjust default to True\n",
      "  stock_data = yf.download(ticker, start=start, end=end, progress=False)\n"
     ]
    },
    {
     "name": "stdout",
     "output_type": "stream",
     "text": [
      "Error collecting data for DLR: ['Return']\n",
      "Collecting data for TGT...\n"
     ]
    },
    {
     "name": "stderr",
     "output_type": "stream",
     "text": [
      "C:\\Users\\PRAJWAL\\AppData\\Local\\Temp\\ipykernel_19000\\3832743817.py:18: SettingWithCopyWarning: \n",
      "A value is trying to be set on a copy of a slice from a DataFrame\n",
      "\n",
      "See the caveats in the documentation: https://pandas.pydata.org/pandas-docs/stable/user_guide/indexing.html#returning-a-view-versus-a-copy\n",
      "  stock_data['Return'].replace([np.inf, -np.inf], np.nan, inplace=True)\n",
      "C:\\Users\\PRAJWAL\\AppData\\Local\\Temp\\ipykernel_19000\\3832743817.py:11: FutureWarning: YF.download() has changed argument auto_adjust default to True\n",
      "  stock_data = yf.download(ticker, start=start, end=end, progress=False)\n"
     ]
    },
    {
     "name": "stdout",
     "output_type": "stream",
     "text": [
      "Error collecting data for TGT: ['Return']\n",
      "Collecting data for KMI...\n"
     ]
    },
    {
     "name": "stderr",
     "output_type": "stream",
     "text": [
      "C:\\Users\\PRAJWAL\\AppData\\Local\\Temp\\ipykernel_19000\\3832743817.py:18: SettingWithCopyWarning: \n",
      "A value is trying to be set on a copy of a slice from a DataFrame\n",
      "\n",
      "See the caveats in the documentation: https://pandas.pydata.org/pandas-docs/stable/user_guide/indexing.html#returning-a-view-versus-a-copy\n",
      "  stock_data['Return'].replace([np.inf, -np.inf], np.nan, inplace=True)\n",
      "C:\\Users\\PRAJWAL\\AppData\\Local\\Temp\\ipykernel_19000\\3832743817.py:11: FutureWarning: YF.download() has changed argument auto_adjust default to True\n",
      "  stock_data = yf.download(ticker, start=start, end=end, progress=False)\n"
     ]
    },
    {
     "name": "stdout",
     "output_type": "stream",
     "text": [
      "Error collecting data for KMI: ['Return']\n",
      "Collecting data for OKE...\n"
     ]
    },
    {
     "name": "stderr",
     "output_type": "stream",
     "text": [
      "C:\\Users\\PRAJWAL\\AppData\\Local\\Temp\\ipykernel_19000\\3832743817.py:18: SettingWithCopyWarning: \n",
      "A value is trying to be set on a copy of a slice from a DataFrame\n",
      "\n",
      "See the caveats in the documentation: https://pandas.pydata.org/pandas-docs/stable/user_guide/indexing.html#returning-a-view-versus-a-copy\n",
      "  stock_data['Return'].replace([np.inf, -np.inf], np.nan, inplace=True)\n",
      "C:\\Users\\PRAJWAL\\AppData\\Local\\Temp\\ipykernel_19000\\3832743817.py:11: FutureWarning: YF.download() has changed argument auto_adjust default to True\n",
      "  stock_data = yf.download(ticker, start=start, end=end, progress=False)\n"
     ]
    },
    {
     "name": "stdout",
     "output_type": "stream",
     "text": [
      "Error collecting data for OKE: ['Return']\n",
      "Collecting data for TFC...\n"
     ]
    },
    {
     "name": "stderr",
     "output_type": "stream",
     "text": [
      "C:\\Users\\PRAJWAL\\AppData\\Local\\Temp\\ipykernel_19000\\3832743817.py:18: SettingWithCopyWarning: \n",
      "A value is trying to be set on a copy of a slice from a DataFrame\n",
      "\n",
      "See the caveats in the documentation: https://pandas.pydata.org/pandas-docs/stable/user_guide/indexing.html#returning-a-view-versus-a-copy\n",
      "  stock_data['Return'].replace([np.inf, -np.inf], np.nan, inplace=True)\n",
      "C:\\Users\\PRAJWAL\\AppData\\Local\\Temp\\ipykernel_19000\\3832743817.py:11: FutureWarning: YF.download() has changed argument auto_adjust default to True\n",
      "  stock_data = yf.download(ticker, start=start, end=end, progress=False)\n"
     ]
    },
    {
     "name": "stdout",
     "output_type": "stream",
     "text": [
      "Error collecting data for TFC: ['Return']\n",
      "Collecting data for AFL...\n"
     ]
    },
    {
     "name": "stderr",
     "output_type": "stream",
     "text": [
      "C:\\Users\\PRAJWAL\\AppData\\Local\\Temp\\ipykernel_19000\\3832743817.py:18: SettingWithCopyWarning: \n",
      "A value is trying to be set on a copy of a slice from a DataFrame\n",
      "\n",
      "See the caveats in the documentation: https://pandas.pydata.org/pandas-docs/stable/user_guide/indexing.html#returning-a-view-versus-a-copy\n",
      "  stock_data['Return'].replace([np.inf, -np.inf], np.nan, inplace=True)\n",
      "C:\\Users\\PRAJWAL\\AppData\\Local\\Temp\\ipykernel_19000\\3832743817.py:11: FutureWarning: YF.download() has changed argument auto_adjust default to True\n",
      "  stock_data = yf.download(ticker, start=start, end=end, progress=False)\n"
     ]
    },
    {
     "name": "stdout",
     "output_type": "stream",
     "text": [
      "Error collecting data for AFL: ['Return']\n",
      "Collecting data for GM...\n"
     ]
    },
    {
     "name": "stderr",
     "output_type": "stream",
     "text": [
      "C:\\Users\\PRAJWAL\\AppData\\Local\\Temp\\ipykernel_19000\\3832743817.py:18: SettingWithCopyWarning: \n",
      "A value is trying to be set on a copy of a slice from a DataFrame\n",
      "\n",
      "See the caveats in the documentation: https://pandas.pydata.org/pandas-docs/stable/user_guide/indexing.html#returning-a-view-versus-a-copy\n",
      "  stock_data['Return'].replace([np.inf, -np.inf], np.nan, inplace=True)\n",
      "C:\\Users\\PRAJWAL\\AppData\\Local\\Temp\\ipykernel_19000\\3832743817.py:11: FutureWarning: YF.download() has changed argument auto_adjust default to True\n",
      "  stock_data = yf.download(ticker, start=start, end=end, progress=False)\n"
     ]
    },
    {
     "name": "stdout",
     "output_type": "stream",
     "text": [
      "Error collecting data for GM: ['Return']\n",
      "Collecting data for BK...\n"
     ]
    },
    {
     "name": "stderr",
     "output_type": "stream",
     "text": [
      "C:\\Users\\PRAJWAL\\AppData\\Local\\Temp\\ipykernel_19000\\3832743817.py:18: SettingWithCopyWarning: \n",
      "A value is trying to be set on a copy of a slice from a DataFrame\n",
      "\n",
      "See the caveats in the documentation: https://pandas.pydata.org/pandas-docs/stable/user_guide/indexing.html#returning-a-view-versus-a-copy\n",
      "  stock_data['Return'].replace([np.inf, -np.inf], np.nan, inplace=True)\n",
      "C:\\Users\\PRAJWAL\\AppData\\Local\\Temp\\ipykernel_19000\\3832743817.py:11: FutureWarning: YF.download() has changed argument auto_adjust default to True\n",
      "  stock_data = yf.download(ticker, start=start, end=end, progress=False)\n"
     ]
    },
    {
     "name": "stdout",
     "output_type": "stream",
     "text": [
      "Error collecting data for BK: ['Return']\n",
      "Collecting data for ROP...\n"
     ]
    },
    {
     "name": "stderr",
     "output_type": "stream",
     "text": [
      "C:\\Users\\PRAJWAL\\AppData\\Local\\Temp\\ipykernel_19000\\3832743817.py:18: SettingWithCopyWarning: \n",
      "A value is trying to be set on a copy of a slice from a DataFrame\n",
      "\n",
      "See the caveats in the documentation: https://pandas.pydata.org/pandas-docs/stable/user_guide/indexing.html#returning-a-view-versus-a-copy\n",
      "  stock_data['Return'].replace([np.inf, -np.inf], np.nan, inplace=True)\n",
      "C:\\Users\\PRAJWAL\\AppData\\Local\\Temp\\ipykernel_19000\\3832743817.py:11: FutureWarning: YF.download() has changed argument auto_adjust default to True\n",
      "  stock_data = yf.download(ticker, start=start, end=end, progress=False)\n"
     ]
    },
    {
     "name": "stdout",
     "output_type": "stream",
     "text": [
      "Error collecting data for ROP: ['Return']\n",
      "Collecting data for MET...\n"
     ]
    },
    {
     "name": "stderr",
     "output_type": "stream",
     "text": [
      "C:\\Users\\PRAJWAL\\AppData\\Local\\Temp\\ipykernel_19000\\3832743817.py:18: SettingWithCopyWarning: \n",
      "A value is trying to be set on a copy of a slice from a DataFrame\n",
      "\n",
      "See the caveats in the documentation: https://pandas.pydata.org/pandas-docs/stable/user_guide/indexing.html#returning-a-view-versus-a-copy\n",
      "  stock_data['Return'].replace([np.inf, -np.inf], np.nan, inplace=True)\n",
      "C:\\Users\\PRAJWAL\\AppData\\Local\\Temp\\ipykernel_19000\\3832743817.py:11: FutureWarning: YF.download() has changed argument auto_adjust default to True\n",
      "  stock_data = yf.download(ticker, start=start, end=end, progress=False)\n"
     ]
    },
    {
     "name": "stdout",
     "output_type": "stream",
     "text": [
      "Error collecting data for MET: ['Return']\n",
      "Collecting data for CPRT...\n"
     ]
    },
    {
     "name": "stderr",
     "output_type": "stream",
     "text": [
      "C:\\Users\\PRAJWAL\\AppData\\Local\\Temp\\ipykernel_19000\\3832743817.py:18: SettingWithCopyWarning: \n",
      "A value is trying to be set on a copy of a slice from a DataFrame\n",
      "\n",
      "See the caveats in the documentation: https://pandas.pydata.org/pandas-docs/stable/user_guide/indexing.html#returning-a-view-versus-a-copy\n",
      "  stock_data['Return'].replace([np.inf, -np.inf], np.nan, inplace=True)\n",
      "C:\\Users\\PRAJWAL\\AppData\\Local\\Temp\\ipykernel_19000\\3832743817.py:11: FutureWarning: YF.download() has changed argument auto_adjust default to True\n",
      "  stock_data = yf.download(ticker, start=start, end=end, progress=False)\n"
     ]
    },
    {
     "name": "stdout",
     "output_type": "stream",
     "text": [
      "Error collecting data for CPRT: ['Return']\n",
      "Collecting data for FCX...\n"
     ]
    },
    {
     "name": "stderr",
     "output_type": "stream",
     "text": [
      "C:\\Users\\PRAJWAL\\AppData\\Local\\Temp\\ipykernel_19000\\3832743817.py:18: SettingWithCopyWarning: \n",
      "A value is trying to be set on a copy of a slice from a DataFrame\n",
      "\n",
      "See the caveats in the documentation: https://pandas.pydata.org/pandas-docs/stable/user_guide/indexing.html#returning-a-view-versus-a-copy\n",
      "  stock_data['Return'].replace([np.inf, -np.inf], np.nan, inplace=True)\n",
      "C:\\Users\\PRAJWAL\\AppData\\Local\\Temp\\ipykernel_19000\\3832743817.py:11: FutureWarning: YF.download() has changed argument auto_adjust default to True\n",
      "  stock_data = yf.download(ticker, start=start, end=end, progress=False)\n"
     ]
    },
    {
     "name": "stdout",
     "output_type": "stream",
     "text": [
      "Error collecting data for FCX: ['Return']\n",
      "Collecting data for CVS...\n"
     ]
    },
    {
     "name": "stderr",
     "output_type": "stream",
     "text": [
      "C:\\Users\\PRAJWAL\\AppData\\Local\\Temp\\ipykernel_19000\\3832743817.py:18: SettingWithCopyWarning: \n",
      "A value is trying to be set on a copy of a slice from a DataFrame\n",
      "\n",
      "See the caveats in the documentation: https://pandas.pydata.org/pandas-docs/stable/user_guide/indexing.html#returning-a-view-versus-a-copy\n",
      "  stock_data['Return'].replace([np.inf, -np.inf], np.nan, inplace=True)\n",
      "C:\\Users\\PRAJWAL\\AppData\\Local\\Temp\\ipykernel_19000\\3832743817.py:11: FutureWarning: YF.download() has changed argument auto_adjust default to True\n",
      "  stock_data = yf.download(ticker, start=start, end=end, progress=False)\n"
     ]
    },
    {
     "name": "stdout",
     "output_type": "stream",
     "text": [
      "Error collecting data for CVS: ['Return']\n",
      "Collecting data for PCAR...\n"
     ]
    },
    {
     "name": "stderr",
     "output_type": "stream",
     "text": [
      "C:\\Users\\PRAJWAL\\AppData\\Local\\Temp\\ipykernel_19000\\3832743817.py:18: SettingWithCopyWarning: \n",
      "A value is trying to be set on a copy of a slice from a DataFrame\n",
      "\n",
      "See the caveats in the documentation: https://pandas.pydata.org/pandas-docs/stable/user_guide/indexing.html#returning-a-view-versus-a-copy\n",
      "  stock_data['Return'].replace([np.inf, -np.inf], np.nan, inplace=True)\n",
      "C:\\Users\\PRAJWAL\\AppData\\Local\\Temp\\ipykernel_19000\\3832743817.py:11: FutureWarning: YF.download() has changed argument auto_adjust default to True\n",
      "  stock_data = yf.download(ticker, start=start, end=end, progress=False)\n"
     ]
    },
    {
     "name": "stdout",
     "output_type": "stream",
     "text": [
      "Error collecting data for PCAR: ['Return']\n",
      "Collecting data for SRE...\n"
     ]
    },
    {
     "name": "stderr",
     "output_type": "stream",
     "text": [
      "C:\\Users\\PRAJWAL\\AppData\\Local\\Temp\\ipykernel_19000\\3832743817.py:18: SettingWithCopyWarning: \n",
      "A value is trying to be set on a copy of a slice from a DataFrame\n",
      "\n",
      "See the caveats in the documentation: https://pandas.pydata.org/pandas-docs/stable/user_guide/indexing.html#returning-a-view-versus-a-copy\n",
      "  stock_data['Return'].replace([np.inf, -np.inf], np.nan, inplace=True)\n",
      "C:\\Users\\PRAJWAL\\AppData\\Local\\Temp\\ipykernel_19000\\3832743817.py:11: FutureWarning: YF.download() has changed argument auto_adjust default to True\n",
      "  stock_data = yf.download(ticker, start=start, end=end, progress=False)\n"
     ]
    },
    {
     "name": "stdout",
     "output_type": "stream",
     "text": [
      "Error collecting data for SRE: ['Return']\n",
      "Collecting data for AZO...\n"
     ]
    },
    {
     "name": "stderr",
     "output_type": "stream",
     "text": [
      "C:\\Users\\PRAJWAL\\AppData\\Local\\Temp\\ipykernel_19000\\3832743817.py:18: SettingWithCopyWarning: \n",
      "A value is trying to be set on a copy of a slice from a DataFrame\n",
      "\n",
      "See the caveats in the documentation: https://pandas.pydata.org/pandas-docs/stable/user_guide/indexing.html#returning-a-view-versus-a-copy\n",
      "  stock_data['Return'].replace([np.inf, -np.inf], np.nan, inplace=True)\n",
      "C:\\Users\\PRAJWAL\\AppData\\Local\\Temp\\ipykernel_19000\\3832743817.py:11: FutureWarning: YF.download() has changed argument auto_adjust default to True\n",
      "  stock_data = yf.download(ticker, start=start, end=end, progress=False)\n"
     ]
    },
    {
     "name": "stdout",
     "output_type": "stream",
     "text": [
      "Error collecting data for AZO: ['Return']\n",
      "Collecting data for TRV...\n"
     ]
    },
    {
     "name": "stderr",
     "output_type": "stream",
     "text": [
      "C:\\Users\\PRAJWAL\\AppData\\Local\\Temp\\ipykernel_19000\\3832743817.py:18: SettingWithCopyWarning: \n",
      "A value is trying to be set on a copy of a slice from a DataFrame\n",
      "\n",
      "See the caveats in the documentation: https://pandas.pydata.org/pandas-docs/stable/user_guide/indexing.html#returning-a-view-versus-a-copy\n",
      "  stock_data['Return'].replace([np.inf, -np.inf], np.nan, inplace=True)\n",
      "C:\\Users\\PRAJWAL\\AppData\\Local\\Temp\\ipykernel_19000\\3832743817.py:11: FutureWarning: YF.download() has changed argument auto_adjust default to True\n",
      "  stock_data = yf.download(ticker, start=start, end=end, progress=False)\n"
     ]
    },
    {
     "name": "stdout",
     "output_type": "stream",
     "text": [
      "Error collecting data for TRV: ['Return']\n",
      "Collecting data for NXPI...\n"
     ]
    },
    {
     "name": "stderr",
     "output_type": "stream",
     "text": [
      "C:\\Users\\PRAJWAL\\AppData\\Local\\Temp\\ipykernel_19000\\3832743817.py:18: SettingWithCopyWarning: \n",
      "A value is trying to be set on a copy of a slice from a DataFrame\n",
      "\n",
      "See the caveats in the documentation: https://pandas.pydata.org/pandas-docs/stable/user_guide/indexing.html#returning-a-view-versus-a-copy\n",
      "  stock_data['Return'].replace([np.inf, -np.inf], np.nan, inplace=True)\n",
      "C:\\Users\\PRAJWAL\\AppData\\Local\\Temp\\ipykernel_19000\\3832743817.py:11: FutureWarning: YF.download() has changed argument auto_adjust default to True\n",
      "  stock_data = yf.download(ticker, start=start, end=end, progress=False)\n"
     ]
    },
    {
     "name": "stdout",
     "output_type": "stream",
     "text": [
      "Error collecting data for NXPI: ['Return']\n",
      "Collecting data for JCI...\n"
     ]
    },
    {
     "name": "stderr",
     "output_type": "stream",
     "text": [
      "C:\\Users\\PRAJWAL\\AppData\\Local\\Temp\\ipykernel_19000\\3832743817.py:18: SettingWithCopyWarning: \n",
      "A value is trying to be set on a copy of a slice from a DataFrame\n",
      "\n",
      "See the caveats in the documentation: https://pandas.pydata.org/pandas-docs/stable/user_guide/indexing.html#returning-a-view-versus-a-copy\n",
      "  stock_data['Return'].replace([np.inf, -np.inf], np.nan, inplace=True)\n",
      "C:\\Users\\PRAJWAL\\AppData\\Local\\Temp\\ipykernel_19000\\3832743817.py:11: FutureWarning: YF.download() has changed argument auto_adjust default to True\n",
      "  stock_data = yf.download(ticker, start=start, end=end, progress=False)\n"
     ]
    },
    {
     "name": "stdout",
     "output_type": "stream",
     "text": [
      "Error collecting data for JCI: ['Return']\n",
      "Collecting data for GWW...\n"
     ]
    },
    {
     "name": "stderr",
     "output_type": "stream",
     "text": [
      "C:\\Users\\PRAJWAL\\AppData\\Local\\Temp\\ipykernel_19000\\3832743817.py:18: SettingWithCopyWarning: \n",
      "A value is trying to be set on a copy of a slice from a DataFrame\n",
      "\n",
      "See the caveats in the documentation: https://pandas.pydata.org/pandas-docs/stable/user_guide/indexing.html#returning-a-view-versus-a-copy\n",
      "  stock_data['Return'].replace([np.inf, -np.inf], np.nan, inplace=True)\n",
      "C:\\Users\\PRAJWAL\\AppData\\Local\\Temp\\ipykernel_19000\\3832743817.py:11: FutureWarning: YF.download() has changed argument auto_adjust default to True\n",
      "  stock_data = yf.download(ticker, start=start, end=end, progress=False)\n"
     ]
    },
    {
     "name": "stdout",
     "output_type": "stream",
     "text": [
      "Error collecting data for GWW: ['Return']\n",
      "Collecting data for NSC...\n"
     ]
    },
    {
     "name": "stderr",
     "output_type": "stream",
     "text": [
      "C:\\Users\\PRAJWAL\\AppData\\Local\\Temp\\ipykernel_19000\\3832743817.py:18: SettingWithCopyWarning: \n",
      "A value is trying to be set on a copy of a slice from a DataFrame\n",
      "\n",
      "See the caveats in the documentation: https://pandas.pydata.org/pandas-docs/stable/user_guide/indexing.html#returning-a-view-versus-a-copy\n",
      "  stock_data['Return'].replace([np.inf, -np.inf], np.nan, inplace=True)\n",
      "C:\\Users\\PRAJWAL\\AppData\\Local\\Temp\\ipykernel_19000\\3832743817.py:11: FutureWarning: YF.download() has changed argument auto_adjust default to True\n",
      "  stock_data = yf.download(ticker, start=start, end=end, progress=False)\n"
     ]
    },
    {
     "name": "stdout",
     "output_type": "stream",
     "text": [
      "Error collecting data for NSC: ['Return']\n",
      "Collecting data for PSA...\n"
     ]
    },
    {
     "name": "stderr",
     "output_type": "stream",
     "text": [
      "C:\\Users\\PRAJWAL\\AppData\\Local\\Temp\\ipykernel_19000\\3832743817.py:18: SettingWithCopyWarning: \n",
      "A value is trying to be set on a copy of a slice from a DataFrame\n",
      "\n",
      "See the caveats in the documentation: https://pandas.pydata.org/pandas-docs/stable/user_guide/indexing.html#returning-a-view-versus-a-copy\n",
      "  stock_data['Return'].replace([np.inf, -np.inf], np.nan, inplace=True)\n",
      "C:\\Users\\PRAJWAL\\AppData\\Local\\Temp\\ipykernel_19000\\3832743817.py:11: FutureWarning: YF.download() has changed argument auto_adjust default to True\n",
      "  stock_data = yf.download(ticker, start=start, end=end, progress=False)\n"
     ]
    },
    {
     "name": "stdout",
     "output_type": "stream",
     "text": [
      "Error collecting data for PSA: ['Return']\n",
      "Collecting data for SLB...\n"
     ]
    },
    {
     "name": "stderr",
     "output_type": "stream",
     "text": [
      "C:\\Users\\PRAJWAL\\AppData\\Local\\Temp\\ipykernel_19000\\3832743817.py:18: SettingWithCopyWarning: \n",
      "A value is trying to be set on a copy of a slice from a DataFrame\n",
      "\n",
      "See the caveats in the documentation: https://pandas.pydata.org/pandas-docs/stable/user_guide/indexing.html#returning-a-view-versus-a-copy\n",
      "  stock_data['Return'].replace([np.inf, -np.inf], np.nan, inplace=True)\n",
      "C:\\Users\\PRAJWAL\\AppData\\Local\\Temp\\ipykernel_19000\\3832743817.py:11: FutureWarning: YF.download() has changed argument auto_adjust default to True\n",
      "  stock_data = yf.download(ticker, start=start, end=end, progress=False)\n"
     ]
    },
    {
     "name": "stdout",
     "output_type": "stream",
     "text": [
      "Error collecting data for SLB: ['Return']\n",
      "Collecting data for AMP...\n"
     ]
    },
    {
     "name": "stderr",
     "output_type": "stream",
     "text": [
      "C:\\Users\\PRAJWAL\\AppData\\Local\\Temp\\ipykernel_19000\\3832743817.py:18: SettingWithCopyWarning: \n",
      "A value is trying to be set on a copy of a slice from a DataFrame\n",
      "\n",
      "See the caveats in the documentation: https://pandas.pydata.org/pandas-docs/stable/user_guide/indexing.html#returning-a-view-versus-a-copy\n",
      "  stock_data['Return'].replace([np.inf, -np.inf], np.nan, inplace=True)\n",
      "C:\\Users\\PRAJWAL\\AppData\\Local\\Temp\\ipykernel_19000\\3832743817.py:11: FutureWarning: YF.download() has changed argument auto_adjust default to True\n",
      "  stock_data = yf.download(ticker, start=start, end=end, progress=False)\n"
     ]
    },
    {
     "name": "stdout",
     "output_type": "stream",
     "text": [
      "Error collecting data for AMP: ['Return']\n",
      "Collecting data for ALL...\n"
     ]
    },
    {
     "name": "stderr",
     "output_type": "stream",
     "text": [
      "C:\\Users\\PRAJWAL\\AppData\\Local\\Temp\\ipykernel_19000\\3832743817.py:18: SettingWithCopyWarning: \n",
      "A value is trying to be set on a copy of a slice from a DataFrame\n",
      "\n",
      "See the caveats in the documentation: https://pandas.pydata.org/pandas-docs/stable/user_guide/indexing.html#returning-a-view-versus-a-copy\n",
      "  stock_data['Return'].replace([np.inf, -np.inf], np.nan, inplace=True)\n",
      "C:\\Users\\PRAJWAL\\AppData\\Local\\Temp\\ipykernel_19000\\3832743817.py:11: FutureWarning: YF.download() has changed argument auto_adjust default to True\n",
      "  stock_data = yf.download(ticker, start=start, end=end, progress=False)\n"
     ]
    },
    {
     "name": "stdout",
     "output_type": "stream",
     "text": [
      "Error collecting data for ALL: ['Return']\n",
      "Collecting data for FICO...\n"
     ]
    },
    {
     "name": "stderr",
     "output_type": "stream",
     "text": [
      "C:\\Users\\PRAJWAL\\AppData\\Local\\Temp\\ipykernel_19000\\3832743817.py:18: SettingWithCopyWarning: \n",
      "A value is trying to be set on a copy of a slice from a DataFrame\n",
      "\n",
      "See the caveats in the documentation: https://pandas.pydata.org/pandas-docs/stable/user_guide/indexing.html#returning-a-view-versus-a-copy\n",
      "  stock_data['Return'].replace([np.inf, -np.inf], np.nan, inplace=True)\n",
      "C:\\Users\\PRAJWAL\\AppData\\Local\\Temp\\ipykernel_19000\\3832743817.py:11: FutureWarning: YF.download() has changed argument auto_adjust default to True\n",
      "  stock_data = yf.download(ticker, start=start, end=end, progress=False)\n"
     ]
    },
    {
     "name": "stdout",
     "output_type": "stream",
     "text": [
      "Error collecting data for FICO: ['Return']\n",
      "Collecting data for MNST...\n"
     ]
    },
    {
     "name": "stderr",
     "output_type": "stream",
     "text": [
      "C:\\Users\\PRAJWAL\\AppData\\Local\\Temp\\ipykernel_19000\\3832743817.py:18: SettingWithCopyWarning: \n",
      "A value is trying to be set on a copy of a slice from a DataFrame\n",
      "\n",
      "See the caveats in the documentation: https://pandas.pydata.org/pandas-docs/stable/user_guide/indexing.html#returning-a-view-versus-a-copy\n",
      "  stock_data['Return'].replace([np.inf, -np.inf], np.nan, inplace=True)\n",
      "C:\\Users\\PRAJWAL\\AppData\\Local\\Temp\\ipykernel_19000\\3832743817.py:11: FutureWarning: YF.download() has changed argument auto_adjust default to True\n",
      "  stock_data = yf.download(ticker, start=start, end=end, progress=False)\n"
     ]
    },
    {
     "name": "stdout",
     "output_type": "stream",
     "text": [
      "Error collecting data for MNST: ['Return']\n",
      "Collecting data for PAYX...\n"
     ]
    },
    {
     "name": "stderr",
     "output_type": "stream",
     "text": [
      "C:\\Users\\PRAJWAL\\AppData\\Local\\Temp\\ipykernel_19000\\3832743817.py:18: SettingWithCopyWarning: \n",
      "A value is trying to be set on a copy of a slice from a DataFrame\n",
      "\n",
      "See the caveats in the documentation: https://pandas.pydata.org/pandas-docs/stable/user_guide/indexing.html#returning-a-view-versus-a-copy\n",
      "  stock_data['Return'].replace([np.inf, -np.inf], np.nan, inplace=True)\n",
      "C:\\Users\\PRAJWAL\\AppData\\Local\\Temp\\ipykernel_19000\\3832743817.py:11: FutureWarning: YF.download() has changed argument auto_adjust default to True\n",
      "  stock_data = yf.download(ticker, start=start, end=end, progress=False)\n"
     ]
    },
    {
     "name": "stdout",
     "output_type": "stream",
     "text": [
      "Error collecting data for PAYX: ['Return']\n",
      "Collecting data for CHTR...\n"
     ]
    },
    {
     "name": "stderr",
     "output_type": "stream",
     "text": [
      "C:\\Users\\PRAJWAL\\AppData\\Local\\Temp\\ipykernel_19000\\3832743817.py:18: SettingWithCopyWarning: \n",
      "A value is trying to be set on a copy of a slice from a DataFrame\n",
      "\n",
      "See the caveats in the documentation: https://pandas.pydata.org/pandas-docs/stable/user_guide/indexing.html#returning-a-view-versus-a-copy\n",
      "  stock_data['Return'].replace([np.inf, -np.inf], np.nan, inplace=True)\n",
      "C:\\Users\\PRAJWAL\\AppData\\Local\\Temp\\ipykernel_19000\\3832743817.py:11: FutureWarning: YF.download() has changed argument auto_adjust default to True\n",
      "  stock_data = yf.download(ticker, start=start, end=end, progress=False)\n"
     ]
    },
    {
     "name": "stdout",
     "output_type": "stream",
     "text": [
      "Error collecting data for CHTR: ['Return']\n",
      "Collecting data for AEP...\n"
     ]
    },
    {
     "name": "stderr",
     "output_type": "stream",
     "text": [
      "C:\\Users\\PRAJWAL\\AppData\\Local\\Temp\\ipykernel_19000\\3832743817.py:18: SettingWithCopyWarning: \n",
      "A value is trying to be set on a copy of a slice from a DataFrame\n",
      "\n",
      "See the caveats in the documentation: https://pandas.pydata.org/pandas-docs/stable/user_guide/indexing.html#returning-a-view-versus-a-copy\n",
      "  stock_data['Return'].replace([np.inf, -np.inf], np.nan, inplace=True)\n",
      "C:\\Users\\PRAJWAL\\AppData\\Local\\Temp\\ipykernel_19000\\3832743817.py:11: FutureWarning: YF.download() has changed argument auto_adjust default to True\n",
      "  stock_data = yf.download(ticker, start=start, end=end, progress=False)\n"
     ]
    },
    {
     "name": "stdout",
     "output_type": "stream",
     "text": [
      "Error collecting data for AEP: ['Return']\n",
      "Collecting data for ROST...\n"
     ]
    },
    {
     "name": "stderr",
     "output_type": "stream",
     "text": [
      "C:\\Users\\PRAJWAL\\AppData\\Local\\Temp\\ipykernel_19000\\3832743817.py:18: SettingWithCopyWarning: \n",
      "A value is trying to be set on a copy of a slice from a DataFrame\n",
      "\n",
      "See the caveats in the documentation: https://pandas.pydata.org/pandas-docs/stable/user_guide/indexing.html#returning-a-view-versus-a-copy\n",
      "  stock_data['Return'].replace([np.inf, -np.inf], np.nan, inplace=True)\n",
      "C:\\Users\\PRAJWAL\\AppData\\Local\\Temp\\ipykernel_19000\\3832743817.py:11: FutureWarning: YF.download() has changed argument auto_adjust default to True\n",
      "  stock_data = yf.download(ticker, start=start, end=end, progress=False)\n"
     ]
    },
    {
     "name": "stdout",
     "output_type": "stream",
     "text": [
      "Error collecting data for ROST: ['Return']\n",
      "Collecting data for PWR...\n"
     ]
    },
    {
     "name": "stderr",
     "output_type": "stream",
     "text": [
      "C:\\Users\\PRAJWAL\\AppData\\Local\\Temp\\ipykernel_19000\\3832743817.py:18: SettingWithCopyWarning: \n",
      "A value is trying to be set on a copy of a slice from a DataFrame\n",
      "\n",
      "See the caveats in the documentation: https://pandas.pydata.org/pandas-docs/stable/user_guide/indexing.html#returning-a-view-versus-a-copy\n",
      "  stock_data['Return'].replace([np.inf, -np.inf], np.nan, inplace=True)\n",
      "C:\\Users\\PRAJWAL\\AppData\\Local\\Temp\\ipykernel_19000\\3832743817.py:11: FutureWarning: YF.download() has changed argument auto_adjust default to True\n",
      "  stock_data = yf.download(ticker, start=start, end=end, progress=False)\n"
     ]
    },
    {
     "name": "stdout",
     "output_type": "stream",
     "text": [
      "Error collecting data for PWR: ['Return']\n",
      "Collecting data for CMI...\n"
     ]
    },
    {
     "name": "stderr",
     "output_type": "stream",
     "text": [
      "C:\\Users\\PRAJWAL\\AppData\\Local\\Temp\\ipykernel_19000\\3832743817.py:18: SettingWithCopyWarning: \n",
      "A value is trying to be set on a copy of a slice from a DataFrame\n",
      "\n",
      "See the caveats in the documentation: https://pandas.pydata.org/pandas-docs/stable/user_guide/indexing.html#returning-a-view-versus-a-copy\n",
      "  stock_data['Return'].replace([np.inf, -np.inf], np.nan, inplace=True)\n",
      "C:\\Users\\PRAJWAL\\AppData\\Local\\Temp\\ipykernel_19000\\3832743817.py:11: FutureWarning: YF.download() has changed argument auto_adjust default to True\n",
      "  stock_data = yf.download(ticker, start=start, end=end, progress=False)\n"
     ]
    },
    {
     "name": "stdout",
     "output_type": "stream",
     "text": [
      "Error collecting data for CMI: ['Return']\n",
      "Collecting data for AXON...\n"
     ]
    },
    {
     "name": "stderr",
     "output_type": "stream",
     "text": [
      "C:\\Users\\PRAJWAL\\AppData\\Local\\Temp\\ipykernel_19000\\3832743817.py:18: SettingWithCopyWarning: \n",
      "A value is trying to be set on a copy of a slice from a DataFrame\n",
      "\n",
      "See the caveats in the documentation: https://pandas.pydata.org/pandas-docs/stable/user_guide/indexing.html#returning-a-view-versus-a-copy\n",
      "  stock_data['Return'].replace([np.inf, -np.inf], np.nan, inplace=True)\n",
      "C:\\Users\\PRAJWAL\\AppData\\Local\\Temp\\ipykernel_19000\\3832743817.py:11: FutureWarning: YF.download() has changed argument auto_adjust default to True\n",
      "  stock_data = yf.download(ticker, start=start, end=end, progress=False)\n"
     ]
    },
    {
     "name": "stdout",
     "output_type": "stream",
     "text": [
      "Error collecting data for AXON: ['Return']\n",
      "Collecting data for VST...\n"
     ]
    },
    {
     "name": "stderr",
     "output_type": "stream",
     "text": [
      "C:\\Users\\PRAJWAL\\AppData\\Local\\Temp\\ipykernel_19000\\3832743817.py:18: SettingWithCopyWarning: \n",
      "A value is trying to be set on a copy of a slice from a DataFrame\n",
      "\n",
      "See the caveats in the documentation: https://pandas.pydata.org/pandas-docs/stable/user_guide/indexing.html#returning-a-view-versus-a-copy\n",
      "  stock_data['Return'].replace([np.inf, -np.inf], np.nan, inplace=True)\n",
      "C:\\Users\\PRAJWAL\\AppData\\Local\\Temp\\ipykernel_19000\\3832743817.py:11: FutureWarning: YF.download() has changed argument auto_adjust default to True\n",
      "  stock_data = yf.download(ticker, start=start, end=end, progress=False)\n"
     ]
    },
    {
     "name": "stdout",
     "output_type": "stream",
     "text": [
      "Error collecting data for VST: ['Return']\n",
      "Collecting data for URI...\n"
     ]
    },
    {
     "name": "stderr",
     "output_type": "stream",
     "text": [
      "C:\\Users\\PRAJWAL\\AppData\\Local\\Temp\\ipykernel_19000\\3832743817.py:18: SettingWithCopyWarning: \n",
      "A value is trying to be set on a copy of a slice from a DataFrame\n",
      "\n",
      "See the caveats in the documentation: https://pandas.pydata.org/pandas-docs/stable/user_guide/indexing.html#returning-a-view-versus-a-copy\n",
      "  stock_data['Return'].replace([np.inf, -np.inf], np.nan, inplace=True)\n",
      "C:\\Users\\PRAJWAL\\AppData\\Local\\Temp\\ipykernel_19000\\3832743817.py:11: FutureWarning: YF.download() has changed argument auto_adjust default to True\n",
      "  stock_data = yf.download(ticker, start=start, end=end, progress=False)\n"
     ]
    },
    {
     "name": "stdout",
     "output_type": "stream",
     "text": [
      "Error collecting data for URI: ['Return']\n",
      "Collecting data for MSCI...\n"
     ]
    },
    {
     "name": "stderr",
     "output_type": "stream",
     "text": [
      "C:\\Users\\PRAJWAL\\AppData\\Local\\Temp\\ipykernel_19000\\3832743817.py:18: SettingWithCopyWarning: \n",
      "A value is trying to be set on a copy of a slice from a DataFrame\n",
      "\n",
      "See the caveats in the documentation: https://pandas.pydata.org/pandas-docs/stable/user_guide/indexing.html#returning-a-view-versus-a-copy\n",
      "  stock_data['Return'].replace([np.inf, -np.inf], np.nan, inplace=True)\n",
      "C:\\Users\\PRAJWAL\\AppData\\Local\\Temp\\ipykernel_19000\\3832743817.py:11: FutureWarning: YF.download() has changed argument auto_adjust default to True\n",
      "  stock_data = yf.download(ticker, start=start, end=end, progress=False)\n"
     ]
    },
    {
     "name": "stdout",
     "output_type": "stream",
     "text": [
      "Error collecting data for MSCI: ['Return']\n",
      "Collecting data for LULU...\n"
     ]
    },
    {
     "name": "stderr",
     "output_type": "stream",
     "text": [
      "C:\\Users\\PRAJWAL\\AppData\\Local\\Temp\\ipykernel_19000\\3832743817.py:18: SettingWithCopyWarning: \n",
      "A value is trying to be set on a copy of a slice from a DataFrame\n",
      "\n",
      "See the caveats in the documentation: https://pandas.pydata.org/pandas-docs/stable/user_guide/indexing.html#returning-a-view-versus-a-copy\n",
      "  stock_data['Return'].replace([np.inf, -np.inf], np.nan, inplace=True)\n",
      "C:\\Users\\PRAJWAL\\AppData\\Local\\Temp\\ipykernel_19000\\3832743817.py:11: FutureWarning: YF.download() has changed argument auto_adjust default to True\n",
      "  stock_data = yf.download(ticker, start=start, end=end, progress=False)\n"
     ]
    },
    {
     "name": "stdout",
     "output_type": "stream",
     "text": [
      "Error collecting data for LULU: ['Return']\n",
      "Collecting data for O...\n"
     ]
    },
    {
     "name": "stderr",
     "output_type": "stream",
     "text": [
      "C:\\Users\\PRAJWAL\\AppData\\Local\\Temp\\ipykernel_19000\\3832743817.py:18: SettingWithCopyWarning: \n",
      "A value is trying to be set on a copy of a slice from a DataFrame\n",
      "\n",
      "See the caveats in the documentation: https://pandas.pydata.org/pandas-docs/stable/user_guide/indexing.html#returning-a-view-versus-a-copy\n",
      "  stock_data['Return'].replace([np.inf, -np.inf], np.nan, inplace=True)\n",
      "C:\\Users\\PRAJWAL\\AppData\\Local\\Temp\\ipykernel_19000\\3832743817.py:11: FutureWarning: YF.download() has changed argument auto_adjust default to True\n",
      "  stock_data = yf.download(ticker, start=start, end=end, progress=False)\n"
     ]
    },
    {
     "name": "stdout",
     "output_type": "stream",
     "text": [
      "Error collecting data for O: ['Return']\n",
      "Collecting data for PSX...\n"
     ]
    },
    {
     "name": "stderr",
     "output_type": "stream",
     "text": [
      "C:\\Users\\PRAJWAL\\AppData\\Local\\Temp\\ipykernel_19000\\3832743817.py:18: SettingWithCopyWarning: \n",
      "A value is trying to be set on a copy of a slice from a DataFrame\n",
      "\n",
      "See the caveats in the documentation: https://pandas.pydata.org/pandas-docs/stable/user_guide/indexing.html#returning-a-view-versus-a-copy\n",
      "  stock_data['Return'].replace([np.inf, -np.inf], np.nan, inplace=True)\n",
      "C:\\Users\\PRAJWAL\\AppData\\Local\\Temp\\ipykernel_19000\\3832743817.py:11: FutureWarning: YF.download() has changed argument auto_adjust default to True\n",
      "  stock_data = yf.download(ticker, start=start, end=end, progress=False)\n"
     ]
    },
    {
     "name": "stdout",
     "output_type": "stream",
     "text": [
      "Error collecting data for PSX: ['Return']\n",
      "Collecting data for AIG...\n"
     ]
    },
    {
     "name": "stderr",
     "output_type": "stream",
     "text": [
      "C:\\Users\\PRAJWAL\\AppData\\Local\\Temp\\ipykernel_19000\\3832743817.py:18: SettingWithCopyWarning: \n",
      "A value is trying to be set on a copy of a slice from a DataFrame\n",
      "\n",
      "See the caveats in the documentation: https://pandas.pydata.org/pandas-docs/stable/user_guide/indexing.html#returning-a-view-versus-a-copy\n",
      "  stock_data['Return'].replace([np.inf, -np.inf], np.nan, inplace=True)\n",
      "C:\\Users\\PRAJWAL\\AppData\\Local\\Temp\\ipykernel_19000\\3832743817.py:11: FutureWarning: YF.download() has changed argument auto_adjust default to True\n",
      "  stock_data = yf.download(ticker, start=start, end=end, progress=False)\n"
     ]
    },
    {
     "name": "stdout",
     "output_type": "stream",
     "text": [
      "Error collecting data for AIG: ['Return']\n",
      "Collecting data for FANG...\n"
     ]
    },
    {
     "name": "stderr",
     "output_type": "stream",
     "text": [
      "C:\\Users\\PRAJWAL\\AppData\\Local\\Temp\\ipykernel_19000\\3832743817.py:18: SettingWithCopyWarning: \n",
      "A value is trying to be set on a copy of a slice from a DataFrame\n",
      "\n",
      "See the caveats in the documentation: https://pandas.pydata.org/pandas-docs/stable/user_guide/indexing.html#returning-a-view-versus-a-copy\n",
      "  stock_data['Return'].replace([np.inf, -np.inf], np.nan, inplace=True)\n",
      "C:\\Users\\PRAJWAL\\AppData\\Local\\Temp\\ipykernel_19000\\3832743817.py:11: FutureWarning: YF.download() has changed argument auto_adjust default to True\n",
      "  stock_data = yf.download(ticker, start=start, end=end, progress=False)\n"
     ]
    },
    {
     "name": "stdout",
     "output_type": "stream",
     "text": [
      "Error collecting data for FANG: ['Return']\n",
      "Collecting data for D...\n"
     ]
    },
    {
     "name": "stderr",
     "output_type": "stream",
     "text": [
      "C:\\Users\\PRAJWAL\\AppData\\Local\\Temp\\ipykernel_19000\\3832743817.py:18: SettingWithCopyWarning: \n",
      "A value is trying to be set on a copy of a slice from a DataFrame\n",
      "\n",
      "See the caveats in the documentation: https://pandas.pydata.org/pandas-docs/stable/user_guide/indexing.html#returning-a-view-versus-a-copy\n",
      "  stock_data['Return'].replace([np.inf, -np.inf], np.nan, inplace=True)\n",
      "C:\\Users\\PRAJWAL\\AppData\\Local\\Temp\\ipykernel_19000\\3832743817.py:11: FutureWarning: YF.download() has changed argument auto_adjust default to True\n",
      "  stock_data = yf.download(ticker, start=start, end=end, progress=False)\n"
     ]
    },
    {
     "name": "stdout",
     "output_type": "stream",
     "text": [
      "Error collecting data for D: ['Return']\n",
      "Collecting data for HWM...\n"
     ]
    },
    {
     "name": "stderr",
     "output_type": "stream",
     "text": [
      "C:\\Users\\PRAJWAL\\AppData\\Local\\Temp\\ipykernel_19000\\3832743817.py:18: SettingWithCopyWarning: \n",
      "A value is trying to be set on a copy of a slice from a DataFrame\n",
      "\n",
      "See the caveats in the documentation: https://pandas.pydata.org/pandas-docs/stable/user_guide/indexing.html#returning-a-view-versus-a-copy\n",
      "  stock_data['Return'].replace([np.inf, -np.inf], np.nan, inplace=True)\n",
      "C:\\Users\\PRAJWAL\\AppData\\Local\\Temp\\ipykernel_19000\\3832743817.py:11: FutureWarning: YF.download() has changed argument auto_adjust default to True\n",
      "  stock_data = yf.download(ticker, start=start, end=end, progress=False)\n"
     ]
    },
    {
     "name": "stdout",
     "output_type": "stream",
     "text": [
      "Error collecting data for HWM: ['Return']\n",
      "Collecting data for DHI...\n"
     ]
    },
    {
     "name": "stderr",
     "output_type": "stream",
     "text": [
      "C:\\Users\\PRAJWAL\\AppData\\Local\\Temp\\ipykernel_19000\\3832743817.py:18: SettingWithCopyWarning: \n",
      "A value is trying to be set on a copy of a slice from a DataFrame\n",
      "\n",
      "See the caveats in the documentation: https://pandas.pydata.org/pandas-docs/stable/user_guide/indexing.html#returning-a-view-versus-a-copy\n",
      "  stock_data['Return'].replace([np.inf, -np.inf], np.nan, inplace=True)\n",
      "C:\\Users\\PRAJWAL\\AppData\\Local\\Temp\\ipykernel_19000\\3832743817.py:11: FutureWarning: YF.download() has changed argument auto_adjust default to True\n",
      "  stock_data = yf.download(ticker, start=start, end=end, progress=False)\n"
     ]
    },
    {
     "name": "stdout",
     "output_type": "stream",
     "text": [
      "Error collecting data for DHI: ['Return']\n",
      "Collecting data for KR...\n"
     ]
    },
    {
     "name": "stderr",
     "output_type": "stream",
     "text": [
      "C:\\Users\\PRAJWAL\\AppData\\Local\\Temp\\ipykernel_19000\\3832743817.py:18: SettingWithCopyWarning: \n",
      "A value is trying to be set on a copy of a slice from a DataFrame\n",
      "\n",
      "See the caveats in the documentation: https://pandas.pydata.org/pandas-docs/stable/user_guide/indexing.html#returning-a-view-versus-a-copy\n",
      "  stock_data['Return'].replace([np.inf, -np.inf], np.nan, inplace=True)\n",
      "C:\\Users\\PRAJWAL\\AppData\\Local\\Temp\\ipykernel_19000\\3832743817.py:11: FutureWarning: YF.download() has changed argument auto_adjust default to True\n",
      "  stock_data = yf.download(ticker, start=start, end=end, progress=False)\n"
     ]
    },
    {
     "name": "stdout",
     "output_type": "stream",
     "text": [
      "Error collecting data for KR: ['Return']\n",
      "Collecting data for NDAQ...\n"
     ]
    },
    {
     "name": "stderr",
     "output_type": "stream",
     "text": [
      "C:\\Users\\PRAJWAL\\AppData\\Local\\Temp\\ipykernel_19000\\3832743817.py:18: SettingWithCopyWarning: \n",
      "A value is trying to be set on a copy of a slice from a DataFrame\n",
      "\n",
      "See the caveats in the documentation: https://pandas.pydata.org/pandas-docs/stable/user_guide/indexing.html#returning-a-view-versus-a-copy\n",
      "  stock_data['Return'].replace([np.inf, -np.inf], np.nan, inplace=True)\n",
      "C:\\Users\\PRAJWAL\\AppData\\Local\\Temp\\ipykernel_19000\\3832743817.py:11: FutureWarning: YF.download() has changed argument auto_adjust default to True\n",
      "  stock_data = yf.download(ticker, start=start, end=end, progress=False)\n"
     ]
    },
    {
     "name": "stdout",
     "output_type": "stream",
     "text": [
      "Error collecting data for NDAQ: ['Return']\n",
      "Collecting data for OXY...\n"
     ]
    },
    {
     "name": "stderr",
     "output_type": "stream",
     "text": [
      "C:\\Users\\PRAJWAL\\AppData\\Local\\Temp\\ipykernel_19000\\3832743817.py:18: SettingWithCopyWarning: \n",
      "A value is trying to be set on a copy of a slice from a DataFrame\n",
      "\n",
      "See the caveats in the documentation: https://pandas.pydata.org/pandas-docs/stable/user_guide/indexing.html#returning-a-view-versus-a-copy\n",
      "  stock_data['Return'].replace([np.inf, -np.inf], np.nan, inplace=True)\n",
      "C:\\Users\\PRAJWAL\\AppData\\Local\\Temp\\ipykernel_19000\\3832743817.py:11: FutureWarning: YF.download() has changed argument auto_adjust default to True\n",
      "  stock_data = yf.download(ticker, start=start, end=end, progress=False)\n"
     ]
    },
    {
     "name": "stdout",
     "output_type": "stream",
     "text": [
      "Error collecting data for OXY: ['Return']\n",
      "Collecting data for EW...\n"
     ]
    },
    {
     "name": "stderr",
     "output_type": "stream",
     "text": [
      "C:\\Users\\PRAJWAL\\AppData\\Local\\Temp\\ipykernel_19000\\3832743817.py:18: SettingWithCopyWarning: \n",
      "A value is trying to be set on a copy of a slice from a DataFrame\n",
      "\n",
      "See the caveats in the documentation: https://pandas.pydata.org/pandas-docs/stable/user_guide/indexing.html#returning-a-view-versus-a-copy\n",
      "  stock_data['Return'].replace([np.inf, -np.inf], np.nan, inplace=True)\n",
      "C:\\Users\\PRAJWAL\\AppData\\Local\\Temp\\ipykernel_19000\\3832743817.py:11: FutureWarning: YF.download() has changed argument auto_adjust default to True\n",
      "  stock_data = yf.download(ticker, start=start, end=end, progress=False)\n"
     ]
    },
    {
     "name": "stdout",
     "output_type": "stream",
     "text": [
      "Error collecting data for EW: ['Return']\n",
      "Collecting data for COR...\n"
     ]
    },
    {
     "name": "stderr",
     "output_type": "stream",
     "text": [
      "C:\\Users\\PRAJWAL\\AppData\\Local\\Temp\\ipykernel_19000\\3832743817.py:18: SettingWithCopyWarning: \n",
      "A value is trying to be set on a copy of a slice from a DataFrame\n",
      "\n",
      "See the caveats in the documentation: https://pandas.pydata.org/pandas-docs/stable/user_guide/indexing.html#returning-a-view-versus-a-copy\n",
      "  stock_data['Return'].replace([np.inf, -np.inf], np.nan, inplace=True)\n",
      "C:\\Users\\PRAJWAL\\AppData\\Local\\Temp\\ipykernel_19000\\3832743817.py:11: FutureWarning: YF.download() has changed argument auto_adjust default to True\n",
      "  stock_data = yf.download(ticker, start=start, end=end, progress=False)\n"
     ]
    },
    {
     "name": "stdout",
     "output_type": "stream",
     "text": [
      "Error collecting data for COR: ['Return']\n",
      "Collecting data for KDP...\n"
     ]
    },
    {
     "name": "stderr",
     "output_type": "stream",
     "text": [
      "C:\\Users\\PRAJWAL\\AppData\\Local\\Temp\\ipykernel_19000\\3832743817.py:18: SettingWithCopyWarning: \n",
      "A value is trying to be set on a copy of a slice from a DataFrame\n",
      "\n",
      "See the caveats in the documentation: https://pandas.pydata.org/pandas-docs/stable/user_guide/indexing.html#returning-a-view-versus-a-copy\n",
      "  stock_data['Return'].replace([np.inf, -np.inf], np.nan, inplace=True)\n",
      "C:\\Users\\PRAJWAL\\AppData\\Local\\Temp\\ipykernel_19000\\3832743817.py:11: FutureWarning: YF.download() has changed argument auto_adjust default to True\n",
      "  stock_data = yf.download(ticker, start=start, end=end, progress=False)\n"
     ]
    },
    {
     "name": "stdout",
     "output_type": "stream",
     "text": [
      "Error collecting data for KDP: ['Return']\n",
      "Collecting data for FIS...\n"
     ]
    },
    {
     "name": "stderr",
     "output_type": "stream",
     "text": [
      "C:\\Users\\PRAJWAL\\AppData\\Local\\Temp\\ipykernel_19000\\3832743817.py:18: SettingWithCopyWarning: \n",
      "A value is trying to be set on a copy of a slice from a DataFrame\n",
      "\n",
      "See the caveats in the documentation: https://pandas.pydata.org/pandas-docs/stable/user_guide/indexing.html#returning-a-view-versus-a-copy\n",
      "  stock_data['Return'].replace([np.inf, -np.inf], np.nan, inplace=True)\n",
      "C:\\Users\\PRAJWAL\\AppData\\Local\\Temp\\ipykernel_19000\\3832743817.py:11: FutureWarning: YF.download() has changed argument auto_adjust default to True\n",
      "  stock_data = yf.download(ticker, start=start, end=end, progress=False)\n"
     ]
    },
    {
     "name": "stdout",
     "output_type": "stream",
     "text": [
      "Error collecting data for FIS: ['Return']\n",
      "Collecting data for KMB...\n"
     ]
    },
    {
     "name": "stderr",
     "output_type": "stream",
     "text": [
      "C:\\Users\\PRAJWAL\\AppData\\Local\\Temp\\ipykernel_19000\\3832743817.py:18: SettingWithCopyWarning: \n",
      "A value is trying to be set on a copy of a slice from a DataFrame\n",
      "\n",
      "See the caveats in the documentation: https://pandas.pydata.org/pandas-docs/stable/user_guide/indexing.html#returning-a-view-versus-a-copy\n",
      "  stock_data['Return'].replace([np.inf, -np.inf], np.nan, inplace=True)\n",
      "C:\\Users\\PRAJWAL\\AppData\\Local\\Temp\\ipykernel_19000\\3832743817.py:11: FutureWarning: YF.download() has changed argument auto_adjust default to True\n",
      "  stock_data = yf.download(ticker, start=start, end=end, progress=False)\n"
     ]
    },
    {
     "name": "stdout",
     "output_type": "stream",
     "text": [
      "Error collecting data for KMB: ['Return']\n",
      "Collecting data for NEM...\n"
     ]
    },
    {
     "name": "stderr",
     "output_type": "stream",
     "text": [
      "C:\\Users\\PRAJWAL\\AppData\\Local\\Temp\\ipykernel_19000\\3832743817.py:18: SettingWithCopyWarning: \n",
      "A value is trying to be set on a copy of a slice from a DataFrame\n",
      "\n",
      "See the caveats in the documentation: https://pandas.pydata.org/pandas-docs/stable/user_guide/indexing.html#returning-a-view-versus-a-copy\n",
      "  stock_data['Return'].replace([np.inf, -np.inf], np.nan, inplace=True)\n",
      "C:\\Users\\PRAJWAL\\AppData\\Local\\Temp\\ipykernel_19000\\3832743817.py:11: FutureWarning: YF.download() has changed argument auto_adjust default to True\n",
      "  stock_data = yf.download(ticker, start=start, end=end, progress=False)\n"
     ]
    },
    {
     "name": "stdout",
     "output_type": "stream",
     "text": [
      "Error collecting data for NEM: ['Return']\n",
      "Collecting data for DFS...\n"
     ]
    },
    {
     "name": "stderr",
     "output_type": "stream",
     "text": [
      "C:\\Users\\PRAJWAL\\AppData\\Local\\Temp\\ipykernel_19000\\3832743817.py:18: SettingWithCopyWarning: \n",
      "A value is trying to be set on a copy of a slice from a DataFrame\n",
      "\n",
      "See the caveats in the documentation: https://pandas.pydata.org/pandas-docs/stable/user_guide/indexing.html#returning-a-view-versus-a-copy\n",
      "  stock_data['Return'].replace([np.inf, -np.inf], np.nan, inplace=True)\n",
      "C:\\Users\\PRAJWAL\\AppData\\Local\\Temp\\ipykernel_19000\\3832743817.py:11: FutureWarning: YF.download() has changed argument auto_adjust default to True\n",
      "  stock_data = yf.download(ticker, start=start, end=end, progress=False)\n"
     ]
    },
    {
     "name": "stdout",
     "output_type": "stream",
     "text": [
      "Error collecting data for DFS: ['Return']\n",
      "Collecting data for PCG...\n"
     ]
    },
    {
     "name": "stderr",
     "output_type": "stream",
     "text": [
      "C:\\Users\\PRAJWAL\\AppData\\Local\\Temp\\ipykernel_19000\\3832743817.py:18: SettingWithCopyWarning: \n",
      "A value is trying to be set on a copy of a slice from a DataFrame\n",
      "\n",
      "See the caveats in the documentation: https://pandas.pydata.org/pandas-docs/stable/user_guide/indexing.html#returning-a-view-versus-a-copy\n",
      "  stock_data['Return'].replace([np.inf, -np.inf], np.nan, inplace=True)\n",
      "C:\\Users\\PRAJWAL\\AppData\\Local\\Temp\\ipykernel_19000\\3832743817.py:11: FutureWarning: YF.download() has changed argument auto_adjust default to True\n",
      "  stock_data = yf.download(ticker, start=start, end=end, progress=False)\n"
     ]
    },
    {
     "name": "stdout",
     "output_type": "stream",
     "text": [
      "Error collecting data for PCG: ['Return']\n",
      "Collecting data for TEL...\n"
     ]
    },
    {
     "name": "stderr",
     "output_type": "stream",
     "text": [
      "C:\\Users\\PRAJWAL\\AppData\\Local\\Temp\\ipykernel_19000\\3832743817.py:18: SettingWithCopyWarning: \n",
      "A value is trying to be set on a copy of a slice from a DataFrame\n",
      "\n",
      "See the caveats in the documentation: https://pandas.pydata.org/pandas-docs/stable/user_guide/indexing.html#returning-a-view-versus-a-copy\n",
      "  stock_data['Return'].replace([np.inf, -np.inf], np.nan, inplace=True)\n",
      "C:\\Users\\PRAJWAL\\AppData\\Local\\Temp\\ipykernel_19000\\3832743817.py:11: FutureWarning: YF.download() has changed argument auto_adjust default to True\n",
      "  stock_data = yf.download(ticker, start=start, end=end, progress=False)\n"
     ]
    },
    {
     "name": "stdout",
     "output_type": "stream",
     "text": [
      "Error collecting data for TEL: ['Return']\n",
      "Collecting data for MPC...\n"
     ]
    },
    {
     "name": "stderr",
     "output_type": "stream",
     "text": [
      "C:\\Users\\PRAJWAL\\AppData\\Local\\Temp\\ipykernel_19000\\3832743817.py:18: SettingWithCopyWarning: \n",
      "A value is trying to be set on a copy of a slice from a DataFrame\n",
      "\n",
      "See the caveats in the documentation: https://pandas.pydata.org/pandas-docs/stable/user_guide/indexing.html#returning-a-view-versus-a-copy\n",
      "  stock_data['Return'].replace([np.inf, -np.inf], np.nan, inplace=True)\n",
      "C:\\Users\\PRAJWAL\\AppData\\Local\\Temp\\ipykernel_19000\\3832743817.py:11: FutureWarning: YF.download() has changed argument auto_adjust default to True\n",
      "  stock_data = yf.download(ticker, start=start, end=end, progress=False)\n"
     ]
    },
    {
     "name": "stdout",
     "output_type": "stream",
     "text": [
      "Error collecting data for MPC: ['Return']\n",
      "Collecting data for FAST...\n"
     ]
    },
    {
     "name": "stderr",
     "output_type": "stream",
     "text": [
      "C:\\Users\\PRAJWAL\\AppData\\Local\\Temp\\ipykernel_19000\\3832743817.py:18: SettingWithCopyWarning: \n",
      "A value is trying to be set on a copy of a slice from a DataFrame\n",
      "\n",
      "See the caveats in the documentation: https://pandas.pydata.org/pandas-docs/stable/user_guide/indexing.html#returning-a-view-versus-a-copy\n",
      "  stock_data['Return'].replace([np.inf, -np.inf], np.nan, inplace=True)\n",
      "C:\\Users\\PRAJWAL\\AppData\\Local\\Temp\\ipykernel_19000\\3832743817.py:11: FutureWarning: YF.download() has changed argument auto_adjust default to True\n",
      "  stock_data = yf.download(ticker, start=start, end=end, progress=False)\n"
     ]
    },
    {
     "name": "stdout",
     "output_type": "stream",
     "text": [
      "Error collecting data for FAST: ['Return']\n",
      "Collecting data for AME...\n"
     ]
    },
    {
     "name": "stderr",
     "output_type": "stream",
     "text": [
      "C:\\Users\\PRAJWAL\\AppData\\Local\\Temp\\ipykernel_19000\\3832743817.py:18: SettingWithCopyWarning: \n",
      "A value is trying to be set on a copy of a slice from a DataFrame\n",
      "\n",
      "See the caveats in the documentation: https://pandas.pydata.org/pandas-docs/stable/user_guide/indexing.html#returning-a-view-versus-a-copy\n",
      "  stock_data['Return'].replace([np.inf, -np.inf], np.nan, inplace=True)\n",
      "C:\\Users\\PRAJWAL\\AppData\\Local\\Temp\\ipykernel_19000\\3832743817.py:11: FutureWarning: YF.download() has changed argument auto_adjust default to True\n",
      "  stock_data = yf.download(ticker, start=start, end=end, progress=False)\n"
     ]
    },
    {
     "name": "stdout",
     "output_type": "stream",
     "text": [
      "Error collecting data for AME: ['Return']\n",
      "Collecting data for PEG...\n"
     ]
    },
    {
     "name": "stderr",
     "output_type": "stream",
     "text": [
      "C:\\Users\\PRAJWAL\\AppData\\Local\\Temp\\ipykernel_19000\\3832743817.py:18: SettingWithCopyWarning: \n",
      "A value is trying to be set on a copy of a slice from a DataFrame\n",
      "\n",
      "See the caveats in the documentation: https://pandas.pydata.org/pandas-docs/stable/user_guide/indexing.html#returning-a-view-versus-a-copy\n",
      "  stock_data['Return'].replace([np.inf, -np.inf], np.nan, inplace=True)\n",
      "C:\\Users\\PRAJWAL\\AppData\\Local\\Temp\\ipykernel_19000\\3832743817.py:11: FutureWarning: YF.download() has changed argument auto_adjust default to True\n",
      "  stock_data = yf.download(ticker, start=start, end=end, progress=False)\n"
     ]
    },
    {
     "name": "stdout",
     "output_type": "stream",
     "text": [
      "Error collecting data for PEG: ['Return']\n",
      "Collecting data for PRU...\n"
     ]
    },
    {
     "name": "stderr",
     "output_type": "stream",
     "text": [
      "C:\\Users\\PRAJWAL\\AppData\\Local\\Temp\\ipykernel_19000\\3832743817.py:18: SettingWithCopyWarning: \n",
      "A value is trying to be set on a copy of a slice from a DataFrame\n",
      "\n",
      "See the caveats in the documentation: https://pandas.pydata.org/pandas-docs/stable/user_guide/indexing.html#returning-a-view-versus-a-copy\n",
      "  stock_data['Return'].replace([np.inf, -np.inf], np.nan, inplace=True)\n",
      "C:\\Users\\PRAJWAL\\AppData\\Local\\Temp\\ipykernel_19000\\3832743817.py:11: FutureWarning: YF.download() has changed argument auto_adjust default to True\n",
      "  stock_data = yf.download(ticker, start=start, end=end, progress=False)\n"
     ]
    },
    {
     "name": "stdout",
     "output_type": "stream",
     "text": [
      "Error collecting data for PRU: ['Return']\n",
      "Collecting data for KVUE...\n"
     ]
    },
    {
     "name": "stderr",
     "output_type": "stream",
     "text": [
      "\n",
      "1 Failed download:\n",
      "['KVUE']: YFPricesMissingError('possibly delisted; no price data found  (1d 2010-01-01 -> 2020-12-31) (Yahoo error = \"Data doesn\\'t exist for startDate = 1262322000, endDate = 1609390800\")')\n",
      "C:\\Users\\PRAJWAL\\AppData\\Local\\Temp\\ipykernel_19000\\3832743817.py:11: FutureWarning: YF.download() has changed argument auto_adjust default to True\n",
      "  stock_data = yf.download(ticker, start=start, end=end, progress=False)\n"
     ]
    },
    {
     "name": "stdout",
     "output_type": "stream",
     "text": [
      "No OHLCV data found for KVUE from yfinance. Skipping.\n",
      "Collecting data for STZ...\n"
     ]
    },
    {
     "name": "stderr",
     "output_type": "stream",
     "text": [
      "C:\\Users\\PRAJWAL\\AppData\\Local\\Temp\\ipykernel_19000\\3832743817.py:18: SettingWithCopyWarning: \n",
      "A value is trying to be set on a copy of a slice from a DataFrame\n",
      "\n",
      "See the caveats in the documentation: https://pandas.pydata.org/pandas-docs/stable/user_guide/indexing.html#returning-a-view-versus-a-copy\n",
      "  stock_data['Return'].replace([np.inf, -np.inf], np.nan, inplace=True)\n",
      "C:\\Users\\PRAJWAL\\AppData\\Local\\Temp\\ipykernel_19000\\3832743817.py:11: FutureWarning: YF.download() has changed argument auto_adjust default to True\n",
      "  stock_data = yf.download(ticker, start=start, end=end, progress=False)\n"
     ]
    },
    {
     "name": "stdout",
     "output_type": "stream",
     "text": [
      "Error collecting data for STZ: ['Return']\n",
      "Collecting data for GLW...\n"
     ]
    },
    {
     "name": "stderr",
     "output_type": "stream",
     "text": [
      "C:\\Users\\PRAJWAL\\AppData\\Local\\Temp\\ipykernel_19000\\3832743817.py:18: SettingWithCopyWarning: \n",
      "A value is trying to be set on a copy of a slice from a DataFrame\n",
      "\n",
      "See the caveats in the documentation: https://pandas.pydata.org/pandas-docs/stable/user_guide/indexing.html#returning-a-view-versus-a-copy\n",
      "  stock_data['Return'].replace([np.inf, -np.inf], np.nan, inplace=True)\n",
      "C:\\Users\\PRAJWAL\\AppData\\Local\\Temp\\ipykernel_19000\\3832743817.py:11: FutureWarning: YF.download() has changed argument auto_adjust default to True\n",
      "  stock_data = yf.download(ticker, start=start, end=end, progress=False)\n"
     ]
    },
    {
     "name": "stdout",
     "output_type": "stream",
     "text": [
      "Error collecting data for GLW: ['Return']\n",
      "Collecting data for LHX...\n"
     ]
    },
    {
     "name": "stderr",
     "output_type": "stream",
     "text": [
      "C:\\Users\\PRAJWAL\\AppData\\Local\\Temp\\ipykernel_19000\\3832743817.py:18: SettingWithCopyWarning: \n",
      "A value is trying to be set on a copy of a slice from a DataFrame\n",
      "\n",
      "See the caveats in the documentation: https://pandas.pydata.org/pandas-docs/stable/user_guide/indexing.html#returning-a-view-versus-a-copy\n",
      "  stock_data['Return'].replace([np.inf, -np.inf], np.nan, inplace=True)\n",
      "C:\\Users\\PRAJWAL\\AppData\\Local\\Temp\\ipykernel_19000\\3832743817.py:11: FutureWarning: YF.download() has changed argument auto_adjust default to True\n",
      "  stock_data = yf.download(ticker, start=start, end=end, progress=False)\n"
     ]
    },
    {
     "name": "stdout",
     "output_type": "stream",
     "text": [
      "Error collecting data for LHX: ['Return']\n",
      "Collecting data for GRMN...\n"
     ]
    },
    {
     "name": "stderr",
     "output_type": "stream",
     "text": [
      "C:\\Users\\PRAJWAL\\AppData\\Local\\Temp\\ipykernel_19000\\3832743817.py:18: SettingWithCopyWarning: \n",
      "A value is trying to be set on a copy of a slice from a DataFrame\n",
      "\n",
      "See the caveats in the documentation: https://pandas.pydata.org/pandas-docs/stable/user_guide/indexing.html#returning-a-view-versus-a-copy\n",
      "  stock_data['Return'].replace([np.inf, -np.inf], np.nan, inplace=True)\n",
      "C:\\Users\\PRAJWAL\\AppData\\Local\\Temp\\ipykernel_19000\\3832743817.py:11: FutureWarning: YF.download() has changed argument auto_adjust default to True\n",
      "  stock_data = yf.download(ticker, start=start, end=end, progress=False)\n"
     ]
    },
    {
     "name": "stdout",
     "output_type": "stream",
     "text": [
      "Error collecting data for GRMN: ['Return']\n",
      "Collecting data for BKR...\n"
     ]
    },
    {
     "name": "stderr",
     "output_type": "stream",
     "text": [
      "C:\\Users\\PRAJWAL\\AppData\\Local\\Temp\\ipykernel_19000\\3832743817.py:18: SettingWithCopyWarning: \n",
      "A value is trying to be set on a copy of a slice from a DataFrame\n",
      "\n",
      "See the caveats in the documentation: https://pandas.pydata.org/pandas-docs/stable/user_guide/indexing.html#returning-a-view-versus-a-copy\n",
      "  stock_data['Return'].replace([np.inf, -np.inf], np.nan, inplace=True)\n",
      "C:\\Users\\PRAJWAL\\AppData\\Local\\Temp\\ipykernel_19000\\3832743817.py:11: FutureWarning: YF.download() has changed argument auto_adjust default to True\n",
      "  stock_data = yf.download(ticker, start=start, end=end, progress=False)\n"
     ]
    },
    {
     "name": "stdout",
     "output_type": "stream",
     "text": [
      "Error collecting data for BKR: ['Return']\n",
      "Collecting data for CBRE...\n"
     ]
    },
    {
     "name": "stderr",
     "output_type": "stream",
     "text": [
      "C:\\Users\\PRAJWAL\\AppData\\Local\\Temp\\ipykernel_19000\\3832743817.py:18: SettingWithCopyWarning: \n",
      "A value is trying to be set on a copy of a slice from a DataFrame\n",
      "\n",
      "See the caveats in the documentation: https://pandas.pydata.org/pandas-docs/stable/user_guide/indexing.html#returning-a-view-versus-a-copy\n",
      "  stock_data['Return'].replace([np.inf, -np.inf], np.nan, inplace=True)\n",
      "C:\\Users\\PRAJWAL\\AppData\\Local\\Temp\\ipykernel_19000\\3832743817.py:11: FutureWarning: YF.download() has changed argument auto_adjust default to True\n",
      "  stock_data = yf.download(ticker, start=start, end=end, progress=False)\n"
     ]
    },
    {
     "name": "stdout",
     "output_type": "stream",
     "text": [
      "Error collecting data for CBRE: ['Return']\n",
      "Collecting data for CTVA...\n"
     ]
    },
    {
     "name": "stderr",
     "output_type": "stream",
     "text": [
      "C:\\Users\\PRAJWAL\\AppData\\Local\\Temp\\ipykernel_19000\\3832743817.py:18: SettingWithCopyWarning: \n",
      "A value is trying to be set on a copy of a slice from a DataFrame\n",
      "\n",
      "See the caveats in the documentation: https://pandas.pydata.org/pandas-docs/stable/user_guide/indexing.html#returning-a-view-versus-a-copy\n",
      "  stock_data['Return'].replace([np.inf, -np.inf], np.nan, inplace=True)\n",
      "C:\\Users\\PRAJWAL\\AppData\\Local\\Temp\\ipykernel_19000\\3832743817.py:11: FutureWarning: YF.download() has changed argument auto_adjust default to True\n",
      "  stock_data = yf.download(ticker, start=start, end=end, progress=False)\n"
     ]
    },
    {
     "name": "stdout",
     "output_type": "stream",
     "text": [
      "Error collecting data for CTVA: ['Return']\n",
      "Collecting data for HES...\n"
     ]
    },
    {
     "name": "stderr",
     "output_type": "stream",
     "text": [
      "C:\\Users\\PRAJWAL\\AppData\\Local\\Temp\\ipykernel_19000\\3832743817.py:18: SettingWithCopyWarning: \n",
      "A value is trying to be set on a copy of a slice from a DataFrame\n",
      "\n",
      "See the caveats in the documentation: https://pandas.pydata.org/pandas-docs/stable/user_guide/indexing.html#returning-a-view-versus-a-copy\n",
      "  stock_data['Return'].replace([np.inf, -np.inf], np.nan, inplace=True)\n",
      "C:\\Users\\PRAJWAL\\AppData\\Local\\Temp\\ipykernel_19000\\3832743817.py:11: FutureWarning: YF.download() has changed argument auto_adjust default to True\n",
      "  stock_data = yf.download(ticker, start=start, end=end, progress=False)\n"
     ]
    },
    {
     "name": "stdout",
     "output_type": "stream",
     "text": [
      "Error collecting data for HES: ['Return']\n",
      "Collecting data for CCI...\n"
     ]
    },
    {
     "name": "stderr",
     "output_type": "stream",
     "text": [
      "C:\\Users\\PRAJWAL\\AppData\\Local\\Temp\\ipykernel_19000\\3832743817.py:18: SettingWithCopyWarning: \n",
      "A value is trying to be set on a copy of a slice from a DataFrame\n",
      "\n",
      "See the caveats in the documentation: https://pandas.pydata.org/pandas-docs/stable/user_guide/indexing.html#returning-a-view-versus-a-copy\n",
      "  stock_data['Return'].replace([np.inf, -np.inf], np.nan, inplace=True)\n",
      "C:\\Users\\PRAJWAL\\AppData\\Local\\Temp\\ipykernel_19000\\3832743817.py:11: FutureWarning: YF.download() has changed argument auto_adjust default to True\n",
      "  stock_data = yf.download(ticker, start=start, end=end, progress=False)\n"
     ]
    },
    {
     "name": "stdout",
     "output_type": "stream",
     "text": [
      "Error collecting data for CCI: ['Return']\n",
      "Collecting data for DAL...\n"
     ]
    },
    {
     "name": "stderr",
     "output_type": "stream",
     "text": [
      "C:\\Users\\PRAJWAL\\AppData\\Local\\Temp\\ipykernel_19000\\3832743817.py:18: SettingWithCopyWarning: \n",
      "A value is trying to be set on a copy of a slice from a DataFrame\n",
      "\n",
      "See the caveats in the documentation: https://pandas.pydata.org/pandas-docs/stable/user_guide/indexing.html#returning-a-view-versus-a-copy\n",
      "  stock_data['Return'].replace([np.inf, -np.inf], np.nan, inplace=True)\n",
      "C:\\Users\\PRAJWAL\\AppData\\Local\\Temp\\ipykernel_19000\\3832743817.py:11: FutureWarning: YF.download() has changed argument auto_adjust default to True\n",
      "  stock_data = yf.download(ticker, start=start, end=end, progress=False)\n"
     ]
    },
    {
     "name": "stdout",
     "output_type": "stream",
     "text": [
      "Error collecting data for DAL: ['Return']\n",
      "Collecting data for CTSH...\n"
     ]
    },
    {
     "name": "stderr",
     "output_type": "stream",
     "text": [
      "C:\\Users\\PRAJWAL\\AppData\\Local\\Temp\\ipykernel_19000\\3832743817.py:18: SettingWithCopyWarning: \n",
      "A value is trying to be set on a copy of a slice from a DataFrame\n",
      "\n",
      "See the caveats in the documentation: https://pandas.pydata.org/pandas-docs/stable/user_guide/indexing.html#returning-a-view-versus-a-copy\n",
      "  stock_data['Return'].replace([np.inf, -np.inf], np.nan, inplace=True)\n",
      "C:\\Users\\PRAJWAL\\AppData\\Local\\Temp\\ipykernel_19000\\3832743817.py:11: FutureWarning: YF.download() has changed argument auto_adjust default to True\n",
      "  stock_data = yf.download(ticker, start=start, end=end, progress=False)\n"
     ]
    },
    {
     "name": "stdout",
     "output_type": "stream",
     "text": [
      "Error collecting data for CTSH: ['Return']\n",
      "Collecting data for F...\n"
     ]
    },
    {
     "name": "stderr",
     "output_type": "stream",
     "text": [
      "C:\\Users\\PRAJWAL\\AppData\\Local\\Temp\\ipykernel_19000\\3832743817.py:18: SettingWithCopyWarning: \n",
      "A value is trying to be set on a copy of a slice from a DataFrame\n",
      "\n",
      "See the caveats in the documentation: https://pandas.pydata.org/pandas-docs/stable/user_guide/indexing.html#returning-a-view-versus-a-copy\n",
      "  stock_data['Return'].replace([np.inf, -np.inf], np.nan, inplace=True)\n",
      "C:\\Users\\PRAJWAL\\AppData\\Local\\Temp\\ipykernel_19000\\3832743817.py:11: FutureWarning: YF.download() has changed argument auto_adjust default to True\n",
      "  stock_data = yf.download(ticker, start=start, end=end, progress=False)\n"
     ]
    },
    {
     "name": "stdout",
     "output_type": "stream",
     "text": [
      "Error collecting data for F: ['Return']\n",
      "Collecting data for VRSK...\n"
     ]
    },
    {
     "name": "stderr",
     "output_type": "stream",
     "text": [
      "C:\\Users\\PRAJWAL\\AppData\\Local\\Temp\\ipykernel_19000\\3832743817.py:18: SettingWithCopyWarning: \n",
      "A value is trying to be set on a copy of a slice from a DataFrame\n",
      "\n",
      "See the caveats in the documentation: https://pandas.pydata.org/pandas-docs/stable/user_guide/indexing.html#returning-a-view-versus-a-copy\n",
      "  stock_data['Return'].replace([np.inf, -np.inf], np.nan, inplace=True)\n",
      "C:\\Users\\PRAJWAL\\AppData\\Local\\Temp\\ipykernel_19000\\3832743817.py:11: FutureWarning: YF.download() has changed argument auto_adjust default to True\n",
      "  stock_data = yf.download(ticker, start=start, end=end, progress=False)\n"
     ]
    },
    {
     "name": "stdout",
     "output_type": "stream",
     "text": [
      "Error collecting data for VRSK: ['Return']\n",
      "Collecting data for EA...\n"
     ]
    },
    {
     "name": "stderr",
     "output_type": "stream",
     "text": [
      "C:\\Users\\PRAJWAL\\AppData\\Local\\Temp\\ipykernel_19000\\3832743817.py:18: SettingWithCopyWarning: \n",
      "A value is trying to be set on a copy of a slice from a DataFrame\n",
      "\n",
      "See the caveats in the documentation: https://pandas.pydata.org/pandas-docs/stable/user_guide/indexing.html#returning-a-view-versus-a-copy\n",
      "  stock_data['Return'].replace([np.inf, -np.inf], np.nan, inplace=True)\n",
      "C:\\Users\\PRAJWAL\\AppData\\Local\\Temp\\ipykernel_19000\\3832743817.py:11: FutureWarning: YF.download() has changed argument auto_adjust default to True\n",
      "  stock_data = yf.download(ticker, start=start, end=end, progress=False)\n"
     ]
    },
    {
     "name": "stdout",
     "output_type": "stream",
     "text": [
      "Error collecting data for EA: ['Return']\n",
      "Collecting data for ODFL...\n"
     ]
    },
    {
     "name": "stderr",
     "output_type": "stream",
     "text": [
      "C:\\Users\\PRAJWAL\\AppData\\Local\\Temp\\ipykernel_19000\\3832743817.py:18: SettingWithCopyWarning: \n",
      "A value is trying to be set on a copy of a slice from a DataFrame\n",
      "\n",
      "See the caveats in the documentation: https://pandas.pydata.org/pandas-docs/stable/user_guide/indexing.html#returning-a-view-versus-a-copy\n",
      "  stock_data['Return'].replace([np.inf, -np.inf], np.nan, inplace=True)\n",
      "C:\\Users\\PRAJWAL\\AppData\\Local\\Temp\\ipykernel_19000\\3832743817.py:11: FutureWarning: YF.download() has changed argument auto_adjust default to True\n",
      "  stock_data = yf.download(ticker, start=start, end=end, progress=False)\n"
     ]
    },
    {
     "name": "stdout",
     "output_type": "stream",
     "text": [
      "Error collecting data for ODFL: ['Return']\n",
      "Collecting data for XEL...\n"
     ]
    },
    {
     "name": "stderr",
     "output_type": "stream",
     "text": [
      "C:\\Users\\PRAJWAL\\AppData\\Local\\Temp\\ipykernel_19000\\3832743817.py:18: SettingWithCopyWarning: \n",
      "A value is trying to be set on a copy of a slice from a DataFrame\n",
      "\n",
      "See the caveats in the documentation: https://pandas.pydata.org/pandas-docs/stable/user_guide/indexing.html#returning-a-view-versus-a-copy\n",
      "  stock_data['Return'].replace([np.inf, -np.inf], np.nan, inplace=True)\n",
      "C:\\Users\\PRAJWAL\\AppData\\Local\\Temp\\ipykernel_19000\\3832743817.py:11: FutureWarning: YF.download() has changed argument auto_adjust default to True\n",
      "  stock_data = yf.download(ticker, start=start, end=end, progress=False)\n"
     ]
    },
    {
     "name": "stdout",
     "output_type": "stream",
     "text": [
      "Error collecting data for XEL: ['Return']\n",
      "Collecting data for TRGP...\n"
     ]
    },
    {
     "name": "stderr",
     "output_type": "stream",
     "text": [
      "C:\\Users\\PRAJWAL\\AppData\\Local\\Temp\\ipykernel_19000\\3832743817.py:18: SettingWithCopyWarning: \n",
      "A value is trying to be set on a copy of a slice from a DataFrame\n",
      "\n",
      "See the caveats in the documentation: https://pandas.pydata.org/pandas-docs/stable/user_guide/indexing.html#returning-a-view-versus-a-copy\n",
      "  stock_data['Return'].replace([np.inf, -np.inf], np.nan, inplace=True)\n",
      "C:\\Users\\PRAJWAL\\AppData\\Local\\Temp\\ipykernel_19000\\3832743817.py:11: FutureWarning: YF.download() has changed argument auto_adjust default to True\n",
      "  stock_data = yf.download(ticker, start=start, end=end, progress=False)\n"
     ]
    },
    {
     "name": "stdout",
     "output_type": "stream",
     "text": [
      "Error collecting data for TRGP: ['Return']\n",
      "Collecting data for A...\n"
     ]
    },
    {
     "name": "stderr",
     "output_type": "stream",
     "text": [
      "C:\\Users\\PRAJWAL\\AppData\\Local\\Temp\\ipykernel_19000\\3832743817.py:18: SettingWithCopyWarning: \n",
      "A value is trying to be set on a copy of a slice from a DataFrame\n",
      "\n",
      "See the caveats in the documentation: https://pandas.pydata.org/pandas-docs/stable/user_guide/indexing.html#returning-a-view-versus-a-copy\n",
      "  stock_data['Return'].replace([np.inf, -np.inf], np.nan, inplace=True)\n",
      "C:\\Users\\PRAJWAL\\AppData\\Local\\Temp\\ipykernel_19000\\3832743817.py:11: FutureWarning: YF.download() has changed argument auto_adjust default to True\n",
      "  stock_data = yf.download(ticker, start=start, end=end, progress=False)\n"
     ]
    },
    {
     "name": "stdout",
     "output_type": "stream",
     "text": [
      "Error collecting data for A: ['Return']\n",
      "Collecting data for IT...\n"
     ]
    },
    {
     "name": "stderr",
     "output_type": "stream",
     "text": [
      "C:\\Users\\PRAJWAL\\AppData\\Local\\Temp\\ipykernel_19000\\3832743817.py:18: SettingWithCopyWarning: \n",
      "A value is trying to be set on a copy of a slice from a DataFrame\n",
      "\n",
      "See the caveats in the documentation: https://pandas.pydata.org/pandas-docs/stable/user_guide/indexing.html#returning-a-view-versus-a-copy\n",
      "  stock_data['Return'].replace([np.inf, -np.inf], np.nan, inplace=True)\n",
      "C:\\Users\\PRAJWAL\\AppData\\Local\\Temp\\ipykernel_19000\\3832743817.py:11: FutureWarning: YF.download() has changed argument auto_adjust default to True\n",
      "  stock_data = yf.download(ticker, start=start, end=end, progress=False)\n"
     ]
    },
    {
     "name": "stdout",
     "output_type": "stream",
     "text": [
      "Error collecting data for IT: ['Return']\n",
      "Collecting data for LVS...\n"
     ]
    },
    {
     "name": "stderr",
     "output_type": "stream",
     "text": [
      "C:\\Users\\PRAJWAL\\AppData\\Local\\Temp\\ipykernel_19000\\3832743817.py:18: SettingWithCopyWarning: \n",
      "A value is trying to be set on a copy of a slice from a DataFrame\n",
      "\n",
      "See the caveats in the documentation: https://pandas.pydata.org/pandas-docs/stable/user_guide/indexing.html#returning-a-view-versus-a-copy\n",
      "  stock_data['Return'].replace([np.inf, -np.inf], np.nan, inplace=True)\n",
      "C:\\Users\\PRAJWAL\\AppData\\Local\\Temp\\ipykernel_19000\\3832743817.py:11: FutureWarning: YF.download() has changed argument auto_adjust default to True\n",
      "  stock_data = yf.download(ticker, start=start, end=end, progress=False)\n"
     ]
    },
    {
     "name": "stdout",
     "output_type": "stream",
     "text": [
      "Error collecting data for LVS: ['Return']\n",
      "Collecting data for SYY...\n"
     ]
    },
    {
     "name": "stderr",
     "output_type": "stream",
     "text": [
      "C:\\Users\\PRAJWAL\\AppData\\Local\\Temp\\ipykernel_19000\\3832743817.py:18: SettingWithCopyWarning: \n",
      "A value is trying to be set on a copy of a slice from a DataFrame\n",
      "\n",
      "See the caveats in the documentation: https://pandas.pydata.org/pandas-docs/stable/user_guide/indexing.html#returning-a-view-versus-a-copy\n",
      "  stock_data['Return'].replace([np.inf, -np.inf], np.nan, inplace=True)\n",
      "C:\\Users\\PRAJWAL\\AppData\\Local\\Temp\\ipykernel_19000\\3832743817.py:11: FutureWarning: YF.download() has changed argument auto_adjust default to True\n",
      "  stock_data = yf.download(ticker, start=start, end=end, progress=False)\n"
     ]
    },
    {
     "name": "stdout",
     "output_type": "stream",
     "text": [
      "Error collecting data for SYY: ['Return']\n",
      "Collecting data for VLO...\n"
     ]
    },
    {
     "name": "stderr",
     "output_type": "stream",
     "text": [
      "C:\\Users\\PRAJWAL\\AppData\\Local\\Temp\\ipykernel_19000\\3832743817.py:18: SettingWithCopyWarning: \n",
      "A value is trying to be set on a copy of a slice from a DataFrame\n",
      "\n",
      "See the caveats in the documentation: https://pandas.pydata.org/pandas-docs/stable/user_guide/indexing.html#returning-a-view-versus-a-copy\n",
      "  stock_data['Return'].replace([np.inf, -np.inf], np.nan, inplace=True)\n",
      "C:\\Users\\PRAJWAL\\AppData\\Local\\Temp\\ipykernel_19000\\3832743817.py:11: FutureWarning: YF.download() has changed argument auto_adjust default to True\n",
      "  stock_data = yf.download(ticker, start=start, end=end, progress=False)\n"
     ]
    },
    {
     "name": "stdout",
     "output_type": "stream",
     "text": [
      "Error collecting data for VLO: ['Return']\n",
      "Collecting data for OTIS...\n"
     ]
    },
    {
     "name": "stderr",
     "output_type": "stream",
     "text": [
      "C:\\Users\\PRAJWAL\\AppData\\Local\\Temp\\ipykernel_19000\\3832743817.py:18: SettingWithCopyWarning: \n",
      "A value is trying to be set on a copy of a slice from a DataFrame\n",
      "\n",
      "See the caveats in the documentation: https://pandas.pydata.org/pandas-docs/stable/user_guide/indexing.html#returning-a-view-versus-a-copy\n",
      "  stock_data['Return'].replace([np.inf, -np.inf], np.nan, inplace=True)\n",
      "C:\\Users\\PRAJWAL\\AppData\\Local\\Temp\\ipykernel_19000\\3832743817.py:11: FutureWarning: YF.download() has changed argument auto_adjust default to True\n",
      "  stock_data = yf.download(ticker, start=start, end=end, progress=False)\n"
     ]
    },
    {
     "name": "stdout",
     "output_type": "stream",
     "text": [
      "Error collecting data for OTIS: ['Return']\n",
      "Collecting data for LEN...\n"
     ]
    },
    {
     "name": "stderr",
     "output_type": "stream",
     "text": [
      "C:\\Users\\PRAJWAL\\AppData\\Local\\Temp\\ipykernel_19000\\3832743817.py:18: SettingWithCopyWarning: \n",
      "A value is trying to be set on a copy of a slice from a DataFrame\n",
      "\n",
      "See the caveats in the documentation: https://pandas.pydata.org/pandas-docs/stable/user_guide/indexing.html#returning-a-view-versus-a-copy\n",
      "  stock_data['Return'].replace([np.inf, -np.inf], np.nan, inplace=True)\n",
      "C:\\Users\\PRAJWAL\\AppData\\Local\\Temp\\ipykernel_19000\\3832743817.py:11: FutureWarning: YF.download() has changed argument auto_adjust default to True\n",
      "  stock_data = yf.download(ticker, start=start, end=end, progress=False)\n"
     ]
    },
    {
     "name": "stdout",
     "output_type": "stream",
     "text": [
      "Error collecting data for LEN: ['Return']\n",
      "Collecting data for EXC...\n"
     ]
    },
    {
     "name": "stderr",
     "output_type": "stream",
     "text": [
      "C:\\Users\\PRAJWAL\\AppData\\Local\\Temp\\ipykernel_19000\\3832743817.py:18: SettingWithCopyWarning: \n",
      "A value is trying to be set on a copy of a slice from a DataFrame\n",
      "\n",
      "See the caveats in the documentation: https://pandas.pydata.org/pandas-docs/stable/user_guide/indexing.html#returning-a-view-versus-a-copy\n",
      "  stock_data['Return'].replace([np.inf, -np.inf], np.nan, inplace=True)\n",
      "C:\\Users\\PRAJWAL\\AppData\\Local\\Temp\\ipykernel_19000\\3832743817.py:11: FutureWarning: YF.download() has changed argument auto_adjust default to True\n",
      "  stock_data = yf.download(ticker, start=start, end=end, progress=False)\n"
     ]
    },
    {
     "name": "stdout",
     "output_type": "stream",
     "text": [
      "Error collecting data for EXC: ['Return']\n",
      "Collecting data for IR...\n"
     ]
    },
    {
     "name": "stderr",
     "output_type": "stream",
     "text": [
      "C:\\Users\\PRAJWAL\\AppData\\Local\\Temp\\ipykernel_19000\\3832743817.py:18: SettingWithCopyWarning: \n",
      "A value is trying to be set on a copy of a slice from a DataFrame\n",
      "\n",
      "See the caveats in the documentation: https://pandas.pydata.org/pandas-docs/stable/user_guide/indexing.html#returning-a-view-versus-a-copy\n",
      "  stock_data['Return'].replace([np.inf, -np.inf], np.nan, inplace=True)\n",
      "C:\\Users\\PRAJWAL\\AppData\\Local\\Temp\\ipykernel_19000\\3832743817.py:11: FutureWarning: YF.download() has changed argument auto_adjust default to True\n",
      "  stock_data = yf.download(ticker, start=start, end=end, progress=False)\n"
     ]
    },
    {
     "name": "stdout",
     "output_type": "stream",
     "text": [
      "Error collecting data for IR: ['Return']\n",
      "Collecting data for YUM...\n"
     ]
    },
    {
     "name": "stderr",
     "output_type": "stream",
     "text": [
      "C:\\Users\\PRAJWAL\\AppData\\Local\\Temp\\ipykernel_19000\\3832743817.py:18: SettingWithCopyWarning: \n",
      "A value is trying to be set on a copy of a slice from a DataFrame\n",
      "\n",
      "See the caveats in the documentation: https://pandas.pydata.org/pandas-docs/stable/user_guide/indexing.html#returning-a-view-versus-a-copy\n",
      "  stock_data['Return'].replace([np.inf, -np.inf], np.nan, inplace=True)\n",
      "C:\\Users\\PRAJWAL\\AppData\\Local\\Temp\\ipykernel_19000\\3832743817.py:11: FutureWarning: YF.download() has changed argument auto_adjust default to True\n",
      "  stock_data = yf.download(ticker, start=start, end=end, progress=False)\n"
     ]
    },
    {
     "name": "stdout",
     "output_type": "stream",
     "text": [
      "Error collecting data for YUM: ['Return']\n",
      "Collecting data for KHC...\n"
     ]
    },
    {
     "name": "stderr",
     "output_type": "stream",
     "text": [
      "C:\\Users\\PRAJWAL\\AppData\\Local\\Temp\\ipykernel_19000\\3832743817.py:18: SettingWithCopyWarning: \n",
      "A value is trying to be set on a copy of a slice from a DataFrame\n",
      "\n",
      "See the caveats in the documentation: https://pandas.pydata.org/pandas-docs/stable/user_guide/indexing.html#returning-a-view-versus-a-copy\n",
      "  stock_data['Return'].replace([np.inf, -np.inf], np.nan, inplace=True)\n",
      "C:\\Users\\PRAJWAL\\AppData\\Local\\Temp\\ipykernel_19000\\3832743817.py:11: FutureWarning: YF.download() has changed argument auto_adjust default to True\n",
      "  stock_data = yf.download(ticker, start=start, end=end, progress=False)\n"
     ]
    },
    {
     "name": "stdout",
     "output_type": "stream",
     "text": [
      "Error collecting data for KHC: ['Return']\n",
      "Collecting data for GEHC...\n"
     ]
    },
    {
     "name": "stderr",
     "output_type": "stream",
     "text": [
      "\n",
      "1 Failed download:\n",
      "['GEHC']: YFPricesMissingError('possibly delisted; no price data found  (1d 2010-01-01 -> 2020-12-31) (Yahoo error = \"Data doesn\\'t exist for startDate = 1262322000, endDate = 1609390800\")')\n",
      "C:\\Users\\PRAJWAL\\AppData\\Local\\Temp\\ipykernel_19000\\3832743817.py:11: FutureWarning: YF.download() has changed argument auto_adjust default to True\n",
      "  stock_data = yf.download(ticker, start=start, end=end, progress=False)\n"
     ]
    },
    {
     "name": "stdout",
     "output_type": "stream",
     "text": [
      "No OHLCV data found for GEHC from yfinance. Skipping.\n",
      "Collecting data for IQV...\n"
     ]
    },
    {
     "name": "stderr",
     "output_type": "stream",
     "text": [
      "C:\\Users\\PRAJWAL\\AppData\\Local\\Temp\\ipykernel_19000\\3832743817.py:18: SettingWithCopyWarning: \n",
      "A value is trying to be set on a copy of a slice from a DataFrame\n",
      "\n",
      "See the caveats in the documentation: https://pandas.pydata.org/pandas-docs/stable/user_guide/indexing.html#returning-a-view-versus-a-copy\n",
      "  stock_data['Return'].replace([np.inf, -np.inf], np.nan, inplace=True)\n",
      "C:\\Users\\PRAJWAL\\AppData\\Local\\Temp\\ipykernel_19000\\3832743817.py:11: FutureWarning: YF.download() has changed argument auto_adjust default to True\n",
      "  stock_data = yf.download(ticker, start=start, end=end, progress=False)\n"
     ]
    },
    {
     "name": "stdout",
     "output_type": "stream",
     "text": [
      "Error collecting data for IQV: ['Return']\n",
      "Collecting data for GIS...\n"
     ]
    },
    {
     "name": "stderr",
     "output_type": "stream",
     "text": [
      "C:\\Users\\PRAJWAL\\AppData\\Local\\Temp\\ipykernel_19000\\3832743817.py:18: SettingWithCopyWarning: \n",
      "A value is trying to be set on a copy of a slice from a DataFrame\n",
      "\n",
      "See the caveats in the documentation: https://pandas.pydata.org/pandas-docs/stable/user_guide/indexing.html#returning-a-view-versus-a-copy\n",
      "  stock_data['Return'].replace([np.inf, -np.inf], np.nan, inplace=True)\n",
      "C:\\Users\\PRAJWAL\\AppData\\Local\\Temp\\ipykernel_19000\\3832743817.py:11: FutureWarning: YF.download() has changed argument auto_adjust default to True\n",
      "  stock_data = yf.download(ticker, start=start, end=end, progress=False)\n"
     ]
    },
    {
     "name": "stdout",
     "output_type": "stream",
     "text": [
      "Error collecting data for GIS: ['Return']\n",
      "Collecting data for CCL...\n"
     ]
    },
    {
     "name": "stderr",
     "output_type": "stream",
     "text": [
      "C:\\Users\\PRAJWAL\\AppData\\Local\\Temp\\ipykernel_19000\\3832743817.py:18: SettingWithCopyWarning: \n",
      "A value is trying to be set on a copy of a slice from a DataFrame\n",
      "\n",
      "See the caveats in the documentation: https://pandas.pydata.org/pandas-docs/stable/user_guide/indexing.html#returning-a-view-versus-a-copy\n",
      "  stock_data['Return'].replace([np.inf, -np.inf], np.nan, inplace=True)\n",
      "C:\\Users\\PRAJWAL\\AppData\\Local\\Temp\\ipykernel_19000\\3832743817.py:11: FutureWarning: YF.download() has changed argument auto_adjust default to True\n",
      "  stock_data = yf.download(ticker, start=start, end=end, progress=False)\n"
     ]
    },
    {
     "name": "stdout",
     "output_type": "stream",
     "text": [
      "Error collecting data for CCL: ['Return']\n",
      "Collecting data for RMD...\n"
     ]
    },
    {
     "name": "stderr",
     "output_type": "stream",
     "text": [
      "C:\\Users\\PRAJWAL\\AppData\\Local\\Temp\\ipykernel_19000\\3832743817.py:18: SettingWithCopyWarning: \n",
      "A value is trying to be set on a copy of a slice from a DataFrame\n",
      "\n",
      "See the caveats in the documentation: https://pandas.pydata.org/pandas-docs/stable/user_guide/indexing.html#returning-a-view-versus-a-copy\n",
      "  stock_data['Return'].replace([np.inf, -np.inf], np.nan, inplace=True)\n",
      "C:\\Users\\PRAJWAL\\AppData\\Local\\Temp\\ipykernel_19000\\3832743817.py:11: FutureWarning: YF.download() has changed argument auto_adjust default to True\n",
      "  stock_data = yf.download(ticker, start=start, end=end, progress=False)\n"
     ]
    },
    {
     "name": "stdout",
     "output_type": "stream",
     "text": [
      "Error collecting data for RMD: ['Return']\n",
      "Collecting data for VMC...\n"
     ]
    },
    {
     "name": "stderr",
     "output_type": "stream",
     "text": [
      "C:\\Users\\PRAJWAL\\AppData\\Local\\Temp\\ipykernel_19000\\3832743817.py:18: SettingWithCopyWarning: \n",
      "A value is trying to be set on a copy of a slice from a DataFrame\n",
      "\n",
      "See the caveats in the documentation: https://pandas.pydata.org/pandas-docs/stable/user_guide/indexing.html#returning-a-view-versus-a-copy\n",
      "  stock_data['Return'].replace([np.inf, -np.inf], np.nan, inplace=True)\n",
      "C:\\Users\\PRAJWAL\\AppData\\Local\\Temp\\ipykernel_19000\\3832743817.py:11: FutureWarning: YF.download() has changed argument auto_adjust default to True\n",
      "  stock_data = yf.download(ticker, start=start, end=end, progress=False)\n"
     ]
    },
    {
     "name": "stdout",
     "output_type": "stream",
     "text": [
      "Error collecting data for VMC: ['Return']\n",
      "Collecting data for HSY...\n"
     ]
    },
    {
     "name": "stderr",
     "output_type": "stream",
     "text": [
      "C:\\Users\\PRAJWAL\\AppData\\Local\\Temp\\ipykernel_19000\\3832743817.py:18: SettingWithCopyWarning: \n",
      "A value is trying to be set on a copy of a slice from a DataFrame\n",
      "\n",
      "See the caveats in the documentation: https://pandas.pydata.org/pandas-docs/stable/user_guide/indexing.html#returning-a-view-versus-a-copy\n",
      "  stock_data['Return'].replace([np.inf, -np.inf], np.nan, inplace=True)\n",
      "C:\\Users\\PRAJWAL\\AppData\\Local\\Temp\\ipykernel_19000\\3832743817.py:11: FutureWarning: YF.download() has changed argument auto_adjust default to True\n",
      "  stock_data = yf.download(ticker, start=start, end=end, progress=False)\n"
     ]
    },
    {
     "name": "stdout",
     "output_type": "stream",
     "text": [
      "Error collecting data for HSY: ['Return']\n",
      "Collecting data for ACGL...\n"
     ]
    },
    {
     "name": "stderr",
     "output_type": "stream",
     "text": [
      "C:\\Users\\PRAJWAL\\AppData\\Local\\Temp\\ipykernel_19000\\3832743817.py:18: SettingWithCopyWarning: \n",
      "A value is trying to be set on a copy of a slice from a DataFrame\n",
      "\n",
      "See the caveats in the documentation: https://pandas.pydata.org/pandas-docs/stable/user_guide/indexing.html#returning-a-view-versus-a-copy\n",
      "  stock_data['Return'].replace([np.inf, -np.inf], np.nan, inplace=True)\n",
      "C:\\Users\\PRAJWAL\\AppData\\Local\\Temp\\ipykernel_19000\\3832743817.py:11: FutureWarning: YF.download() has changed argument auto_adjust default to True\n",
      "  stock_data = yf.download(ticker, start=start, end=end, progress=False)\n"
     ]
    },
    {
     "name": "stdout",
     "output_type": "stream",
     "text": [
      "Error collecting data for ACGL: ['Return']\n",
      "Collecting data for IDXX...\n"
     ]
    },
    {
     "name": "stderr",
     "output_type": "stream",
     "text": [
      "C:\\Users\\PRAJWAL\\AppData\\Local\\Temp\\ipykernel_19000\\3832743817.py:18: SettingWithCopyWarning: \n",
      "A value is trying to be set on a copy of a slice from a DataFrame\n",
      "\n",
      "See the caveats in the documentation: https://pandas.pydata.org/pandas-docs/stable/user_guide/indexing.html#returning-a-view-versus-a-copy\n",
      "  stock_data['Return'].replace([np.inf, -np.inf], np.nan, inplace=True)\n",
      "C:\\Users\\PRAJWAL\\AppData\\Local\\Temp\\ipykernel_19000\\3832743817.py:11: FutureWarning: YF.download() has changed argument auto_adjust default to True\n",
      "  stock_data = yf.download(ticker, start=start, end=end, progress=False)\n"
     ]
    },
    {
     "name": "stdout",
     "output_type": "stream",
     "text": [
      "Error collecting data for IDXX: ['Return']\n",
      "Collecting data for WAB...\n"
     ]
    },
    {
     "name": "stderr",
     "output_type": "stream",
     "text": [
      "C:\\Users\\PRAJWAL\\AppData\\Local\\Temp\\ipykernel_19000\\3832743817.py:18: SettingWithCopyWarning: \n",
      "A value is trying to be set on a copy of a slice from a DataFrame\n",
      "\n",
      "See the caveats in the documentation: https://pandas.pydata.org/pandas-docs/stable/user_guide/indexing.html#returning-a-view-versus-a-copy\n",
      "  stock_data['Return'].replace([np.inf, -np.inf], np.nan, inplace=True)\n",
      "C:\\Users\\PRAJWAL\\AppData\\Local\\Temp\\ipykernel_19000\\3832743817.py:11: FutureWarning: YF.download() has changed argument auto_adjust default to True\n",
      "  stock_data = yf.download(ticker, start=start, end=end, progress=False)\n"
     ]
    },
    {
     "name": "stdout",
     "output_type": "stream",
     "text": [
      "Error collecting data for WAB: ['Return']\n",
      "Collecting data for ROK...\n"
     ]
    },
    {
     "name": "stderr",
     "output_type": "stream",
     "text": [
      "C:\\Users\\PRAJWAL\\AppData\\Local\\Temp\\ipykernel_19000\\3832743817.py:18: SettingWithCopyWarning: \n",
      "A value is trying to be set on a copy of a slice from a DataFrame\n",
      "\n",
      "See the caveats in the documentation: https://pandas.pydata.org/pandas-docs/stable/user_guide/indexing.html#returning-a-view-versus-a-copy\n",
      "  stock_data['Return'].replace([np.inf, -np.inf], np.nan, inplace=True)\n",
      "C:\\Users\\PRAJWAL\\AppData\\Local\\Temp\\ipykernel_19000\\3832743817.py:11: FutureWarning: YF.download() has changed argument auto_adjust default to True\n",
      "  stock_data = yf.download(ticker, start=start, end=end, progress=False)\n"
     ]
    },
    {
     "name": "stdout",
     "output_type": "stream",
     "text": [
      "Error collecting data for ROK: ['Return']\n",
      "Collecting data for MLM...\n"
     ]
    },
    {
     "name": "stderr",
     "output_type": "stream",
     "text": [
      "C:\\Users\\PRAJWAL\\AppData\\Local\\Temp\\ipykernel_19000\\3832743817.py:18: SettingWithCopyWarning: \n",
      "A value is trying to be set on a copy of a slice from a DataFrame\n",
      "\n",
      "See the caveats in the documentation: https://pandas.pydata.org/pandas-docs/stable/user_guide/indexing.html#returning-a-view-versus-a-copy\n",
      "  stock_data['Return'].replace([np.inf, -np.inf], np.nan, inplace=True)\n",
      "C:\\Users\\PRAJWAL\\AppData\\Local\\Temp\\ipykernel_19000\\3832743817.py:11: FutureWarning: YF.download() has changed argument auto_adjust default to True\n",
      "  stock_data = yf.download(ticker, start=start, end=end, progress=False)\n"
     ]
    },
    {
     "name": "stdout",
     "output_type": "stream",
     "text": [
      "Error collecting data for MLM: ['Return']\n",
      "Collecting data for EXR...\n"
     ]
    },
    {
     "name": "stderr",
     "output_type": "stream",
     "text": [
      "C:\\Users\\PRAJWAL\\AppData\\Local\\Temp\\ipykernel_19000\\3832743817.py:18: SettingWithCopyWarning: \n",
      "A value is trying to be set on a copy of a slice from a DataFrame\n",
      "\n",
      "See the caveats in the documentation: https://pandas.pydata.org/pandas-docs/stable/user_guide/indexing.html#returning-a-view-versus-a-copy\n",
      "  stock_data['Return'].replace([np.inf, -np.inf], np.nan, inplace=True)\n",
      "C:\\Users\\PRAJWAL\\AppData\\Local\\Temp\\ipykernel_19000\\3832743817.py:11: FutureWarning: YF.download() has changed argument auto_adjust default to True\n",
      "  stock_data = yf.download(ticker, start=start, end=end, progress=False)\n"
     ]
    },
    {
     "name": "stdout",
     "output_type": "stream",
     "text": [
      "Error collecting data for EXR: ['Return']\n",
      "Collecting data for DD...\n"
     ]
    },
    {
     "name": "stderr",
     "output_type": "stream",
     "text": [
      "C:\\Users\\PRAJWAL\\AppData\\Local\\Temp\\ipykernel_19000\\3832743817.py:18: SettingWithCopyWarning: \n",
      "A value is trying to be set on a copy of a slice from a DataFrame\n",
      "\n",
      "See the caveats in the documentation: https://pandas.pydata.org/pandas-docs/stable/user_guide/indexing.html#returning-a-view-versus-a-copy\n",
      "  stock_data['Return'].replace([np.inf, -np.inf], np.nan, inplace=True)\n",
      "C:\\Users\\PRAJWAL\\AppData\\Local\\Temp\\ipykernel_19000\\3832743817.py:11: FutureWarning: YF.download() has changed argument auto_adjust default to True\n",
      "  stock_data = yf.download(ticker, start=start, end=end, progress=False)\n"
     ]
    },
    {
     "name": "stdout",
     "output_type": "stream",
     "text": [
      "Error collecting data for DD: ['Return']\n",
      "Collecting data for ETR...\n"
     ]
    },
    {
     "name": "stderr",
     "output_type": "stream",
     "text": [
      "C:\\Users\\PRAJWAL\\AppData\\Local\\Temp\\ipykernel_19000\\3832743817.py:18: SettingWithCopyWarning: \n",
      "A value is trying to be set on a copy of a slice from a DataFrame\n",
      "\n",
      "See the caveats in the documentation: https://pandas.pydata.org/pandas-docs/stable/user_guide/indexing.html#returning-a-view-versus-a-copy\n",
      "  stock_data['Return'].replace([np.inf, -np.inf], np.nan, inplace=True)\n",
      "C:\\Users\\PRAJWAL\\AppData\\Local\\Temp\\ipykernel_19000\\3832743817.py:11: FutureWarning: YF.download() has changed argument auto_adjust default to True\n",
      "  stock_data = yf.download(ticker, start=start, end=end, progress=False)\n"
     ]
    },
    {
     "name": "stdout",
     "output_type": "stream",
     "text": [
      "Error collecting data for ETR: ['Return']\n",
      "Collecting data for DECK...\n"
     ]
    },
    {
     "name": "stderr",
     "output_type": "stream",
     "text": [
      "C:\\Users\\PRAJWAL\\AppData\\Local\\Temp\\ipykernel_19000\\3832743817.py:18: SettingWithCopyWarning: \n",
      "A value is trying to be set on a copy of a slice from a DataFrame\n",
      "\n",
      "See the caveats in the documentation: https://pandas.pydata.org/pandas-docs/stable/user_guide/indexing.html#returning-a-view-versus-a-copy\n",
      "  stock_data['Return'].replace([np.inf, -np.inf], np.nan, inplace=True)\n",
      "C:\\Users\\PRAJWAL\\AppData\\Local\\Temp\\ipykernel_19000\\3832743817.py:11: FutureWarning: YF.download() has changed argument auto_adjust default to True\n",
      "  stock_data = yf.download(ticker, start=start, end=end, progress=False)\n"
     ]
    },
    {
     "name": "stdout",
     "output_type": "stream",
     "text": [
      "Error collecting data for DECK: ['Return']\n",
      "Collecting data for EFX...\n"
     ]
    },
    {
     "name": "stderr",
     "output_type": "stream",
     "text": [
      "C:\\Users\\PRAJWAL\\AppData\\Local\\Temp\\ipykernel_19000\\3832743817.py:18: SettingWithCopyWarning: \n",
      "A value is trying to be set on a copy of a slice from a DataFrame\n",
      "\n",
      "See the caveats in the documentation: https://pandas.pydata.org/pandas-docs/stable/user_guide/indexing.html#returning-a-view-versus-a-copy\n",
      "  stock_data['Return'].replace([np.inf, -np.inf], np.nan, inplace=True)\n",
      "C:\\Users\\PRAJWAL\\AppData\\Local\\Temp\\ipykernel_19000\\3832743817.py:11: FutureWarning: YF.download() has changed argument auto_adjust default to True\n",
      "  stock_data = yf.download(ticker, start=start, end=end, progress=False)\n"
     ]
    },
    {
     "name": "stdout",
     "output_type": "stream",
     "text": [
      "Error collecting data for EFX: ['Return']\n",
      "Collecting data for UAL...\n"
     ]
    },
    {
     "name": "stderr",
     "output_type": "stream",
     "text": [
      "C:\\Users\\PRAJWAL\\AppData\\Local\\Temp\\ipykernel_19000\\3832743817.py:18: SettingWithCopyWarning: \n",
      "A value is trying to be set on a copy of a slice from a DataFrame\n",
      "\n",
      "See the caveats in the documentation: https://pandas.pydata.org/pandas-docs/stable/user_guide/indexing.html#returning-a-view-versus-a-copy\n",
      "  stock_data['Return'].replace([np.inf, -np.inf], np.nan, inplace=True)\n",
      "C:\\Users\\PRAJWAL\\AppData\\Local\\Temp\\ipykernel_19000\\3832743817.py:11: FutureWarning: YF.download() has changed argument auto_adjust default to True\n",
      "  stock_data = yf.download(ticker, start=start, end=end, progress=False)\n"
     ]
    },
    {
     "name": "stdout",
     "output_type": "stream",
     "text": [
      "Error collecting data for UAL: ['Return']\n",
      "Collecting data for WTW...\n"
     ]
    },
    {
     "name": "stderr",
     "output_type": "stream",
     "text": [
      "C:\\Users\\PRAJWAL\\AppData\\Local\\Temp\\ipykernel_19000\\3832743817.py:18: SettingWithCopyWarning: \n",
      "A value is trying to be set on a copy of a slice from a DataFrame\n",
      "\n",
      "See the caveats in the documentation: https://pandas.pydata.org/pandas-docs/stable/user_guide/indexing.html#returning-a-view-versus-a-copy\n",
      "  stock_data['Return'].replace([np.inf, -np.inf], np.nan, inplace=True)\n",
      "C:\\Users\\PRAJWAL\\AppData\\Local\\Temp\\ipykernel_19000\\3832743817.py:11: FutureWarning: YF.download() has changed argument auto_adjust default to True\n",
      "  stock_data = yf.download(ticker, start=start, end=end, progress=False)\n"
     ]
    },
    {
     "name": "stdout",
     "output_type": "stream",
     "text": [
      "Error collecting data for WTW: ['Return']\n",
      "Collecting data for TTWO...\n"
     ]
    },
    {
     "name": "stderr",
     "output_type": "stream",
     "text": [
      "C:\\Users\\PRAJWAL\\AppData\\Local\\Temp\\ipykernel_19000\\3832743817.py:18: SettingWithCopyWarning: \n",
      "A value is trying to be set on a copy of a slice from a DataFrame\n",
      "\n",
      "See the caveats in the documentation: https://pandas.pydata.org/pandas-docs/stable/user_guide/indexing.html#returning-a-view-versus-a-copy\n",
      "  stock_data['Return'].replace([np.inf, -np.inf], np.nan, inplace=True)\n",
      "C:\\Users\\PRAJWAL\\AppData\\Local\\Temp\\ipykernel_19000\\3832743817.py:11: FutureWarning: YF.download() has changed argument auto_adjust default to True\n",
      "  stock_data = yf.download(ticker, start=start, end=end, progress=False)\n"
     ]
    },
    {
     "name": "stdout",
     "output_type": "stream",
     "text": [
      "Error collecting data for TTWO: ['Return']\n",
      "Collecting data for HIG...\n"
     ]
    },
    {
     "name": "stderr",
     "output_type": "stream",
     "text": [
      "C:\\Users\\PRAJWAL\\AppData\\Local\\Temp\\ipykernel_19000\\3832743817.py:18: SettingWithCopyWarning: \n",
      "A value is trying to be set on a copy of a slice from a DataFrame\n",
      "\n",
      "See the caveats in the documentation: https://pandas.pydata.org/pandas-docs/stable/user_guide/indexing.html#returning-a-view-versus-a-copy\n",
      "  stock_data['Return'].replace([np.inf, -np.inf], np.nan, inplace=True)\n",
      "C:\\Users\\PRAJWAL\\AppData\\Local\\Temp\\ipykernel_19000\\3832743817.py:11: FutureWarning: YF.download() has changed argument auto_adjust default to True\n",
      "  stock_data = yf.download(ticker, start=start, end=end, progress=False)\n"
     ]
    },
    {
     "name": "stdout",
     "output_type": "stream",
     "text": [
      "Error collecting data for HIG: ['Return']\n",
      "Collecting data for RJF...\n"
     ]
    },
    {
     "name": "stderr",
     "output_type": "stream",
     "text": [
      "C:\\Users\\PRAJWAL\\AppData\\Local\\Temp\\ipykernel_19000\\3832743817.py:18: SettingWithCopyWarning: \n",
      "A value is trying to be set on a copy of a slice from a DataFrame\n",
      "\n",
      "See the caveats in the documentation: https://pandas.pydata.org/pandas-docs/stable/user_guide/indexing.html#returning-a-view-versus-a-copy\n",
      "  stock_data['Return'].replace([np.inf, -np.inf], np.nan, inplace=True)\n",
      "C:\\Users\\PRAJWAL\\AppData\\Local\\Temp\\ipykernel_19000\\3832743817.py:11: FutureWarning: YF.download() has changed argument auto_adjust default to True\n",
      "  stock_data = yf.download(ticker, start=start, end=end, progress=False)\n"
     ]
    },
    {
     "name": "stdout",
     "output_type": "stream",
     "text": [
      "Error collecting data for RJF: ['Return']\n",
      "Collecting data for AVB...\n"
     ]
    },
    {
     "name": "stderr",
     "output_type": "stream",
     "text": [
      "C:\\Users\\PRAJWAL\\AppData\\Local\\Temp\\ipykernel_19000\\3832743817.py:18: SettingWithCopyWarning: \n",
      "A value is trying to be set on a copy of a slice from a DataFrame\n",
      "\n",
      "See the caveats in the documentation: https://pandas.pydata.org/pandas-docs/stable/user_guide/indexing.html#returning-a-view-versus-a-copy\n",
      "  stock_data['Return'].replace([np.inf, -np.inf], np.nan, inplace=True)\n",
      "C:\\Users\\PRAJWAL\\AppData\\Local\\Temp\\ipykernel_19000\\3832743817.py:11: FutureWarning: YF.download() has changed argument auto_adjust default to True\n",
      "  stock_data = yf.download(ticker, start=start, end=end, progress=False)\n"
     ]
    },
    {
     "name": "stdout",
     "output_type": "stream",
     "text": [
      "Error collecting data for AVB: ['Return']\n",
      "Collecting data for MTB...\n"
     ]
    },
    {
     "name": "stderr",
     "output_type": "stream",
     "text": [
      "C:\\Users\\PRAJWAL\\AppData\\Local\\Temp\\ipykernel_19000\\3832743817.py:18: SettingWithCopyWarning: \n",
      "A value is trying to be set on a copy of a slice from a DataFrame\n",
      "\n",
      "See the caveats in the documentation: https://pandas.pydata.org/pandas-docs/stable/user_guide/indexing.html#returning-a-view-versus-a-copy\n",
      "  stock_data['Return'].replace([np.inf, -np.inf], np.nan, inplace=True)\n",
      "C:\\Users\\PRAJWAL\\AppData\\Local\\Temp\\ipykernel_19000\\3832743817.py:11: FutureWarning: YF.download() has changed argument auto_adjust default to True\n",
      "  stock_data = yf.download(ticker, start=start, end=end, progress=False)\n"
     ]
    },
    {
     "name": "stdout",
     "output_type": "stream",
     "text": [
      "Error collecting data for MTB: ['Return']\n",
      "Collecting data for DXCM...\n"
     ]
    },
    {
     "name": "stderr",
     "output_type": "stream",
     "text": [
      "C:\\Users\\PRAJWAL\\AppData\\Local\\Temp\\ipykernel_19000\\3832743817.py:18: SettingWithCopyWarning: \n",
      "A value is trying to be set on a copy of a slice from a DataFrame\n",
      "\n",
      "See the caveats in the documentation: https://pandas.pydata.org/pandas-docs/stable/user_guide/indexing.html#returning-a-view-versus-a-copy\n",
      "  stock_data['Return'].replace([np.inf, -np.inf], np.nan, inplace=True)\n",
      "C:\\Users\\PRAJWAL\\AppData\\Local\\Temp\\ipykernel_19000\\3832743817.py:11: FutureWarning: YF.download() has changed argument auto_adjust default to True\n",
      "  stock_data = yf.download(ticker, start=start, end=end, progress=False)\n"
     ]
    },
    {
     "name": "stdout",
     "output_type": "stream",
     "text": [
      "Error collecting data for DXCM: ['Return']\n",
      "Collecting data for ED...\n"
     ]
    },
    {
     "name": "stderr",
     "output_type": "stream",
     "text": [
      "C:\\Users\\PRAJWAL\\AppData\\Local\\Temp\\ipykernel_19000\\3832743817.py:18: SettingWithCopyWarning: \n",
      "A value is trying to be set on a copy of a slice from a DataFrame\n",
      "\n",
      "See the caveats in the documentation: https://pandas.pydata.org/pandas-docs/stable/user_guide/indexing.html#returning-a-view-versus-a-copy\n",
      "  stock_data['Return'].replace([np.inf, -np.inf], np.nan, inplace=True)\n",
      "C:\\Users\\PRAJWAL\\AppData\\Local\\Temp\\ipykernel_19000\\3832743817.py:11: FutureWarning: YF.download() has changed argument auto_adjust default to True\n",
      "  stock_data = yf.download(ticker, start=start, end=end, progress=False)\n"
     ]
    },
    {
     "name": "stdout",
     "output_type": "stream",
     "text": [
      "Error collecting data for ED: ['Return']\n",
      "Collecting data for EBAY...\n"
     ]
    },
    {
     "name": "stderr",
     "output_type": "stream",
     "text": [
      "C:\\Users\\PRAJWAL\\AppData\\Local\\Temp\\ipykernel_19000\\3832743817.py:18: SettingWithCopyWarning: \n",
      "A value is trying to be set on a copy of a slice from a DataFrame\n",
      "\n",
      "See the caveats in the documentation: https://pandas.pydata.org/pandas-docs/stable/user_guide/indexing.html#returning-a-view-versus-a-copy\n",
      "  stock_data['Return'].replace([np.inf, -np.inf], np.nan, inplace=True)\n",
      "C:\\Users\\PRAJWAL\\AppData\\Local\\Temp\\ipykernel_19000\\3832743817.py:11: FutureWarning: YF.download() has changed argument auto_adjust default to True\n",
      "  stock_data = yf.download(ticker, start=start, end=end, progress=False)\n"
     ]
    },
    {
     "name": "stdout",
     "output_type": "stream",
     "text": [
      "Error collecting data for EBAY: ['Return']\n",
      "Collecting data for HPQ...\n"
     ]
    },
    {
     "name": "stderr",
     "output_type": "stream",
     "text": [
      "C:\\Users\\PRAJWAL\\AppData\\Local\\Temp\\ipykernel_19000\\3832743817.py:18: SettingWithCopyWarning: \n",
      "A value is trying to be set on a copy of a slice from a DataFrame\n",
      "\n",
      "See the caveats in the documentation: https://pandas.pydata.org/pandas-docs/stable/user_guide/indexing.html#returning-a-view-versus-a-copy\n",
      "  stock_data['Return'].replace([np.inf, -np.inf], np.nan, inplace=True)\n",
      "C:\\Users\\PRAJWAL\\AppData\\Local\\Temp\\ipykernel_19000\\3832743817.py:11: FutureWarning: YF.download() has changed argument auto_adjust default to True\n",
      "  stock_data = yf.download(ticker, start=start, end=end, progress=False)\n"
     ]
    },
    {
     "name": "stdout",
     "output_type": "stream",
     "text": [
      "Error collecting data for HPQ: ['Return']\n",
      "Collecting data for IRM...\n"
     ]
    },
    {
     "name": "stderr",
     "output_type": "stream",
     "text": [
      "C:\\Users\\PRAJWAL\\AppData\\Local\\Temp\\ipykernel_19000\\3832743817.py:18: SettingWithCopyWarning: \n",
      "A value is trying to be set on a copy of a slice from a DataFrame\n",
      "\n",
      "See the caveats in the documentation: https://pandas.pydata.org/pandas-docs/stable/user_guide/indexing.html#returning-a-view-versus-a-copy\n",
      "  stock_data['Return'].replace([np.inf, -np.inf], np.nan, inplace=True)\n",
      "C:\\Users\\PRAJWAL\\AppData\\Local\\Temp\\ipykernel_19000\\3832743817.py:11: FutureWarning: YF.download() has changed argument auto_adjust default to True\n",
      "  stock_data = yf.download(ticker, start=start, end=end, progress=False)\n"
     ]
    },
    {
     "name": "stdout",
     "output_type": "stream",
     "text": [
      "Error collecting data for IRM: ['Return']\n",
      "Collecting data for EIX...\n"
     ]
    },
    {
     "name": "stderr",
     "output_type": "stream",
     "text": [
      "C:\\Users\\PRAJWAL\\AppData\\Local\\Temp\\ipykernel_19000\\3832743817.py:18: SettingWithCopyWarning: \n",
      "A value is trying to be set on a copy of a slice from a DataFrame\n",
      "\n",
      "See the caveats in the documentation: https://pandas.pydata.org/pandas-docs/stable/user_guide/indexing.html#returning-a-view-versus-a-copy\n",
      "  stock_data['Return'].replace([np.inf, -np.inf], np.nan, inplace=True)\n",
      "C:\\Users\\PRAJWAL\\AppData\\Local\\Temp\\ipykernel_19000\\3832743817.py:11: FutureWarning: YF.download() has changed argument auto_adjust default to True\n",
      "  stock_data = yf.download(ticker, start=start, end=end, progress=False)\n"
     ]
    },
    {
     "name": "stdout",
     "output_type": "stream",
     "text": [
      "Error collecting data for EIX: ['Return']\n",
      "Collecting data for LYV...\n"
     ]
    },
    {
     "name": "stderr",
     "output_type": "stream",
     "text": [
      "C:\\Users\\PRAJWAL\\AppData\\Local\\Temp\\ipykernel_19000\\3832743817.py:18: SettingWithCopyWarning: \n",
      "A value is trying to be set on a copy of a slice from a DataFrame\n",
      "\n",
      "See the caveats in the documentation: https://pandas.pydata.org/pandas-docs/stable/user_guide/indexing.html#returning-a-view-versus-a-copy\n",
      "  stock_data['Return'].replace([np.inf, -np.inf], np.nan, inplace=True)\n",
      "C:\\Users\\PRAJWAL\\AppData\\Local\\Temp\\ipykernel_19000\\3832743817.py:11: FutureWarning: YF.download() has changed argument auto_adjust default to True\n",
      "  stock_data = yf.download(ticker, start=start, end=end, progress=False)\n"
     ]
    },
    {
     "name": "stdout",
     "output_type": "stream",
     "text": [
      "Error collecting data for LYV: ['Return']\n",
      "Collecting data for VICI...\n"
     ]
    },
    {
     "name": "stderr",
     "output_type": "stream",
     "text": [
      "C:\\Users\\PRAJWAL\\AppData\\Local\\Temp\\ipykernel_19000\\3832743817.py:18: SettingWithCopyWarning: \n",
      "A value is trying to be set on a copy of a slice from a DataFrame\n",
      "\n",
      "See the caveats in the documentation: https://pandas.pydata.org/pandas-docs/stable/user_guide/indexing.html#returning-a-view-versus-a-copy\n",
      "  stock_data['Return'].replace([np.inf, -np.inf], np.nan, inplace=True)\n",
      "C:\\Users\\PRAJWAL\\AppData\\Local\\Temp\\ipykernel_19000\\3832743817.py:11: FutureWarning: YF.download() has changed argument auto_adjust default to True\n",
      "  stock_data = yf.download(ticker, start=start, end=end, progress=False)\n"
     ]
    },
    {
     "name": "stdout",
     "output_type": "stream",
     "text": [
      "Error collecting data for VICI: ['Return']\n",
      "Collecting data for CNC...\n"
     ]
    },
    {
     "name": "stderr",
     "output_type": "stream",
     "text": [
      "C:\\Users\\PRAJWAL\\AppData\\Local\\Temp\\ipykernel_19000\\3832743817.py:18: SettingWithCopyWarning: \n",
      "A value is trying to be set on a copy of a slice from a DataFrame\n",
      "\n",
      "See the caveats in the documentation: https://pandas.pydata.org/pandas-docs/stable/user_guide/indexing.html#returning-a-view-versus-a-copy\n",
      "  stock_data['Return'].replace([np.inf, -np.inf], np.nan, inplace=True)\n",
      "C:\\Users\\PRAJWAL\\AppData\\Local\\Temp\\ipykernel_19000\\3832743817.py:11: FutureWarning: YF.download() has changed argument auto_adjust default to True\n",
      "  stock_data = yf.download(ticker, start=start, end=end, progress=False)\n"
     ]
    },
    {
     "name": "stdout",
     "output_type": "stream",
     "text": [
      "Error collecting data for CNC: ['Return']\n",
      "Collecting data for WEC...\n"
     ]
    },
    {
     "name": "stderr",
     "output_type": "stream",
     "text": [
      "C:\\Users\\PRAJWAL\\AppData\\Local\\Temp\\ipykernel_19000\\3832743817.py:18: SettingWithCopyWarning: \n",
      "A value is trying to be set on a copy of a slice from a DataFrame\n",
      "\n",
      "See the caveats in the documentation: https://pandas.pydata.org/pandas-docs/stable/user_guide/indexing.html#returning-a-view-versus-a-copy\n",
      "  stock_data['Return'].replace([np.inf, -np.inf], np.nan, inplace=True)\n",
      "C:\\Users\\PRAJWAL\\AppData\\Local\\Temp\\ipykernel_19000\\3832743817.py:11: FutureWarning: YF.download() has changed argument auto_adjust default to True\n",
      "  stock_data = yf.download(ticker, start=start, end=end, progress=False)\n"
     ]
    },
    {
     "name": "stdout",
     "output_type": "stream",
     "text": [
      "Error collecting data for WEC: ['Return']\n",
      "Collecting data for MCHP...\n"
     ]
    },
    {
     "name": "stderr",
     "output_type": "stream",
     "text": [
      "C:\\Users\\PRAJWAL\\AppData\\Local\\Temp\\ipykernel_19000\\3832743817.py:18: SettingWithCopyWarning: \n",
      "A value is trying to be set on a copy of a slice from a DataFrame\n",
      "\n",
      "See the caveats in the documentation: https://pandas.pydata.org/pandas-docs/stable/user_guide/indexing.html#returning-a-view-versus-a-copy\n",
      "  stock_data['Return'].replace([np.inf, -np.inf], np.nan, inplace=True)\n",
      "C:\\Users\\PRAJWAL\\AppData\\Local\\Temp\\ipykernel_19000\\3832743817.py:11: FutureWarning: YF.download() has changed argument auto_adjust default to True\n",
      "  stock_data = yf.download(ticker, start=start, end=end, progress=False)\n"
     ]
    },
    {
     "name": "stdout",
     "output_type": "stream",
     "text": [
      "Error collecting data for MCHP: ['Return']\n",
      "Collecting data for HUM...\n"
     ]
    },
    {
     "name": "stderr",
     "output_type": "stream",
     "text": [
      "C:\\Users\\PRAJWAL\\AppData\\Local\\Temp\\ipykernel_19000\\3832743817.py:18: SettingWithCopyWarning: \n",
      "A value is trying to be set on a copy of a slice from a DataFrame\n",
      "\n",
      "See the caveats in the documentation: https://pandas.pydata.org/pandas-docs/stable/user_guide/indexing.html#returning-a-view-versus-a-copy\n",
      "  stock_data['Return'].replace([np.inf, -np.inf], np.nan, inplace=True)\n",
      "C:\\Users\\PRAJWAL\\AppData\\Local\\Temp\\ipykernel_19000\\3832743817.py:11: FutureWarning: YF.download() has changed argument auto_adjust default to True\n",
      "  stock_data = yf.download(ticker, start=start, end=end, progress=False)\n"
     ]
    },
    {
     "name": "stdout",
     "output_type": "stream",
     "text": [
      "Error collecting data for HUM: ['Return']\n",
      "Collecting data for ANSS...\n"
     ]
    },
    {
     "name": "stderr",
     "output_type": "stream",
     "text": [
      "C:\\Users\\PRAJWAL\\AppData\\Local\\Temp\\ipykernel_19000\\3832743817.py:18: SettingWithCopyWarning: \n",
      "A value is trying to be set on a copy of a slice from a DataFrame\n",
      "\n",
      "See the caveats in the documentation: https://pandas.pydata.org/pandas-docs/stable/user_guide/indexing.html#returning-a-view-versus-a-copy\n",
      "  stock_data['Return'].replace([np.inf, -np.inf], np.nan, inplace=True)\n",
      "C:\\Users\\PRAJWAL\\AppData\\Local\\Temp\\ipykernel_19000\\3832743817.py:11: FutureWarning: YF.download() has changed argument auto_adjust default to True\n",
      "  stock_data = yf.download(ticker, start=start, end=end, progress=False)\n"
     ]
    },
    {
     "name": "stdout",
     "output_type": "stream",
     "text": [
      "Error collecting data for ANSS: ['Return']\n",
      "Collecting data for BRO...\n"
     ]
    },
    {
     "name": "stderr",
     "output_type": "stream",
     "text": [
      "C:\\Users\\PRAJWAL\\AppData\\Local\\Temp\\ipykernel_19000\\3832743817.py:18: SettingWithCopyWarning: \n",
      "A value is trying to be set on a copy of a slice from a DataFrame\n",
      "\n",
      "See the caveats in the documentation: https://pandas.pydata.org/pandas-docs/stable/user_guide/indexing.html#returning-a-view-versus-a-copy\n",
      "  stock_data['Return'].replace([np.inf, -np.inf], np.nan, inplace=True)\n",
      "C:\\Users\\PRAJWAL\\AppData\\Local\\Temp\\ipykernel_19000\\3832743817.py:11: FutureWarning: YF.download() has changed argument auto_adjust default to True\n",
      "  stock_data = yf.download(ticker, start=start, end=end, progress=False)\n"
     ]
    },
    {
     "name": "stdout",
     "output_type": "stream",
     "text": [
      "Error collecting data for BRO: ['Return']\n",
      "Collecting data for CSGP...\n"
     ]
    },
    {
     "name": "stderr",
     "output_type": "stream",
     "text": [
      "C:\\Users\\PRAJWAL\\AppData\\Local\\Temp\\ipykernel_19000\\3832743817.py:18: SettingWithCopyWarning: \n",
      "A value is trying to be set on a copy of a slice from a DataFrame\n",
      "\n",
      "See the caveats in the documentation: https://pandas.pydata.org/pandas-docs/stable/user_guide/indexing.html#returning-a-view-versus-a-copy\n",
      "  stock_data['Return'].replace([np.inf, -np.inf], np.nan, inplace=True)\n",
      "C:\\Users\\PRAJWAL\\AppData\\Local\\Temp\\ipykernel_19000\\3832743817.py:11: FutureWarning: YF.download() has changed argument auto_adjust default to True\n",
      "  stock_data = yf.download(ticker, start=start, end=end, progress=False)\n"
     ]
    },
    {
     "name": "stdout",
     "output_type": "stream",
     "text": [
      "Error collecting data for CSGP: ['Return']\n",
      "Collecting data for MPWR...\n"
     ]
    },
    {
     "name": "stderr",
     "output_type": "stream",
     "text": [
      "C:\\Users\\PRAJWAL\\AppData\\Local\\Temp\\ipykernel_19000\\3832743817.py:18: SettingWithCopyWarning: \n",
      "A value is trying to be set on a copy of a slice from a DataFrame\n",
      "\n",
      "See the caveats in the documentation: https://pandas.pydata.org/pandas-docs/stable/user_guide/indexing.html#returning-a-view-versus-a-copy\n",
      "  stock_data['Return'].replace([np.inf, -np.inf], np.nan, inplace=True)\n",
      "C:\\Users\\PRAJWAL\\AppData\\Local\\Temp\\ipykernel_19000\\3832743817.py:11: FutureWarning: YF.download() has changed argument auto_adjust default to True\n",
      "  stock_data = yf.download(ticker, start=start, end=end, progress=False)\n"
     ]
    },
    {
     "name": "stdout",
     "output_type": "stream",
     "text": [
      "Error collecting data for MPWR: ['Return']\n",
      "Collecting data for GDDY...\n"
     ]
    },
    {
     "name": "stderr",
     "output_type": "stream",
     "text": [
      "C:\\Users\\PRAJWAL\\AppData\\Local\\Temp\\ipykernel_19000\\3832743817.py:18: SettingWithCopyWarning: \n",
      "A value is trying to be set on a copy of a slice from a DataFrame\n",
      "\n",
      "See the caveats in the documentation: https://pandas.pydata.org/pandas-docs/stable/user_guide/indexing.html#returning-a-view-versus-a-copy\n",
      "  stock_data['Return'].replace([np.inf, -np.inf], np.nan, inplace=True)\n",
      "C:\\Users\\PRAJWAL\\AppData\\Local\\Temp\\ipykernel_19000\\3832743817.py:11: FutureWarning: YF.download() has changed argument auto_adjust default to True\n",
      "  stock_data = yf.download(ticker, start=start, end=end, progress=False)\n"
     ]
    },
    {
     "name": "stdout",
     "output_type": "stream",
     "text": [
      "Error collecting data for GDDY: ['Return']\n",
      "Collecting data for TSCO...\n"
     ]
    },
    {
     "name": "stderr",
     "output_type": "stream",
     "text": [
      "C:\\Users\\PRAJWAL\\AppData\\Local\\Temp\\ipykernel_19000\\3832743817.py:18: SettingWithCopyWarning: \n",
      "A value is trying to be set on a copy of a slice from a DataFrame\n",
      "\n",
      "See the caveats in the documentation: https://pandas.pydata.org/pandas-docs/stable/user_guide/indexing.html#returning-a-view-versus-a-copy\n",
      "  stock_data['Return'].replace([np.inf, -np.inf], np.nan, inplace=True)\n",
      "C:\\Users\\PRAJWAL\\AppData\\Local\\Temp\\ipykernel_19000\\3832743817.py:11: FutureWarning: YF.download() has changed argument auto_adjust default to True\n",
      "  stock_data = yf.download(ticker, start=start, end=end, progress=False)\n"
     ]
    },
    {
     "name": "stdout",
     "output_type": "stream",
     "text": [
      "Error collecting data for TSCO: ['Return']\n",
      "Collecting data for STT...\n"
     ]
    },
    {
     "name": "stderr",
     "output_type": "stream",
     "text": [
      "C:\\Users\\PRAJWAL\\AppData\\Local\\Temp\\ipykernel_19000\\3832743817.py:18: SettingWithCopyWarning: \n",
      "A value is trying to be set on a copy of a slice from a DataFrame\n",
      "\n",
      "See the caveats in the documentation: https://pandas.pydata.org/pandas-docs/stable/user_guide/indexing.html#returning-a-view-versus-a-copy\n",
      "  stock_data['Return'].replace([np.inf, -np.inf], np.nan, inplace=True)\n",
      "C:\\Users\\PRAJWAL\\AppData\\Local\\Temp\\ipykernel_19000\\3832743817.py:11: FutureWarning: YF.download() has changed argument auto_adjust default to True\n",
      "  stock_data = yf.download(ticker, start=start, end=end, progress=False)\n"
     ]
    },
    {
     "name": "stdout",
     "output_type": "stream",
     "text": [
      "Error collecting data for STT: ['Return']\n",
      "Collecting data for CAH...\n"
     ]
    },
    {
     "name": "stderr",
     "output_type": "stream",
     "text": [
      "C:\\Users\\PRAJWAL\\AppData\\Local\\Temp\\ipykernel_19000\\3832743817.py:18: SettingWithCopyWarning: \n",
      "A value is trying to be set on a copy of a slice from a DataFrame\n",
      "\n",
      "See the caveats in the documentation: https://pandas.pydata.org/pandas-docs/stable/user_guide/indexing.html#returning-a-view-versus-a-copy\n",
      "  stock_data['Return'].replace([np.inf, -np.inf], np.nan, inplace=True)\n",
      "C:\\Users\\PRAJWAL\\AppData\\Local\\Temp\\ipykernel_19000\\3832743817.py:11: FutureWarning: YF.download() has changed argument auto_adjust default to True\n",
      "  stock_data = yf.download(ticker, start=start, end=end, progress=False)\n"
     ]
    },
    {
     "name": "stdout",
     "output_type": "stream",
     "text": [
      "Error collecting data for CAH: ['Return']\n",
      "Collecting data for GPN...\n"
     ]
    },
    {
     "name": "stderr",
     "output_type": "stream",
     "text": [
      "C:\\Users\\PRAJWAL\\AppData\\Local\\Temp\\ipykernel_19000\\3832743817.py:18: SettingWithCopyWarning: \n",
      "A value is trying to be set on a copy of a slice from a DataFrame\n",
      "\n",
      "See the caveats in the documentation: https://pandas.pydata.org/pandas-docs/stable/user_guide/indexing.html#returning-a-view-versus-a-copy\n",
      "  stock_data['Return'].replace([np.inf, -np.inf], np.nan, inplace=True)\n",
      "C:\\Users\\PRAJWAL\\AppData\\Local\\Temp\\ipykernel_19000\\3832743817.py:11: FutureWarning: YF.download() has changed argument auto_adjust default to True\n",
      "  stock_data = yf.download(ticker, start=start, end=end, progress=False)\n"
     ]
    },
    {
     "name": "stdout",
     "output_type": "stream",
     "text": [
      "Error collecting data for GPN: ['Return']\n",
      "Collecting data for FITB...\n"
     ]
    },
    {
     "name": "stderr",
     "output_type": "stream",
     "text": [
      "C:\\Users\\PRAJWAL\\AppData\\Local\\Temp\\ipykernel_19000\\3832743817.py:18: SettingWithCopyWarning: \n",
      "A value is trying to be set on a copy of a slice from a DataFrame\n",
      "\n",
      "See the caveats in the documentation: https://pandas.pydata.org/pandas-docs/stable/user_guide/indexing.html#returning-a-view-versus-a-copy\n",
      "  stock_data['Return'].replace([np.inf, -np.inf], np.nan, inplace=True)\n",
      "C:\\Users\\PRAJWAL\\AppData\\Local\\Temp\\ipykernel_19000\\3832743817.py:11: FutureWarning: YF.download() has changed argument auto_adjust default to True\n",
      "  stock_data = yf.download(ticker, start=start, end=end, progress=False)\n"
     ]
    },
    {
     "name": "stdout",
     "output_type": "stream",
     "text": [
      "Error collecting data for FITB: ['Return']\n",
      "Collecting data for XYL...\n"
     ]
    },
    {
     "name": "stderr",
     "output_type": "stream",
     "text": [
      "C:\\Users\\PRAJWAL\\AppData\\Local\\Temp\\ipykernel_19000\\3832743817.py:18: SettingWithCopyWarning: \n",
      "A value is trying to be set on a copy of a slice from a DataFrame\n",
      "\n",
      "See the caveats in the documentation: https://pandas.pydata.org/pandas-docs/stable/user_guide/indexing.html#returning-a-view-versus-a-copy\n",
      "  stock_data['Return'].replace([np.inf, -np.inf], np.nan, inplace=True)\n",
      "C:\\Users\\PRAJWAL\\AppData\\Local\\Temp\\ipykernel_19000\\3832743817.py:11: FutureWarning: YF.download() has changed argument auto_adjust default to True\n",
      "  stock_data = yf.download(ticker, start=start, end=end, progress=False)\n"
     ]
    },
    {
     "name": "stdout",
     "output_type": "stream",
     "text": [
      "Error collecting data for XYL: ['Return']\n",
      "Collecting data for HPE...\n"
     ]
    },
    {
     "name": "stderr",
     "output_type": "stream",
     "text": [
      "C:\\Users\\PRAJWAL\\AppData\\Local\\Temp\\ipykernel_19000\\3832743817.py:18: SettingWithCopyWarning: \n",
      "A value is trying to be set on a copy of a slice from a DataFrame\n",
      "\n",
      "See the caveats in the documentation: https://pandas.pydata.org/pandas-docs/stable/user_guide/indexing.html#returning-a-view-versus-a-copy\n",
      "  stock_data['Return'].replace([np.inf, -np.inf], np.nan, inplace=True)\n",
      "C:\\Users\\PRAJWAL\\AppData\\Local\\Temp\\ipykernel_19000\\3832743817.py:11: FutureWarning: YF.download() has changed argument auto_adjust default to True\n",
      "  stock_data = yf.download(ticker, start=start, end=end, progress=False)\n"
     ]
    },
    {
     "name": "stdout",
     "output_type": "stream",
     "text": [
      "Error collecting data for HPE: ['Return']\n",
      "Collecting data for KEYS...\n"
     ]
    },
    {
     "name": "stderr",
     "output_type": "stream",
     "text": [
      "C:\\Users\\PRAJWAL\\AppData\\Local\\Temp\\ipykernel_19000\\3832743817.py:18: SettingWithCopyWarning: \n",
      "A value is trying to be set on a copy of a slice from a DataFrame\n",
      "\n",
      "See the caveats in the documentation: https://pandas.pydata.org/pandas-docs/stable/user_guide/indexing.html#returning-a-view-versus-a-copy\n",
      "  stock_data['Return'].replace([np.inf, -np.inf], np.nan, inplace=True)\n",
      "C:\\Users\\PRAJWAL\\AppData\\Local\\Temp\\ipykernel_19000\\3832743817.py:11: FutureWarning: YF.download() has changed argument auto_adjust default to True\n",
      "  stock_data = yf.download(ticker, start=start, end=end, progress=False)\n"
     ]
    },
    {
     "name": "stdout",
     "output_type": "stream",
     "text": [
      "Error collecting data for KEYS: ['Return']\n",
      "Collecting data for DOW...\n"
     ]
    },
    {
     "name": "stderr",
     "output_type": "stream",
     "text": [
      "C:\\Users\\PRAJWAL\\AppData\\Local\\Temp\\ipykernel_19000\\3832743817.py:18: SettingWithCopyWarning: \n",
      "A value is trying to be set on a copy of a slice from a DataFrame\n",
      "\n",
      "See the caveats in the documentation: https://pandas.pydata.org/pandas-docs/stable/user_guide/indexing.html#returning-a-view-versus-a-copy\n",
      "  stock_data['Return'].replace([np.inf, -np.inf], np.nan, inplace=True)\n",
      "C:\\Users\\PRAJWAL\\AppData\\Local\\Temp\\ipykernel_19000\\3832743817.py:11: FutureWarning: YF.download() has changed argument auto_adjust default to True\n",
      "  stock_data = yf.download(ticker, start=start, end=end, progress=False)\n"
     ]
    },
    {
     "name": "stdout",
     "output_type": "stream",
     "text": [
      "Error collecting data for DOW: ['Return']\n",
      "Collecting data for EQR...\n"
     ]
    },
    {
     "name": "stderr",
     "output_type": "stream",
     "text": [
      "C:\\Users\\PRAJWAL\\AppData\\Local\\Temp\\ipykernel_19000\\3832743817.py:18: SettingWithCopyWarning: \n",
      "A value is trying to be set on a copy of a slice from a DataFrame\n",
      "\n",
      "See the caveats in the documentation: https://pandas.pydata.org/pandas-docs/stable/user_guide/indexing.html#returning-a-view-versus-a-copy\n",
      "  stock_data['Return'].replace([np.inf, -np.inf], np.nan, inplace=True)\n",
      "C:\\Users\\PRAJWAL\\AppData\\Local\\Temp\\ipykernel_19000\\3832743817.py:11: FutureWarning: YF.download() has changed argument auto_adjust default to True\n",
      "  stock_data = yf.download(ticker, start=start, end=end, progress=False)\n"
     ]
    },
    {
     "name": "stdout",
     "output_type": "stream",
     "text": [
      "Error collecting data for EQR: ['Return']\n",
      "Collecting data for ON...\n"
     ]
    },
    {
     "name": "stderr",
     "output_type": "stream",
     "text": [
      "C:\\Users\\PRAJWAL\\AppData\\Local\\Temp\\ipykernel_19000\\3832743817.py:18: SettingWithCopyWarning: \n",
      "A value is trying to be set on a copy of a slice from a DataFrame\n",
      "\n",
      "See the caveats in the documentation: https://pandas.pydata.org/pandas-docs/stable/user_guide/indexing.html#returning-a-view-versus-a-copy\n",
      "  stock_data['Return'].replace([np.inf, -np.inf], np.nan, inplace=True)\n",
      "C:\\Users\\PRAJWAL\\AppData\\Local\\Temp\\ipykernel_19000\\3832743817.py:11: FutureWarning: YF.download() has changed argument auto_adjust default to True\n",
      "  stock_data = yf.download(ticker, start=start, end=end, progress=False)\n"
     ]
    },
    {
     "name": "stdout",
     "output_type": "stream",
     "text": [
      "Error collecting data for ON: ['Return']\n",
      "Collecting data for PPG...\n"
     ]
    },
    {
     "name": "stderr",
     "output_type": "stream",
     "text": [
      "C:\\Users\\PRAJWAL\\AppData\\Local\\Temp\\ipykernel_19000\\3832743817.py:18: SettingWithCopyWarning: \n",
      "A value is trying to be set on a copy of a slice from a DataFrame\n",
      "\n",
      "See the caveats in the documentation: https://pandas.pydata.org/pandas-docs/stable/user_guide/indexing.html#returning-a-view-versus-a-copy\n",
      "  stock_data['Return'].replace([np.inf, -np.inf], np.nan, inplace=True)\n",
      "C:\\Users\\PRAJWAL\\AppData\\Local\\Temp\\ipykernel_19000\\3832743817.py:11: FutureWarning: YF.download() has changed argument auto_adjust default to True\n",
      "  stock_data = yf.download(ticker, start=start, end=end, progress=False)\n"
     ]
    },
    {
     "name": "stdout",
     "output_type": "stream",
     "text": [
      "Error collecting data for PPG: ['Return']\n",
      "Collecting data for K...\n"
     ]
    },
    {
     "name": "stderr",
     "output_type": "stream",
     "text": [
      "C:\\Users\\PRAJWAL\\AppData\\Local\\Temp\\ipykernel_19000\\3832743817.py:18: SettingWithCopyWarning: \n",
      "A value is trying to be set on a copy of a slice from a DataFrame\n",
      "\n",
      "See the caveats in the documentation: https://pandas.pydata.org/pandas-docs/stable/user_guide/indexing.html#returning-a-view-versus-a-copy\n",
      "  stock_data['Return'].replace([np.inf, -np.inf], np.nan, inplace=True)\n",
      "C:\\Users\\PRAJWAL\\AppData\\Local\\Temp\\ipykernel_19000\\3832743817.py:11: FutureWarning: YF.download() has changed argument auto_adjust default to True\n",
      "  stock_data = yf.download(ticker, start=start, end=end, progress=False)\n"
     ]
    },
    {
     "name": "stdout",
     "output_type": "stream",
     "text": [
      "Error collecting data for K: ['Return']\n",
      "Collecting data for SW...\n"
     ]
    },
    {
     "name": "stderr",
     "output_type": "stream",
     "text": [
      "C:\\Users\\PRAJWAL\\AppData\\Local\\Temp\\ipykernel_19000\\3832743817.py:18: SettingWithCopyWarning: \n",
      "A value is trying to be set on a copy of a slice from a DataFrame\n",
      "\n",
      "See the caveats in the documentation: https://pandas.pydata.org/pandas-docs/stable/user_guide/indexing.html#returning-a-view-versus-a-copy\n",
      "  stock_data['Return'].replace([np.inf, -np.inf], np.nan, inplace=True)\n",
      "C:\\Users\\PRAJWAL\\AppData\\Local\\Temp\\ipykernel_19000\\3832743817.py:11: FutureWarning: YF.download() has changed argument auto_adjust default to True\n",
      "  stock_data = yf.download(ticker, start=start, end=end, progress=False)\n"
     ]
    },
    {
     "name": "stdout",
     "output_type": "stream",
     "text": [
      "Error collecting data for SW: ['Return']\n",
      "Collecting data for NUE...\n"
     ]
    },
    {
     "name": "stderr",
     "output_type": "stream",
     "text": [
      "C:\\Users\\PRAJWAL\\AppData\\Local\\Temp\\ipykernel_19000\\3832743817.py:18: SettingWithCopyWarning: \n",
      "A value is trying to be set on a copy of a slice from a DataFrame\n",
      "\n",
      "See the caveats in the documentation: https://pandas.pydata.org/pandas-docs/stable/user_guide/indexing.html#returning-a-view-versus-a-copy\n",
      "  stock_data['Return'].replace([np.inf, -np.inf], np.nan, inplace=True)\n",
      "C:\\Users\\PRAJWAL\\AppData\\Local\\Temp\\ipykernel_19000\\3832743817.py:11: FutureWarning: YF.download() has changed argument auto_adjust default to True\n",
      "  stock_data = yf.download(ticker, start=start, end=end, progress=False)\n"
     ]
    },
    {
     "name": "stdout",
     "output_type": "stream",
     "text": [
      "Error collecting data for NUE: ['Return']\n",
      "Collecting data for EL...\n"
     ]
    },
    {
     "name": "stderr",
     "output_type": "stream",
     "text": [
      "C:\\Users\\PRAJWAL\\AppData\\Local\\Temp\\ipykernel_19000\\3832743817.py:18: SettingWithCopyWarning: \n",
      "A value is trying to be set on a copy of a slice from a DataFrame\n",
      "\n",
      "See the caveats in the documentation: https://pandas.pydata.org/pandas-docs/stable/user_guide/indexing.html#returning-a-view-versus-a-copy\n",
      "  stock_data['Return'].replace([np.inf, -np.inf], np.nan, inplace=True)\n",
      "C:\\Users\\PRAJWAL\\AppData\\Local\\Temp\\ipykernel_19000\\3832743817.py:11: FutureWarning: YF.download() has changed argument auto_adjust default to True\n",
      "  stock_data = yf.download(ticker, start=start, end=end, progress=False)\n"
     ]
    },
    {
     "name": "stdout",
     "output_type": "stream",
     "text": [
      "Error collecting data for EL: ['Return']\n",
      "Collecting data for BR...\n"
     ]
    },
    {
     "name": "stderr",
     "output_type": "stream",
     "text": [
      "C:\\Users\\PRAJWAL\\AppData\\Local\\Temp\\ipykernel_19000\\3832743817.py:18: SettingWithCopyWarning: \n",
      "A value is trying to be set on a copy of a slice from a DataFrame\n",
      "\n",
      "See the caveats in the documentation: https://pandas.pydata.org/pandas-docs/stable/user_guide/indexing.html#returning-a-view-versus-a-copy\n",
      "  stock_data['Return'].replace([np.inf, -np.inf], np.nan, inplace=True)\n",
      "C:\\Users\\PRAJWAL\\AppData\\Local\\Temp\\ipykernel_19000\\3832743817.py:11: FutureWarning: YF.download() has changed argument auto_adjust default to True\n",
      "  stock_data = yf.download(ticker, start=start, end=end, progress=False)\n"
     ]
    },
    {
     "name": "stdout",
     "output_type": "stream",
     "text": [
      "Error collecting data for BR: ['Return']\n",
      "Collecting data for WBD...\n"
     ]
    },
    {
     "name": "stderr",
     "output_type": "stream",
     "text": [
      "C:\\Users\\PRAJWAL\\AppData\\Local\\Temp\\ipykernel_19000\\3832743817.py:18: SettingWithCopyWarning: \n",
      "A value is trying to be set on a copy of a slice from a DataFrame\n",
      "\n",
      "See the caveats in the documentation: https://pandas.pydata.org/pandas-docs/stable/user_guide/indexing.html#returning-a-view-versus-a-copy\n",
      "  stock_data['Return'].replace([np.inf, -np.inf], np.nan, inplace=True)\n",
      "C:\\Users\\PRAJWAL\\AppData\\Local\\Temp\\ipykernel_19000\\3832743817.py:11: FutureWarning: YF.download() has changed argument auto_adjust default to True\n",
      "  stock_data = yf.download(ticker, start=start, end=end, progress=False)\n"
     ]
    },
    {
     "name": "stdout",
     "output_type": "stream",
     "text": [
      "Error collecting data for WBD: ['Return']\n",
      "Collecting data for TPL...\n"
     ]
    },
    {
     "name": "stderr",
     "output_type": "stream",
     "text": [
      "C:\\Users\\PRAJWAL\\AppData\\Local\\Temp\\ipykernel_19000\\3832743817.py:18: SettingWithCopyWarning: \n",
      "A value is trying to be set on a copy of a slice from a DataFrame\n",
      "\n",
      "See the caveats in the documentation: https://pandas.pydata.org/pandas-docs/stable/user_guide/indexing.html#returning-a-view-versus-a-copy\n",
      "  stock_data['Return'].replace([np.inf, -np.inf], np.nan, inplace=True)\n",
      "C:\\Users\\PRAJWAL\\AppData\\Local\\Temp\\ipykernel_19000\\3832743817.py:11: FutureWarning: YF.download() has changed argument auto_adjust default to True\n",
      "  stock_data = yf.download(ticker, start=start, end=end, progress=False)\n"
     ]
    },
    {
     "name": "stdout",
     "output_type": "stream",
     "text": [
      "Error collecting data for TPL: ['Return']\n",
      "Collecting data for CHD...\n"
     ]
    },
    {
     "name": "stderr",
     "output_type": "stream",
     "text": [
      "C:\\Users\\PRAJWAL\\AppData\\Local\\Temp\\ipykernel_19000\\3832743817.py:18: SettingWithCopyWarning: \n",
      "A value is trying to be set on a copy of a slice from a DataFrame\n",
      "\n",
      "See the caveats in the documentation: https://pandas.pydata.org/pandas-docs/stable/user_guide/indexing.html#returning-a-view-versus-a-copy\n",
      "  stock_data['Return'].replace([np.inf, -np.inf], np.nan, inplace=True)\n",
      "C:\\Users\\PRAJWAL\\AppData\\Local\\Temp\\ipykernel_19000\\3832743817.py:11: FutureWarning: YF.download() has changed argument auto_adjust default to True\n",
      "  stock_data = yf.download(ticker, start=start, end=end, progress=False)\n"
     ]
    },
    {
     "name": "stdout",
     "output_type": "stream",
     "text": [
      "Error collecting data for CHD: ['Return']\n",
      "Collecting data for MTD...\n"
     ]
    },
    {
     "name": "stderr",
     "output_type": "stream",
     "text": [
      "C:\\Users\\PRAJWAL\\AppData\\Local\\Temp\\ipykernel_19000\\3832743817.py:18: SettingWithCopyWarning: \n",
      "A value is trying to be set on a copy of a slice from a DataFrame\n",
      "\n",
      "See the caveats in the documentation: https://pandas.pydata.org/pandas-docs/stable/user_guide/indexing.html#returning-a-view-versus-a-copy\n",
      "  stock_data['Return'].replace([np.inf, -np.inf], np.nan, inplace=True)\n",
      "C:\\Users\\PRAJWAL\\AppData\\Local\\Temp\\ipykernel_19000\\3832743817.py:11: FutureWarning: YF.download() has changed argument auto_adjust default to True\n",
      "  stock_data = yf.download(ticker, start=start, end=end, progress=False)\n"
     ]
    },
    {
     "name": "stdout",
     "output_type": "stream",
     "text": [
      "Error collecting data for MTD: ['Return']\n",
      "Collecting data for DOV...\n"
     ]
    },
    {
     "name": "stderr",
     "output_type": "stream",
     "text": [
      "C:\\Users\\PRAJWAL\\AppData\\Local\\Temp\\ipykernel_19000\\3832743817.py:18: SettingWithCopyWarning: \n",
      "A value is trying to be set on a copy of a slice from a DataFrame\n",
      "\n",
      "See the caveats in the documentation: https://pandas.pydata.org/pandas-docs/stable/user_guide/indexing.html#returning-a-view-versus-a-copy\n",
      "  stock_data['Return'].replace([np.inf, -np.inf], np.nan, inplace=True)\n",
      "C:\\Users\\PRAJWAL\\AppData\\Local\\Temp\\ipykernel_19000\\3832743817.py:11: FutureWarning: YF.download() has changed argument auto_adjust default to True\n",
      "  stock_data = yf.download(ticker, start=start, end=end, progress=False)\n"
     ]
    },
    {
     "name": "stdout",
     "output_type": "stream",
     "text": [
      "Error collecting data for DOV: ['Return']\n",
      "Collecting data for TYL...\n"
     ]
    },
    {
     "name": "stderr",
     "output_type": "stream",
     "text": [
      "C:\\Users\\PRAJWAL\\AppData\\Local\\Temp\\ipykernel_19000\\3832743817.py:18: SettingWithCopyWarning: \n",
      "A value is trying to be set on a copy of a slice from a DataFrame\n",
      "\n",
      "See the caveats in the documentation: https://pandas.pydata.org/pandas-docs/stable/user_guide/indexing.html#returning-a-view-versus-a-copy\n",
      "  stock_data['Return'].replace([np.inf, -np.inf], np.nan, inplace=True)\n",
      "C:\\Users\\PRAJWAL\\AppData\\Local\\Temp\\ipykernel_19000\\3832743817.py:11: FutureWarning: YF.download() has changed argument auto_adjust default to True\n",
      "  stock_data = yf.download(ticker, start=start, end=end, progress=False)\n"
     ]
    },
    {
     "name": "stdout",
     "output_type": "stream",
     "text": [
      "Error collecting data for TYL: ['Return']\n",
      "Collecting data for FTV...\n"
     ]
    },
    {
     "name": "stderr",
     "output_type": "stream",
     "text": [
      "C:\\Users\\PRAJWAL\\AppData\\Local\\Temp\\ipykernel_19000\\3832743817.py:18: SettingWithCopyWarning: \n",
      "A value is trying to be set on a copy of a slice from a DataFrame\n",
      "\n",
      "See the caveats in the documentation: https://pandas.pydata.org/pandas-docs/stable/user_guide/indexing.html#returning-a-view-versus-a-copy\n",
      "  stock_data['Return'].replace([np.inf, -np.inf], np.nan, inplace=True)\n",
      "C:\\Users\\PRAJWAL\\AppData\\Local\\Temp\\ipykernel_19000\\3832743817.py:11: FutureWarning: YF.download() has changed argument auto_adjust default to True\n",
      "  stock_data = yf.download(ticker, start=start, end=end, progress=False)\n"
     ]
    },
    {
     "name": "stdout",
     "output_type": "stream",
     "text": [
      "Error collecting data for FTV: ['Return']\n",
      "Collecting data for TROW...\n"
     ]
    },
    {
     "name": "stderr",
     "output_type": "stream",
     "text": [
      "C:\\Users\\PRAJWAL\\AppData\\Local\\Temp\\ipykernel_19000\\3832743817.py:18: SettingWithCopyWarning: \n",
      "A value is trying to be set on a copy of a slice from a DataFrame\n",
      "\n",
      "See the caveats in the documentation: https://pandas.pydata.org/pandas-docs/stable/user_guide/indexing.html#returning-a-view-versus-a-copy\n",
      "  stock_data['Return'].replace([np.inf, -np.inf], np.nan, inplace=True)\n",
      "C:\\Users\\PRAJWAL\\AppData\\Local\\Temp\\ipykernel_19000\\3832743817.py:11: FutureWarning: YF.download() has changed argument auto_adjust default to True\n",
      "  stock_data = yf.download(ticker, start=start, end=end, progress=False)\n"
     ]
    },
    {
     "name": "stdout",
     "output_type": "stream",
     "text": [
      "Error collecting data for TROW: ['Return']\n",
      "Collecting data for VLTO...\n"
     ]
    },
    {
     "name": "stderr",
     "output_type": "stream",
     "text": [
      "\n",
      "1 Failed download:\n",
      "['VLTO']: YFPricesMissingError('possibly delisted; no price data found  (1d 2010-01-01 -> 2020-12-31) (Yahoo error = \"Data doesn\\'t exist for startDate = 1262322000, endDate = 1609390800\")')\n",
      "C:\\Users\\PRAJWAL\\AppData\\Local\\Temp\\ipykernel_19000\\3832743817.py:11: FutureWarning: YF.download() has changed argument auto_adjust default to True\n",
      "  stock_data = yf.download(ticker, start=start, end=end, progress=False)\n"
     ]
    },
    {
     "name": "stdout",
     "output_type": "stream",
     "text": [
      "No OHLCV data found for VLTO from yfinance. Skipping.\n",
      "Collecting data for EQT...\n"
     ]
    },
    {
     "name": "stderr",
     "output_type": "stream",
     "text": [
      "C:\\Users\\PRAJWAL\\AppData\\Local\\Temp\\ipykernel_19000\\3832743817.py:18: SettingWithCopyWarning: \n",
      "A value is trying to be set on a copy of a slice from a DataFrame\n",
      "\n",
      "See the caveats in the documentation: https://pandas.pydata.org/pandas-docs/stable/user_guide/indexing.html#returning-a-view-versus-a-copy\n",
      "  stock_data['Return'].replace([np.inf, -np.inf], np.nan, inplace=True)\n",
      "C:\\Users\\PRAJWAL\\AppData\\Local\\Temp\\ipykernel_19000\\3832743817.py:11: FutureWarning: YF.download() has changed argument auto_adjust default to True\n",
      "  stock_data = yf.download(ticker, start=start, end=end, progress=False)\n"
     ]
    },
    {
     "name": "stdout",
     "output_type": "stream",
     "text": [
      "Error collecting data for EQT: ['Return']\n",
      "Collecting data for SYF...\n"
     ]
    },
    {
     "name": "stderr",
     "output_type": "stream",
     "text": [
      "C:\\Users\\PRAJWAL\\AppData\\Local\\Temp\\ipykernel_19000\\3832743817.py:18: SettingWithCopyWarning: \n",
      "A value is trying to be set on a copy of a slice from a DataFrame\n",
      "\n",
      "See the caveats in the documentation: https://pandas.pydata.org/pandas-docs/stable/user_guide/indexing.html#returning-a-view-versus-a-copy\n",
      "  stock_data['Return'].replace([np.inf, -np.inf], np.nan, inplace=True)\n",
      "C:\\Users\\PRAJWAL\\AppData\\Local\\Temp\\ipykernel_19000\\3832743817.py:11: FutureWarning: YF.download() has changed argument auto_adjust default to True\n",
      "  stock_data = yf.download(ticker, start=start, end=end, progress=False)\n"
     ]
    },
    {
     "name": "stdout",
     "output_type": "stream",
     "text": [
      "Error collecting data for SYF: ['Return']\n",
      "Collecting data for NVR...\n"
     ]
    },
    {
     "name": "stderr",
     "output_type": "stream",
     "text": [
      "C:\\Users\\PRAJWAL\\AppData\\Local\\Temp\\ipykernel_19000\\3832743817.py:18: SettingWithCopyWarning: \n",
      "A value is trying to be set on a copy of a slice from a DataFrame\n",
      "\n",
      "See the caveats in the documentation: https://pandas.pydata.org/pandas-docs/stable/user_guide/indexing.html#returning-a-view-versus-a-copy\n",
      "  stock_data['Return'].replace([np.inf, -np.inf], np.nan, inplace=True)\n",
      "C:\\Users\\PRAJWAL\\AppData\\Local\\Temp\\ipykernel_19000\\3832743817.py:11: FutureWarning: YF.download() has changed argument auto_adjust default to True\n",
      "  stock_data = yf.download(ticker, start=start, end=end, progress=False)\n"
     ]
    },
    {
     "name": "stdout",
     "output_type": "stream",
     "text": [
      "Error collecting data for NVR: ['Return']\n",
      "Collecting data for DTE...\n"
     ]
    },
    {
     "name": "stderr",
     "output_type": "stream",
     "text": [
      "C:\\Users\\PRAJWAL\\AppData\\Local\\Temp\\ipykernel_19000\\3832743817.py:18: SettingWithCopyWarning: \n",
      "A value is trying to be set on a copy of a slice from a DataFrame\n",
      "\n",
      "See the caveats in the documentation: https://pandas.pydata.org/pandas-docs/stable/user_guide/indexing.html#returning-a-view-versus-a-copy\n",
      "  stock_data['Return'].replace([np.inf, -np.inf], np.nan, inplace=True)\n",
      "C:\\Users\\PRAJWAL\\AppData\\Local\\Temp\\ipykernel_19000\\3832743817.py:11: FutureWarning: YF.download() has changed argument auto_adjust default to True\n",
      "  stock_data = yf.download(ticker, start=start, end=end, progress=False)\n"
     ]
    },
    {
     "name": "stdout",
     "output_type": "stream",
     "text": [
      "Error collecting data for DTE: ['Return']\n",
      "Collecting data for VTR...\n"
     ]
    },
    {
     "name": "stderr",
     "output_type": "stream",
     "text": [
      "C:\\Users\\PRAJWAL\\AppData\\Local\\Temp\\ipykernel_19000\\3832743817.py:18: SettingWithCopyWarning: \n",
      "A value is trying to be set on a copy of a slice from a DataFrame\n",
      "\n",
      "See the caveats in the documentation: https://pandas.pydata.org/pandas-docs/stable/user_guide/indexing.html#returning-a-view-versus-a-copy\n",
      "  stock_data['Return'].replace([np.inf, -np.inf], np.nan, inplace=True)\n",
      "C:\\Users\\PRAJWAL\\AppData\\Local\\Temp\\ipykernel_19000\\3832743817.py:11: FutureWarning: YF.download() has changed argument auto_adjust default to True\n",
      "  stock_data = yf.download(ticker, start=start, end=end, progress=False)\n"
     ]
    },
    {
     "name": "stdout",
     "output_type": "stream",
     "text": [
      "Error collecting data for VTR: ['Return']\n",
      "Collecting data for AWK...\n"
     ]
    },
    {
     "name": "stderr",
     "output_type": "stream",
     "text": [
      "C:\\Users\\PRAJWAL\\AppData\\Local\\Temp\\ipykernel_19000\\3832743817.py:18: SettingWithCopyWarning: \n",
      "A value is trying to be set on a copy of a slice from a DataFrame\n",
      "\n",
      "See the caveats in the documentation: https://pandas.pydata.org/pandas-docs/stable/user_guide/indexing.html#returning-a-view-versus-a-copy\n",
      "  stock_data['Return'].replace([np.inf, -np.inf], np.nan, inplace=True)\n",
      "C:\\Users\\PRAJWAL\\AppData\\Local\\Temp\\ipykernel_19000\\3832743817.py:11: FutureWarning: YF.download() has changed argument auto_adjust default to True\n",
      "  stock_data = yf.download(ticker, start=start, end=end, progress=False)\n"
     ]
    },
    {
     "name": "stdout",
     "output_type": "stream",
     "text": [
      "Error collecting data for AWK: ['Return']\n",
      "Collecting data for ADM...\n"
     ]
    },
    {
     "name": "stderr",
     "output_type": "stream",
     "text": [
      "C:\\Users\\PRAJWAL\\AppData\\Local\\Temp\\ipykernel_19000\\3832743817.py:18: SettingWithCopyWarning: \n",
      "A value is trying to be set on a copy of a slice from a DataFrame\n",
      "\n",
      "See the caveats in the documentation: https://pandas.pydata.org/pandas-docs/stable/user_guide/indexing.html#returning-a-view-versus-a-copy\n",
      "  stock_data['Return'].replace([np.inf, -np.inf], np.nan, inplace=True)\n",
      "C:\\Users\\PRAJWAL\\AppData\\Local\\Temp\\ipykernel_19000\\3832743817.py:11: FutureWarning: YF.download() has changed argument auto_adjust default to True\n",
      "  stock_data = yf.download(ticker, start=start, end=end, progress=False)\n"
     ]
    },
    {
     "name": "stdout",
     "output_type": "stream",
     "text": [
      "Error collecting data for ADM: ['Return']\n",
      "Collecting data for NTAP...\n"
     ]
    },
    {
     "name": "stderr",
     "output_type": "stream",
     "text": [
      "C:\\Users\\PRAJWAL\\AppData\\Local\\Temp\\ipykernel_19000\\3832743817.py:18: SettingWithCopyWarning: \n",
      "A value is trying to be set on a copy of a slice from a DataFrame\n",
      "\n",
      "See the caveats in the documentation: https://pandas.pydata.org/pandas-docs/stable/user_guide/indexing.html#returning-a-view-versus-a-copy\n",
      "  stock_data['Return'].replace([np.inf, -np.inf], np.nan, inplace=True)\n",
      "C:\\Users\\PRAJWAL\\AppData\\Local\\Temp\\ipykernel_19000\\3832743817.py:11: FutureWarning: YF.download() has changed argument auto_adjust default to True\n",
      "  stock_data = yf.download(ticker, start=start, end=end, progress=False)\n"
     ]
    },
    {
     "name": "stdout",
     "output_type": "stream",
     "text": [
      "Error collecting data for NTAP: ['Return']\n",
      "Collecting data for WST...\n"
     ]
    },
    {
     "name": "stderr",
     "output_type": "stream",
     "text": [
      "C:\\Users\\PRAJWAL\\AppData\\Local\\Temp\\ipykernel_19000\\3832743817.py:18: SettingWithCopyWarning: \n",
      "A value is trying to be set on a copy of a slice from a DataFrame\n",
      "\n",
      "See the caveats in the documentation: https://pandas.pydata.org/pandas-docs/stable/user_guide/indexing.html#returning-a-view-versus-a-copy\n",
      "  stock_data['Return'].replace([np.inf, -np.inf], np.nan, inplace=True)\n",
      "C:\\Users\\PRAJWAL\\AppData\\Local\\Temp\\ipykernel_19000\\3832743817.py:11: FutureWarning: YF.download() has changed argument auto_adjust default to True\n",
      "  stock_data = yf.download(ticker, start=start, end=end, progress=False)\n"
     ]
    },
    {
     "name": "stdout",
     "output_type": "stream",
     "text": [
      "Error collecting data for WST: ['Return']\n",
      "Collecting data for CPAY...\n"
     ]
    },
    {
     "name": "stderr",
     "output_type": "stream",
     "text": [
      "C:\\Users\\PRAJWAL\\AppData\\Local\\Temp\\ipykernel_19000\\3832743817.py:18: SettingWithCopyWarning: \n",
      "A value is trying to be set on a copy of a slice from a DataFrame\n",
      "\n",
      "See the caveats in the documentation: https://pandas.pydata.org/pandas-docs/stable/user_guide/indexing.html#returning-a-view-versus-a-copy\n",
      "  stock_data['Return'].replace([np.inf, -np.inf], np.nan, inplace=True)\n",
      "C:\\Users\\PRAJWAL\\AppData\\Local\\Temp\\ipykernel_19000\\3832743817.py:11: FutureWarning: YF.download() has changed argument auto_adjust default to True\n",
      "  stock_data = yf.download(ticker, start=start, end=end, progress=False)\n"
     ]
    },
    {
     "name": "stdout",
     "output_type": "stream",
     "text": [
      "Error collecting data for CPAY: ['Return']\n",
      "Collecting data for PPL...\n"
     ]
    },
    {
     "name": "stderr",
     "output_type": "stream",
     "text": [
      "C:\\Users\\PRAJWAL\\AppData\\Local\\Temp\\ipykernel_19000\\3832743817.py:18: SettingWithCopyWarning: \n",
      "A value is trying to be set on a copy of a slice from a DataFrame\n",
      "\n",
      "See the caveats in the documentation: https://pandas.pydata.org/pandas-docs/stable/user_guide/indexing.html#returning-a-view-versus-a-copy\n",
      "  stock_data['Return'].replace([np.inf, -np.inf], np.nan, inplace=True)\n",
      "C:\\Users\\PRAJWAL\\AppData\\Local\\Temp\\ipykernel_19000\\3832743817.py:11: FutureWarning: YF.download() has changed argument auto_adjust default to True\n",
      "  stock_data = yf.download(ticker, start=start, end=end, progress=False)\n"
     ]
    },
    {
     "name": "stdout",
     "output_type": "stream",
     "text": [
      "Error collecting data for PPL: ['Return']\n",
      "Collecting data for LYB...\n"
     ]
    },
    {
     "name": "stderr",
     "output_type": "stream",
     "text": [
      "C:\\Users\\PRAJWAL\\AppData\\Local\\Temp\\ipykernel_19000\\3832743817.py:18: SettingWithCopyWarning: \n",
      "A value is trying to be set on a copy of a slice from a DataFrame\n",
      "\n",
      "See the caveats in the documentation: https://pandas.pydata.org/pandas-docs/stable/user_guide/indexing.html#returning-a-view-versus-a-copy\n",
      "  stock_data['Return'].replace([np.inf, -np.inf], np.nan, inplace=True)\n",
      "C:\\Users\\PRAJWAL\\AppData\\Local\\Temp\\ipykernel_19000\\3832743817.py:11: FutureWarning: YF.download() has changed argument auto_adjust default to True\n",
      "  stock_data = yf.download(ticker, start=start, end=end, progress=False)\n"
     ]
    },
    {
     "name": "stdout",
     "output_type": "stream",
     "text": [
      "Error collecting data for LYB: ['Return']\n",
      "Collecting data for AEE...\n"
     ]
    },
    {
     "name": "stderr",
     "output_type": "stream",
     "text": [
      "C:\\Users\\PRAJWAL\\AppData\\Local\\Temp\\ipykernel_19000\\3832743817.py:18: SettingWithCopyWarning: \n",
      "A value is trying to be set on a copy of a slice from a DataFrame\n",
      "\n",
      "See the caveats in the documentation: https://pandas.pydata.org/pandas-docs/stable/user_guide/indexing.html#returning-a-view-versus-a-copy\n",
      "  stock_data['Return'].replace([np.inf, -np.inf], np.nan, inplace=True)\n",
      "C:\\Users\\PRAJWAL\\AppData\\Local\\Temp\\ipykernel_19000\\3832743817.py:11: FutureWarning: YF.download() has changed argument auto_adjust default to True\n",
      "  stock_data = yf.download(ticker, start=start, end=end, progress=False)\n"
     ]
    },
    {
     "name": "stdout",
     "output_type": "stream",
     "text": [
      "Error collecting data for AEE: ['Return']\n",
      "Collecting data for EXPE...\n"
     ]
    },
    {
     "name": "stderr",
     "output_type": "stream",
     "text": [
      "C:\\Users\\PRAJWAL\\AppData\\Local\\Temp\\ipykernel_19000\\3832743817.py:18: SettingWithCopyWarning: \n",
      "A value is trying to be set on a copy of a slice from a DataFrame\n",
      "\n",
      "See the caveats in the documentation: https://pandas.pydata.org/pandas-docs/stable/user_guide/indexing.html#returning-a-view-versus-a-copy\n",
      "  stock_data['Return'].replace([np.inf, -np.inf], np.nan, inplace=True)\n",
      "C:\\Users\\PRAJWAL\\AppData\\Local\\Temp\\ipykernel_19000\\3832743817.py:11: FutureWarning: YF.download() has changed argument auto_adjust default to True\n",
      "  stock_data = yf.download(ticker, start=start, end=end, progress=False)\n"
     ]
    },
    {
     "name": "stdout",
     "output_type": "stream",
     "text": [
      "Error collecting data for EXPE: ['Return']\n",
      "Collecting data for HBAN...\n"
     ]
    },
    {
     "name": "stderr",
     "output_type": "stream",
     "text": [
      "C:\\Users\\PRAJWAL\\AppData\\Local\\Temp\\ipykernel_19000\\3832743817.py:18: SettingWithCopyWarning: \n",
      "A value is trying to be set on a copy of a slice from a DataFrame\n",
      "\n",
      "See the caveats in the documentation: https://pandas.pydata.org/pandas-docs/stable/user_guide/indexing.html#returning-a-view-versus-a-copy\n",
      "  stock_data['Return'].replace([np.inf, -np.inf], np.nan, inplace=True)\n",
      "C:\\Users\\PRAJWAL\\AppData\\Local\\Temp\\ipykernel_19000\\3832743817.py:11: FutureWarning: YF.download() has changed argument auto_adjust default to True\n",
      "  stock_data = yf.download(ticker, start=start, end=end, progress=False)\n"
     ]
    },
    {
     "name": "stdout",
     "output_type": "stream",
     "text": [
      "Error collecting data for HBAN: ['Return']\n",
      "Collecting data for CDW...\n"
     ]
    },
    {
     "name": "stderr",
     "output_type": "stream",
     "text": [
      "C:\\Users\\PRAJWAL\\AppData\\Local\\Temp\\ipykernel_19000\\3832743817.py:18: SettingWithCopyWarning: \n",
      "A value is trying to be set on a copy of a slice from a DataFrame\n",
      "\n",
      "See the caveats in the documentation: https://pandas.pydata.org/pandas-docs/stable/user_guide/indexing.html#returning-a-view-versus-a-copy\n",
      "  stock_data['Return'].replace([np.inf, -np.inf], np.nan, inplace=True)\n",
      "C:\\Users\\PRAJWAL\\AppData\\Local\\Temp\\ipykernel_19000\\3832743817.py:11: FutureWarning: YF.download() has changed argument auto_adjust default to True\n",
      "  stock_data = yf.download(ticker, start=start, end=end, progress=False)\n"
     ]
    },
    {
     "name": "stdout",
     "output_type": "stream",
     "text": [
      "Error collecting data for CDW: ['Return']\n",
      "Collecting data for FE...\n"
     ]
    },
    {
     "name": "stderr",
     "output_type": "stream",
     "text": [
      "C:\\Users\\PRAJWAL\\AppData\\Local\\Temp\\ipykernel_19000\\3832743817.py:18: SettingWithCopyWarning: \n",
      "A value is trying to be set on a copy of a slice from a DataFrame\n",
      "\n",
      "See the caveats in the documentation: https://pandas.pydata.org/pandas-docs/stable/user_guide/indexing.html#returning-a-view-versus-a-copy\n",
      "  stock_data['Return'].replace([np.inf, -np.inf], np.nan, inplace=True)\n",
      "C:\\Users\\PRAJWAL\\AppData\\Local\\Temp\\ipykernel_19000\\3832743817.py:11: FutureWarning: YF.download() has changed argument auto_adjust default to True\n",
      "  stock_data = yf.download(ticker, start=start, end=end, progress=False)\n"
     ]
    },
    {
     "name": "stdout",
     "output_type": "stream",
     "text": [
      "Error collecting data for FE: ['Return']\n",
      "Collecting data for HUBB...\n"
     ]
    },
    {
     "name": "stderr",
     "output_type": "stream",
     "text": [
      "C:\\Users\\PRAJWAL\\AppData\\Local\\Temp\\ipykernel_19000\\3832743817.py:18: SettingWithCopyWarning: \n",
      "A value is trying to be set on a copy of a slice from a DataFrame\n",
      "\n",
      "See the caveats in the documentation: https://pandas.pydata.org/pandas-docs/stable/user_guide/indexing.html#returning-a-view-versus-a-copy\n",
      "  stock_data['Return'].replace([np.inf, -np.inf], np.nan, inplace=True)\n",
      "C:\\Users\\PRAJWAL\\AppData\\Local\\Temp\\ipykernel_19000\\3832743817.py:11: FutureWarning: YF.download() has changed argument auto_adjust default to True\n",
      "  stock_data = yf.download(ticker, start=start, end=end, progress=False)\n"
     ]
    },
    {
     "name": "stdout",
     "output_type": "stream",
     "text": [
      "Error collecting data for HUBB: ['Return']\n",
      "Collecting data for HAL...\n"
     ]
    },
    {
     "name": "stderr",
     "output_type": "stream",
     "text": [
      "C:\\Users\\PRAJWAL\\AppData\\Local\\Temp\\ipykernel_19000\\3832743817.py:18: SettingWithCopyWarning: \n",
      "A value is trying to be set on a copy of a slice from a DataFrame\n",
      "\n",
      "See the caveats in the documentation: https://pandas.pydata.org/pandas-docs/stable/user_guide/indexing.html#returning-a-view-versus-a-copy\n",
      "  stock_data['Return'].replace([np.inf, -np.inf], np.nan, inplace=True)\n",
      "C:\\Users\\PRAJWAL\\AppData\\Local\\Temp\\ipykernel_19000\\3832743817.py:11: FutureWarning: YF.download() has changed argument auto_adjust default to True\n",
      "  stock_data = yf.download(ticker, start=start, end=end, progress=False)\n"
     ]
    },
    {
     "name": "stdout",
     "output_type": "stream",
     "text": [
      "Error collecting data for HAL: ['Return']\n",
      "Collecting data for ROL...\n"
     ]
    },
    {
     "name": "stderr",
     "output_type": "stream",
     "text": [
      "C:\\Users\\PRAJWAL\\AppData\\Local\\Temp\\ipykernel_19000\\3832743817.py:18: SettingWithCopyWarning: \n",
      "A value is trying to be set on a copy of a slice from a DataFrame\n",
      "\n",
      "See the caveats in the documentation: https://pandas.pydata.org/pandas-docs/stable/user_guide/indexing.html#returning-a-view-versus-a-copy\n",
      "  stock_data['Return'].replace([np.inf, -np.inf], np.nan, inplace=True)\n",
      "C:\\Users\\PRAJWAL\\AppData\\Local\\Temp\\ipykernel_19000\\3832743817.py:11: FutureWarning: YF.download() has changed argument auto_adjust default to True\n",
      "  stock_data = yf.download(ticker, start=start, end=end, progress=False)\n"
     ]
    },
    {
     "name": "stdout",
     "output_type": "stream",
     "text": [
      "Error collecting data for ROL: ['Return']\n",
      "Collecting data for PHM...\n"
     ]
    },
    {
     "name": "stderr",
     "output_type": "stream",
     "text": [
      "C:\\Users\\PRAJWAL\\AppData\\Local\\Temp\\ipykernel_19000\\3832743817.py:18: SettingWithCopyWarning: \n",
      "A value is trying to be set on a copy of a slice from a DataFrame\n",
      "\n",
      "See the caveats in the documentation: https://pandas.pydata.org/pandas-docs/stable/user_guide/indexing.html#returning-a-view-versus-a-copy\n",
      "  stock_data['Return'].replace([np.inf, -np.inf], np.nan, inplace=True)\n",
      "C:\\Users\\PRAJWAL\\AppData\\Local\\Temp\\ipykernel_19000\\3832743817.py:11: FutureWarning: YF.download() has changed argument auto_adjust default to True\n",
      "  stock_data = yf.download(ticker, start=start, end=end, progress=False)\n"
     ]
    },
    {
     "name": "stdout",
     "output_type": "stream",
     "text": [
      "Error collecting data for PHM: ['Return']\n",
      "Collecting data for CINF...\n"
     ]
    },
    {
     "name": "stderr",
     "output_type": "stream",
     "text": [
      "C:\\Users\\PRAJWAL\\AppData\\Local\\Temp\\ipykernel_19000\\3832743817.py:18: SettingWithCopyWarning: \n",
      "A value is trying to be set on a copy of a slice from a DataFrame\n",
      "\n",
      "See the caveats in the documentation: https://pandas.pydata.org/pandas-docs/stable/user_guide/indexing.html#returning-a-view-versus-a-copy\n",
      "  stock_data['Return'].replace([np.inf, -np.inf], np.nan, inplace=True)\n",
      "C:\\Users\\PRAJWAL\\AppData\\Local\\Temp\\ipykernel_19000\\3832743817.py:11: FutureWarning: YF.download() has changed argument auto_adjust default to True\n",
      "  stock_data = yf.download(ticker, start=start, end=end, progress=False)\n"
     ]
    },
    {
     "name": "stdout",
     "output_type": "stream",
     "text": [
      "Error collecting data for CINF: ['Return']\n",
      "Collecting data for PTC...\n"
     ]
    },
    {
     "name": "stderr",
     "output_type": "stream",
     "text": [
      "C:\\Users\\PRAJWAL\\AppData\\Local\\Temp\\ipykernel_19000\\3832743817.py:18: SettingWithCopyWarning: \n",
      "A value is trying to be set on a copy of a slice from a DataFrame\n",
      "\n",
      "See the caveats in the documentation: https://pandas.pydata.org/pandas-docs/stable/user_guide/indexing.html#returning-a-view-versus-a-copy\n",
      "  stock_data['Return'].replace([np.inf, -np.inf], np.nan, inplace=True)\n",
      "C:\\Users\\PRAJWAL\\AppData\\Local\\Temp\\ipykernel_19000\\3832743817.py:11: FutureWarning: YF.download() has changed argument auto_adjust default to True\n",
      "  stock_data = yf.download(ticker, start=start, end=end, progress=False)\n"
     ]
    },
    {
     "name": "stdout",
     "output_type": "stream",
     "text": [
      "Error collecting data for PTC: ['Return']\n",
      "Collecting data for WRB...\n"
     ]
    },
    {
     "name": "stderr",
     "output_type": "stream",
     "text": [
      "C:\\Users\\PRAJWAL\\AppData\\Local\\Temp\\ipykernel_19000\\3832743817.py:18: SettingWithCopyWarning: \n",
      "A value is trying to be set on a copy of a slice from a DataFrame\n",
      "\n",
      "See the caveats in the documentation: https://pandas.pydata.org/pandas-docs/stable/user_guide/indexing.html#returning-a-view-versus-a-copy\n",
      "  stock_data['Return'].replace([np.inf, -np.inf], np.nan, inplace=True)\n",
      "C:\\Users\\PRAJWAL\\AppData\\Local\\Temp\\ipykernel_19000\\3832743817.py:11: FutureWarning: YF.download() has changed argument auto_adjust default to True\n",
      "  stock_data = yf.download(ticker, start=start, end=end, progress=False)\n"
     ]
    },
    {
     "name": "stdout",
     "output_type": "stream",
     "text": [
      "Error collecting data for WRB: ['Return']\n",
      "Collecting data for DRI...\n"
     ]
    },
    {
     "name": "stderr",
     "output_type": "stream",
     "text": [
      "C:\\Users\\PRAJWAL\\AppData\\Local\\Temp\\ipykernel_19000\\3832743817.py:18: SettingWithCopyWarning: \n",
      "A value is trying to be set on a copy of a slice from a DataFrame\n",
      "\n",
      "See the caveats in the documentation: https://pandas.pydata.org/pandas-docs/stable/user_guide/indexing.html#returning-a-view-versus-a-copy\n",
      "  stock_data['Return'].replace([np.inf, -np.inf], np.nan, inplace=True)\n",
      "C:\\Users\\PRAJWAL\\AppData\\Local\\Temp\\ipykernel_19000\\3832743817.py:11: FutureWarning: YF.download() has changed argument auto_adjust default to True\n",
      "  stock_data = yf.download(ticker, start=start, end=end, progress=False)\n"
     ]
    },
    {
     "name": "stdout",
     "output_type": "stream",
     "text": [
      "Error collecting data for DRI: ['Return']\n",
      "Collecting data for FOXA...\n"
     ]
    },
    {
     "name": "stderr",
     "output_type": "stream",
     "text": [
      "C:\\Users\\PRAJWAL\\AppData\\Local\\Temp\\ipykernel_19000\\3832743817.py:18: SettingWithCopyWarning: \n",
      "A value is trying to be set on a copy of a slice from a DataFrame\n",
      "\n",
      "See the caveats in the documentation: https://pandas.pydata.org/pandas-docs/stable/user_guide/indexing.html#returning-a-view-versus-a-copy\n",
      "  stock_data['Return'].replace([np.inf, -np.inf], np.nan, inplace=True)\n",
      "C:\\Users\\PRAJWAL\\AppData\\Local\\Temp\\ipykernel_19000\\3832743817.py:11: FutureWarning: YF.download() has changed argument auto_adjust default to True\n",
      "  stock_data = yf.download(ticker, start=start, end=end, progress=False)\n"
     ]
    },
    {
     "name": "stdout",
     "output_type": "stream",
     "text": [
      "Error collecting data for FOXA: ['Return']\n",
      "Collecting data for FOX...\n"
     ]
    },
    {
     "name": "stderr",
     "output_type": "stream",
     "text": [
      "C:\\Users\\PRAJWAL\\AppData\\Local\\Temp\\ipykernel_19000\\3832743817.py:18: SettingWithCopyWarning: \n",
      "A value is trying to be set on a copy of a slice from a DataFrame\n",
      "\n",
      "See the caveats in the documentation: https://pandas.pydata.org/pandas-docs/stable/user_guide/indexing.html#returning-a-view-versus-a-copy\n",
      "  stock_data['Return'].replace([np.inf, -np.inf], np.nan, inplace=True)\n",
      "C:\\Users\\PRAJWAL\\AppData\\Local\\Temp\\ipykernel_19000\\3832743817.py:11: FutureWarning: YF.download() has changed argument auto_adjust default to True\n",
      "  stock_data = yf.download(ticker, start=start, end=end, progress=False)\n"
     ]
    },
    {
     "name": "stdout",
     "output_type": "stream",
     "text": [
      "Error collecting data for FOX: ['Return']\n",
      "Collecting data for IFF...\n"
     ]
    },
    {
     "name": "stderr",
     "output_type": "stream",
     "text": [
      "C:\\Users\\PRAJWAL\\AppData\\Local\\Temp\\ipykernel_19000\\3832743817.py:18: SettingWithCopyWarning: \n",
      "A value is trying to be set on a copy of a slice from a DataFrame\n",
      "\n",
      "See the caveats in the documentation: https://pandas.pydata.org/pandas-docs/stable/user_guide/indexing.html#returning-a-view-versus-a-copy\n",
      "  stock_data['Return'].replace([np.inf, -np.inf], np.nan, inplace=True)\n",
      "C:\\Users\\PRAJWAL\\AppData\\Local\\Temp\\ipykernel_19000\\3832743817.py:11: FutureWarning: YF.download() has changed argument auto_adjust default to True\n",
      "  stock_data = yf.download(ticker, start=start, end=end, progress=False)\n"
     ]
    },
    {
     "name": "stdout",
     "output_type": "stream",
     "text": [
      "Error collecting data for IFF: ['Return']\n",
      "Collecting data for SBAC...\n"
     ]
    },
    {
     "name": "stderr",
     "output_type": "stream",
     "text": [
      "C:\\Users\\PRAJWAL\\AppData\\Local\\Temp\\ipykernel_19000\\3832743817.py:18: SettingWithCopyWarning: \n",
      "A value is trying to be set on a copy of a slice from a DataFrame\n",
      "\n",
      "See the caveats in the documentation: https://pandas.pydata.org/pandas-docs/stable/user_guide/indexing.html#returning-a-view-versus-a-copy\n",
      "  stock_data['Return'].replace([np.inf, -np.inf], np.nan, inplace=True)\n",
      "C:\\Users\\PRAJWAL\\AppData\\Local\\Temp\\ipykernel_19000\\3832743817.py:11: FutureWarning: YF.download() has changed argument auto_adjust default to True\n",
      "  stock_data = yf.download(ticker, start=start, end=end, progress=False)\n"
     ]
    },
    {
     "name": "stdout",
     "output_type": "stream",
     "text": [
      "Error collecting data for SBAC: ['Return']\n",
      "Collecting data for WAT...\n"
     ]
    },
    {
     "name": "stderr",
     "output_type": "stream",
     "text": [
      "C:\\Users\\PRAJWAL\\AppData\\Local\\Temp\\ipykernel_19000\\3832743817.py:18: SettingWithCopyWarning: \n",
      "A value is trying to be set on a copy of a slice from a DataFrame\n",
      "\n",
      "See the caveats in the documentation: https://pandas.pydata.org/pandas-docs/stable/user_guide/indexing.html#returning-a-view-versus-a-copy\n",
      "  stock_data['Return'].replace([np.inf, -np.inf], np.nan, inplace=True)\n",
      "C:\\Users\\PRAJWAL\\AppData\\Local\\Temp\\ipykernel_19000\\3832743817.py:11: FutureWarning: YF.download() has changed argument auto_adjust default to True\n",
      "  stock_data = yf.download(ticker, start=start, end=end, progress=False)\n"
     ]
    },
    {
     "name": "stdout",
     "output_type": "stream",
     "text": [
      "Error collecting data for WAT: ['Return']\n",
      "Collecting data for ERIE...\n"
     ]
    },
    {
     "name": "stderr",
     "output_type": "stream",
     "text": [
      "C:\\Users\\PRAJWAL\\AppData\\Local\\Temp\\ipykernel_19000\\3832743817.py:18: SettingWithCopyWarning: \n",
      "A value is trying to be set on a copy of a slice from a DataFrame\n",
      "\n",
      "See the caveats in the documentation: https://pandas.pydata.org/pandas-docs/stable/user_guide/indexing.html#returning-a-view-versus-a-copy\n",
      "  stock_data['Return'].replace([np.inf, -np.inf], np.nan, inplace=True)\n",
      "C:\\Users\\PRAJWAL\\AppData\\Local\\Temp\\ipykernel_19000\\3832743817.py:11: FutureWarning: YF.download() has changed argument auto_adjust default to True\n",
      "  stock_data = yf.download(ticker, start=start, end=end, progress=False)\n"
     ]
    },
    {
     "name": "stdout",
     "output_type": "stream",
     "text": [
      "Error collecting data for ERIE: ['Return']\n",
      "Collecting data for TDY...\n"
     ]
    },
    {
     "name": "stderr",
     "output_type": "stream",
     "text": [
      "C:\\Users\\PRAJWAL\\AppData\\Local\\Temp\\ipykernel_19000\\3832743817.py:18: SettingWithCopyWarning: \n",
      "A value is trying to be set on a copy of a slice from a DataFrame\n",
      "\n",
      "See the caveats in the documentation: https://pandas.pydata.org/pandas-docs/stable/user_guide/indexing.html#returning-a-view-versus-a-copy\n",
      "  stock_data['Return'].replace([np.inf, -np.inf], np.nan, inplace=True)\n",
      "C:\\Users\\PRAJWAL\\AppData\\Local\\Temp\\ipykernel_19000\\3832743817.py:11: FutureWarning: YF.download() has changed argument auto_adjust default to True\n",
      "  stock_data = yf.download(ticker, start=start, end=end, progress=False)\n"
     ]
    },
    {
     "name": "stdout",
     "output_type": "stream",
     "text": [
      "Error collecting data for TDY: ['Return']\n",
      "Collecting data for ATO...\n"
     ]
    },
    {
     "name": "stderr",
     "output_type": "stream",
     "text": [
      "C:\\Users\\PRAJWAL\\AppData\\Local\\Temp\\ipykernel_19000\\3832743817.py:18: SettingWithCopyWarning: \n",
      "A value is trying to be set on a copy of a slice from a DataFrame\n",
      "\n",
      "See the caveats in the documentation: https://pandas.pydata.org/pandas-docs/stable/user_guide/indexing.html#returning-a-view-versus-a-copy\n",
      "  stock_data['Return'].replace([np.inf, -np.inf], np.nan, inplace=True)\n",
      "C:\\Users\\PRAJWAL\\AppData\\Local\\Temp\\ipykernel_19000\\3832743817.py:11: FutureWarning: YF.download() has changed argument auto_adjust default to True\n",
      "  stock_data = yf.download(ticker, start=start, end=end, progress=False)\n"
     ]
    },
    {
     "name": "stdout",
     "output_type": "stream",
     "text": [
      "Error collecting data for ATO: ['Return']\n",
      "Collecting data for RF...\n"
     ]
    },
    {
     "name": "stderr",
     "output_type": "stream",
     "text": [
      "C:\\Users\\PRAJWAL\\AppData\\Local\\Temp\\ipykernel_19000\\3832743817.py:18: SettingWithCopyWarning: \n",
      "A value is trying to be set on a copy of a slice from a DataFrame\n",
      "\n",
      "See the caveats in the documentation: https://pandas.pydata.org/pandas-docs/stable/user_guide/indexing.html#returning-a-view-versus-a-copy\n",
      "  stock_data['Return'].replace([np.inf, -np.inf], np.nan, inplace=True)\n",
      "C:\\Users\\PRAJWAL\\AppData\\Local\\Temp\\ipykernel_19000\\3832743817.py:11: FutureWarning: YF.download() has changed argument auto_adjust default to True\n",
      "  stock_data = yf.download(ticker, start=start, end=end, progress=False)\n"
     ]
    },
    {
     "name": "stdout",
     "output_type": "stream",
     "text": [
      "Error collecting data for RF: ['Return']\n",
      "Collecting data for BIIB...\n"
     ]
    },
    {
     "name": "stderr",
     "output_type": "stream",
     "text": [
      "C:\\Users\\PRAJWAL\\AppData\\Local\\Temp\\ipykernel_19000\\3832743817.py:18: SettingWithCopyWarning: \n",
      "A value is trying to be set on a copy of a slice from a DataFrame\n",
      "\n",
      "See the caveats in the documentation: https://pandas.pydata.org/pandas-docs/stable/user_guide/indexing.html#returning-a-view-versus-a-copy\n",
      "  stock_data['Return'].replace([np.inf, -np.inf], np.nan, inplace=True)\n",
      "C:\\Users\\PRAJWAL\\AppData\\Local\\Temp\\ipykernel_19000\\3832743817.py:11: FutureWarning: YF.download() has changed argument auto_adjust default to True\n",
      "  stock_data = yf.download(ticker, start=start, end=end, progress=False)\n"
     ]
    },
    {
     "name": "stdout",
     "output_type": "stream",
     "text": [
      "Error collecting data for BIIB: ['Return']\n",
      "Collecting data for ZBH...\n"
     ]
    },
    {
     "name": "stderr",
     "output_type": "stream",
     "text": [
      "C:\\Users\\PRAJWAL\\AppData\\Local\\Temp\\ipykernel_19000\\3832743817.py:18: SettingWithCopyWarning: \n",
      "A value is trying to be set on a copy of a slice from a DataFrame\n",
      "\n",
      "See the caveats in the documentation: https://pandas.pydata.org/pandas-docs/stable/user_guide/indexing.html#returning-a-view-versus-a-copy\n",
      "  stock_data['Return'].replace([np.inf, -np.inf], np.nan, inplace=True)\n",
      "C:\\Users\\PRAJWAL\\AppData\\Local\\Temp\\ipykernel_19000\\3832743817.py:11: FutureWarning: YF.download() has changed argument auto_adjust default to True\n",
      "  stock_data = yf.download(ticker, start=start, end=end, progress=False)\n"
     ]
    },
    {
     "name": "stdout",
     "output_type": "stream",
     "text": [
      "Error collecting data for ZBH: ['Return']\n",
      "Collecting data for CNP...\n"
     ]
    },
    {
     "name": "stderr",
     "output_type": "stream",
     "text": [
      "C:\\Users\\PRAJWAL\\AppData\\Local\\Temp\\ipykernel_19000\\3832743817.py:18: SettingWithCopyWarning: \n",
      "A value is trying to be set on a copy of a slice from a DataFrame\n",
      "\n",
      "See the caveats in the documentation: https://pandas.pydata.org/pandas-docs/stable/user_guide/indexing.html#returning-a-view-versus-a-copy\n",
      "  stock_data['Return'].replace([np.inf, -np.inf], np.nan, inplace=True)\n",
      "C:\\Users\\PRAJWAL\\AppData\\Local\\Temp\\ipykernel_19000\\3832743817.py:11: FutureWarning: YF.download() has changed argument auto_adjust default to True\n",
      "  stock_data = yf.download(ticker, start=start, end=end, progress=False)\n"
     ]
    },
    {
     "name": "stdout",
     "output_type": "stream",
     "text": [
      "Error collecting data for CNP: ['Return']\n",
      "Collecting data for MKC...\n"
     ]
    },
    {
     "name": "stderr",
     "output_type": "stream",
     "text": [
      "C:\\Users\\PRAJWAL\\AppData\\Local\\Temp\\ipykernel_19000\\3832743817.py:18: SettingWithCopyWarning: \n",
      "A value is trying to be set on a copy of a slice from a DataFrame\n",
      "\n",
      "See the caveats in the documentation: https://pandas.pydata.org/pandas-docs/stable/user_guide/indexing.html#returning-a-view-versus-a-copy\n",
      "  stock_data['Return'].replace([np.inf, -np.inf], np.nan, inplace=True)\n",
      "C:\\Users\\PRAJWAL\\AppData\\Local\\Temp\\ipykernel_19000\\3832743817.py:11: FutureWarning: YF.download() has changed argument auto_adjust default to True\n",
      "  stock_data = yf.download(ticker, start=start, end=end, progress=False)\n"
     ]
    },
    {
     "name": "stdout",
     "output_type": "stream",
     "text": [
      "Error collecting data for MKC: ['Return']\n",
      "Collecting data for ES...\n"
     ]
    },
    {
     "name": "stderr",
     "output_type": "stream",
     "text": [
      "C:\\Users\\PRAJWAL\\AppData\\Local\\Temp\\ipykernel_19000\\3832743817.py:18: SettingWithCopyWarning: \n",
      "A value is trying to be set on a copy of a slice from a DataFrame\n",
      "\n",
      "See the caveats in the documentation: https://pandas.pydata.org/pandas-docs/stable/user_guide/indexing.html#returning-a-view-versus-a-copy\n",
      "  stock_data['Return'].replace([np.inf, -np.inf], np.nan, inplace=True)\n",
      "C:\\Users\\PRAJWAL\\AppData\\Local\\Temp\\ipykernel_19000\\3832743817.py:11: FutureWarning: YF.download() has changed argument auto_adjust default to True\n",
      "  stock_data = yf.download(ticker, start=start, end=end, progress=False)\n"
     ]
    },
    {
     "name": "stdout",
     "output_type": "stream",
     "text": [
      "Error collecting data for ES: ['Return']\n",
      "Collecting data for WDC...\n"
     ]
    },
    {
     "name": "stderr",
     "output_type": "stream",
     "text": [
      "C:\\Users\\PRAJWAL\\AppData\\Local\\Temp\\ipykernel_19000\\3832743817.py:18: SettingWithCopyWarning: \n",
      "A value is trying to be set on a copy of a slice from a DataFrame\n",
      "\n",
      "See the caveats in the documentation: https://pandas.pydata.org/pandas-docs/stable/user_guide/indexing.html#returning-a-view-versus-a-copy\n",
      "  stock_data['Return'].replace([np.inf, -np.inf], np.nan, inplace=True)\n",
      "C:\\Users\\PRAJWAL\\AppData\\Local\\Temp\\ipykernel_19000\\3832743817.py:11: FutureWarning: YF.download() has changed argument auto_adjust default to True\n",
      "  stock_data = yf.download(ticker, start=start, end=end, progress=False)\n"
     ]
    },
    {
     "name": "stdout",
     "output_type": "stream",
     "text": [
      "Error collecting data for WDC: ['Return']\n",
      "Collecting data for TSN...\n"
     ]
    },
    {
     "name": "stderr",
     "output_type": "stream",
     "text": [
      "C:\\Users\\PRAJWAL\\AppData\\Local\\Temp\\ipykernel_19000\\3832743817.py:18: SettingWithCopyWarning: \n",
      "A value is trying to be set on a copy of a slice from a DataFrame\n",
      "\n",
      "See the caveats in the documentation: https://pandas.pydata.org/pandas-docs/stable/user_guide/indexing.html#returning-a-view-versus-a-copy\n",
      "  stock_data['Return'].replace([np.inf, -np.inf], np.nan, inplace=True)\n",
      "C:\\Users\\PRAJWAL\\AppData\\Local\\Temp\\ipykernel_19000\\3832743817.py:11: FutureWarning: YF.download() has changed argument auto_adjust default to True\n",
      "  stock_data = yf.download(ticker, start=start, end=end, progress=False)\n"
     ]
    },
    {
     "name": "stdout",
     "output_type": "stream",
     "text": [
      "Error collecting data for TSN: ['Return']\n",
      "Collecting data for TER...\n"
     ]
    },
    {
     "name": "stderr",
     "output_type": "stream",
     "text": [
      "C:\\Users\\PRAJWAL\\AppData\\Local\\Temp\\ipykernel_19000\\3832743817.py:18: SettingWithCopyWarning: \n",
      "A value is trying to be set on a copy of a slice from a DataFrame\n",
      "\n",
      "See the caveats in the documentation: https://pandas.pydata.org/pandas-docs/stable/user_guide/indexing.html#returning-a-view-versus-a-copy\n",
      "  stock_data['Return'].replace([np.inf, -np.inf], np.nan, inplace=True)\n",
      "C:\\Users\\PRAJWAL\\AppData\\Local\\Temp\\ipykernel_19000\\3832743817.py:11: FutureWarning: YF.download() has changed argument auto_adjust default to True\n",
      "  stock_data = yf.download(ticker, start=start, end=end, progress=False)\n"
     ]
    },
    {
     "name": "stdout",
     "output_type": "stream",
     "text": [
      "Error collecting data for TER: ['Return']\n",
      "Collecting data for STE...\n"
     ]
    },
    {
     "name": "stderr",
     "output_type": "stream",
     "text": [
      "C:\\Users\\PRAJWAL\\AppData\\Local\\Temp\\ipykernel_19000\\3832743817.py:18: SettingWithCopyWarning: \n",
      "A value is trying to be set on a copy of a slice from a DataFrame\n",
      "\n",
      "See the caveats in the documentation: https://pandas.pydata.org/pandas-docs/stable/user_guide/indexing.html#returning-a-view-versus-a-copy\n",
      "  stock_data['Return'].replace([np.inf, -np.inf], np.nan, inplace=True)\n",
      "C:\\Users\\PRAJWAL\\AppData\\Local\\Temp\\ipykernel_19000\\3832743817.py:11: FutureWarning: YF.download() has changed argument auto_adjust default to True\n",
      "  stock_data = yf.download(ticker, start=start, end=end, progress=False)\n"
     ]
    },
    {
     "name": "stdout",
     "output_type": "stream",
     "text": [
      "Error collecting data for STE: ['Return']\n",
      "Collecting data for PKG...\n"
     ]
    },
    {
     "name": "stderr",
     "output_type": "stream",
     "text": [
      "C:\\Users\\PRAJWAL\\AppData\\Local\\Temp\\ipykernel_19000\\3832743817.py:18: SettingWithCopyWarning: \n",
      "A value is trying to be set on a copy of a slice from a DataFrame\n",
      "\n",
      "See the caveats in the documentation: https://pandas.pydata.org/pandas-docs/stable/user_guide/indexing.html#returning-a-view-versus-a-copy\n",
      "  stock_data['Return'].replace([np.inf, -np.inf], np.nan, inplace=True)\n",
      "C:\\Users\\PRAJWAL\\AppData\\Local\\Temp\\ipykernel_19000\\3832743817.py:11: FutureWarning: YF.download() has changed argument auto_adjust default to True\n",
      "  stock_data = yf.download(ticker, start=start, end=end, progress=False)\n"
     ]
    },
    {
     "name": "stdout",
     "output_type": "stream",
     "text": [
      "Error collecting data for PKG: ['Return']\n",
      "Collecting data for CLX...\n"
     ]
    },
    {
     "name": "stderr",
     "output_type": "stream",
     "text": [
      "C:\\Users\\PRAJWAL\\AppData\\Local\\Temp\\ipykernel_19000\\3832743817.py:18: SettingWithCopyWarning: \n",
      "A value is trying to be set on a copy of a slice from a DataFrame\n",
      "\n",
      "See the caveats in the documentation: https://pandas.pydata.org/pandas-docs/stable/user_guide/indexing.html#returning-a-view-versus-a-copy\n",
      "  stock_data['Return'].replace([np.inf, -np.inf], np.nan, inplace=True)\n",
      "C:\\Users\\PRAJWAL\\AppData\\Local\\Temp\\ipykernel_19000\\3832743817.py:11: FutureWarning: YF.download() has changed argument auto_adjust default to True\n",
      "  stock_data = yf.download(ticker, start=start, end=end, progress=False)\n"
     ]
    },
    {
     "name": "stdout",
     "output_type": "stream",
     "text": [
      "Error collecting data for CLX: ['Return']\n",
      "Collecting data for NTRS...\n"
     ]
    },
    {
     "name": "stderr",
     "output_type": "stream",
     "text": [
      "C:\\Users\\PRAJWAL\\AppData\\Local\\Temp\\ipykernel_19000\\3832743817.py:18: SettingWithCopyWarning: \n",
      "A value is trying to be set on a copy of a slice from a DataFrame\n",
      "\n",
      "See the caveats in the documentation: https://pandas.pydata.org/pandas-docs/stable/user_guide/indexing.html#returning-a-view-versus-a-copy\n",
      "  stock_data['Return'].replace([np.inf, -np.inf], np.nan, inplace=True)\n",
      "C:\\Users\\PRAJWAL\\AppData\\Local\\Temp\\ipykernel_19000\\3832743817.py:11: FutureWarning: YF.download() has changed argument auto_adjust default to True\n",
      "  stock_data = yf.download(ticker, start=start, end=end, progress=False)\n"
     ]
    },
    {
     "name": "stdout",
     "output_type": "stream",
     "text": [
      "Error collecting data for NTRS: ['Return']\n",
      "Collecting data for ZBRA...\n"
     ]
    },
    {
     "name": "stderr",
     "output_type": "stream",
     "text": [
      "C:\\Users\\PRAJWAL\\AppData\\Local\\Temp\\ipykernel_19000\\3832743817.py:18: SettingWithCopyWarning: \n",
      "A value is trying to be set on a copy of a slice from a DataFrame\n",
      "\n",
      "See the caveats in the documentation: https://pandas.pydata.org/pandas-docs/stable/user_guide/indexing.html#returning-a-view-versus-a-copy\n",
      "  stock_data['Return'].replace([np.inf, -np.inf], np.nan, inplace=True)\n",
      "C:\\Users\\PRAJWAL\\AppData\\Local\\Temp\\ipykernel_19000\\3832743817.py:11: FutureWarning: YF.download() has changed argument auto_adjust default to True\n",
      "  stock_data = yf.download(ticker, start=start, end=end, progress=False)\n"
     ]
    },
    {
     "name": "stdout",
     "output_type": "stream",
     "text": [
      "Error collecting data for ZBRA: ['Return']\n",
      "Collecting data for DVN...\n"
     ]
    },
    {
     "name": "stderr",
     "output_type": "stream",
     "text": [
      "C:\\Users\\PRAJWAL\\AppData\\Local\\Temp\\ipykernel_19000\\3832743817.py:18: SettingWithCopyWarning: \n",
      "A value is trying to be set on a copy of a slice from a DataFrame\n",
      "\n",
      "See the caveats in the documentation: https://pandas.pydata.org/pandas-docs/stable/user_guide/indexing.html#returning-a-view-versus-a-copy\n",
      "  stock_data['Return'].replace([np.inf, -np.inf], np.nan, inplace=True)\n",
      "C:\\Users\\PRAJWAL\\AppData\\Local\\Temp\\ipykernel_19000\\3832743817.py:11: FutureWarning: YF.download() has changed argument auto_adjust default to True\n",
      "  stock_data = yf.download(ticker, start=start, end=end, progress=False)\n"
     ]
    },
    {
     "name": "stdout",
     "output_type": "stream",
     "text": [
      "Error collecting data for DVN: ['Return']\n",
      "Collecting data for CBOE...\n"
     ]
    },
    {
     "name": "stderr",
     "output_type": "stream",
     "text": [
      "C:\\Users\\PRAJWAL\\AppData\\Local\\Temp\\ipykernel_19000\\3832743817.py:18: SettingWithCopyWarning: \n",
      "A value is trying to be set on a copy of a slice from a DataFrame\n",
      "\n",
      "See the caveats in the documentation: https://pandas.pydata.org/pandas-docs/stable/user_guide/indexing.html#returning-a-view-versus-a-copy\n",
      "  stock_data['Return'].replace([np.inf, -np.inf], np.nan, inplace=True)\n",
      "C:\\Users\\PRAJWAL\\AppData\\Local\\Temp\\ipykernel_19000\\3832743817.py:11: FutureWarning: YF.download() has changed argument auto_adjust default to True\n",
      "  stock_data = yf.download(ticker, start=start, end=end, progress=False)\n"
     ]
    },
    {
     "name": "stdout",
     "output_type": "stream",
     "text": [
      "Error collecting data for CBOE: ['Return']\n",
      "Collecting data for WY...\n"
     ]
    },
    {
     "name": "stderr",
     "output_type": "stream",
     "text": [
      "C:\\Users\\PRAJWAL\\AppData\\Local\\Temp\\ipykernel_19000\\3832743817.py:18: SettingWithCopyWarning: \n",
      "A value is trying to be set on a copy of a slice from a DataFrame\n",
      "\n",
      "See the caveats in the documentation: https://pandas.pydata.org/pandas-docs/stable/user_guide/indexing.html#returning-a-view-versus-a-copy\n",
      "  stock_data['Return'].replace([np.inf, -np.inf], np.nan, inplace=True)\n",
      "C:\\Users\\PRAJWAL\\AppData\\Local\\Temp\\ipykernel_19000\\3832743817.py:11: FutureWarning: YF.download() has changed argument auto_adjust default to True\n",
      "  stock_data = yf.download(ticker, start=start, end=end, progress=False)\n"
     ]
    },
    {
     "name": "stdout",
     "output_type": "stream",
     "text": [
      "Error collecting data for WY: ['Return']\n",
      "Collecting data for LUV...\n"
     ]
    },
    {
     "name": "stderr",
     "output_type": "stream",
     "text": [
      "C:\\Users\\PRAJWAL\\AppData\\Local\\Temp\\ipykernel_19000\\3832743817.py:18: SettingWithCopyWarning: \n",
      "A value is trying to be set on a copy of a slice from a DataFrame\n",
      "\n",
      "See the caveats in the documentation: https://pandas.pydata.org/pandas-docs/stable/user_guide/indexing.html#returning-a-view-versus-a-copy\n",
      "  stock_data['Return'].replace([np.inf, -np.inf], np.nan, inplace=True)\n",
      "C:\\Users\\PRAJWAL\\AppData\\Local\\Temp\\ipykernel_19000\\3832743817.py:11: FutureWarning: YF.download() has changed argument auto_adjust default to True\n",
      "  stock_data = yf.download(ticker, start=start, end=end, progress=False)\n"
     ]
    },
    {
     "name": "stdout",
     "output_type": "stream",
     "text": [
      "Error collecting data for LUV: ['Return']\n",
      "Collecting data for ULTA...\n"
     ]
    },
    {
     "name": "stderr",
     "output_type": "stream",
     "text": [
      "C:\\Users\\PRAJWAL\\AppData\\Local\\Temp\\ipykernel_19000\\3832743817.py:18: SettingWithCopyWarning: \n",
      "A value is trying to be set on a copy of a slice from a DataFrame\n",
      "\n",
      "See the caveats in the documentation: https://pandas.pydata.org/pandas-docs/stable/user_guide/indexing.html#returning-a-view-versus-a-copy\n",
      "  stock_data['Return'].replace([np.inf, -np.inf], np.nan, inplace=True)\n",
      "C:\\Users\\PRAJWAL\\AppData\\Local\\Temp\\ipykernel_19000\\3832743817.py:11: FutureWarning: YF.download() has changed argument auto_adjust default to True\n",
      "  stock_data = yf.download(ticker, start=start, end=end, progress=False)\n"
     ]
    },
    {
     "name": "stdout",
     "output_type": "stream",
     "text": [
      "Error collecting data for ULTA: ['Return']\n",
      "Collecting data for CMS...\n"
     ]
    },
    {
     "name": "stderr",
     "output_type": "stream",
     "text": [
      "C:\\Users\\PRAJWAL\\AppData\\Local\\Temp\\ipykernel_19000\\3832743817.py:18: SettingWithCopyWarning: \n",
      "A value is trying to be set on a copy of a slice from a DataFrame\n",
      "\n",
      "See the caveats in the documentation: https://pandas.pydata.org/pandas-docs/stable/user_guide/indexing.html#returning-a-view-versus-a-copy\n",
      "  stock_data['Return'].replace([np.inf, -np.inf], np.nan, inplace=True)\n",
      "C:\\Users\\PRAJWAL\\AppData\\Local\\Temp\\ipykernel_19000\\3832743817.py:11: FutureWarning: YF.download() has changed argument auto_adjust default to True\n",
      "  stock_data = yf.download(ticker, start=start, end=end, progress=False)\n"
     ]
    },
    {
     "name": "stdout",
     "output_type": "stream",
     "text": [
      "Error collecting data for CMS: ['Return']\n",
      "Collecting data for INVH...\n"
     ]
    },
    {
     "name": "stderr",
     "output_type": "stream",
     "text": [
      "C:\\Users\\PRAJWAL\\AppData\\Local\\Temp\\ipykernel_19000\\3832743817.py:18: SettingWithCopyWarning: \n",
      "A value is trying to be set on a copy of a slice from a DataFrame\n",
      "\n",
      "See the caveats in the documentation: https://pandas.pydata.org/pandas-docs/stable/user_guide/indexing.html#returning-a-view-versus-a-copy\n",
      "  stock_data['Return'].replace([np.inf, -np.inf], np.nan, inplace=True)\n",
      "C:\\Users\\PRAJWAL\\AppData\\Local\\Temp\\ipykernel_19000\\3832743817.py:11: FutureWarning: YF.download() has changed argument auto_adjust default to True\n",
      "  stock_data = yf.download(ticker, start=start, end=end, progress=False)\n"
     ]
    },
    {
     "name": "stdout",
     "output_type": "stream",
     "text": [
      "Error collecting data for INVH: ['Return']\n",
      "Collecting data for FSLR...\n"
     ]
    },
    {
     "name": "stderr",
     "output_type": "stream",
     "text": [
      "C:\\Users\\PRAJWAL\\AppData\\Local\\Temp\\ipykernel_19000\\3832743817.py:18: SettingWithCopyWarning: \n",
      "A value is trying to be set on a copy of a slice from a DataFrame\n",
      "\n",
      "See the caveats in the documentation: https://pandas.pydata.org/pandas-docs/stable/user_guide/indexing.html#returning-a-view-versus-a-copy\n",
      "  stock_data['Return'].replace([np.inf, -np.inf], np.nan, inplace=True)\n",
      "C:\\Users\\PRAJWAL\\AppData\\Local\\Temp\\ipykernel_19000\\3832743817.py:11: FutureWarning: YF.download() has changed argument auto_adjust default to True\n",
      "  stock_data = yf.download(ticker, start=start, end=end, progress=False)\n"
     ]
    },
    {
     "name": "stdout",
     "output_type": "stream",
     "text": [
      "Error collecting data for FSLR: ['Return']\n",
      "Collecting data for BF-B...\n"
     ]
    },
    {
     "name": "stderr",
     "output_type": "stream",
     "text": [
      "C:\\Users\\PRAJWAL\\AppData\\Local\\Temp\\ipykernel_19000\\3832743817.py:18: SettingWithCopyWarning: \n",
      "A value is trying to be set on a copy of a slice from a DataFrame\n",
      "\n",
      "See the caveats in the documentation: https://pandas.pydata.org/pandas-docs/stable/user_guide/indexing.html#returning-a-view-versus-a-copy\n",
      "  stock_data['Return'].replace([np.inf, -np.inf], np.nan, inplace=True)\n",
      "C:\\Users\\PRAJWAL\\AppData\\Local\\Temp\\ipykernel_19000\\3832743817.py:11: FutureWarning: YF.download() has changed argument auto_adjust default to True\n",
      "  stock_data = yf.download(ticker, start=start, end=end, progress=False)\n"
     ]
    },
    {
     "name": "stdout",
     "output_type": "stream",
     "text": [
      "Error collecting data for BF-B: ['Return']\n",
      "Collecting data for LDOS...\n"
     ]
    },
    {
     "name": "stderr",
     "output_type": "stream",
     "text": [
      "C:\\Users\\PRAJWAL\\AppData\\Local\\Temp\\ipykernel_19000\\3832743817.py:18: SettingWithCopyWarning: \n",
      "A value is trying to be set on a copy of a slice from a DataFrame\n",
      "\n",
      "See the caveats in the documentation: https://pandas.pydata.org/pandas-docs/stable/user_guide/indexing.html#returning-a-view-versus-a-copy\n",
      "  stock_data['Return'].replace([np.inf, -np.inf], np.nan, inplace=True)\n",
      "C:\\Users\\PRAJWAL\\AppData\\Local\\Temp\\ipykernel_19000\\3832743817.py:11: FutureWarning: YF.download() has changed argument auto_adjust default to True\n",
      "  stock_data = yf.download(ticker, start=start, end=end, progress=False)\n"
     ]
    },
    {
     "name": "stdout",
     "output_type": "stream",
     "text": [
      "Error collecting data for LDOS: ['Return']\n",
      "Collecting data for CFG...\n"
     ]
    },
    {
     "name": "stderr",
     "output_type": "stream",
     "text": [
      "C:\\Users\\PRAJWAL\\AppData\\Local\\Temp\\ipykernel_19000\\3832743817.py:18: SettingWithCopyWarning: \n",
      "A value is trying to be set on a copy of a slice from a DataFrame\n",
      "\n",
      "See the caveats in the documentation: https://pandas.pydata.org/pandas-docs/stable/user_guide/indexing.html#returning-a-view-versus-a-copy\n",
      "  stock_data['Return'].replace([np.inf, -np.inf], np.nan, inplace=True)\n",
      "C:\\Users\\PRAJWAL\\AppData\\Local\\Temp\\ipykernel_19000\\3832743817.py:11: FutureWarning: YF.download() has changed argument auto_adjust default to True\n",
      "  stock_data = yf.download(ticker, start=start, end=end, progress=False)\n"
     ]
    },
    {
     "name": "stdout",
     "output_type": "stream",
     "text": [
      "Error collecting data for CFG: ['Return']\n",
      "Collecting data for LH...\n"
     ]
    },
    {
     "name": "stderr",
     "output_type": "stream",
     "text": [
      "C:\\Users\\PRAJWAL\\AppData\\Local\\Temp\\ipykernel_19000\\3832743817.py:18: SettingWithCopyWarning: \n",
      "A value is trying to be set on a copy of a slice from a DataFrame\n",
      "\n",
      "See the caveats in the documentation: https://pandas.pydata.org/pandas-docs/stable/user_guide/indexing.html#returning-a-view-versus-a-copy\n",
      "  stock_data['Return'].replace([np.inf, -np.inf], np.nan, inplace=True)\n",
      "C:\\Users\\PRAJWAL\\AppData\\Local\\Temp\\ipykernel_19000\\3832743817.py:11: FutureWarning: YF.download() has changed argument auto_adjust default to True\n",
      "  stock_data = yf.download(ticker, start=start, end=end, progress=False)\n"
     ]
    },
    {
     "name": "stdout",
     "output_type": "stream",
     "text": [
      "Error collecting data for LH: ['Return']\n",
      "Collecting data for VRSN...\n"
     ]
    },
    {
     "name": "stderr",
     "output_type": "stream",
     "text": [
      "C:\\Users\\PRAJWAL\\AppData\\Local\\Temp\\ipykernel_19000\\3832743817.py:18: SettingWithCopyWarning: \n",
      "A value is trying to be set on a copy of a slice from a DataFrame\n",
      "\n",
      "See the caveats in the documentation: https://pandas.pydata.org/pandas-docs/stable/user_guide/indexing.html#returning-a-view-versus-a-copy\n",
      "  stock_data['Return'].replace([np.inf, -np.inf], np.nan, inplace=True)\n",
      "C:\\Users\\PRAJWAL\\AppData\\Local\\Temp\\ipykernel_19000\\3832743817.py:11: FutureWarning: YF.download() has changed argument auto_adjust default to True\n",
      "  stock_data = yf.download(ticker, start=start, end=end, progress=False)\n"
     ]
    },
    {
     "name": "stdout",
     "output_type": "stream",
     "text": [
      "Error collecting data for VRSN: ['Return']\n",
      "Collecting data for IP...\n"
     ]
    },
    {
     "name": "stderr",
     "output_type": "stream",
     "text": [
      "C:\\Users\\PRAJWAL\\AppData\\Local\\Temp\\ipykernel_19000\\3832743817.py:18: SettingWithCopyWarning: \n",
      "A value is trying to be set on a copy of a slice from a DataFrame\n",
      "\n",
      "See the caveats in the documentation: https://pandas.pydata.org/pandas-docs/stable/user_guide/indexing.html#returning-a-view-versus-a-copy\n",
      "  stock_data['Return'].replace([np.inf, -np.inf], np.nan, inplace=True)\n",
      "C:\\Users\\PRAJWAL\\AppData\\Local\\Temp\\ipykernel_19000\\3832743817.py:11: FutureWarning: YF.download() has changed argument auto_adjust default to True\n",
      "  stock_data = yf.download(ticker, start=start, end=end, progress=False)\n"
     ]
    },
    {
     "name": "stdout",
     "output_type": "stream",
     "text": [
      "Error collecting data for IP: ['Return']\n",
      "Collecting data for ESS...\n"
     ]
    },
    {
     "name": "stderr",
     "output_type": "stream",
     "text": [
      "C:\\Users\\PRAJWAL\\AppData\\Local\\Temp\\ipykernel_19000\\3832743817.py:18: SettingWithCopyWarning: \n",
      "A value is trying to be set on a copy of a slice from a DataFrame\n",
      "\n",
      "See the caveats in the documentation: https://pandas.pydata.org/pandas-docs/stable/user_guide/indexing.html#returning-a-view-versus-a-copy\n",
      "  stock_data['Return'].replace([np.inf, -np.inf], np.nan, inplace=True)\n",
      "C:\\Users\\PRAJWAL\\AppData\\Local\\Temp\\ipykernel_19000\\3832743817.py:11: FutureWarning: YF.download() has changed argument auto_adjust default to True\n",
      "  stock_data = yf.download(ticker, start=start, end=end, progress=False)\n"
     ]
    },
    {
     "name": "stdout",
     "output_type": "stream",
     "text": [
      "Error collecting data for ESS: ['Return']\n",
      "Collecting data for PODD...\n"
     ]
    },
    {
     "name": "stderr",
     "output_type": "stream",
     "text": [
      "C:\\Users\\PRAJWAL\\AppData\\Local\\Temp\\ipykernel_19000\\3832743817.py:18: SettingWithCopyWarning: \n",
      "A value is trying to be set on a copy of a slice from a DataFrame\n",
      "\n",
      "See the caveats in the documentation: https://pandas.pydata.org/pandas-docs/stable/user_guide/indexing.html#returning-a-view-versus-a-copy\n",
      "  stock_data['Return'].replace([np.inf, -np.inf], np.nan, inplace=True)\n",
      "C:\\Users\\PRAJWAL\\AppData\\Local\\Temp\\ipykernel_19000\\3832743817.py:11: FutureWarning: YF.download() has changed argument auto_adjust default to True\n",
      "  stock_data = yf.download(ticker, start=start, end=end, progress=False)\n"
     ]
    },
    {
     "name": "stdout",
     "output_type": "stream",
     "text": [
      "Error collecting data for PODD: ['Return']\n",
      "Collecting data for COO...\n"
     ]
    },
    {
     "name": "stderr",
     "output_type": "stream",
     "text": [
      "C:\\Users\\PRAJWAL\\AppData\\Local\\Temp\\ipykernel_19000\\3832743817.py:18: SettingWithCopyWarning: \n",
      "A value is trying to be set on a copy of a slice from a DataFrame\n",
      "\n",
      "See the caveats in the documentation: https://pandas.pydata.org/pandas-docs/stable/user_guide/indexing.html#returning-a-view-versus-a-copy\n",
      "  stock_data['Return'].replace([np.inf, -np.inf], np.nan, inplace=True)\n",
      "C:\\Users\\PRAJWAL\\AppData\\Local\\Temp\\ipykernel_19000\\3832743817.py:11: FutureWarning: YF.download() has changed argument auto_adjust default to True\n",
      "  stock_data = yf.download(ticker, start=start, end=end, progress=False)\n"
     ]
    },
    {
     "name": "stdout",
     "output_type": "stream",
     "text": [
      "Error collecting data for COO: ['Return']\n",
      "Collecting data for SMCI...\n"
     ]
    },
    {
     "name": "stderr",
     "output_type": "stream",
     "text": [
      "C:\\Users\\PRAJWAL\\AppData\\Local\\Temp\\ipykernel_19000\\3832743817.py:18: SettingWithCopyWarning: \n",
      "A value is trying to be set on a copy of a slice from a DataFrame\n",
      "\n",
      "See the caveats in the documentation: https://pandas.pydata.org/pandas-docs/stable/user_guide/indexing.html#returning-a-view-versus-a-copy\n",
      "  stock_data['Return'].replace([np.inf, -np.inf], np.nan, inplace=True)\n",
      "C:\\Users\\PRAJWAL\\AppData\\Local\\Temp\\ipykernel_19000\\3832743817.py:11: FutureWarning: YF.download() has changed argument auto_adjust default to True\n",
      "  stock_data = yf.download(ticker, start=start, end=end, progress=False)\n"
     ]
    },
    {
     "name": "stdout",
     "output_type": "stream",
     "text": [
      "Error collecting data for SMCI: ['Return']\n",
      "Collecting data for STX...\n"
     ]
    },
    {
     "name": "stderr",
     "output_type": "stream",
     "text": [
      "C:\\Users\\PRAJWAL\\AppData\\Local\\Temp\\ipykernel_19000\\3832743817.py:18: SettingWithCopyWarning: \n",
      "A value is trying to be set on a copy of a slice from a DataFrame\n",
      "\n",
      "See the caveats in the documentation: https://pandas.pydata.org/pandas-docs/stable/user_guide/indexing.html#returning-a-view-versus-a-copy\n",
      "  stock_data['Return'].replace([np.inf, -np.inf], np.nan, inplace=True)\n",
      "C:\\Users\\PRAJWAL\\AppData\\Local\\Temp\\ipykernel_19000\\3832743817.py:11: FutureWarning: YF.download() has changed argument auto_adjust default to True\n",
      "  stock_data = yf.download(ticker, start=start, end=end, progress=False)\n"
     ]
    },
    {
     "name": "stdout",
     "output_type": "stream",
     "text": [
      "Error collecting data for STX: ['Return']\n",
      "Collecting data for MAA...\n"
     ]
    },
    {
     "name": "stderr",
     "output_type": "stream",
     "text": [
      "C:\\Users\\PRAJWAL\\AppData\\Local\\Temp\\ipykernel_19000\\3832743817.py:18: SettingWithCopyWarning: \n",
      "A value is trying to be set on a copy of a slice from a DataFrame\n",
      "\n",
      "See the caveats in the documentation: https://pandas.pydata.org/pandas-docs/stable/user_guide/indexing.html#returning-a-view-versus-a-copy\n",
      "  stock_data['Return'].replace([np.inf, -np.inf], np.nan, inplace=True)\n",
      "C:\\Users\\PRAJWAL\\AppData\\Local\\Temp\\ipykernel_19000\\3832743817.py:11: FutureWarning: YF.download() has changed argument auto_adjust default to True\n",
      "  stock_data = yf.download(ticker, start=start, end=end, progress=False)\n"
     ]
    },
    {
     "name": "stdout",
     "output_type": "stream",
     "text": [
      "Error collecting data for MAA: ['Return']\n",
      "Collecting data for FDS...\n"
     ]
    },
    {
     "name": "stderr",
     "output_type": "stream",
     "text": [
      "C:\\Users\\PRAJWAL\\AppData\\Local\\Temp\\ipykernel_19000\\3832743817.py:18: SettingWithCopyWarning: \n",
      "A value is trying to be set on a copy of a slice from a DataFrame\n",
      "\n",
      "See the caveats in the documentation: https://pandas.pydata.org/pandas-docs/stable/user_guide/indexing.html#returning-a-view-versus-a-copy\n",
      "  stock_data['Return'].replace([np.inf, -np.inf], np.nan, inplace=True)\n",
      "C:\\Users\\PRAJWAL\\AppData\\Local\\Temp\\ipykernel_19000\\3832743817.py:11: FutureWarning: YF.download() has changed argument auto_adjust default to True\n",
      "  stock_data = yf.download(ticker, start=start, end=end, progress=False)\n"
     ]
    },
    {
     "name": "stdout",
     "output_type": "stream",
     "text": [
      "Error collecting data for FDS: ['Return']\n",
      "Collecting data for NRG...\n"
     ]
    },
    {
     "name": "stderr",
     "output_type": "stream",
     "text": [
      "C:\\Users\\PRAJWAL\\AppData\\Local\\Temp\\ipykernel_19000\\3832743817.py:18: SettingWithCopyWarning: \n",
      "A value is trying to be set on a copy of a slice from a DataFrame\n",
      "\n",
      "See the caveats in the documentation: https://pandas.pydata.org/pandas-docs/stable/user_guide/indexing.html#returning-a-view-versus-a-copy\n",
      "  stock_data['Return'].replace([np.inf, -np.inf], np.nan, inplace=True)\n",
      "C:\\Users\\PRAJWAL\\AppData\\Local\\Temp\\ipykernel_19000\\3832743817.py:11: FutureWarning: YF.download() has changed argument auto_adjust default to True\n",
      "  stock_data = yf.download(ticker, start=start, end=end, progress=False)\n"
     ]
    },
    {
     "name": "stdout",
     "output_type": "stream",
     "text": [
      "Error collecting data for NRG: ['Return']\n",
      "Collecting data for BBY...\n"
     ]
    },
    {
     "name": "stderr",
     "output_type": "stream",
     "text": [
      "C:\\Users\\PRAJWAL\\AppData\\Local\\Temp\\ipykernel_19000\\3832743817.py:18: SettingWithCopyWarning: \n",
      "A value is trying to be set on a copy of a slice from a DataFrame\n",
      "\n",
      "See the caveats in the documentation: https://pandas.pydata.org/pandas-docs/stable/user_guide/indexing.html#returning-a-view-versus-a-copy\n",
      "  stock_data['Return'].replace([np.inf, -np.inf], np.nan, inplace=True)\n",
      "C:\\Users\\PRAJWAL\\AppData\\Local\\Temp\\ipykernel_19000\\3832743817.py:11: FutureWarning: YF.download() has changed argument auto_adjust default to True\n",
      "  stock_data = yf.download(ticker, start=start, end=end, progress=False)\n"
     ]
    },
    {
     "name": "stdout",
     "output_type": "stream",
     "text": [
      "Error collecting data for BBY: ['Return']\n",
      "Collecting data for SNA...\n"
     ]
    },
    {
     "name": "stderr",
     "output_type": "stream",
     "text": [
      "C:\\Users\\PRAJWAL\\AppData\\Local\\Temp\\ipykernel_19000\\3832743817.py:18: SettingWithCopyWarning: \n",
      "A value is trying to be set on a copy of a slice from a DataFrame\n",
      "\n",
      "See the caveats in the documentation: https://pandas.pydata.org/pandas-docs/stable/user_guide/indexing.html#returning-a-view-versus-a-copy\n",
      "  stock_data['Return'].replace([np.inf, -np.inf], np.nan, inplace=True)\n",
      "C:\\Users\\PRAJWAL\\AppData\\Local\\Temp\\ipykernel_19000\\3832743817.py:11: FutureWarning: YF.download() has changed argument auto_adjust default to True\n",
      "  stock_data = yf.download(ticker, start=start, end=end, progress=False)\n"
     ]
    },
    {
     "name": "stdout",
     "output_type": "stream",
     "text": [
      "Error collecting data for SNA: ['Return']\n",
      "Collecting data for L...\n"
     ]
    },
    {
     "name": "stderr",
     "output_type": "stream",
     "text": [
      "C:\\Users\\PRAJWAL\\AppData\\Local\\Temp\\ipykernel_19000\\3832743817.py:18: SettingWithCopyWarning: \n",
      "A value is trying to be set on a copy of a slice from a DataFrame\n",
      "\n",
      "See the caveats in the documentation: https://pandas.pydata.org/pandas-docs/stable/user_guide/indexing.html#returning-a-view-versus-a-copy\n",
      "  stock_data['Return'].replace([np.inf, -np.inf], np.nan, inplace=True)\n",
      "C:\\Users\\PRAJWAL\\AppData\\Local\\Temp\\ipykernel_19000\\3832743817.py:11: FutureWarning: YF.download() has changed argument auto_adjust default to True\n",
      "  stock_data = yf.download(ticker, start=start, end=end, progress=False)\n"
     ]
    },
    {
     "name": "stdout",
     "output_type": "stream",
     "text": [
      "Error collecting data for L: ['Return']\n",
      "Collecting data for PFG...\n"
     ]
    },
    {
     "name": "stderr",
     "output_type": "stream",
     "text": [
      "C:\\Users\\PRAJWAL\\AppData\\Local\\Temp\\ipykernel_19000\\3832743817.py:18: SettingWithCopyWarning: \n",
      "A value is trying to be set on a copy of a slice from a DataFrame\n",
      "\n",
      "See the caveats in the documentation: https://pandas.pydata.org/pandas-docs/stable/user_guide/indexing.html#returning-a-view-versus-a-copy\n",
      "  stock_data['Return'].replace([np.inf, -np.inf], np.nan, inplace=True)\n",
      "C:\\Users\\PRAJWAL\\AppData\\Local\\Temp\\ipykernel_19000\\3832743817.py:11: FutureWarning: YF.download() has changed argument auto_adjust default to True\n",
      "  stock_data = yf.download(ticker, start=start, end=end, progress=False)\n"
     ]
    },
    {
     "name": "stdout",
     "output_type": "stream",
     "text": [
      "Error collecting data for PFG: ['Return']\n",
      "Collecting data for STLD...\n"
     ]
    },
    {
     "name": "stderr",
     "output_type": "stream",
     "text": [
      "C:\\Users\\PRAJWAL\\AppData\\Local\\Temp\\ipykernel_19000\\3832743817.py:18: SettingWithCopyWarning: \n",
      "A value is trying to be set on a copy of a slice from a DataFrame\n",
      "\n",
      "See the caveats in the documentation: https://pandas.pydata.org/pandas-docs/stable/user_guide/indexing.html#returning-a-view-versus-a-copy\n",
      "  stock_data['Return'].replace([np.inf, -np.inf], np.nan, inplace=True)\n",
      "C:\\Users\\PRAJWAL\\AppData\\Local\\Temp\\ipykernel_19000\\3832743817.py:11: FutureWarning: YF.download() has changed argument auto_adjust default to True\n",
      "  stock_data = yf.download(ticker, start=start, end=end, progress=False)\n"
     ]
    },
    {
     "name": "stdout",
     "output_type": "stream",
     "text": [
      "Error collecting data for STLD: ['Return']\n",
      "Collecting data for TRMB...\n"
     ]
    },
    {
     "name": "stderr",
     "output_type": "stream",
     "text": [
      "C:\\Users\\PRAJWAL\\AppData\\Local\\Temp\\ipykernel_19000\\3832743817.py:18: SettingWithCopyWarning: \n",
      "A value is trying to be set on a copy of a slice from a DataFrame\n",
      "\n",
      "See the caveats in the documentation: https://pandas.pydata.org/pandas-docs/stable/user_guide/indexing.html#returning-a-view-versus-a-copy\n",
      "  stock_data['Return'].replace([np.inf, -np.inf], np.nan, inplace=True)\n",
      "C:\\Users\\PRAJWAL\\AppData\\Local\\Temp\\ipykernel_19000\\3832743817.py:11: FutureWarning: YF.download() has changed argument auto_adjust default to True\n",
      "  stock_data = yf.download(ticker, start=start, end=end, progress=False)\n"
     ]
    },
    {
     "name": "stdout",
     "output_type": "stream",
     "text": [
      "Error collecting data for TRMB: ['Return']\n",
      "Collecting data for OMC...\n"
     ]
    },
    {
     "name": "stderr",
     "output_type": "stream",
     "text": [
      "C:\\Users\\PRAJWAL\\AppData\\Local\\Temp\\ipykernel_19000\\3832743817.py:18: SettingWithCopyWarning: \n",
      "A value is trying to be set on a copy of a slice from a DataFrame\n",
      "\n",
      "See the caveats in the documentation: https://pandas.pydata.org/pandas-docs/stable/user_guide/indexing.html#returning-a-view-versus-a-copy\n",
      "  stock_data['Return'].replace([np.inf, -np.inf], np.nan, inplace=True)\n",
      "C:\\Users\\PRAJWAL\\AppData\\Local\\Temp\\ipykernel_19000\\3832743817.py:11: FutureWarning: YF.download() has changed argument auto_adjust default to True\n",
      "  stock_data = yf.download(ticker, start=start, end=end, progress=False)\n"
     ]
    },
    {
     "name": "stdout",
     "output_type": "stream",
     "text": [
      "Error collecting data for OMC: ['Return']\n",
      "Collecting data for CTRA...\n"
     ]
    },
    {
     "name": "stderr",
     "output_type": "stream",
     "text": [
      "C:\\Users\\PRAJWAL\\AppData\\Local\\Temp\\ipykernel_19000\\3832743817.py:18: SettingWithCopyWarning: \n",
      "A value is trying to be set on a copy of a slice from a DataFrame\n",
      "\n",
      "See the caveats in the documentation: https://pandas.pydata.org/pandas-docs/stable/user_guide/indexing.html#returning-a-view-versus-a-copy\n",
      "  stock_data['Return'].replace([np.inf, -np.inf], np.nan, inplace=True)\n",
      "C:\\Users\\PRAJWAL\\AppData\\Local\\Temp\\ipykernel_19000\\3832743817.py:11: FutureWarning: YF.download() has changed argument auto_adjust default to True\n",
      "  stock_data = yf.download(ticker, start=start, end=end, progress=False)\n"
     ]
    },
    {
     "name": "stdout",
     "output_type": "stream",
     "text": [
      "Error collecting data for CTRA: ['Return']\n",
      "Collecting data for HRL...\n"
     ]
    },
    {
     "name": "stderr",
     "output_type": "stream",
     "text": [
      "C:\\Users\\PRAJWAL\\AppData\\Local\\Temp\\ipykernel_19000\\3832743817.py:18: SettingWithCopyWarning: \n",
      "A value is trying to be set on a copy of a slice from a DataFrame\n",
      "\n",
      "See the caveats in the documentation: https://pandas.pydata.org/pandas-docs/stable/user_guide/indexing.html#returning-a-view-versus-a-copy\n",
      "  stock_data['Return'].replace([np.inf, -np.inf], np.nan, inplace=True)\n",
      "C:\\Users\\PRAJWAL\\AppData\\Local\\Temp\\ipykernel_19000\\3832743817.py:11: FutureWarning: YF.download() has changed argument auto_adjust default to True\n",
      "  stock_data = yf.download(ticker, start=start, end=end, progress=False)\n"
     ]
    },
    {
     "name": "stdout",
     "output_type": "stream",
     "text": [
      "Error collecting data for HRL: ['Return']\n",
      "Collecting data for ARE...\n"
     ]
    },
    {
     "name": "stderr",
     "output_type": "stream",
     "text": [
      "C:\\Users\\PRAJWAL\\AppData\\Local\\Temp\\ipykernel_19000\\3832743817.py:18: SettingWithCopyWarning: \n",
      "A value is trying to be set on a copy of a slice from a DataFrame\n",
      "\n",
      "See the caveats in the documentation: https://pandas.pydata.org/pandas-docs/stable/user_guide/indexing.html#returning-a-view-versus-a-copy\n",
      "  stock_data['Return'].replace([np.inf, -np.inf], np.nan, inplace=True)\n",
      "C:\\Users\\PRAJWAL\\AppData\\Local\\Temp\\ipykernel_19000\\3832743817.py:11: FutureWarning: YF.download() has changed argument auto_adjust default to True\n",
      "  stock_data = yf.download(ticker, start=start, end=end, progress=False)\n"
     ]
    },
    {
     "name": "stdout",
     "output_type": "stream",
     "text": [
      "Error collecting data for ARE: ['Return']\n",
      "Collecting data for BLDR...\n"
     ]
    },
    {
     "name": "stderr",
     "output_type": "stream",
     "text": [
      "C:\\Users\\PRAJWAL\\AppData\\Local\\Temp\\ipykernel_19000\\3832743817.py:18: SettingWithCopyWarning: \n",
      "A value is trying to be set on a copy of a slice from a DataFrame\n",
      "\n",
      "See the caveats in the documentation: https://pandas.pydata.org/pandas-docs/stable/user_guide/indexing.html#returning-a-view-versus-a-copy\n",
      "  stock_data['Return'].replace([np.inf, -np.inf], np.nan, inplace=True)\n",
      "C:\\Users\\PRAJWAL\\AppData\\Local\\Temp\\ipykernel_19000\\3832743817.py:11: FutureWarning: YF.download() has changed argument auto_adjust default to True\n",
      "  stock_data = yf.download(ticker, start=start, end=end, progress=False)\n"
     ]
    },
    {
     "name": "stdout",
     "output_type": "stream",
     "text": [
      "Error collecting data for BLDR: ['Return']\n",
      "Collecting data for JBHT...\n"
     ]
    },
    {
     "name": "stderr",
     "output_type": "stream",
     "text": [
      "C:\\Users\\PRAJWAL\\AppData\\Local\\Temp\\ipykernel_19000\\3832743817.py:18: SettingWithCopyWarning: \n",
      "A value is trying to be set on a copy of a slice from a DataFrame\n",
      "\n",
      "See the caveats in the documentation: https://pandas.pydata.org/pandas-docs/stable/user_guide/indexing.html#returning-a-view-versus-a-copy\n",
      "  stock_data['Return'].replace([np.inf, -np.inf], np.nan, inplace=True)\n",
      "C:\\Users\\PRAJWAL\\AppData\\Local\\Temp\\ipykernel_19000\\3832743817.py:11: FutureWarning: YF.download() has changed argument auto_adjust default to True\n",
      "  stock_data = yf.download(ticker, start=start, end=end, progress=False)\n"
     ]
    },
    {
     "name": "stdout",
     "output_type": "stream",
     "text": [
      "Error collecting data for JBHT: ['Return']\n",
      "Collecting data for GEN...\n"
     ]
    },
    {
     "name": "stderr",
     "output_type": "stream",
     "text": [
      "C:\\Users\\PRAJWAL\\AppData\\Local\\Temp\\ipykernel_19000\\3832743817.py:18: SettingWithCopyWarning: \n",
      "A value is trying to be set on a copy of a slice from a DataFrame\n",
      "\n",
      "See the caveats in the documentation: https://pandas.pydata.org/pandas-docs/stable/user_guide/indexing.html#returning-a-view-versus-a-copy\n",
      "  stock_data['Return'].replace([np.inf, -np.inf], np.nan, inplace=True)\n",
      "C:\\Users\\PRAJWAL\\AppData\\Local\\Temp\\ipykernel_19000\\3832743817.py:11: FutureWarning: YF.download() has changed argument auto_adjust default to True\n",
      "  stock_data = yf.download(ticker, start=start, end=end, progress=False)\n"
     ]
    },
    {
     "name": "stdout",
     "output_type": "stream",
     "text": [
      "Error collecting data for GEN: ['Return']\n",
      "Collecting data for DGX...\n"
     ]
    },
    {
     "name": "stderr",
     "output_type": "stream",
     "text": [
      "C:\\Users\\PRAJWAL\\AppData\\Local\\Temp\\ipykernel_19000\\3832743817.py:18: SettingWithCopyWarning: \n",
      "A value is trying to be set on a copy of a slice from a DataFrame\n",
      "\n",
      "See the caveats in the documentation: https://pandas.pydata.org/pandas-docs/stable/user_guide/indexing.html#returning-a-view-versus-a-copy\n",
      "  stock_data['Return'].replace([np.inf, -np.inf], np.nan, inplace=True)\n",
      "C:\\Users\\PRAJWAL\\AppData\\Local\\Temp\\ipykernel_19000\\3832743817.py:11: FutureWarning: YF.download() has changed argument auto_adjust default to True\n",
      "  stock_data = yf.download(ticker, start=start, end=end, progress=False)\n"
     ]
    },
    {
     "name": "stdout",
     "output_type": "stream",
     "text": [
      "Error collecting data for DGX: ['Return']\n",
      "Collecting data for KEY...\n"
     ]
    },
    {
     "name": "stderr",
     "output_type": "stream",
     "text": [
      "C:\\Users\\PRAJWAL\\AppData\\Local\\Temp\\ipykernel_19000\\3832743817.py:18: SettingWithCopyWarning: \n",
      "A value is trying to be set on a copy of a slice from a DataFrame\n",
      "\n",
      "See the caveats in the documentation: https://pandas.pydata.org/pandas-docs/stable/user_guide/indexing.html#returning-a-view-versus-a-copy\n",
      "  stock_data['Return'].replace([np.inf, -np.inf], np.nan, inplace=True)\n",
      "C:\\Users\\PRAJWAL\\AppData\\Local\\Temp\\ipykernel_19000\\3832743817.py:11: FutureWarning: YF.download() has changed argument auto_adjust default to True\n",
      "  stock_data = yf.download(ticker, start=start, end=end, progress=False)\n"
     ]
    },
    {
     "name": "stdout",
     "output_type": "stream",
     "text": [
      "Error collecting data for KEY: ['Return']\n",
      "Collecting data for NI...\n"
     ]
    },
    {
     "name": "stderr",
     "output_type": "stream",
     "text": [
      "C:\\Users\\PRAJWAL\\AppData\\Local\\Temp\\ipykernel_19000\\3832743817.py:18: SettingWithCopyWarning: \n",
      "A value is trying to be set on a copy of a slice from a DataFrame\n",
      "\n",
      "See the caveats in the documentation: https://pandas.pydata.org/pandas-docs/stable/user_guide/indexing.html#returning-a-view-versus-a-copy\n",
      "  stock_data['Return'].replace([np.inf, -np.inf], np.nan, inplace=True)\n",
      "C:\\Users\\PRAJWAL\\AppData\\Local\\Temp\\ipykernel_19000\\3832743817.py:11: FutureWarning: YF.download() has changed argument auto_adjust default to True\n",
      "  stock_data = yf.download(ticker, start=start, end=end, progress=False)\n"
     ]
    },
    {
     "name": "stdout",
     "output_type": "stream",
     "text": [
      "Error collecting data for NI: ['Return']\n",
      "Collecting data for MOH...\n"
     ]
    },
    {
     "name": "stderr",
     "output_type": "stream",
     "text": [
      "C:\\Users\\PRAJWAL\\AppData\\Local\\Temp\\ipykernel_19000\\3832743817.py:18: SettingWithCopyWarning: \n",
      "A value is trying to be set on a copy of a slice from a DataFrame\n",
      "\n",
      "See the caveats in the documentation: https://pandas.pydata.org/pandas-docs/stable/user_guide/indexing.html#returning-a-view-versus-a-copy\n",
      "  stock_data['Return'].replace([np.inf, -np.inf], np.nan, inplace=True)\n",
      "C:\\Users\\PRAJWAL\\AppData\\Local\\Temp\\ipykernel_19000\\3832743817.py:11: FutureWarning: YF.download() has changed argument auto_adjust default to True\n",
      "  stock_data = yf.download(ticker, start=start, end=end, progress=False)\n"
     ]
    },
    {
     "name": "stdout",
     "output_type": "stream",
     "text": [
      "Error collecting data for MOH: ['Return']\n",
      "Collecting data for PNR...\n"
     ]
    },
    {
     "name": "stderr",
     "output_type": "stream",
     "text": [
      "C:\\Users\\PRAJWAL\\AppData\\Local\\Temp\\ipykernel_19000\\3832743817.py:18: SettingWithCopyWarning: \n",
      "A value is trying to be set on a copy of a slice from a DataFrame\n",
      "\n",
      "See the caveats in the documentation: https://pandas.pydata.org/pandas-docs/stable/user_guide/indexing.html#returning-a-view-versus-a-copy\n",
      "  stock_data['Return'].replace([np.inf, -np.inf], np.nan, inplace=True)\n",
      "C:\\Users\\PRAJWAL\\AppData\\Local\\Temp\\ipykernel_19000\\3832743817.py:11: FutureWarning: YF.download() has changed argument auto_adjust default to True\n",
      "  stock_data = yf.download(ticker, start=start, end=end, progress=False)\n"
     ]
    },
    {
     "name": "stdout",
     "output_type": "stream",
     "text": [
      "Error collecting data for PNR: ['Return']\n",
      "Collecting data for J...\n"
     ]
    },
    {
     "name": "stderr",
     "output_type": "stream",
     "text": [
      "C:\\Users\\PRAJWAL\\AppData\\Local\\Temp\\ipykernel_19000\\3832743817.py:18: SettingWithCopyWarning: \n",
      "A value is trying to be set on a copy of a slice from a DataFrame\n",
      "\n",
      "See the caveats in the documentation: https://pandas.pydata.org/pandas-docs/stable/user_guide/indexing.html#returning-a-view-versus-a-copy\n",
      "  stock_data['Return'].replace([np.inf, -np.inf], np.nan, inplace=True)\n",
      "C:\\Users\\PRAJWAL\\AppData\\Local\\Temp\\ipykernel_19000\\3832743817.py:11: FutureWarning: YF.download() has changed argument auto_adjust default to True\n",
      "  stock_data = yf.download(ticker, start=start, end=end, progress=False)\n"
     ]
    },
    {
     "name": "stdout",
     "output_type": "stream",
     "text": [
      "Error collecting data for J: ['Return']\n",
      "Collecting data for DG...\n"
     ]
    },
    {
     "name": "stderr",
     "output_type": "stream",
     "text": [
      "C:\\Users\\PRAJWAL\\AppData\\Local\\Temp\\ipykernel_19000\\3832743817.py:18: SettingWithCopyWarning: \n",
      "A value is trying to be set on a copy of a slice from a DataFrame\n",
      "\n",
      "See the caveats in the documentation: https://pandas.pydata.org/pandas-docs/stable/user_guide/indexing.html#returning-a-view-versus-a-copy\n",
      "  stock_data['Return'].replace([np.inf, -np.inf], np.nan, inplace=True)\n",
      "C:\\Users\\PRAJWAL\\AppData\\Local\\Temp\\ipykernel_19000\\3832743817.py:11: FutureWarning: YF.download() has changed argument auto_adjust default to True\n",
      "  stock_data = yf.download(ticker, start=start, end=end, progress=False)\n"
     ]
    },
    {
     "name": "stdout",
     "output_type": "stream",
     "text": [
      "Error collecting data for DG: ['Return']\n",
      "Collecting data for BALL...\n"
     ]
    },
    {
     "name": "stderr",
     "output_type": "stream",
     "text": [
      "C:\\Users\\PRAJWAL\\AppData\\Local\\Temp\\ipykernel_19000\\3832743817.py:18: SettingWithCopyWarning: \n",
      "A value is trying to be set on a copy of a slice from a DataFrame\n",
      "\n",
      "See the caveats in the documentation: https://pandas.pydata.org/pandas-docs/stable/user_guide/indexing.html#returning-a-view-versus-a-copy\n",
      "  stock_data['Return'].replace([np.inf, -np.inf], np.nan, inplace=True)\n",
      "C:\\Users\\PRAJWAL\\AppData\\Local\\Temp\\ipykernel_19000\\3832743817.py:11: FutureWarning: YF.download() has changed argument auto_adjust default to True\n",
      "  stock_data = yf.download(ticker, start=start, end=end, progress=False)\n"
     ]
    },
    {
     "name": "stdout",
     "output_type": "stream",
     "text": [
      "Error collecting data for BALL: ['Return']\n",
      "Collecting data for NWS...\n"
     ]
    },
    {
     "name": "stderr",
     "output_type": "stream",
     "text": [
      "C:\\Users\\PRAJWAL\\AppData\\Local\\Temp\\ipykernel_19000\\3832743817.py:18: SettingWithCopyWarning: \n",
      "A value is trying to be set on a copy of a slice from a DataFrame\n",
      "\n",
      "See the caveats in the documentation: https://pandas.pydata.org/pandas-docs/stable/user_guide/indexing.html#returning-a-view-versus-a-copy\n",
      "  stock_data['Return'].replace([np.inf, -np.inf], np.nan, inplace=True)\n",
      "C:\\Users\\PRAJWAL\\AppData\\Local\\Temp\\ipykernel_19000\\3832743817.py:11: FutureWarning: YF.download() has changed argument auto_adjust default to True\n",
      "  stock_data = yf.download(ticker, start=start, end=end, progress=False)\n"
     ]
    },
    {
     "name": "stdout",
     "output_type": "stream",
     "text": [
      "Error collecting data for NWS: ['Return']\n",
      "Collecting data for NWSA...\n"
     ]
    },
    {
     "name": "stderr",
     "output_type": "stream",
     "text": [
      "C:\\Users\\PRAJWAL\\AppData\\Local\\Temp\\ipykernel_19000\\3832743817.py:18: SettingWithCopyWarning: \n",
      "A value is trying to be set on a copy of a slice from a DataFrame\n",
      "\n",
      "See the caveats in the documentation: https://pandas.pydata.org/pandas-docs/stable/user_guide/indexing.html#returning-a-view-versus-a-copy\n",
      "  stock_data['Return'].replace([np.inf, -np.inf], np.nan, inplace=True)\n",
      "C:\\Users\\PRAJWAL\\AppData\\Local\\Temp\\ipykernel_19000\\3832743817.py:11: FutureWarning: YF.download() has changed argument auto_adjust default to True\n",
      "  stock_data = yf.download(ticker, start=start, end=end, progress=False)\n"
     ]
    },
    {
     "name": "stdout",
     "output_type": "stream",
     "text": [
      "Error collecting data for NWSA: ['Return']\n",
      "Collecting data for UDR...\n"
     ]
    },
    {
     "name": "stderr",
     "output_type": "stream",
     "text": [
      "C:\\Users\\PRAJWAL\\AppData\\Local\\Temp\\ipykernel_19000\\3832743817.py:18: SettingWithCopyWarning: \n",
      "A value is trying to be set on a copy of a slice from a DataFrame\n",
      "\n",
      "See the caveats in the documentation: https://pandas.pydata.org/pandas-docs/stable/user_guide/indexing.html#returning-a-view-versus-a-copy\n",
      "  stock_data['Return'].replace([np.inf, -np.inf], np.nan, inplace=True)\n",
      "C:\\Users\\PRAJWAL\\AppData\\Local\\Temp\\ipykernel_19000\\3832743817.py:11: FutureWarning: YF.download() has changed argument auto_adjust default to True\n",
      "  stock_data = yf.download(ticker, start=start, end=end, progress=False)\n"
     ]
    },
    {
     "name": "stdout",
     "output_type": "stream",
     "text": [
      "Error collecting data for UDR: ['Return']\n",
      "Collecting data for HOLX...\n"
     ]
    },
    {
     "name": "stderr",
     "output_type": "stream",
     "text": [
      "C:\\Users\\PRAJWAL\\AppData\\Local\\Temp\\ipykernel_19000\\3832743817.py:18: SettingWithCopyWarning: \n",
      "A value is trying to be set on a copy of a slice from a DataFrame\n",
      "\n",
      "See the caveats in the documentation: https://pandas.pydata.org/pandas-docs/stable/user_guide/indexing.html#returning-a-view-versus-a-copy\n",
      "  stock_data['Return'].replace([np.inf, -np.inf], np.nan, inplace=True)\n",
      "C:\\Users\\PRAJWAL\\AppData\\Local\\Temp\\ipykernel_19000\\3832743817.py:11: FutureWarning: YF.download() has changed argument auto_adjust default to True\n",
      "  stock_data = yf.download(ticker, start=start, end=end, progress=False)\n"
     ]
    },
    {
     "name": "stdout",
     "output_type": "stream",
     "text": [
      "Error collecting data for HOLX: ['Return']\n",
      "Collecting data for JBL...\n"
     ]
    },
    {
     "name": "stderr",
     "output_type": "stream",
     "text": [
      "C:\\Users\\PRAJWAL\\AppData\\Local\\Temp\\ipykernel_19000\\3832743817.py:18: SettingWithCopyWarning: \n",
      "A value is trying to be set on a copy of a slice from a DataFrame\n",
      "\n",
      "See the caveats in the documentation: https://pandas.pydata.org/pandas-docs/stable/user_guide/indexing.html#returning-a-view-versus-a-copy\n",
      "  stock_data['Return'].replace([np.inf, -np.inf], np.nan, inplace=True)\n",
      "C:\\Users\\PRAJWAL\\AppData\\Local\\Temp\\ipykernel_19000\\3832743817.py:11: FutureWarning: YF.download() has changed argument auto_adjust default to True\n",
      "  stock_data = yf.download(ticker, start=start, end=end, progress=False)\n"
     ]
    },
    {
     "name": "stdout",
     "output_type": "stream",
     "text": [
      "Error collecting data for JBL: ['Return']\n",
      "Collecting data for GPC...\n"
     ]
    },
    {
     "name": "stderr",
     "output_type": "stream",
     "text": [
      "C:\\Users\\PRAJWAL\\AppData\\Local\\Temp\\ipykernel_19000\\3832743817.py:18: SettingWithCopyWarning: \n",
      "A value is trying to be set on a copy of a slice from a DataFrame\n",
      "\n",
      "See the caveats in the documentation: https://pandas.pydata.org/pandas-docs/stable/user_guide/indexing.html#returning-a-view-versus-a-copy\n",
      "  stock_data['Return'].replace([np.inf, -np.inf], np.nan, inplace=True)\n",
      "C:\\Users\\PRAJWAL\\AppData\\Local\\Temp\\ipykernel_19000\\3832743817.py:11: FutureWarning: YF.download() has changed argument auto_adjust default to True\n",
      "  stock_data = yf.download(ticker, start=start, end=end, progress=False)\n"
     ]
    },
    {
     "name": "stdout",
     "output_type": "stream",
     "text": [
      "Error collecting data for GPC: ['Return']\n",
      "Collecting data for IEX...\n"
     ]
    },
    {
     "name": "stderr",
     "output_type": "stream",
     "text": [
      "C:\\Users\\PRAJWAL\\AppData\\Local\\Temp\\ipykernel_19000\\3832743817.py:18: SettingWithCopyWarning: \n",
      "A value is trying to be set on a copy of a slice from a DataFrame\n",
      "\n",
      "See the caveats in the documentation: https://pandas.pydata.org/pandas-docs/stable/user_guide/indexing.html#returning-a-view-versus-a-copy\n",
      "  stock_data['Return'].replace([np.inf, -np.inf], np.nan, inplace=True)\n",
      "C:\\Users\\PRAJWAL\\AppData\\Local\\Temp\\ipykernel_19000\\3832743817.py:11: FutureWarning: YF.download() has changed argument auto_adjust default to True\n",
      "  stock_data = yf.download(ticker, start=start, end=end, progress=False)\n"
     ]
    },
    {
     "name": "stdout",
     "output_type": "stream",
     "text": [
      "Error collecting data for IEX: ['Return']\n",
      "Collecting data for MAS...\n"
     ]
    },
    {
     "name": "stderr",
     "output_type": "stream",
     "text": [
      "C:\\Users\\PRAJWAL\\AppData\\Local\\Temp\\ipykernel_19000\\3832743817.py:18: SettingWithCopyWarning: \n",
      "A value is trying to be set on a copy of a slice from a DataFrame\n",
      "\n",
      "See the caveats in the documentation: https://pandas.pydata.org/pandas-docs/stable/user_guide/indexing.html#returning-a-view-versus-a-copy\n",
      "  stock_data['Return'].replace([np.inf, -np.inf], np.nan, inplace=True)\n",
      "C:\\Users\\PRAJWAL\\AppData\\Local\\Temp\\ipykernel_19000\\3832743817.py:11: FutureWarning: YF.download() has changed argument auto_adjust default to True\n",
      "  stock_data = yf.download(ticker, start=start, end=end, progress=False)\n"
     ]
    },
    {
     "name": "stdout",
     "output_type": "stream",
     "text": [
      "Error collecting data for MAS: ['Return']\n",
      "Collecting data for KIM...\n"
     ]
    },
    {
     "name": "stderr",
     "output_type": "stream",
     "text": [
      "C:\\Users\\PRAJWAL\\AppData\\Local\\Temp\\ipykernel_19000\\3832743817.py:18: SettingWithCopyWarning: \n",
      "A value is trying to be set on a copy of a slice from a DataFrame\n",
      "\n",
      "See the caveats in the documentation: https://pandas.pydata.org/pandas-docs/stable/user_guide/indexing.html#returning-a-view-versus-a-copy\n",
      "  stock_data['Return'].replace([np.inf, -np.inf], np.nan, inplace=True)\n",
      "C:\\Users\\PRAJWAL\\AppData\\Local\\Temp\\ipykernel_19000\\3832743817.py:11: FutureWarning: YF.download() has changed argument auto_adjust default to True\n",
      "  stock_data = yf.download(ticker, start=start, end=end, progress=False)\n"
     ]
    },
    {
     "name": "stdout",
     "output_type": "stream",
     "text": [
      "Error collecting data for KIM: ['Return']\n",
      "Collecting data for ALGN...\n"
     ]
    },
    {
     "name": "stderr",
     "output_type": "stream",
     "text": [
      "C:\\Users\\PRAJWAL\\AppData\\Local\\Temp\\ipykernel_19000\\3832743817.py:18: SettingWithCopyWarning: \n",
      "A value is trying to be set on a copy of a slice from a DataFrame\n",
      "\n",
      "See the caveats in the documentation: https://pandas.pydata.org/pandas-docs/stable/user_guide/indexing.html#returning-a-view-versus-a-copy\n",
      "  stock_data['Return'].replace([np.inf, -np.inf], np.nan, inplace=True)\n",
      "C:\\Users\\PRAJWAL\\AppData\\Local\\Temp\\ipykernel_19000\\3832743817.py:11: FutureWarning: YF.download() has changed argument auto_adjust default to True\n",
      "  stock_data = yf.download(ticker, start=start, end=end, progress=False)\n"
     ]
    },
    {
     "name": "stdout",
     "output_type": "stream",
     "text": [
      "Error collecting data for ALGN: ['Return']\n",
      "Collecting data for DLTR...\n"
     ]
    },
    {
     "name": "stderr",
     "output_type": "stream",
     "text": [
      "C:\\Users\\PRAJWAL\\AppData\\Local\\Temp\\ipykernel_19000\\3832743817.py:18: SettingWithCopyWarning: \n",
      "A value is trying to be set on a copy of a slice from a DataFrame\n",
      "\n",
      "See the caveats in the documentation: https://pandas.pydata.org/pandas-docs/stable/user_guide/indexing.html#returning-a-view-versus-a-copy\n",
      "  stock_data['Return'].replace([np.inf, -np.inf], np.nan, inplace=True)\n",
      "C:\\Users\\PRAJWAL\\AppData\\Local\\Temp\\ipykernel_19000\\3832743817.py:11: FutureWarning: YF.download() has changed argument auto_adjust default to True\n",
      "  stock_data = yf.download(ticker, start=start, end=end, progress=False)\n"
     ]
    },
    {
     "name": "stdout",
     "output_type": "stream",
     "text": [
      "Error collecting data for DLTR: ['Return']\n",
      "Collecting data for EXPD...\n"
     ]
    },
    {
     "name": "stderr",
     "output_type": "stream",
     "text": [
      "C:\\Users\\PRAJWAL\\AppData\\Local\\Temp\\ipykernel_19000\\3832743817.py:18: SettingWithCopyWarning: \n",
      "A value is trying to be set on a copy of a slice from a DataFrame\n",
      "\n",
      "See the caveats in the documentation: https://pandas.pydata.org/pandas-docs/stable/user_guide/indexing.html#returning-a-view-versus-a-copy\n",
      "  stock_data['Return'].replace([np.inf, -np.inf], np.nan, inplace=True)\n",
      "C:\\Users\\PRAJWAL\\AppData\\Local\\Temp\\ipykernel_19000\\3832743817.py:11: FutureWarning: YF.download() has changed argument auto_adjust default to True\n",
      "  stock_data = yf.download(ticker, start=start, end=end, progress=False)\n"
     ]
    },
    {
     "name": "stdout",
     "output_type": "stream",
     "text": [
      "Error collecting data for EXPD: ['Return']\n",
      "Collecting data for EG...\n"
     ]
    },
    {
     "name": "stderr",
     "output_type": "stream",
     "text": [
      "C:\\Users\\PRAJWAL\\AppData\\Local\\Temp\\ipykernel_19000\\3832743817.py:18: SettingWithCopyWarning: \n",
      "A value is trying to be set on a copy of a slice from a DataFrame\n",
      "\n",
      "See the caveats in the documentation: https://pandas.pydata.org/pandas-docs/stable/user_guide/indexing.html#returning-a-view-versus-a-copy\n",
      "  stock_data['Return'].replace([np.inf, -np.inf], np.nan, inplace=True)\n",
      "C:\\Users\\PRAJWAL\\AppData\\Local\\Temp\\ipykernel_19000\\3832743817.py:11: FutureWarning: YF.download() has changed argument auto_adjust default to True\n",
      "  stock_data = yf.download(ticker, start=start, end=end, progress=False)\n"
     ]
    },
    {
     "name": "stdout",
     "output_type": "stream",
     "text": [
      "Error collecting data for EG: ['Return']\n",
      "Collecting data for MRNA...\n"
     ]
    },
    {
     "name": "stderr",
     "output_type": "stream",
     "text": [
      "C:\\Users\\PRAJWAL\\AppData\\Local\\Temp\\ipykernel_19000\\3832743817.py:18: SettingWithCopyWarning: \n",
      "A value is trying to be set on a copy of a slice from a DataFrame\n",
      "\n",
      "See the caveats in the documentation: https://pandas.pydata.org/pandas-docs/stable/user_guide/indexing.html#returning-a-view-versus-a-copy\n",
      "  stock_data['Return'].replace([np.inf, -np.inf], np.nan, inplace=True)\n",
      "C:\\Users\\PRAJWAL\\AppData\\Local\\Temp\\ipykernel_19000\\3832743817.py:11: FutureWarning: YF.download() has changed argument auto_adjust default to True\n",
      "  stock_data = yf.download(ticker, start=start, end=end, progress=False)\n"
     ]
    },
    {
     "name": "stdout",
     "output_type": "stream",
     "text": [
      "Error collecting data for MRNA: ['Return']\n",
      "Collecting data for LNT...\n"
     ]
    },
    {
     "name": "stderr",
     "output_type": "stream",
     "text": [
      "C:\\Users\\PRAJWAL\\AppData\\Local\\Temp\\ipykernel_19000\\3832743817.py:18: SettingWithCopyWarning: \n",
      "A value is trying to be set on a copy of a slice from a DataFrame\n",
      "\n",
      "See the caveats in the documentation: https://pandas.pydata.org/pandas-docs/stable/user_guide/indexing.html#returning-a-view-versus-a-copy\n",
      "  stock_data['Return'].replace([np.inf, -np.inf], np.nan, inplace=True)\n",
      "C:\\Users\\PRAJWAL\\AppData\\Local\\Temp\\ipykernel_19000\\3832743817.py:11: FutureWarning: YF.download() has changed argument auto_adjust default to True\n",
      "  stock_data = yf.download(ticker, start=start, end=end, progress=False)\n"
     ]
    },
    {
     "name": "stdout",
     "output_type": "stream",
     "text": [
      "Error collecting data for LNT: ['Return']\n",
      "Collecting data for AVY...\n"
     ]
    },
    {
     "name": "stderr",
     "output_type": "stream",
     "text": [
      "C:\\Users\\PRAJWAL\\AppData\\Local\\Temp\\ipykernel_19000\\3832743817.py:18: SettingWithCopyWarning: \n",
      "A value is trying to be set on a copy of a slice from a DataFrame\n",
      "\n",
      "See the caveats in the documentation: https://pandas.pydata.org/pandas-docs/stable/user_guide/indexing.html#returning-a-view-versus-a-copy\n",
      "  stock_data['Return'].replace([np.inf, -np.inf], np.nan, inplace=True)\n",
      "C:\\Users\\PRAJWAL\\AppData\\Local\\Temp\\ipykernel_19000\\3832743817.py:11: FutureWarning: YF.download() has changed argument auto_adjust default to True\n",
      "  stock_data = yf.download(ticker, start=start, end=end, progress=False)\n"
     ]
    },
    {
     "name": "stdout",
     "output_type": "stream",
     "text": [
      "Error collecting data for AVY: ['Return']\n",
      "Collecting data for BAX...\n"
     ]
    },
    {
     "name": "stderr",
     "output_type": "stream",
     "text": [
      "C:\\Users\\PRAJWAL\\AppData\\Local\\Temp\\ipykernel_19000\\3832743817.py:18: SettingWithCopyWarning: \n",
      "A value is trying to be set on a copy of a slice from a DataFrame\n",
      "\n",
      "See the caveats in the documentation: https://pandas.pydata.org/pandas-docs/stable/user_guide/indexing.html#returning-a-view-versus-a-copy\n",
      "  stock_data['Return'].replace([np.inf, -np.inf], np.nan, inplace=True)\n",
      "C:\\Users\\PRAJWAL\\AppData\\Local\\Temp\\ipykernel_19000\\3832743817.py:11: FutureWarning: YF.download() has changed argument auto_adjust default to True\n",
      "  stock_data = yf.download(ticker, start=start, end=end, progress=False)\n"
     ]
    },
    {
     "name": "stdout",
     "output_type": "stream",
     "text": [
      "Error collecting data for BAX: ['Return']\n",
      "Collecting data for TPR...\n"
     ]
    },
    {
     "name": "stderr",
     "output_type": "stream",
     "text": [
      "C:\\Users\\PRAJWAL\\AppData\\Local\\Temp\\ipykernel_19000\\3832743817.py:18: SettingWithCopyWarning: \n",
      "A value is trying to be set on a copy of a slice from a DataFrame\n",
      "\n",
      "See the caveats in the documentation: https://pandas.pydata.org/pandas-docs/stable/user_guide/indexing.html#returning-a-view-versus-a-copy\n",
      "  stock_data['Return'].replace([np.inf, -np.inf], np.nan, inplace=True)\n",
      "C:\\Users\\PRAJWAL\\AppData\\Local\\Temp\\ipykernel_19000\\3832743817.py:11: FutureWarning: YF.download() has changed argument auto_adjust default to True\n",
      "  stock_data = yf.download(ticker, start=start, end=end, progress=False)\n"
     ]
    },
    {
     "name": "stdout",
     "output_type": "stream",
     "text": [
      "Error collecting data for TPR: ['Return']\n",
      "Collecting data for VTRS...\n"
     ]
    },
    {
     "name": "stderr",
     "output_type": "stream",
     "text": [
      "C:\\Users\\PRAJWAL\\AppData\\Local\\Temp\\ipykernel_19000\\3832743817.py:18: SettingWithCopyWarning: \n",
      "A value is trying to be set on a copy of a slice from a DataFrame\n",
      "\n",
      "See the caveats in the documentation: https://pandas.pydata.org/pandas-docs/stable/user_guide/indexing.html#returning-a-view-versus-a-copy\n",
      "  stock_data['Return'].replace([np.inf, -np.inf], np.nan, inplace=True)\n",
      "C:\\Users\\PRAJWAL\\AppData\\Local\\Temp\\ipykernel_19000\\3832743817.py:11: FutureWarning: YF.download() has changed argument auto_adjust default to True\n",
      "  stock_data = yf.download(ticker, start=start, end=end, progress=False)\n"
     ]
    },
    {
     "name": "stdout",
     "output_type": "stream",
     "text": [
      "Error collecting data for VTRS: ['Return']\n",
      "Collecting data for CF...\n"
     ]
    },
    {
     "name": "stderr",
     "output_type": "stream",
     "text": [
      "C:\\Users\\PRAJWAL\\AppData\\Local\\Temp\\ipykernel_19000\\3832743817.py:18: SettingWithCopyWarning: \n",
      "A value is trying to be set on a copy of a slice from a DataFrame\n",
      "\n",
      "See the caveats in the documentation: https://pandas.pydata.org/pandas-docs/stable/user_guide/indexing.html#returning-a-view-versus-a-copy\n",
      "  stock_data['Return'].replace([np.inf, -np.inf], np.nan, inplace=True)\n",
      "C:\\Users\\PRAJWAL\\AppData\\Local\\Temp\\ipykernel_19000\\3832743817.py:11: FutureWarning: YF.download() has changed argument auto_adjust default to True\n",
      "  stock_data = yf.download(ticker, start=start, end=end, progress=False)\n"
     ]
    },
    {
     "name": "stdout",
     "output_type": "stream",
     "text": [
      "Error collecting data for CF: ['Return']\n",
      "Collecting data for FFIV...\n"
     ]
    },
    {
     "name": "stderr",
     "output_type": "stream",
     "text": [
      "C:\\Users\\PRAJWAL\\AppData\\Local\\Temp\\ipykernel_19000\\3832743817.py:18: SettingWithCopyWarning: \n",
      "A value is trying to be set on a copy of a slice from a DataFrame\n",
      "\n",
      "See the caveats in the documentation: https://pandas.pydata.org/pandas-docs/stable/user_guide/indexing.html#returning-a-view-versus-a-copy\n",
      "  stock_data['Return'].replace([np.inf, -np.inf], np.nan, inplace=True)\n",
      "C:\\Users\\PRAJWAL\\AppData\\Local\\Temp\\ipykernel_19000\\3832743817.py:11: FutureWarning: YF.download() has changed argument auto_adjust default to True\n",
      "  stock_data = yf.download(ticker, start=start, end=end, progress=False)\n"
     ]
    },
    {
     "name": "stdout",
     "output_type": "stream",
     "text": [
      "Error collecting data for FFIV: ['Return']\n",
      "Collecting data for DPZ...\n"
     ]
    },
    {
     "name": "stderr",
     "output_type": "stream",
     "text": [
      "C:\\Users\\PRAJWAL\\AppData\\Local\\Temp\\ipykernel_19000\\3832743817.py:18: SettingWithCopyWarning: \n",
      "A value is trying to be set on a copy of a slice from a DataFrame\n",
      "\n",
      "See the caveats in the documentation: https://pandas.pydata.org/pandas-docs/stable/user_guide/indexing.html#returning-a-view-versus-a-copy\n",
      "  stock_data['Return'].replace([np.inf, -np.inf], np.nan, inplace=True)\n",
      "C:\\Users\\PRAJWAL\\AppData\\Local\\Temp\\ipykernel_19000\\3832743817.py:11: FutureWarning: YF.download() has changed argument auto_adjust default to True\n",
      "  stock_data = yf.download(ticker, start=start, end=end, progress=False)\n"
     ]
    },
    {
     "name": "stdout",
     "output_type": "stream",
     "text": [
      "Error collecting data for DPZ: ['Return']\n",
      "Collecting data for AKAM...\n"
     ]
    },
    {
     "name": "stderr",
     "output_type": "stream",
     "text": [
      "C:\\Users\\PRAJWAL\\AppData\\Local\\Temp\\ipykernel_19000\\3832743817.py:18: SettingWithCopyWarning: \n",
      "A value is trying to be set on a copy of a slice from a DataFrame\n",
      "\n",
      "See the caveats in the documentation: https://pandas.pydata.org/pandas-docs/stable/user_guide/indexing.html#returning-a-view-versus-a-copy\n",
      "  stock_data['Return'].replace([np.inf, -np.inf], np.nan, inplace=True)\n",
      "C:\\Users\\PRAJWAL\\AppData\\Local\\Temp\\ipykernel_19000\\3832743817.py:11: FutureWarning: YF.download() has changed argument auto_adjust default to True\n",
      "  stock_data = yf.download(ticker, start=start, end=end, progress=False)\n"
     ]
    },
    {
     "name": "stdout",
     "output_type": "stream",
     "text": [
      "Error collecting data for AKAM: ['Return']\n",
      "Collecting data for RL...\n"
     ]
    },
    {
     "name": "stderr",
     "output_type": "stream",
     "text": [
      "C:\\Users\\PRAJWAL\\AppData\\Local\\Temp\\ipykernel_19000\\3832743817.py:18: SettingWithCopyWarning: \n",
      "A value is trying to be set on a copy of a slice from a DataFrame\n",
      "\n",
      "See the caveats in the documentation: https://pandas.pydata.org/pandas-docs/stable/user_guide/indexing.html#returning-a-view-versus-a-copy\n",
      "  stock_data['Return'].replace([np.inf, -np.inf], np.nan, inplace=True)\n",
      "C:\\Users\\PRAJWAL\\AppData\\Local\\Temp\\ipykernel_19000\\3832743817.py:11: FutureWarning: YF.download() has changed argument auto_adjust default to True\n",
      "  stock_data = yf.download(ticker, start=start, end=end, progress=False)\n"
     ]
    },
    {
     "name": "stdout",
     "output_type": "stream",
     "text": [
      "Error collecting data for RL: ['Return']\n",
      "Collecting data for TXT...\n"
     ]
    },
    {
     "name": "stderr",
     "output_type": "stream",
     "text": [
      "C:\\Users\\PRAJWAL\\AppData\\Local\\Temp\\ipykernel_19000\\3832743817.py:18: SettingWithCopyWarning: \n",
      "A value is trying to be set on a copy of a slice from a DataFrame\n",
      "\n",
      "See the caveats in the documentation: https://pandas.pydata.org/pandas-docs/stable/user_guide/indexing.html#returning-a-view-versus-a-copy\n",
      "  stock_data['Return'].replace([np.inf, -np.inf], np.nan, inplace=True)\n",
      "C:\\Users\\PRAJWAL\\AppData\\Local\\Temp\\ipykernel_19000\\3832743817.py:11: FutureWarning: YF.download() has changed argument auto_adjust default to True\n",
      "  stock_data = yf.download(ticker, start=start, end=end, progress=False)\n"
     ]
    },
    {
     "name": "stdout",
     "output_type": "stream",
     "text": [
      "Error collecting data for TXT: ['Return']\n",
      "Collecting data for SWKS...\n"
     ]
    },
    {
     "name": "stderr",
     "output_type": "stream",
     "text": [
      "C:\\Users\\PRAJWAL\\AppData\\Local\\Temp\\ipykernel_19000\\3832743817.py:18: SettingWithCopyWarning: \n",
      "A value is trying to be set on a copy of a slice from a DataFrame\n",
      "\n",
      "See the caveats in the documentation: https://pandas.pydata.org/pandas-docs/stable/user_guide/indexing.html#returning-a-view-versus-a-copy\n",
      "  stock_data['Return'].replace([np.inf, -np.inf], np.nan, inplace=True)\n",
      "C:\\Users\\PRAJWAL\\AppData\\Local\\Temp\\ipykernel_19000\\3832743817.py:11: FutureWarning: YF.download() has changed argument auto_adjust default to True\n",
      "  stock_data = yf.download(ticker, start=start, end=end, progress=False)\n"
     ]
    },
    {
     "name": "stdout",
     "output_type": "stream",
     "text": [
      "Error collecting data for SWKS: ['Return']\n",
      "Collecting data for EVRG...\n"
     ]
    },
    {
     "name": "stderr",
     "output_type": "stream",
     "text": [
      "C:\\Users\\PRAJWAL\\AppData\\Local\\Temp\\ipykernel_19000\\3832743817.py:18: SettingWithCopyWarning: \n",
      "A value is trying to be set on a copy of a slice from a DataFrame\n",
      "\n",
      "See the caveats in the documentation: https://pandas.pydata.org/pandas-docs/stable/user_guide/indexing.html#returning-a-view-versus-a-copy\n",
      "  stock_data['Return'].replace([np.inf, -np.inf], np.nan, inplace=True)\n",
      "C:\\Users\\PRAJWAL\\AppData\\Local\\Temp\\ipykernel_19000\\3832743817.py:11: FutureWarning: YF.download() has changed argument auto_adjust default to True\n",
      "  stock_data = yf.download(ticker, start=start, end=end, progress=False)\n"
     ]
    },
    {
     "name": "stdout",
     "output_type": "stream",
     "text": [
      "Error collecting data for EVRG: ['Return']\n",
      "Collecting data for EPAM...\n"
     ]
    },
    {
     "name": "stderr",
     "output_type": "stream",
     "text": [
      "C:\\Users\\PRAJWAL\\AppData\\Local\\Temp\\ipykernel_19000\\3832743817.py:18: SettingWithCopyWarning: \n",
      "A value is trying to be set on a copy of a slice from a DataFrame\n",
      "\n",
      "See the caveats in the documentation: https://pandas.pydata.org/pandas-docs/stable/user_guide/indexing.html#returning-a-view-versus-a-copy\n",
      "  stock_data['Return'].replace([np.inf, -np.inf], np.nan, inplace=True)\n",
      "C:\\Users\\PRAJWAL\\AppData\\Local\\Temp\\ipykernel_19000\\3832743817.py:11: FutureWarning: YF.download() has changed argument auto_adjust default to True\n",
      "  stock_data = yf.download(ticker, start=start, end=end, progress=False)\n"
     ]
    },
    {
     "name": "stdout",
     "output_type": "stream",
     "text": [
      "Error collecting data for EPAM: ['Return']\n",
      "Collecting data for DOC...\n"
     ]
    },
    {
     "name": "stderr",
     "output_type": "stream",
     "text": [
      "C:\\Users\\PRAJWAL\\AppData\\Local\\Temp\\ipykernel_19000\\3832743817.py:18: SettingWithCopyWarning: \n",
      "A value is trying to be set on a copy of a slice from a DataFrame\n",
      "\n",
      "See the caveats in the documentation: https://pandas.pydata.org/pandas-docs/stable/user_guide/indexing.html#returning-a-view-versus-a-copy\n",
      "  stock_data['Return'].replace([np.inf, -np.inf], np.nan, inplace=True)\n",
      "C:\\Users\\PRAJWAL\\AppData\\Local\\Temp\\ipykernel_19000\\3832743817.py:11: FutureWarning: YF.download() has changed argument auto_adjust default to True\n",
      "  stock_data = yf.download(ticker, start=start, end=end, progress=False)\n"
     ]
    },
    {
     "name": "stdout",
     "output_type": "stream",
     "text": [
      "Error collecting data for DOC: ['Return']\n",
      "Collecting data for APTV...\n"
     ]
    },
    {
     "name": "stderr",
     "output_type": "stream",
     "text": [
      "C:\\Users\\PRAJWAL\\AppData\\Local\\Temp\\ipykernel_19000\\3832743817.py:18: SettingWithCopyWarning: \n",
      "A value is trying to be set on a copy of a slice from a DataFrame\n",
      "\n",
      "See the caveats in the documentation: https://pandas.pydata.org/pandas-docs/stable/user_guide/indexing.html#returning-a-view-versus-a-copy\n",
      "  stock_data['Return'].replace([np.inf, -np.inf], np.nan, inplace=True)\n",
      "C:\\Users\\PRAJWAL\\AppData\\Local\\Temp\\ipykernel_19000\\3832743817.py:11: FutureWarning: YF.download() has changed argument auto_adjust default to True\n",
      "  stock_data = yf.download(ticker, start=start, end=end, progress=False)\n"
     ]
    },
    {
     "name": "stdout",
     "output_type": "stream",
     "text": [
      "Error collecting data for APTV: ['Return']\n",
      "Collecting data for RVTY...\n"
     ]
    },
    {
     "name": "stderr",
     "output_type": "stream",
     "text": [
      "C:\\Users\\PRAJWAL\\AppData\\Local\\Temp\\ipykernel_19000\\3832743817.py:18: SettingWithCopyWarning: \n",
      "A value is trying to be set on a copy of a slice from a DataFrame\n",
      "\n",
      "See the caveats in the documentation: https://pandas.pydata.org/pandas-docs/stable/user_guide/indexing.html#returning-a-view-versus-a-copy\n",
      "  stock_data['Return'].replace([np.inf, -np.inf], np.nan, inplace=True)\n",
      "C:\\Users\\PRAJWAL\\AppData\\Local\\Temp\\ipykernel_19000\\3832743817.py:11: FutureWarning: YF.download() has changed argument auto_adjust default to True\n",
      "  stock_data = yf.download(ticker, start=start, end=end, progress=False)\n"
     ]
    },
    {
     "name": "stdout",
     "output_type": "stream",
     "text": [
      "Error collecting data for RVTY: ['Return']\n",
      "Collecting data for AMCR...\n"
     ]
    },
    {
     "name": "stderr",
     "output_type": "stream",
     "text": [
      "C:\\Users\\PRAJWAL\\AppData\\Local\\Temp\\ipykernel_19000\\3832743817.py:18: SettingWithCopyWarning: \n",
      "A value is trying to be set on a copy of a slice from a DataFrame\n",
      "\n",
      "See the caveats in the documentation: https://pandas.pydata.org/pandas-docs/stable/user_guide/indexing.html#returning-a-view-versus-a-copy\n",
      "  stock_data['Return'].replace([np.inf, -np.inf], np.nan, inplace=True)\n",
      "C:\\Users\\PRAJWAL\\AppData\\Local\\Temp\\ipykernel_19000\\3832743817.py:11: FutureWarning: YF.download() has changed argument auto_adjust default to True\n",
      "  stock_data = yf.download(ticker, start=start, end=end, progress=False)\n"
     ]
    },
    {
     "name": "stdout",
     "output_type": "stream",
     "text": [
      "Error collecting data for AMCR: ['Return']\n",
      "Collecting data for REG...\n"
     ]
    },
    {
     "name": "stderr",
     "output_type": "stream",
     "text": [
      "C:\\Users\\PRAJWAL\\AppData\\Local\\Temp\\ipykernel_19000\\3832743817.py:18: SettingWithCopyWarning: \n",
      "A value is trying to be set on a copy of a slice from a DataFrame\n",
      "\n",
      "See the caveats in the documentation: https://pandas.pydata.org/pandas-docs/stable/user_guide/indexing.html#returning-a-view-versus-a-copy\n",
      "  stock_data['Return'].replace([np.inf, -np.inf], np.nan, inplace=True)\n",
      "C:\\Users\\PRAJWAL\\AppData\\Local\\Temp\\ipykernel_19000\\3832743817.py:11: FutureWarning: YF.download() has changed argument auto_adjust default to True\n",
      "  stock_data = yf.download(ticker, start=start, end=end, progress=False)\n"
     ]
    },
    {
     "name": "stdout",
     "output_type": "stream",
     "text": [
      "Error collecting data for REG: ['Return']\n",
      "Collecting data for POOL...\n"
     ]
    },
    {
     "name": "stderr",
     "output_type": "stream",
     "text": [
      "C:\\Users\\PRAJWAL\\AppData\\Local\\Temp\\ipykernel_19000\\3832743817.py:18: SettingWithCopyWarning: \n",
      "A value is trying to be set on a copy of a slice from a DataFrame\n",
      "\n",
      "See the caveats in the documentation: https://pandas.pydata.org/pandas-docs/stable/user_guide/indexing.html#returning-a-view-versus-a-copy\n",
      "  stock_data['Return'].replace([np.inf, -np.inf], np.nan, inplace=True)\n",
      "C:\\Users\\PRAJWAL\\AppData\\Local\\Temp\\ipykernel_19000\\3832743817.py:11: FutureWarning: YF.download() has changed argument auto_adjust default to True\n",
      "  stock_data = yf.download(ticker, start=start, end=end, progress=False)\n"
     ]
    },
    {
     "name": "stdout",
     "output_type": "stream",
     "text": [
      "Error collecting data for POOL: ['Return']\n",
      "Collecting data for INCY...\n"
     ]
    },
    {
     "name": "stderr",
     "output_type": "stream",
     "text": [
      "C:\\Users\\PRAJWAL\\AppData\\Local\\Temp\\ipykernel_19000\\3832743817.py:18: SettingWithCopyWarning: \n",
      "A value is trying to be set on a copy of a slice from a DataFrame\n",
      "\n",
      "See the caveats in the documentation: https://pandas.pydata.org/pandas-docs/stable/user_guide/indexing.html#returning-a-view-versus-a-copy\n",
      "  stock_data['Return'].replace([np.inf, -np.inf], np.nan, inplace=True)\n",
      "C:\\Users\\PRAJWAL\\AppData\\Local\\Temp\\ipykernel_19000\\3832743817.py:11: FutureWarning: YF.download() has changed argument auto_adjust default to True\n",
      "  stock_data = yf.download(ticker, start=start, end=end, progress=False)\n"
     ]
    },
    {
     "name": "stdout",
     "output_type": "stream",
     "text": [
      "Error collecting data for INCY: ['Return']\n",
      "Collecting data for BXP...\n"
     ]
    },
    {
     "name": "stderr",
     "output_type": "stream",
     "text": [
      "C:\\Users\\PRAJWAL\\AppData\\Local\\Temp\\ipykernel_19000\\3832743817.py:18: SettingWithCopyWarning: \n",
      "A value is trying to be set on a copy of a slice from a DataFrame\n",
      "\n",
      "See the caveats in the documentation: https://pandas.pydata.org/pandas-docs/stable/user_guide/indexing.html#returning-a-view-versus-a-copy\n",
      "  stock_data['Return'].replace([np.inf, -np.inf], np.nan, inplace=True)\n",
      "C:\\Users\\PRAJWAL\\AppData\\Local\\Temp\\ipykernel_19000\\3832743817.py:11: FutureWarning: YF.download() has changed argument auto_adjust default to True\n",
      "  stock_data = yf.download(ticker, start=start, end=end, progress=False)\n"
     ]
    },
    {
     "name": "stdout",
     "output_type": "stream",
     "text": [
      "Error collecting data for BXP: ['Return']\n",
      "Collecting data for KMX...\n"
     ]
    },
    {
     "name": "stderr",
     "output_type": "stream",
     "text": [
      "C:\\Users\\PRAJWAL\\AppData\\Local\\Temp\\ipykernel_19000\\3832743817.py:18: SettingWithCopyWarning: \n",
      "A value is trying to be set on a copy of a slice from a DataFrame\n",
      "\n",
      "See the caveats in the documentation: https://pandas.pydata.org/pandas-docs/stable/user_guide/indexing.html#returning-a-view-versus-a-copy\n",
      "  stock_data['Return'].replace([np.inf, -np.inf], np.nan, inplace=True)\n",
      "C:\\Users\\PRAJWAL\\AppData\\Local\\Temp\\ipykernel_19000\\3832743817.py:11: FutureWarning: YF.download() has changed argument auto_adjust default to True\n",
      "  stock_data = yf.download(ticker, start=start, end=end, progress=False)\n"
     ]
    },
    {
     "name": "stdout",
     "output_type": "stream",
     "text": [
      "Error collecting data for KMX: ['Return']\n",
      "Collecting data for CAG...\n"
     ]
    },
    {
     "name": "stderr",
     "output_type": "stream",
     "text": [
      "C:\\Users\\PRAJWAL\\AppData\\Local\\Temp\\ipykernel_19000\\3832743817.py:18: SettingWithCopyWarning: \n",
      "A value is trying to be set on a copy of a slice from a DataFrame\n",
      "\n",
      "See the caveats in the documentation: https://pandas.pydata.org/pandas-docs/stable/user_guide/indexing.html#returning-a-view-versus-a-copy\n",
      "  stock_data['Return'].replace([np.inf, -np.inf], np.nan, inplace=True)\n",
      "C:\\Users\\PRAJWAL\\AppData\\Local\\Temp\\ipykernel_19000\\3832743817.py:11: FutureWarning: YF.download() has changed argument auto_adjust default to True\n",
      "  stock_data = yf.download(ticker, start=start, end=end, progress=False)\n"
     ]
    },
    {
     "name": "stdout",
     "output_type": "stream",
     "text": [
      "Error collecting data for CAG: ['Return']\n",
      "Collecting data for HST...\n"
     ]
    },
    {
     "name": "stderr",
     "output_type": "stream",
     "text": [
      "C:\\Users\\PRAJWAL\\AppData\\Local\\Temp\\ipykernel_19000\\3832743817.py:18: SettingWithCopyWarning: \n",
      "A value is trying to be set on a copy of a slice from a DataFrame\n",
      "\n",
      "See the caveats in the documentation: https://pandas.pydata.org/pandas-docs/stable/user_guide/indexing.html#returning-a-view-versus-a-copy\n",
      "  stock_data['Return'].replace([np.inf, -np.inf], np.nan, inplace=True)\n",
      "C:\\Users\\PRAJWAL\\AppData\\Local\\Temp\\ipykernel_19000\\3832743817.py:11: FutureWarning: YF.download() has changed argument auto_adjust default to True\n",
      "  stock_data = yf.download(ticker, start=start, end=end, progress=False)\n"
     ]
    },
    {
     "name": "stdout",
     "output_type": "stream",
     "text": [
      "Error collecting data for HST: ['Return']\n",
      "Collecting data for JKHY...\n"
     ]
    },
    {
     "name": "stderr",
     "output_type": "stream",
     "text": [
      "C:\\Users\\PRAJWAL\\AppData\\Local\\Temp\\ipykernel_19000\\3832743817.py:18: SettingWithCopyWarning: \n",
      "A value is trying to be set on a copy of a slice from a DataFrame\n",
      "\n",
      "See the caveats in the documentation: https://pandas.pydata.org/pandas-docs/stable/user_guide/indexing.html#returning-a-view-versus-a-copy\n",
      "  stock_data['Return'].replace([np.inf, -np.inf], np.nan, inplace=True)\n",
      "C:\\Users\\PRAJWAL\\AppData\\Local\\Temp\\ipykernel_19000\\3832743817.py:11: FutureWarning: YF.download() has changed argument auto_adjust default to True\n",
      "  stock_data = yf.download(ticker, start=start, end=end, progress=False)\n"
     ]
    },
    {
     "name": "stdout",
     "output_type": "stream",
     "text": [
      "Error collecting data for JKHY: ['Return']\n",
      "Collecting data for SWK...\n"
     ]
    },
    {
     "name": "stderr",
     "output_type": "stream",
     "text": [
      "C:\\Users\\PRAJWAL\\AppData\\Local\\Temp\\ipykernel_19000\\3832743817.py:18: SettingWithCopyWarning: \n",
      "A value is trying to be set on a copy of a slice from a DataFrame\n",
      "\n",
      "See the caveats in the documentation: https://pandas.pydata.org/pandas-docs/stable/user_guide/indexing.html#returning-a-view-versus-a-copy\n",
      "  stock_data['Return'].replace([np.inf, -np.inf], np.nan, inplace=True)\n",
      "C:\\Users\\PRAJWAL\\AppData\\Local\\Temp\\ipykernel_19000\\3832743817.py:11: FutureWarning: YF.download() has changed argument auto_adjust default to True\n",
      "  stock_data = yf.download(ticker, start=start, end=end, progress=False)\n"
     ]
    },
    {
     "name": "stdout",
     "output_type": "stream",
     "text": [
      "Error collecting data for SWK: ['Return']\n",
      "Collecting data for DVA...\n"
     ]
    },
    {
     "name": "stderr",
     "output_type": "stream",
     "text": [
      "C:\\Users\\PRAJWAL\\AppData\\Local\\Temp\\ipykernel_19000\\3832743817.py:18: SettingWithCopyWarning: \n",
      "A value is trying to be set on a copy of a slice from a DataFrame\n",
      "\n",
      "See the caveats in the documentation: https://pandas.pydata.org/pandas-docs/stable/user_guide/indexing.html#returning-a-view-versus-a-copy\n",
      "  stock_data['Return'].replace([np.inf, -np.inf], np.nan, inplace=True)\n",
      "C:\\Users\\PRAJWAL\\AppData\\Local\\Temp\\ipykernel_19000\\3832743817.py:11: FutureWarning: YF.download() has changed argument auto_adjust default to True\n",
      "  stock_data = yf.download(ticker, start=start, end=end, progress=False)\n"
     ]
    },
    {
     "name": "stdout",
     "output_type": "stream",
     "text": [
      "Error collecting data for DVA: ['Return']\n",
      "Collecting data for CPB...\n"
     ]
    },
    {
     "name": "stderr",
     "output_type": "stream",
     "text": [
      "C:\\Users\\PRAJWAL\\AppData\\Local\\Temp\\ipykernel_19000\\3832743817.py:18: SettingWithCopyWarning: \n",
      "A value is trying to be set on a copy of a slice from a DataFrame\n",
      "\n",
      "See the caveats in the documentation: https://pandas.pydata.org/pandas-docs/stable/user_guide/indexing.html#returning-a-view-versus-a-copy\n",
      "  stock_data['Return'].replace([np.inf, -np.inf], np.nan, inplace=True)\n",
      "C:\\Users\\PRAJWAL\\AppData\\Local\\Temp\\ipykernel_19000\\3832743817.py:11: FutureWarning: YF.download() has changed argument auto_adjust default to True\n",
      "  stock_data = yf.download(ticker, start=start, end=end, progress=False)\n"
     ]
    },
    {
     "name": "stdout",
     "output_type": "stream",
     "text": [
      "Error collecting data for CPB: ['Return']\n",
      "Collecting data for CHRW...\n"
     ]
    },
    {
     "name": "stderr",
     "output_type": "stream",
     "text": [
      "C:\\Users\\PRAJWAL\\AppData\\Local\\Temp\\ipykernel_19000\\3832743817.py:18: SettingWithCopyWarning: \n",
      "A value is trying to be set on a copy of a slice from a DataFrame\n",
      "\n",
      "See the caveats in the documentation: https://pandas.pydata.org/pandas-docs/stable/user_guide/indexing.html#returning-a-view-versus-a-copy\n",
      "  stock_data['Return'].replace([np.inf, -np.inf], np.nan, inplace=True)\n",
      "C:\\Users\\PRAJWAL\\AppData\\Local\\Temp\\ipykernel_19000\\3832743817.py:11: FutureWarning: YF.download() has changed argument auto_adjust default to True\n",
      "  stock_data = yf.download(ticker, start=start, end=end, progress=False)\n"
     ]
    },
    {
     "name": "stdout",
     "output_type": "stream",
     "text": [
      "Error collecting data for CHRW: ['Return']\n",
      "Collecting data for JNPR...\n"
     ]
    },
    {
     "name": "stderr",
     "output_type": "stream",
     "text": [
      "C:\\Users\\PRAJWAL\\AppData\\Local\\Temp\\ipykernel_19000\\3832743817.py:18: SettingWithCopyWarning: \n",
      "A value is trying to be set on a copy of a slice from a DataFrame\n",
      "\n",
      "See the caveats in the documentation: https://pandas.pydata.org/pandas-docs/stable/user_guide/indexing.html#returning-a-view-versus-a-copy\n",
      "  stock_data['Return'].replace([np.inf, -np.inf], np.nan, inplace=True)\n",
      "C:\\Users\\PRAJWAL\\AppData\\Local\\Temp\\ipykernel_19000\\3832743817.py:11: FutureWarning: YF.download() has changed argument auto_adjust default to True\n",
      "  stock_data = yf.download(ticker, start=start, end=end, progress=False)\n"
     ]
    },
    {
     "name": "stdout",
     "output_type": "stream",
     "text": [
      "Error collecting data for JNPR: ['Return']\n",
      "Collecting data for CPT...\n"
     ]
    },
    {
     "name": "stderr",
     "output_type": "stream",
     "text": [
      "C:\\Users\\PRAJWAL\\AppData\\Local\\Temp\\ipykernel_19000\\3832743817.py:18: SettingWithCopyWarning: \n",
      "A value is trying to be set on a copy of a slice from a DataFrame\n",
      "\n",
      "See the caveats in the documentation: https://pandas.pydata.org/pandas-docs/stable/user_guide/indexing.html#returning-a-view-versus-a-copy\n",
      "  stock_data['Return'].replace([np.inf, -np.inf], np.nan, inplace=True)\n",
      "C:\\Users\\PRAJWAL\\AppData\\Local\\Temp\\ipykernel_19000\\3832743817.py:11: FutureWarning: YF.download() has changed argument auto_adjust default to True\n",
      "  stock_data = yf.download(ticker, start=start, end=end, progress=False)\n"
     ]
    },
    {
     "name": "stdout",
     "output_type": "stream",
     "text": [
      "Error collecting data for CPT: ['Return']\n",
      "Collecting data for TAP...\n"
     ]
    },
    {
     "name": "stderr",
     "output_type": "stream",
     "text": [
      "C:\\Users\\PRAJWAL\\AppData\\Local\\Temp\\ipykernel_19000\\3832743817.py:18: SettingWithCopyWarning: \n",
      "A value is trying to be set on a copy of a slice from a DataFrame\n",
      "\n",
      "See the caveats in the documentation: https://pandas.pydata.org/pandas-docs/stable/user_guide/indexing.html#returning-a-view-versus-a-copy\n",
      "  stock_data['Return'].replace([np.inf, -np.inf], np.nan, inplace=True)\n",
      "C:\\Users\\PRAJWAL\\AppData\\Local\\Temp\\ipykernel_19000\\3832743817.py:11: FutureWarning: YF.download() has changed argument auto_adjust default to True\n",
      "  stock_data = yf.download(ticker, start=start, end=end, progress=False)\n"
     ]
    },
    {
     "name": "stdout",
     "output_type": "stream",
     "text": [
      "Error collecting data for TAP: ['Return']\n",
      "Collecting data for NDSN...\n"
     ]
    },
    {
     "name": "stderr",
     "output_type": "stream",
     "text": [
      "C:\\Users\\PRAJWAL\\AppData\\Local\\Temp\\ipykernel_19000\\3832743817.py:18: SettingWithCopyWarning: \n",
      "A value is trying to be set on a copy of a slice from a DataFrame\n",
      "\n",
      "See the caveats in the documentation: https://pandas.pydata.org/pandas-docs/stable/user_guide/indexing.html#returning-a-view-versus-a-copy\n",
      "  stock_data['Return'].replace([np.inf, -np.inf], np.nan, inplace=True)\n",
      "C:\\Users\\PRAJWAL\\AppData\\Local\\Temp\\ipykernel_19000\\3832743817.py:11: FutureWarning: YF.download() has changed argument auto_adjust default to True\n",
      "  stock_data = yf.download(ticker, start=start, end=end, progress=False)\n"
     ]
    },
    {
     "name": "stdout",
     "output_type": "stream",
     "text": [
      "Error collecting data for NDSN: ['Return']\n",
      "Collecting data for PAYC...\n"
     ]
    },
    {
     "name": "stderr",
     "output_type": "stream",
     "text": [
      "C:\\Users\\PRAJWAL\\AppData\\Local\\Temp\\ipykernel_19000\\3832743817.py:18: SettingWithCopyWarning: \n",
      "A value is trying to be set on a copy of a slice from a DataFrame\n",
      "\n",
      "See the caveats in the documentation: https://pandas.pydata.org/pandas-docs/stable/user_guide/indexing.html#returning-a-view-versus-a-copy\n",
      "  stock_data['Return'].replace([np.inf, -np.inf], np.nan, inplace=True)\n",
      "C:\\Users\\PRAJWAL\\AppData\\Local\\Temp\\ipykernel_19000\\3832743817.py:11: FutureWarning: YF.download() has changed argument auto_adjust default to True\n",
      "  stock_data = yf.download(ticker, start=start, end=end, progress=False)\n"
     ]
    },
    {
     "name": "stdout",
     "output_type": "stream",
     "text": [
      "Error collecting data for PAYC: ['Return']\n",
      "Collecting data for UHS...\n"
     ]
    },
    {
     "name": "stderr",
     "output_type": "stream",
     "text": [
      "C:\\Users\\PRAJWAL\\AppData\\Local\\Temp\\ipykernel_19000\\3832743817.py:18: SettingWithCopyWarning: \n",
      "A value is trying to be set on a copy of a slice from a DataFrame\n",
      "\n",
      "See the caveats in the documentation: https://pandas.pydata.org/pandas-docs/stable/user_guide/indexing.html#returning-a-view-versus-a-copy\n",
      "  stock_data['Return'].replace([np.inf, -np.inf], np.nan, inplace=True)\n",
      "C:\\Users\\PRAJWAL\\AppData\\Local\\Temp\\ipykernel_19000\\3832743817.py:11: FutureWarning: YF.download() has changed argument auto_adjust default to True\n",
      "  stock_data = yf.download(ticker, start=start, end=end, progress=False)\n"
     ]
    },
    {
     "name": "stdout",
     "output_type": "stream",
     "text": [
      "Error collecting data for UHS: ['Return']\n",
      "Collecting data for NCLH...\n"
     ]
    },
    {
     "name": "stderr",
     "output_type": "stream",
     "text": [
      "C:\\Users\\PRAJWAL\\AppData\\Local\\Temp\\ipykernel_19000\\3832743817.py:18: SettingWithCopyWarning: \n",
      "A value is trying to be set on a copy of a slice from a DataFrame\n",
      "\n",
      "See the caveats in the documentation: https://pandas.pydata.org/pandas-docs/stable/user_guide/indexing.html#returning-a-view-versus-a-copy\n",
      "  stock_data['Return'].replace([np.inf, -np.inf], np.nan, inplace=True)\n",
      "C:\\Users\\PRAJWAL\\AppData\\Local\\Temp\\ipykernel_19000\\3832743817.py:11: FutureWarning: YF.download() has changed argument auto_adjust default to True\n",
      "  stock_data = yf.download(ticker, start=start, end=end, progress=False)\n"
     ]
    },
    {
     "name": "stdout",
     "output_type": "stream",
     "text": [
      "Error collecting data for NCLH: ['Return']\n",
      "Collecting data for DAY...\n"
     ]
    },
    {
     "name": "stderr",
     "output_type": "stream",
     "text": [
      "C:\\Users\\PRAJWAL\\AppData\\Local\\Temp\\ipykernel_19000\\3832743817.py:18: SettingWithCopyWarning: \n",
      "A value is trying to be set on a copy of a slice from a DataFrame\n",
      "\n",
      "See the caveats in the documentation: https://pandas.pydata.org/pandas-docs/stable/user_guide/indexing.html#returning-a-view-versus-a-copy\n",
      "  stock_data['Return'].replace([np.inf, -np.inf], np.nan, inplace=True)\n",
      "C:\\Users\\PRAJWAL\\AppData\\Local\\Temp\\ipykernel_19000\\3832743817.py:11: FutureWarning: YF.download() has changed argument auto_adjust default to True\n",
      "  stock_data = yf.download(ticker, start=start, end=end, progress=False)\n"
     ]
    },
    {
     "name": "stdout",
     "output_type": "stream",
     "text": [
      "Error collecting data for DAY: ['Return']\n",
      "Collecting data for SJM...\n"
     ]
    },
    {
     "name": "stderr",
     "output_type": "stream",
     "text": [
      "C:\\Users\\PRAJWAL\\AppData\\Local\\Temp\\ipykernel_19000\\3832743817.py:18: SettingWithCopyWarning: \n",
      "A value is trying to be set on a copy of a slice from a DataFrame\n",
      "\n",
      "See the caveats in the documentation: https://pandas.pydata.org/pandas-docs/stable/user_guide/indexing.html#returning-a-view-versus-a-copy\n",
      "  stock_data['Return'].replace([np.inf, -np.inf], np.nan, inplace=True)\n",
      "C:\\Users\\PRAJWAL\\AppData\\Local\\Temp\\ipykernel_19000\\3832743817.py:11: FutureWarning: YF.download() has changed argument auto_adjust default to True\n",
      "  stock_data = yf.download(ticker, start=start, end=end, progress=False)\n"
     ]
    },
    {
     "name": "stdout",
     "output_type": "stream",
     "text": [
      "Error collecting data for SJM: ['Return']\n",
      "Collecting data for TECH...\n"
     ]
    },
    {
     "name": "stderr",
     "output_type": "stream",
     "text": [
      "C:\\Users\\PRAJWAL\\AppData\\Local\\Temp\\ipykernel_19000\\3832743817.py:18: SettingWithCopyWarning: \n",
      "A value is trying to be set on a copy of a slice from a DataFrame\n",
      "\n",
      "See the caveats in the documentation: https://pandas.pydata.org/pandas-docs/stable/user_guide/indexing.html#returning-a-view-versus-a-copy\n",
      "  stock_data['Return'].replace([np.inf, -np.inf], np.nan, inplace=True)\n",
      "C:\\Users\\PRAJWAL\\AppData\\Local\\Temp\\ipykernel_19000\\3832743817.py:11: FutureWarning: YF.download() has changed argument auto_adjust default to True\n",
      "  stock_data = yf.download(ticker, start=start, end=end, progress=False)\n"
     ]
    },
    {
     "name": "stdout",
     "output_type": "stream",
     "text": [
      "Error collecting data for TECH: ['Return']\n",
      "Collecting data for SOLV...\n"
     ]
    },
    {
     "name": "stderr",
     "output_type": "stream",
     "text": [
      "\n",
      "1 Failed download:\n",
      "['SOLV']: YFPricesMissingError('possibly delisted; no price data found  (1d 2010-01-01 -> 2020-12-31) (Yahoo error = \"Data doesn\\'t exist for startDate = 1262322000, endDate = 1609390800\")')\n",
      "C:\\Users\\PRAJWAL\\AppData\\Local\\Temp\\ipykernel_19000\\3832743817.py:11: FutureWarning: YF.download() has changed argument auto_adjust default to True\n",
      "  stock_data = yf.download(ticker, start=start, end=end, progress=False)\n"
     ]
    },
    {
     "name": "stdout",
     "output_type": "stream",
     "text": [
      "No OHLCV data found for SOLV from yfinance. Skipping.\n",
      "Collecting data for ALLE...\n"
     ]
    },
    {
     "name": "stderr",
     "output_type": "stream",
     "text": [
      "C:\\Users\\PRAJWAL\\AppData\\Local\\Temp\\ipykernel_19000\\3832743817.py:18: SettingWithCopyWarning: \n",
      "A value is trying to be set on a copy of a slice from a DataFrame\n",
      "\n",
      "See the caveats in the documentation: https://pandas.pydata.org/pandas-docs/stable/user_guide/indexing.html#returning-a-view-versus-a-copy\n",
      "  stock_data['Return'].replace([np.inf, -np.inf], np.nan, inplace=True)\n",
      "C:\\Users\\PRAJWAL\\AppData\\Local\\Temp\\ipykernel_19000\\3832743817.py:11: FutureWarning: YF.download() has changed argument auto_adjust default to True\n",
      "  stock_data = yf.download(ticker, start=start, end=end, progress=False)\n"
     ]
    },
    {
     "name": "stdout",
     "output_type": "stream",
     "text": [
      "Error collecting data for ALLE: ['Return']\n",
      "Collecting data for BG...\n"
     ]
    },
    {
     "name": "stderr",
     "output_type": "stream",
     "text": [
      "C:\\Users\\PRAJWAL\\AppData\\Local\\Temp\\ipykernel_19000\\3832743817.py:18: SettingWithCopyWarning: \n",
      "A value is trying to be set on a copy of a slice from a DataFrame\n",
      "\n",
      "See the caveats in the documentation: https://pandas.pydata.org/pandas-docs/stable/user_guide/indexing.html#returning-a-view-versus-a-copy\n",
      "  stock_data['Return'].replace([np.inf, -np.inf], np.nan, inplace=True)\n",
      "C:\\Users\\PRAJWAL\\AppData\\Local\\Temp\\ipykernel_19000\\3832743817.py:11: FutureWarning: YF.download() has changed argument auto_adjust default to True\n",
      "  stock_data = yf.download(ticker, start=start, end=end, progress=False)\n"
     ]
    },
    {
     "name": "stdout",
     "output_type": "stream",
     "text": [
      "Error collecting data for BG: ['Return']\n",
      "Collecting data for AIZ...\n"
     ]
    },
    {
     "name": "stderr",
     "output_type": "stream",
     "text": [
      "C:\\Users\\PRAJWAL\\AppData\\Local\\Temp\\ipykernel_19000\\3832743817.py:18: SettingWithCopyWarning: \n",
      "A value is trying to be set on a copy of a slice from a DataFrame\n",
      "\n",
      "See the caveats in the documentation: https://pandas.pydata.org/pandas-docs/stable/user_guide/indexing.html#returning-a-view-versus-a-copy\n",
      "  stock_data['Return'].replace([np.inf, -np.inf], np.nan, inplace=True)\n",
      "C:\\Users\\PRAJWAL\\AppData\\Local\\Temp\\ipykernel_19000\\3832743817.py:11: FutureWarning: YF.download() has changed argument auto_adjust default to True\n",
      "  stock_data = yf.download(ticker, start=start, end=end, progress=False)\n"
     ]
    },
    {
     "name": "stdout",
     "output_type": "stream",
     "text": [
      "Error collecting data for AIZ: ['Return']\n",
      "Collecting data for IPG...\n"
     ]
    },
    {
     "name": "stderr",
     "output_type": "stream",
     "text": [
      "C:\\Users\\PRAJWAL\\AppData\\Local\\Temp\\ipykernel_19000\\3832743817.py:18: SettingWithCopyWarning: \n",
      "A value is trying to be set on a copy of a slice from a DataFrame\n",
      "\n",
      "See the caveats in the documentation: https://pandas.pydata.org/pandas-docs/stable/user_guide/indexing.html#returning-a-view-versus-a-copy\n",
      "  stock_data['Return'].replace([np.inf, -np.inf], np.nan, inplace=True)\n",
      "C:\\Users\\PRAJWAL\\AppData\\Local\\Temp\\ipykernel_19000\\3832743817.py:11: FutureWarning: YF.download() has changed argument auto_adjust default to True\n",
      "  stock_data = yf.download(ticker, start=start, end=end, progress=False)\n"
     ]
    },
    {
     "name": "stdout",
     "output_type": "stream",
     "text": [
      "Error collecting data for IPG: ['Return']\n",
      "Collecting data for BEN...\n"
     ]
    },
    {
     "name": "stderr",
     "output_type": "stream",
     "text": [
      "C:\\Users\\PRAJWAL\\AppData\\Local\\Temp\\ipykernel_19000\\3832743817.py:18: SettingWithCopyWarning: \n",
      "A value is trying to be set on a copy of a slice from a DataFrame\n",
      "\n",
      "See the caveats in the documentation: https://pandas.pydata.org/pandas-docs/stable/user_guide/indexing.html#returning-a-view-versus-a-copy\n",
      "  stock_data['Return'].replace([np.inf, -np.inf], np.nan, inplace=True)\n",
      "C:\\Users\\PRAJWAL\\AppData\\Local\\Temp\\ipykernel_19000\\3832743817.py:11: FutureWarning: YF.download() has changed argument auto_adjust default to True\n",
      "  stock_data = yf.download(ticker, start=start, end=end, progress=False)\n"
     ]
    },
    {
     "name": "stdout",
     "output_type": "stream",
     "text": [
      "Error collecting data for BEN: ['Return']\n",
      "Collecting data for EMN...\n"
     ]
    },
    {
     "name": "stderr",
     "output_type": "stream",
     "text": [
      "C:\\Users\\PRAJWAL\\AppData\\Local\\Temp\\ipykernel_19000\\3832743817.py:18: SettingWithCopyWarning: \n",
      "A value is trying to be set on a copy of a slice from a DataFrame\n",
      "\n",
      "See the caveats in the documentation: https://pandas.pydata.org/pandas-docs/stable/user_guide/indexing.html#returning-a-view-versus-a-copy\n",
      "  stock_data['Return'].replace([np.inf, -np.inf], np.nan, inplace=True)\n",
      "C:\\Users\\PRAJWAL\\AppData\\Local\\Temp\\ipykernel_19000\\3832743817.py:11: FutureWarning: YF.download() has changed argument auto_adjust default to True\n",
      "  stock_data = yf.download(ticker, start=start, end=end, progress=False)\n"
     ]
    },
    {
     "name": "stdout",
     "output_type": "stream",
     "text": [
      "Error collecting data for EMN: ['Return']\n",
      "Collecting data for ALB...\n"
     ]
    },
    {
     "name": "stderr",
     "output_type": "stream",
     "text": [
      "C:\\Users\\PRAJWAL\\AppData\\Local\\Temp\\ipykernel_19000\\3832743817.py:18: SettingWithCopyWarning: \n",
      "A value is trying to be set on a copy of a slice from a DataFrame\n",
      "\n",
      "See the caveats in the documentation: https://pandas.pydata.org/pandas-docs/stable/user_guide/indexing.html#returning-a-view-versus-a-copy\n",
      "  stock_data['Return'].replace([np.inf, -np.inf], np.nan, inplace=True)\n",
      "C:\\Users\\PRAJWAL\\AppData\\Local\\Temp\\ipykernel_19000\\3832743817.py:11: FutureWarning: YF.download() has changed argument auto_adjust default to True\n",
      "  stock_data = yf.download(ticker, start=start, end=end, progress=False)\n"
     ]
    },
    {
     "name": "stdout",
     "output_type": "stream",
     "text": [
      "Error collecting data for ALB: ['Return']\n",
      "Collecting data for MGM...\n"
     ]
    },
    {
     "name": "stderr",
     "output_type": "stream",
     "text": [
      "C:\\Users\\PRAJWAL\\AppData\\Local\\Temp\\ipykernel_19000\\3832743817.py:18: SettingWithCopyWarning: \n",
      "A value is trying to be set on a copy of a slice from a DataFrame\n",
      "\n",
      "See the caveats in the documentation: https://pandas.pydata.org/pandas-docs/stable/user_guide/indexing.html#returning-a-view-versus-a-copy\n",
      "  stock_data['Return'].replace([np.inf, -np.inf], np.nan, inplace=True)\n",
      "C:\\Users\\PRAJWAL\\AppData\\Local\\Temp\\ipykernel_19000\\3832743817.py:11: FutureWarning: YF.download() has changed argument auto_adjust default to True\n",
      "  stock_data = yf.download(ticker, start=start, end=end, progress=False)\n"
     ]
    },
    {
     "name": "stdout",
     "output_type": "stream",
     "text": [
      "Error collecting data for MGM: ['Return']\n",
      "Collecting data for AOS...\n"
     ]
    },
    {
     "name": "stderr",
     "output_type": "stream",
     "text": [
      "C:\\Users\\PRAJWAL\\AppData\\Local\\Temp\\ipykernel_19000\\3832743817.py:18: SettingWithCopyWarning: \n",
      "A value is trying to be set on a copy of a slice from a DataFrame\n",
      "\n",
      "See the caveats in the documentation: https://pandas.pydata.org/pandas-docs/stable/user_guide/indexing.html#returning-a-view-versus-a-copy\n",
      "  stock_data['Return'].replace([np.inf, -np.inf], np.nan, inplace=True)\n",
      "C:\\Users\\PRAJWAL\\AppData\\Local\\Temp\\ipykernel_19000\\3832743817.py:11: FutureWarning: YF.download() has changed argument auto_adjust default to True\n",
      "  stock_data = yf.download(ticker, start=start, end=end, progress=False)\n"
     ]
    },
    {
     "name": "stdout",
     "output_type": "stream",
     "text": [
      "Error collecting data for AOS: ['Return']\n",
      "Collecting data for WYNN...\n"
     ]
    },
    {
     "name": "stderr",
     "output_type": "stream",
     "text": [
      "C:\\Users\\PRAJWAL\\AppData\\Local\\Temp\\ipykernel_19000\\3832743817.py:18: SettingWithCopyWarning: \n",
      "A value is trying to be set on a copy of a slice from a DataFrame\n",
      "\n",
      "See the caveats in the documentation: https://pandas.pydata.org/pandas-docs/stable/user_guide/indexing.html#returning-a-view-versus-a-copy\n",
      "  stock_data['Return'].replace([np.inf, -np.inf], np.nan, inplace=True)\n",
      "C:\\Users\\PRAJWAL\\AppData\\Local\\Temp\\ipykernel_19000\\3832743817.py:11: FutureWarning: YF.download() has changed argument auto_adjust default to True\n",
      "  stock_data = yf.download(ticker, start=start, end=end, progress=False)\n"
     ]
    },
    {
     "name": "stdout",
     "output_type": "stream",
     "text": [
      "Error collecting data for WYNN: ['Return']\n",
      "Collecting data for PNW...\n"
     ]
    },
    {
     "name": "stderr",
     "output_type": "stream",
     "text": [
      "C:\\Users\\PRAJWAL\\AppData\\Local\\Temp\\ipykernel_19000\\3832743817.py:18: SettingWithCopyWarning: \n",
      "A value is trying to be set on a copy of a slice from a DataFrame\n",
      "\n",
      "See the caveats in the documentation: https://pandas.pydata.org/pandas-docs/stable/user_guide/indexing.html#returning-a-view-versus-a-copy\n",
      "  stock_data['Return'].replace([np.inf, -np.inf], np.nan, inplace=True)\n",
      "C:\\Users\\PRAJWAL\\AppData\\Local\\Temp\\ipykernel_19000\\3832743817.py:11: FutureWarning: YF.download() has changed argument auto_adjust default to True\n",
      "  stock_data = yf.download(ticker, start=start, end=end, progress=False)\n"
     ]
    },
    {
     "name": "stdout",
     "output_type": "stream",
     "text": [
      "Error collecting data for PNW: ['Return']\n",
      "Collecting data for ENPH...\n"
     ]
    },
    {
     "name": "stderr",
     "output_type": "stream",
     "text": [
      "C:\\Users\\PRAJWAL\\AppData\\Local\\Temp\\ipykernel_19000\\3832743817.py:18: SettingWithCopyWarning: \n",
      "A value is trying to be set on a copy of a slice from a DataFrame\n",
      "\n",
      "See the caveats in the documentation: https://pandas.pydata.org/pandas-docs/stable/user_guide/indexing.html#returning-a-view-versus-a-copy\n",
      "  stock_data['Return'].replace([np.inf, -np.inf], np.nan, inplace=True)\n",
      "C:\\Users\\PRAJWAL\\AppData\\Local\\Temp\\ipykernel_19000\\3832743817.py:11: FutureWarning: YF.download() has changed argument auto_adjust default to True\n",
      "  stock_data = yf.download(ticker, start=start, end=end, progress=False)\n"
     ]
    },
    {
     "name": "stdout",
     "output_type": "stream",
     "text": [
      "Error collecting data for ENPH: ['Return']\n",
      "Collecting data for LKQ...\n"
     ]
    },
    {
     "name": "stderr",
     "output_type": "stream",
     "text": [
      "C:\\Users\\PRAJWAL\\AppData\\Local\\Temp\\ipykernel_19000\\3832743817.py:18: SettingWithCopyWarning: \n",
      "A value is trying to be set on a copy of a slice from a DataFrame\n",
      "\n",
      "See the caveats in the documentation: https://pandas.pydata.org/pandas-docs/stable/user_guide/indexing.html#returning-a-view-versus-a-copy\n",
      "  stock_data['Return'].replace([np.inf, -np.inf], np.nan, inplace=True)\n",
      "C:\\Users\\PRAJWAL\\AppData\\Local\\Temp\\ipykernel_19000\\3832743817.py:11: FutureWarning: YF.download() has changed argument auto_adjust default to True\n",
      "  stock_data = yf.download(ticker, start=start, end=end, progress=False)\n"
     ]
    },
    {
     "name": "stdout",
     "output_type": "stream",
     "text": [
      "Error collecting data for LKQ: ['Return']\n",
      "Collecting data for FRT...\n"
     ]
    },
    {
     "name": "stderr",
     "output_type": "stream",
     "text": [
      "C:\\Users\\PRAJWAL\\AppData\\Local\\Temp\\ipykernel_19000\\3832743817.py:18: SettingWithCopyWarning: \n",
      "A value is trying to be set on a copy of a slice from a DataFrame\n",
      "\n",
      "See the caveats in the documentation: https://pandas.pydata.org/pandas-docs/stable/user_guide/indexing.html#returning-a-view-versus-a-copy\n",
      "  stock_data['Return'].replace([np.inf, -np.inf], np.nan, inplace=True)\n",
      "C:\\Users\\PRAJWAL\\AppData\\Local\\Temp\\ipykernel_19000\\3832743817.py:11: FutureWarning: YF.download() has changed argument auto_adjust default to True\n",
      "  stock_data = yf.download(ticker, start=start, end=end, progress=False)\n"
     ]
    },
    {
     "name": "stdout",
     "output_type": "stream",
     "text": [
      "Error collecting data for FRT: ['Return']\n",
      "Collecting data for CRL...\n"
     ]
    },
    {
     "name": "stderr",
     "output_type": "stream",
     "text": [
      "C:\\Users\\PRAJWAL\\AppData\\Local\\Temp\\ipykernel_19000\\3832743817.py:18: SettingWithCopyWarning: \n",
      "A value is trying to be set on a copy of a slice from a DataFrame\n",
      "\n",
      "See the caveats in the documentation: https://pandas.pydata.org/pandas-docs/stable/user_guide/indexing.html#returning-a-view-versus-a-copy\n",
      "  stock_data['Return'].replace([np.inf, -np.inf], np.nan, inplace=True)\n",
      "C:\\Users\\PRAJWAL\\AppData\\Local\\Temp\\ipykernel_19000\\3832743817.py:11: FutureWarning: YF.download() has changed argument auto_adjust default to True\n",
      "  stock_data = yf.download(ticker, start=start, end=end, progress=False)\n"
     ]
    },
    {
     "name": "stdout",
     "output_type": "stream",
     "text": [
      "Error collecting data for CRL: ['Return']\n",
      "Collecting data for GNRC...\n"
     ]
    },
    {
     "name": "stderr",
     "output_type": "stream",
     "text": [
      "C:\\Users\\PRAJWAL\\AppData\\Local\\Temp\\ipykernel_19000\\3832743817.py:18: SettingWithCopyWarning: \n",
      "A value is trying to be set on a copy of a slice from a DataFrame\n",
      "\n",
      "See the caveats in the documentation: https://pandas.pydata.org/pandas-docs/stable/user_guide/indexing.html#returning-a-view-versus-a-copy\n",
      "  stock_data['Return'].replace([np.inf, -np.inf], np.nan, inplace=True)\n",
      "C:\\Users\\PRAJWAL\\AppData\\Local\\Temp\\ipykernel_19000\\3832743817.py:11: FutureWarning: YF.download() has changed argument auto_adjust default to True\n",
      "  stock_data = yf.download(ticker, start=start, end=end, progress=False)\n"
     ]
    },
    {
     "name": "stdout",
     "output_type": "stream",
     "text": [
      "Error collecting data for GNRC: ['Return']\n",
      "Collecting data for AES...\n"
     ]
    },
    {
     "name": "stderr",
     "output_type": "stream",
     "text": [
      "C:\\Users\\PRAJWAL\\AppData\\Local\\Temp\\ipykernel_19000\\3832743817.py:18: SettingWithCopyWarning: \n",
      "A value is trying to be set on a copy of a slice from a DataFrame\n",
      "\n",
      "See the caveats in the documentation: https://pandas.pydata.org/pandas-docs/stable/user_guide/indexing.html#returning-a-view-versus-a-copy\n",
      "  stock_data['Return'].replace([np.inf, -np.inf], np.nan, inplace=True)\n",
      "C:\\Users\\PRAJWAL\\AppData\\Local\\Temp\\ipykernel_19000\\3832743817.py:11: FutureWarning: YF.download() has changed argument auto_adjust default to True\n",
      "  stock_data = yf.download(ticker, start=start, end=end, progress=False)\n"
     ]
    },
    {
     "name": "stdout",
     "output_type": "stream",
     "text": [
      "Error collecting data for AES: ['Return']\n",
      "Collecting data for GL...\n"
     ]
    },
    {
     "name": "stderr",
     "output_type": "stream",
     "text": [
      "C:\\Users\\PRAJWAL\\AppData\\Local\\Temp\\ipykernel_19000\\3832743817.py:18: SettingWithCopyWarning: \n",
      "A value is trying to be set on a copy of a slice from a DataFrame\n",
      "\n",
      "See the caveats in the documentation: https://pandas.pydata.org/pandas-docs/stable/user_guide/indexing.html#returning-a-view-versus-a-copy\n",
      "  stock_data['Return'].replace([np.inf, -np.inf], np.nan, inplace=True)\n",
      "C:\\Users\\PRAJWAL\\AppData\\Local\\Temp\\ipykernel_19000\\3832743817.py:11: FutureWarning: YF.download() has changed argument auto_adjust default to True\n",
      "  stock_data = yf.download(ticker, start=start, end=end, progress=False)\n"
     ]
    },
    {
     "name": "stdout",
     "output_type": "stream",
     "text": [
      "Error collecting data for GL: ['Return']\n",
      "Collecting data for LW...\n"
     ]
    },
    {
     "name": "stderr",
     "output_type": "stream",
     "text": [
      "C:\\Users\\PRAJWAL\\AppData\\Local\\Temp\\ipykernel_19000\\3832743817.py:18: SettingWithCopyWarning: \n",
      "A value is trying to be set on a copy of a slice from a DataFrame\n",
      "\n",
      "See the caveats in the documentation: https://pandas.pydata.org/pandas-docs/stable/user_guide/indexing.html#returning-a-view-versus-a-copy\n",
      "  stock_data['Return'].replace([np.inf, -np.inf], np.nan, inplace=True)\n",
      "C:\\Users\\PRAJWAL\\AppData\\Local\\Temp\\ipykernel_19000\\3832743817.py:11: FutureWarning: YF.download() has changed argument auto_adjust default to True\n",
      "  stock_data = yf.download(ticker, start=start, end=end, progress=False)\n"
     ]
    },
    {
     "name": "stdout",
     "output_type": "stream",
     "text": [
      "Error collecting data for LW: ['Return']\n",
      "Collecting data for HSIC...\n"
     ]
    },
    {
     "name": "stderr",
     "output_type": "stream",
     "text": [
      "C:\\Users\\PRAJWAL\\AppData\\Local\\Temp\\ipykernel_19000\\3832743817.py:18: SettingWithCopyWarning: \n",
      "A value is trying to be set on a copy of a slice from a DataFrame\n",
      "\n",
      "See the caveats in the documentation: https://pandas.pydata.org/pandas-docs/stable/user_guide/indexing.html#returning-a-view-versus-a-copy\n",
      "  stock_data['Return'].replace([np.inf, -np.inf], np.nan, inplace=True)\n",
      "C:\\Users\\PRAJWAL\\AppData\\Local\\Temp\\ipykernel_19000\\3832743817.py:11: FutureWarning: YF.download() has changed argument auto_adjust default to True\n",
      "  stock_data = yf.download(ticker, start=start, end=end, progress=False)\n"
     ]
    },
    {
     "name": "stdout",
     "output_type": "stream",
     "text": [
      "Error collecting data for HSIC: ['Return']\n",
      "Collecting data for MKTX...\n"
     ]
    },
    {
     "name": "stderr",
     "output_type": "stream",
     "text": [
      "C:\\Users\\PRAJWAL\\AppData\\Local\\Temp\\ipykernel_19000\\3832743817.py:18: SettingWithCopyWarning: \n",
      "A value is trying to be set on a copy of a slice from a DataFrame\n",
      "\n",
      "See the caveats in the documentation: https://pandas.pydata.org/pandas-docs/stable/user_guide/indexing.html#returning-a-view-versus-a-copy\n",
      "  stock_data['Return'].replace([np.inf, -np.inf], np.nan, inplace=True)\n",
      "C:\\Users\\PRAJWAL\\AppData\\Local\\Temp\\ipykernel_19000\\3832743817.py:11: FutureWarning: YF.download() has changed argument auto_adjust default to True\n",
      "  stock_data = yf.download(ticker, start=start, end=end, progress=False)\n"
     ]
    },
    {
     "name": "stdout",
     "output_type": "stream",
     "text": [
      "Error collecting data for MKTX: ['Return']\n",
      "Collecting data for MTCH...\n"
     ]
    },
    {
     "name": "stderr",
     "output_type": "stream",
     "text": [
      "C:\\Users\\PRAJWAL\\AppData\\Local\\Temp\\ipykernel_19000\\3832743817.py:18: SettingWithCopyWarning: \n",
      "A value is trying to be set on a copy of a slice from a DataFrame\n",
      "\n",
      "See the caveats in the documentation: https://pandas.pydata.org/pandas-docs/stable/user_guide/indexing.html#returning-a-view-versus-a-copy\n",
      "  stock_data['Return'].replace([np.inf, -np.inf], np.nan, inplace=True)\n",
      "C:\\Users\\PRAJWAL\\AppData\\Local\\Temp\\ipykernel_19000\\3832743817.py:11: FutureWarning: YF.download() has changed argument auto_adjust default to True\n",
      "  stock_data = yf.download(ticker, start=start, end=end, progress=False)\n"
     ]
    },
    {
     "name": "stdout",
     "output_type": "stream",
     "text": [
      "Error collecting data for MTCH: ['Return']\n",
      "Collecting data for TFX...\n"
     ]
    },
    {
     "name": "stderr",
     "output_type": "stream",
     "text": [
      "C:\\Users\\PRAJWAL\\AppData\\Local\\Temp\\ipykernel_19000\\3832743817.py:18: SettingWithCopyWarning: \n",
      "A value is trying to be set on a copy of a slice from a DataFrame\n",
      "\n",
      "See the caveats in the documentation: https://pandas.pydata.org/pandas-docs/stable/user_guide/indexing.html#returning-a-view-versus-a-copy\n",
      "  stock_data['Return'].replace([np.inf, -np.inf], np.nan, inplace=True)\n",
      "C:\\Users\\PRAJWAL\\AppData\\Local\\Temp\\ipykernel_19000\\3832743817.py:11: FutureWarning: YF.download() has changed argument auto_adjust default to True\n",
      "  stock_data = yf.download(ticker, start=start, end=end, progress=False)\n"
     ]
    },
    {
     "name": "stdout",
     "output_type": "stream",
     "text": [
      "Error collecting data for TFX: ['Return']\n",
      "Collecting data for WBA...\n"
     ]
    },
    {
     "name": "stderr",
     "output_type": "stream",
     "text": [
      "C:\\Users\\PRAJWAL\\AppData\\Local\\Temp\\ipykernel_19000\\3832743817.py:18: SettingWithCopyWarning: \n",
      "A value is trying to be set on a copy of a slice from a DataFrame\n",
      "\n",
      "See the caveats in the documentation: https://pandas.pydata.org/pandas-docs/stable/user_guide/indexing.html#returning-a-view-versus-a-copy\n",
      "  stock_data['Return'].replace([np.inf, -np.inf], np.nan, inplace=True)\n",
      "C:\\Users\\PRAJWAL\\AppData\\Local\\Temp\\ipykernel_19000\\3832743817.py:11: FutureWarning: YF.download() has changed argument auto_adjust default to True\n",
      "  stock_data = yf.download(ticker, start=start, end=end, progress=False)\n"
     ]
    },
    {
     "name": "stdout",
     "output_type": "stream",
     "text": [
      "Error collecting data for WBA: ['Return']\n",
      "Collecting data for HAS...\n"
     ]
    },
    {
     "name": "stderr",
     "output_type": "stream",
     "text": [
      "C:\\Users\\PRAJWAL\\AppData\\Local\\Temp\\ipykernel_19000\\3832743817.py:18: SettingWithCopyWarning: \n",
      "A value is trying to be set on a copy of a slice from a DataFrame\n",
      "\n",
      "See the caveats in the documentation: https://pandas.pydata.org/pandas-docs/stable/user_guide/indexing.html#returning-a-view-versus-a-copy\n",
      "  stock_data['Return'].replace([np.inf, -np.inf], np.nan, inplace=True)\n",
      "C:\\Users\\PRAJWAL\\AppData\\Local\\Temp\\ipykernel_19000\\3832743817.py:11: FutureWarning: YF.download() has changed argument auto_adjust default to True\n",
      "  stock_data = yf.download(ticker, start=start, end=end, progress=False)\n"
     ]
    },
    {
     "name": "stdout",
     "output_type": "stream",
     "text": [
      "Error collecting data for HAS: ['Return']\n",
      "Collecting data for IVZ...\n"
     ]
    },
    {
     "name": "stderr",
     "output_type": "stream",
     "text": [
      "C:\\Users\\PRAJWAL\\AppData\\Local\\Temp\\ipykernel_19000\\3832743817.py:18: SettingWithCopyWarning: \n",
      "A value is trying to be set on a copy of a slice from a DataFrame\n",
      "\n",
      "See the caveats in the documentation: https://pandas.pydata.org/pandas-docs/stable/user_guide/indexing.html#returning-a-view-versus-a-copy\n",
      "  stock_data['Return'].replace([np.inf, -np.inf], np.nan, inplace=True)\n",
      "C:\\Users\\PRAJWAL\\AppData\\Local\\Temp\\ipykernel_19000\\3832743817.py:11: FutureWarning: YF.download() has changed argument auto_adjust default to True\n",
      "  stock_data = yf.download(ticker, start=start, end=end, progress=False)\n"
     ]
    },
    {
     "name": "stdout",
     "output_type": "stream",
     "text": [
      "Error collecting data for IVZ: ['Return']\n",
      "Collecting data for APA...\n"
     ]
    },
    {
     "name": "stderr",
     "output_type": "stream",
     "text": [
      "C:\\Users\\PRAJWAL\\AppData\\Local\\Temp\\ipykernel_19000\\3832743817.py:18: SettingWithCopyWarning: \n",
      "A value is trying to be set on a copy of a slice from a DataFrame\n",
      "\n",
      "See the caveats in the documentation: https://pandas.pydata.org/pandas-docs/stable/user_guide/indexing.html#returning-a-view-versus-a-copy\n",
      "  stock_data['Return'].replace([np.inf, -np.inf], np.nan, inplace=True)\n",
      "C:\\Users\\PRAJWAL\\AppData\\Local\\Temp\\ipykernel_19000\\3832743817.py:11: FutureWarning: YF.download() has changed argument auto_adjust default to True\n",
      "  stock_data = yf.download(ticker, start=start, end=end, progress=False)\n"
     ]
    },
    {
     "name": "stdout",
     "output_type": "stream",
     "text": [
      "Error collecting data for APA: ['Return']\n",
      "Collecting data for MOS...\n"
     ]
    },
    {
     "name": "stderr",
     "output_type": "stream",
     "text": [
      "C:\\Users\\PRAJWAL\\AppData\\Local\\Temp\\ipykernel_19000\\3832743817.py:18: SettingWithCopyWarning: \n",
      "A value is trying to be set on a copy of a slice from a DataFrame\n",
      "\n",
      "See the caveats in the documentation: https://pandas.pydata.org/pandas-docs/stable/user_guide/indexing.html#returning-a-view-versus-a-copy\n",
      "  stock_data['Return'].replace([np.inf, -np.inf], np.nan, inplace=True)\n",
      "C:\\Users\\PRAJWAL\\AppData\\Local\\Temp\\ipykernel_19000\\3832743817.py:11: FutureWarning: YF.download() has changed argument auto_adjust default to True\n",
      "  stock_data = yf.download(ticker, start=start, end=end, progress=False)\n"
     ]
    },
    {
     "name": "stdout",
     "output_type": "stream",
     "text": [
      "Error collecting data for MOS: ['Return']\n",
      "Collecting data for PARA...\n"
     ]
    },
    {
     "name": "stderr",
     "output_type": "stream",
     "text": [
      "C:\\Users\\PRAJWAL\\AppData\\Local\\Temp\\ipykernel_19000\\3832743817.py:18: SettingWithCopyWarning: \n",
      "A value is trying to be set on a copy of a slice from a DataFrame\n",
      "\n",
      "See the caveats in the documentation: https://pandas.pydata.org/pandas-docs/stable/user_guide/indexing.html#returning-a-view-versus-a-copy\n",
      "  stock_data['Return'].replace([np.inf, -np.inf], np.nan, inplace=True)\n",
      "C:\\Users\\PRAJWAL\\AppData\\Local\\Temp\\ipykernel_19000\\3832743817.py:11: FutureWarning: YF.download() has changed argument auto_adjust default to True\n",
      "  stock_data = yf.download(ticker, start=start, end=end, progress=False)\n"
     ]
    },
    {
     "name": "stdout",
     "output_type": "stream",
     "text": [
      "Error collecting data for PARA: ['Return']\n",
      "Collecting data for MHK...\n"
     ]
    },
    {
     "name": "stderr",
     "output_type": "stream",
     "text": [
      "C:\\Users\\PRAJWAL\\AppData\\Local\\Temp\\ipykernel_19000\\3832743817.py:18: SettingWithCopyWarning: \n",
      "A value is trying to be set on a copy of a slice from a DataFrame\n",
      "\n",
      "See the caveats in the documentation: https://pandas.pydata.org/pandas-docs/stable/user_guide/indexing.html#returning-a-view-versus-a-copy\n",
      "  stock_data['Return'].replace([np.inf, -np.inf], np.nan, inplace=True)\n",
      "C:\\Users\\PRAJWAL\\AppData\\Local\\Temp\\ipykernel_19000\\3832743817.py:11: FutureWarning: YF.download() has changed argument auto_adjust default to True\n",
      "  stock_data = yf.download(ticker, start=start, end=end, progress=False)\n"
     ]
    },
    {
     "name": "stdout",
     "output_type": "stream",
     "text": [
      "Error collecting data for MHK: ['Return']\n",
      "Collecting data for CE...\n"
     ]
    },
    {
     "name": "stderr",
     "output_type": "stream",
     "text": [
      "C:\\Users\\PRAJWAL\\AppData\\Local\\Temp\\ipykernel_19000\\3832743817.py:18: SettingWithCopyWarning: \n",
      "A value is trying to be set on a copy of a slice from a DataFrame\n",
      "\n",
      "See the caveats in the documentation: https://pandas.pydata.org/pandas-docs/stable/user_guide/indexing.html#returning-a-view-versus-a-copy\n",
      "  stock_data['Return'].replace([np.inf, -np.inf], np.nan, inplace=True)\n",
      "C:\\Users\\PRAJWAL\\AppData\\Local\\Temp\\ipykernel_19000\\3832743817.py:11: FutureWarning: YF.download() has changed argument auto_adjust default to True\n",
      "  stock_data = yf.download(ticker, start=start, end=end, progress=False)\n"
     ]
    },
    {
     "name": "stdout",
     "output_type": "stream",
     "text": [
      "Error collecting data for CE: ['Return']\n",
      "Collecting data for HII...\n"
     ]
    },
    {
     "name": "stderr",
     "output_type": "stream",
     "text": [
      "C:\\Users\\PRAJWAL\\AppData\\Local\\Temp\\ipykernel_19000\\3832743817.py:18: SettingWithCopyWarning: \n",
      "A value is trying to be set on a copy of a slice from a DataFrame\n",
      "\n",
      "See the caveats in the documentation: https://pandas.pydata.org/pandas-docs/stable/user_guide/indexing.html#returning-a-view-versus-a-copy\n",
      "  stock_data['Return'].replace([np.inf, -np.inf], np.nan, inplace=True)\n",
      "C:\\Users\\PRAJWAL\\AppData\\Local\\Temp\\ipykernel_19000\\3832743817.py:11: FutureWarning: YF.download() has changed argument auto_adjust default to True\n",
      "  stock_data = yf.download(ticker, start=start, end=end, progress=False)\n"
     ]
    },
    {
     "name": "stdout",
     "output_type": "stream",
     "text": [
      "Error collecting data for HII: ['Return']\n",
      "Collecting data for CZR...\n"
     ]
    },
    {
     "name": "stderr",
     "output_type": "stream",
     "text": [
      "C:\\Users\\PRAJWAL\\AppData\\Local\\Temp\\ipykernel_19000\\3832743817.py:18: SettingWithCopyWarning: \n",
      "A value is trying to be set on a copy of a slice from a DataFrame\n",
      "\n",
      "See the caveats in the documentation: https://pandas.pydata.org/pandas-docs/stable/user_guide/indexing.html#returning-a-view-versus-a-copy\n",
      "  stock_data['Return'].replace([np.inf, -np.inf], np.nan, inplace=True)\n",
      "C:\\Users\\PRAJWAL\\AppData\\Local\\Temp\\ipykernel_19000\\3832743817.py:11: FutureWarning: YF.download() has changed argument auto_adjust default to True\n",
      "  stock_data = yf.download(ticker, start=start, end=end, progress=False)\n"
     ]
    },
    {
     "name": "stdout",
     "output_type": "stream",
     "text": [
      "Error collecting data for CZR: ['Return']\n",
      "Collecting data for BWA...\n"
     ]
    },
    {
     "name": "stderr",
     "output_type": "stream",
     "text": [
      "C:\\Users\\PRAJWAL\\AppData\\Local\\Temp\\ipykernel_19000\\3832743817.py:18: SettingWithCopyWarning: \n",
      "A value is trying to be set on a copy of a slice from a DataFrame\n",
      "\n",
      "See the caveats in the documentation: https://pandas.pydata.org/pandas-docs/stable/user_guide/indexing.html#returning-a-view-versus-a-copy\n",
      "  stock_data['Return'].replace([np.inf, -np.inf], np.nan, inplace=True)\n",
      "C:\\Users\\PRAJWAL\\AppData\\Local\\Temp\\ipykernel_19000\\3832743817.py:11: FutureWarning: YF.download() has changed argument auto_adjust default to True\n",
      "  stock_data = yf.download(ticker, start=start, end=end, progress=False)\n"
     ]
    },
    {
     "name": "stdout",
     "output_type": "stream",
     "text": [
      "Error collecting data for BWA: ['Return']\n",
      "Collecting data for QRVO...\n"
     ]
    },
    {
     "name": "stderr",
     "output_type": "stream",
     "text": [
      "C:\\Users\\PRAJWAL\\AppData\\Local\\Temp\\ipykernel_19000\\3832743817.py:18: SettingWithCopyWarning: \n",
      "A value is trying to be set on a copy of a slice from a DataFrame\n",
      "\n",
      "See the caveats in the documentation: https://pandas.pydata.org/pandas-docs/stable/user_guide/indexing.html#returning-a-view-versus-a-copy\n",
      "  stock_data['Return'].replace([np.inf, -np.inf], np.nan, inplace=True)\n",
      "C:\\Users\\PRAJWAL\\AppData\\Local\\Temp\\ipykernel_19000\\3832743817.py:11: FutureWarning: YF.download() has changed argument auto_adjust default to True\n",
      "  stock_data = yf.download(ticker, start=start, end=end, progress=False)\n"
     ]
    },
    {
     "name": "stdout",
     "output_type": "stream",
     "text": [
      "Error collecting data for QRVO: ['Return']\n",
      "Collecting data for FMC...\n"
     ]
    },
    {
     "name": "stderr",
     "output_type": "stream",
     "text": [
      "C:\\Users\\PRAJWAL\\AppData\\Local\\Temp\\ipykernel_19000\\3832743817.py:18: SettingWithCopyWarning: \n",
      "A value is trying to be set on a copy of a slice from a DataFrame\n",
      "\n",
      "See the caveats in the documentation: https://pandas.pydata.org/pandas-docs/stable/user_guide/indexing.html#returning-a-view-versus-a-copy\n",
      "  stock_data['Return'].replace([np.inf, -np.inf], np.nan, inplace=True)\n",
      "C:\\Users\\PRAJWAL\\AppData\\Local\\Temp\\ipykernel_19000\\3832743817.py:11: FutureWarning: YF.download() has changed argument auto_adjust default to True\n",
      "  stock_data = yf.download(ticker, start=start, end=end, progress=False)\n"
     ]
    },
    {
     "name": "stdout",
     "output_type": "stream",
     "text": [
      "Error collecting data for FMC: ['Return']\n",
      "Collecting data for AMTM...\n"
     ]
    },
    {
     "name": "stderr",
     "output_type": "stream",
     "text": [
      "\n",
      "1 Failed download:\n",
      "['AMTM']: YFPricesMissingError('possibly delisted; no price data found  (1d 2010-01-01 -> 2020-12-31) (Yahoo error = \"Data doesn\\'t exist for startDate = 1262322000, endDate = 1609390800\")')\n",
      "C:\\Users\\PRAJWAL\\AppData\\Local\\Temp\\ipykernel_19000\\3706720834.py:7: FutureWarning: YF.download() has changed argument auto_adjust default to True\n",
      "  market_data = yf.download(market_index_ticker, start=start, end=end, progress=False)\n"
     ]
    },
    {
     "name": "stdout",
     "output_type": "stream",
     "text": [
      "No OHLCV data found for AMTM from yfinance. Skipping.\n",
      "Collecting market index data for ^GSPC...\n"
     ]
    },
    {
     "name": "stderr",
     "output_type": "stream",
     "text": [
      "C:\\Users\\PRAJWAL\\AppData\\Local\\Temp\\ipykernel_19000\\3706720834.py:14: SettingWithCopyWarning: \n",
      "A value is trying to be set on a copy of a slice from a DataFrame\n",
      "\n",
      "See the caveats in the documentation: https://pandas.pydata.org/pandas-docs/stable/user_guide/indexing.html#returning-a-view-versus-a-copy\n",
      "  market_data['Market_Index_Return'].replace([np.inf, -np.inf], np.nan, inplace=True)\n"
     ]
    },
    {
     "name": "stdout",
     "output_type": "stream",
     "text": [
      "Error collecting market index data for ^GSPC: ['Market_Index_Return']\n",
      "Collecting industry index data for XLK using FMP...\n",
      "Fetching industry index OHLCV for XLK from FMP...\n",
      "HTTP Error for industry index XLK: 401 Client Error: Unauthorized for url: https://financialmodelingprep.com/api/v3/historical-price-full/XLK?apikey=tO4f1GnWKfU2zR4Bt6pm2uFeNTcP9SJW&apikey=tO4f1GnWKfU2zR4Bt6pm2uFeNTcP9SJW&from=2010-01-01&to=2020-12-31\n",
      "Could not get industry index data for XLK.\n",
      "\n",
      "No complete datasets were generated for any stock. This might be due to API key issues, rate limits, or data availability.\n"
     ]
    }
   ],
   "source": [
    "# --- Main Execution ---\n",
    "if __name__ == \"__main__\":\n",
    "    if FMP_API_KEY == \"tO4f1GnWKfU2zR4Bt6pm2uFeNTcP9SJW\":\n",
    "        print(\"!!!!!!!!!!!!!!!!!!!!!!!!!!!!!!!!!!!!!!!!!!!!!!!!!!!!!!!!!!!!\")\n",
    "        print(\"WARNING: Please replace 'YOUR_API_KEY_HERE' with your actual FMP API key.\")\n",
    "        print(\"Get your API key from: https://financialmodelingprep.com/developer/docs/\")\n",
    "        print(\"!!!!!!!!!!!!!!!!!!!!!!!!!!!!!!!!!!!!!!!!!!!!!!!!!!!!!!!!!!!!\")\n",
    "        # Exit or provide placeholder data if API key is not set\n",
    "        # For demonstration, we'll continue but FMP calls will fail.\n",
    "        # exit(\"API Key not set.\")\n",
    "\n",
    "    if not STOCK_TICKERS:\n",
    "        print(\"No valid stock tickers found to process. Please ensure 'sp500_companies.csv' is correctly formatted with 'Symbol' or 'Ticker' column. Exiting.\")\n",
    "    else:\n",
    "        print(f\"Attempting to collect data for {len(STOCK_TICKERS)} stocks from the S&P 500 list.\")\n",
    "        \n",
    "        # Create a simplified INDUSTRY_TICKERS_MAP for demonstration\n",
    "        # In a real scenario, this would be much more detailed and accurate,\n",
    "        # mapping each stock to its specific sector ETF or industry index.\n",
    "        # Example S&P 500 Sector ETFs: XLK (Technology), XLE (Energy), XLF (Financial), XLV (Health Care)\n",
    "        # For this example, let's just map everything to XLK for simplicity.\n",
    "        # You'll need to refine this mapping for your specific stocks.\n",
    "        INDUSTRY_TICKERS_MAP = {}\n",
    "        for ticker in STOCK_TICKERS:\n",
    "            # This is a placeholder. You'd ideally classify your stocks into sectors\n",
    "            # and map them to the corresponding sector ETF ticker.\n",
    "            INDUSTRY_TICKERS_MAP[ticker] = 'XLK' # Example: Technology Sector ETF\n",
    "\n",
    "        # Collect stock-specific data\n",
    "        # Note: Depending on your FMP plan and number of stocks, this might take a long time\n",
    "        # or hit rate limits. Consider processing a smaller subset of stocks initially.\n",
    "        stocks_data = collect_stock_data(STOCK_TICKERS, START_DATE, END_DATE)\n",
    "\n",
    "        # Collect market index data\n",
    "        market_index_returns = collect_market_index_data(MARKET_INDEX_TICKER, START_DATE, END_DATE)\n",
    "\n",
    "        # Collect industry index data\n",
    "        industry_index_returns = collect_industry_index_data(INDUSTRY_TICKERS_MAP, START_DATE, END_DATE)\n",
    "\n",
    "\n",
    "        # --- Consolidate Data ---\n",
    "        final_datasets = {}\n",
    "        for ticker, df in stocks_data.items():\n",
    "            if not df.empty:\n",
    "                # Merge market index returns\n",
    "                if not market_index_returns.empty:\n",
    "                    df = df.join(market_index_returns, how='left')\n",
    "\n",
    "                # Merge industry index returns based on the stock's industry\n",
    "                stock_industry_ticker = INDUSTRY_TICKERS_MAP.get(ticker)\n",
    "                if stock_industry_ticker and stock_industry_ticker in industry_index_returns:\n",
    "                    df = df.join(industry_index_returns[stock_industry_ticker].rename('Industry_Index_Return'), how='left')\n",
    "                else:\n",
    "                    print(f\"Warning: No industry index data available or mapped for {ticker}. Check INDUSTRY_TICKERS_MAP.\")\n",
    "\n",
    "                # Clean up: forward-fill or drop NaNs for factors (P/E, P/B, index returns)\n",
    "                # The paper mentions cleaning and preprocessing, including handling missing values.\n",
    "                # Interpolation is suggested for missing values.\n",
    "                # Reindex again to ensure all dates from START_DATE to END_DATE are present, and ffill everything\n",
    "                full_range_for_final = pd.date_range(start=START_DATE, end=END_DATE, freq='D')\n",
    "                df = df.reindex(full_range_for_final)\n",
    "\n",
    "                # Forward-fill all columns from the last valid observation\n",
    "                df.ffill(inplace=True)\n",
    "                # Then, back-fill any remaining NaNs (e.g., at the beginning if no prior data)\n",
    "                df.bfill(inplace=True)\n",
    "\n",
    "                df.dropna(inplace=True) # Drop any rows that still have NaNs (e.g., completely missing data)\n",
    "\n",
    "\n",
    "                if not df.empty:\n",
    "                    final_datasets[ticker] = df\n",
    "                    print(f\"\\n--- Consolidated Data for {ticker} (First 5 rows) ---\")\n",
    "                    print(df.head())\n",
    "                    print(f\"\\n--- Consolidated Data for {ticker} (Last 5 rows) ---\")\n",
    "                    print(df.tail())\n",
    "                    print(f\"\\n--- {ticker} Data Info ---\")\n",
    "                    df.info()\n",
    "                else:\n",
    "                    print(f\"Consolidated data for {ticker} is empty after merging and cleaning.\")\n",
    "\n",
    "        if not final_datasets:\n",
    "            print(\"\\nNo complete datasets were generated for any stock. This might be due to API key issues, rate limits, or data availability.\")\n",
    "        else:\n",
    "            print(\"\\nData collection complete. You now have 'final_datasets' dictionary.\")\n",
    "            print(\"Each key is a stock ticker, and its value is a DataFrame containing:\")\n",
    "            print(\"- Open, High, Low, Close, Volume (from yfinance)\")\n",
    "            print(\"- Daily Log Return (Rt)\")\n",
    "            print(\"- Market Index Rate of Return (from yfinance)\")\n",
    "            print(\"- Industry Index Rate of Return (from FMP, based on your ETF mapping)\")\n",
    "            print(\"- Price-Earnings Ratio (PE_Ratio, from FMP)\")\n",
    "            print(\"- Price-to-Book Ratio (PB_Ratio, from FMP)\")\n",
    "            print(\"\\nRemember to verify data with your FMP API key and consider potential rate limits.\")"
   ]
  },
  {
   "cell_type": "code",
   "execution_count": 4,
   "id": "c3d6c477",
   "metadata": {},
   "outputs": [
    {
     "name": "stdout",
     "output_type": "stream",
     "text": [
      "Collecting data for AAPL...\n"
     ]
    },
    {
     "name": "stderr",
     "output_type": "stream",
     "text": [
      "C:\\Users\\PRAJWAL\\AppData\\Local\\Temp\\ipykernel_39580\\2762475962.py:15: FutureWarning: YF.download() has changed argument auto_adjust default to True\n",
      "  stock_data = yf.download(ticker, start=start, end=end, progress=False)\n"
     ]
    },
    {
     "name": "stdout",
     "output_type": "stream",
     "text": [
      "Downloaded data for AAPL:\n",
      "Price          Close      High       Low      Open     Volume\n",
      "Ticker          AAPL      AAPL      AAPL      AAPL       AAPL\n",
      "Date                                                         \n",
      "2010-01-04  6.431896  6.446623  6.382908  6.414465  493729600\n",
      "2010-01-05  6.443017  6.479382  6.409055  6.449629  601904800\n",
      "2010-01-06  6.340533  6.468564  6.333921  6.443018  552160000\n",
      "2010-01-07  6.328810  6.371487  6.282827  6.363974  477131200\n",
      "2010-01-08  6.370887  6.371489  6.283130  6.320396  447610800\n",
      "Collecting data for MSFT...\n"
     ]
    },
    {
     "name": "stderr",
     "output_type": "stream",
     "text": [
      "C:\\Users\\PRAJWAL\\AppData\\Local\\Temp\\ipykernel_39580\\2762475962.py:22: SettingWithCopyWarning: \n",
      "A value is trying to be set on a copy of a slice from a DataFrame\n",
      "\n",
      "See the caveats in the documentation: https://pandas.pydata.org/pandas-docs/stable/user_guide/indexing.html#returning-a-view-versus-a-copy\n",
      "  stock_data['Return'].replace([np.inf, -np.inf], np.nan, inplace=True)\n",
      "C:\\Users\\PRAJWAL\\AppData\\Local\\Temp\\ipykernel_39580\\2762475962.py:15: FutureWarning: YF.download() has changed argument auto_adjust default to True\n",
      "  stock_data = yf.download(ticker, start=start, end=end, progress=False)\n"
     ]
    },
    {
     "name": "stdout",
     "output_type": "stream",
     "text": [
      "Downloaded data for MSFT:\n",
      "Price           Close       High        Low       Open    Volume\n",
      "Ticker           MSFT       MSFT       MSFT       MSFT      MSFT\n",
      "Date                                                            \n",
      "2010-01-04  23.211435  23.323930  22.941447  22.963947  38409100\n",
      "2010-01-05  23.218943  23.323939  22.978954  23.136447  49749600\n",
      "2010-01-06  23.076445  23.308934  22.888953  23.158940  58182400\n",
      "2010-01-07  22.836458  23.023950  22.641467  22.971451  50559700\n",
      "2010-01-08  22.993950  23.158942  22.678964  22.708964  51197400\n",
      "Collecting data for AMZN...\n",
      "Downloaded data for AMZN:\n",
      "Price        Close    High     Low    Open     Volume\n",
      "Ticker        AMZN    AMZN    AMZN    AMZN       AMZN\n",
      "Date                                                 \n",
      "2010-01-04  6.6950  6.8305  6.6570  6.8125  151998000\n",
      "2010-01-05  6.7345  6.7740  6.5905  6.6715  177038000\n",
      "2010-01-06  6.6125  6.7365  6.5825  6.7300  143576000\n",
      "2010-01-07  6.5000  6.6160  6.4400  6.6005  220604000\n",
      "2010-01-08  6.6760  6.6840  6.4515  6.5280  196610000\n",
      "Collecting data for NVDA...\n"
     ]
    },
    {
     "name": "stderr",
     "output_type": "stream",
     "text": [
      "C:\\Users\\PRAJWAL\\AppData\\Local\\Temp\\ipykernel_39580\\2762475962.py:22: SettingWithCopyWarning: \n",
      "A value is trying to be set on a copy of a slice from a DataFrame\n",
      "\n",
      "See the caveats in the documentation: https://pandas.pydata.org/pandas-docs/stable/user_guide/indexing.html#returning-a-view-versus-a-copy\n",
      "  stock_data['Return'].replace([np.inf, -np.inf], np.nan, inplace=True)\n",
      "C:\\Users\\PRAJWAL\\AppData\\Local\\Temp\\ipykernel_39580\\2762475962.py:15: FutureWarning: YF.download() has changed argument auto_adjust default to True\n",
      "  stock_data = yf.download(ticker, start=start, end=end, progress=False)\n",
      "C:\\Users\\PRAJWAL\\AppData\\Local\\Temp\\ipykernel_39580\\2762475962.py:22: SettingWithCopyWarning: \n",
      "A value is trying to be set on a copy of a slice from a DataFrame\n",
      "\n",
      "See the caveats in the documentation: https://pandas.pydata.org/pandas-docs/stable/user_guide/indexing.html#returning-a-view-versus-a-copy\n",
      "  stock_data['Return'].replace([np.inf, -np.inf], np.nan, inplace=True)\n",
      "C:\\Users\\PRAJWAL\\AppData\\Local\\Temp\\ipykernel_39580\\2762475962.py:15: FutureWarning: YF.download() has changed argument auto_adjust default to True\n",
      "  stock_data = yf.download(ticker, start=start, end=end, progress=False)\n"
     ]
    },
    {
     "name": "stdout",
     "output_type": "stream",
     "text": [
      "Downloaded data for NVDA:\n",
      "Price          Close      High       Low      Open     Volume\n",
      "Ticker          NVDA      NVDA      NVDA      NVDA       NVDA\n",
      "Date                                                         \n",
      "2010-01-04  0.423854  0.426834  0.415143  0.424313  800204000\n",
      "2010-01-05  0.430043  0.434628  0.422249  0.422249  728648000\n",
      "2010-01-06  0.432794  0.433711  0.425688  0.429814  649168000\n",
      "2010-01-07  0.424313  0.432336  0.421103  0.430502  547792000\n",
      "2010-01-08  0.425230  0.428210  0.418353  0.420874  478168000\n"
     ]
    },
    {
     "name": "stderr",
     "output_type": "stream",
     "text": [
      "C:\\Users\\PRAJWAL\\AppData\\Local\\Temp\\ipykernel_39580\\2762475962.py:22: SettingWithCopyWarning: \n",
      "A value is trying to be set on a copy of a slice from a DataFrame\n",
      "\n",
      "See the caveats in the documentation: https://pandas.pydata.org/pandas-docs/stable/user_guide/indexing.html#returning-a-view-versus-a-copy\n",
      "  stock_data['Return'].replace([np.inf, -np.inf], np.nan, inplace=True)\n"
     ]
    }
   ],
   "source": [
    "import yfinance as yf\n",
    "import pandas as pd\n",
    "import numpy as np\n",
    "\n",
    "# This is a sample of the tickers from your file\n",
    "tickers = ['AAPL', 'MSFT', 'AMZN', 'NVDA']\n",
    "start = '2010-01-01'\n",
    "end = '2020-12-31'\n",
    "\n",
    "all_stock_data = {}\n",
    "\n",
    "for ticker in tickers:\n",
    "    print(f\"Collecting data for {ticker}...\")\n",
    "    try:\n",
    "        stock_data = yf.download(ticker, start=start, end=end, progress=False)\n",
    "\n",
    "        # ADD THIS LINE to see what yfinance returns\n",
    "        print(f\"Downloaded data for {ticker}:\\n{stock_data.head()}\")\n",
    "\n",
    "        # The rest of your code that handles the data\n",
    "        stock_data['Return'] = stock_data['Close'].pct_change()\n",
    "        stock_data['Return'].replace([np.inf, -np.inf], np.nan, inplace=True)\n",
    "        all_stock_data[ticker] = stock_data['Return']\n",
    "\n",
    "    except Exception as e:\n",
    "        print(f\"Error collecting data for {ticker}: {e}\")"
   ]
  },
  {
   "cell_type": "code",
   "execution_count": 6,
   "id": "eb3636c8",
   "metadata": {},
   "outputs": [
    {
     "data": {
      "text/plain": [
       "{'AAPL': Date\n",
       " 2010-01-04         NaN\n",
       " 2010-01-05    0.001729\n",
       " 2010-01-06   -0.015906\n",
       " 2010-01-07   -0.001849\n",
       " 2010-01-08    0.006649\n",
       "                 ...   \n",
       " 2020-12-23   -0.006976\n",
       " 2020-12-24    0.007712\n",
       " 2020-12-28    0.035765\n",
       " 2020-12-29   -0.013315\n",
       " 2020-12-30   -0.008527\n",
       " Name: Return, Length: 2768, dtype: float64,\n",
       " 'MSFT': Date\n",
       " 2010-01-04         NaN\n",
       " 2010-01-05    0.000323\n",
       " 2010-01-06   -0.006137\n",
       " 2010-01-07   -0.010400\n",
       " 2010-01-08    0.006897\n",
       "                 ...   \n",
       " 2020-12-23   -0.013039\n",
       " 2020-12-24    0.007827\n",
       " 2020-12-28    0.009922\n",
       " 2020-12-29   -0.003601\n",
       " 2020-12-30   -0.011019\n",
       " Name: Return, Length: 2768, dtype: float64,\n",
       " 'AMZN': Date\n",
       " 2010-01-04         NaN\n",
       " 2010-01-05    0.005900\n",
       " 2010-01-06   -0.018116\n",
       " 2010-01-07   -0.017013\n",
       " 2010-01-08    0.027077\n",
       "                 ...   \n",
       " 2020-12-23   -0.006627\n",
       " 2020-12-24   -0.003949\n",
       " 2020-12-28    0.035071\n",
       " 2020-12-29    0.011584\n",
       " 2020-12-30   -0.010882\n",
       " Name: Return, Length: 2768, dtype: float64,\n",
       " 'NVDA': Date\n",
       " 2010-01-04         NaN\n",
       " 2010-01-05    0.014602\n",
       " 2010-01-06    0.006397\n",
       " 2010-01-07   -0.019598\n",
       " 2010-01-08    0.002161\n",
       "                 ...   \n",
       " 2020-12-23   -0.020259\n",
       " 2020-12-24   -0.001192\n",
       " 2020-12-28   -0.007215\n",
       " 2020-12-29    0.003353\n",
       " 2020-12-30    0.015646\n",
       " Name: Return, Length: 2768, dtype: float64}"
      ]
     },
     "execution_count": 6,
     "metadata": {},
     "output_type": "execute_result"
    }
   ],
   "source": [
    "all_stock_data"
   ]
  }
 ],
 "metadata": {
  "kernelspec": {
   "display_name": "Python 3",
   "language": "python",
   "name": "python3"
  },
  "language_info": {
   "codemirror_mode": {
    "name": "ipython",
    "version": 3
   },
   "file_extension": ".py",
   "mimetype": "text/x-python",
   "name": "python",
   "nbconvert_exporter": "python",
   "pygments_lexer": "ipython3",
   "version": "3.10.11"
  }
 },
 "nbformat": 4,
 "nbformat_minor": 5
}
